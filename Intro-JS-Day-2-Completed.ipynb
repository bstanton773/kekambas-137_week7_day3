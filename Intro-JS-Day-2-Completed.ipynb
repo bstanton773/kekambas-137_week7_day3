{
 "cells": [
  {
   "cell_type": "markdown",
   "id": "b49428f3",
   "metadata": {},
   "source": [
    "# Index for Intro JS Day 2"
   ]
  },
  {
   "cell_type": "markdown",
   "id": "743e6670",
   "metadata": {},
   "source": [
    "[Dates](#date)<br>\n",
    "[Switch Case](#switch)<br>\n",
    "[Objects](#object)<br>\n",
    "&emsp;[Deleting Keys](#del)<br>\n",
    "&emsp;[Exercise #1](#ice1)<br>\n",
    "&emsp;[Destructuring](#destruct)<br>\n",
    "&emsp;[Spread Operator (...)](#spread)<br>\n",
    "&emsp;[Rest Operator (...)](#rest)<br>\n",
    "&emsp;[Exercise #2](#ice2)<br>\n",
    "&emsp;[Optional Chaining (.?)](#chain)<br>\n",
    "&emsp;[Null Coalescing Operator (??)](#nco)<br>\n",
    "&emsp;[Object Equality](#objeq)<br>\n",
    "&emsp;[Testing Empty Objects](#emptyobj)<br>\n",
    "[For Loops with Objects](#loop)<br>\n",
    "&emsp;[Traditional Loop](#tradloop)<br>\n",
    "&emsp;[Exercise #3](#ice3)<br>\n",
    "&emsp;[for in Loop](#forin)<br>\n",
    "&emsp;[Exercise #4](#ice4)<br>\n",
    "[this keyword](#this)<br>\n",
    "[Checking Object/Array Type](#typecheck)<br>\n",
    "[ES5 Object Prototypes](#proto)<br>\n",
    "&emsp;[New Keyword](#new)<br>\n",
    "[Closures](#closure)<br>\n",
    "[Class keyword](#class)<br>\n",
    "&emsp;[Inheritance](#inherit)<br>\n",
    "&emsp;[Exercise #5](#ice5)<br>\n",
    "[JS and the Call Stack](#stack)<br>\n",
    "[Call Back Functions](#callback)<br>\n",
    "[Promises](#promise)<br>\n",
    "&emsp;[Async Await](#async)<br>\n",
    "&emsp;[Exercise #6](#ice6)<br>\n",
    "[Homework](#hw)<br>\n",
    "\n",
    "\n",
    "\n",
    "\n",
    "\n",
    "\n",
    "\n",
    "\n",
    "\n",
    "\n",
    "\n",
    "\n",
    "\n",
    "\n",
    "\n",
    "\n",
    "\n",
    "\n",
    "\n"
   ]
  },
  {
   "cell_type": "markdown",
   "id": "30beb35a",
   "metadata": {},
   "source": [
    "<a id=\"date\"></a>\n",
    "## Date Class"
   ]
  },
  {
   "cell_type": "markdown",
   "id": "42fe8af1",
   "metadata": {},
   "source": [
    "The Date Class in JS allows us to work with dates and retrieve the current time and date.\n",
    "\n",
    "Days of the week are represented as numbers, 0 being Sunday and 1 is for Monday and so on until you get to  6 for Saturday\n",
    "\n",
    "Dates are formatted using the Internation standard ISO 8601 [Year]-[Month]-[Day]T[Hours]:[Minutes]:[Seconds].[Milliseconds][Time Zone Modifier]\n",
    "\n",
    "Z is the modifier for UTC time"
   ]
  },
  {
   "cell_type": "code",
   "execution_count": 1,
   "id": "785f7c33",
   "metadata": {},
   "outputs": [
    {
     "name": "stdout",
     "output_type": "stream",
     "text": [
      "2023-10-31T14:17:43.816Z\n"
     ]
    }
   ],
   "source": [
    "let today = new Date();\n",
    "console.log(today)\n"
   ]
  },
  {
   "cell_type": "code",
   "execution_count": 2,
   "id": "5c102749",
   "metadata": {},
   "outputs": [
    {
     "name": "stdout",
     "output_type": "stream",
     "text": [
      "2\n"
     ]
    }
   ],
   "source": [
    "let day = today.getDay();\n",
    "console.log(day);"
   ]
  },
  {
   "cell_type": "code",
   "execution_count": 3,
   "id": "6951bbbf",
   "metadata": {},
   "outputs": [
    {
     "name": "stdout",
     "output_type": "stream",
     "text": [
      "Tue Oct 31 2023 09:17:45 GMT-0500 (Central Daylight Time)\n"
     ]
    }
   ],
   "source": [
    "let literalDay = new Date().toString();\n",
    "console.log(literalDay);"
   ]
  },
  {
   "cell_type": "code",
   "execution_count": 4,
   "id": "04f80c52",
   "metadata": {},
   "outputs": [
    {
     "data": {
      "text/plain": [
       "[\n",
       "  'Tue',      'Oct',\n",
       "  '31',       '2023',\n",
       "  '09:17:45', 'GMT-0500',\n",
       "  '(Central', 'Daylight',\n",
       "  'Time)'\n",
       "]"
      ]
     },
     "execution_count": 4,
     "metadata": {},
     "output_type": "execute_result"
    }
   ],
   "source": [
    "literalDay.split(' ')"
   ]
  },
  {
   "cell_type": "markdown",
   "id": "3a94b0b8",
   "metadata": {},
   "source": [
    "Like The Days Months will also start at 0.  So Janurary is month 0 and December is month 11"
   ]
  },
  {
   "cell_type": "code",
   "execution_count": 5,
   "id": "d4cc8146",
   "metadata": {
    "scrolled": true
   },
   "outputs": [
    {
     "name": "stdout",
     "output_type": "stream",
     "text": [
      "9\n"
     ]
    }
   ],
   "source": [
    "// Shows the numeric month of the year ()\n",
    "console.log(today.getMonth())"
   ]
  },
  {
   "cell_type": "code",
   "execution_count": 6,
   "id": "3e3fd381",
   "metadata": {},
   "outputs": [
    {
     "name": "stdout",
     "output_type": "stream",
     "text": [
      "11\n"
     ]
    }
   ],
   "source": [
    "let decDate = new Date('2022-12-12')\n",
    "console.log(decDate.getMonth())"
   ]
  },
  {
   "cell_type": "code",
   "execution_count": 7,
   "id": "60abe713",
   "metadata": {},
   "outputs": [
    {
     "data": {
      "text/plain": [
       "31"
      ]
     },
     "execution_count": 7,
     "metadata": {},
     "output_type": "execute_result"
    }
   ],
   "source": [
    "today.getDate()// Shows the numeric day of the month"
   ]
  },
  {
   "cell_type": "code",
   "execution_count": 8,
   "id": "5948944f",
   "metadata": {},
   "outputs": [
    {
     "data": {
      "text/plain": [
       "2023"
      ]
     },
     "execution_count": 8,
     "metadata": {},
     "output_type": "execute_result"
    }
   ],
   "source": [
    "today.getFullYear() // Shows the numeric year of the date"
   ]
  },
  {
   "cell_type": "code",
   "execution_count": 9,
   "id": "575adfea",
   "metadata": {},
   "outputs": [
    {
     "data": {
      "text/plain": [
       "9"
      ]
     },
     "execution_count": 9,
     "metadata": {},
     "output_type": "execute_result"
    }
   ],
   "source": [
    "today.getHours() // Shows the numeric hour of the day"
   ]
  },
  {
   "cell_type": "markdown",
   "id": "eae7a275",
   "metadata": {},
   "source": [
    "### Unix Time"
   ]
  },
  {
   "cell_type": "markdown",
   "id": "172aa929",
   "metadata": {},
   "source": [
    "In computing, we often want to represent time as an integer to make it easier to parse and use across many systems.  To do this, we use Unix Time.  Unix Time represents time as the number of seconds since January 1st, 1970, at 00:00:00 UTC.\n",
    "\n",
    "Some Date Methods give us Unix Time\n",
    "\n",
    "<strong>Note:</strong>  Similar to the issue that hit with Y2K, Unix Time also faces this problem in 2038 (Also known as the Year 2038 problem).  Because Unix time is stored as a signed 32-bit integer, we will run out of space to store dates past 2038.  BUT DON'T WORRY.  Most modern systems use an unsigned 64-bit integer to store the time, allowing Unix Time to run for 292 billion years."
   ]
  },
  {
   "cell_type": "code",
   "execution_count": 10,
   "id": "005b2aff",
   "metadata": {},
   "outputs": [
    {
     "data": {
      "text/plain": [
       "1698761863816"
      ]
     },
     "execution_count": 10,
     "metadata": {},
     "output_type": "execute_result"
    }
   ],
   "source": [
    "today.getTime()"
   ]
  },
  {
   "cell_type": "code",
   "execution_count": 11,
   "id": "54657ce0",
   "metadata": {
    "scrolled": true
   },
   "outputs": [
    {
     "name": "stdout",
     "output_type": "stream",
     "text": [
      "1698761869396\n"
     ]
    }
   ],
   "source": [
    "let unixNow1 = Date.now()\n",
    "console.log(unixNow1)"
   ]
  },
  {
   "cell_type": "code",
   "execution_count": 12,
   "id": "33875204",
   "metadata": {},
   "outputs": [
    {
     "name": "stdout",
     "output_type": "stream",
     "text": [
      "number\n"
     ]
    }
   ],
   "source": [
    "console.log(typeof unixNow1)"
   ]
  },
  {
   "cell_type": "code",
   "execution_count": 13,
   "id": "64cfaeb9",
   "metadata": {},
   "outputs": [
    {
     "name": "stdout",
     "output_type": "stream",
     "text": [
      "1970-01-01T01:00:00.000Z\n"
     ]
    }
   ],
   "source": [
    "jan1701am = new Date(3600 * 1000)\n",
    "console.log(jan1701am);"
   ]
  },
  {
   "cell_type": "markdown",
   "id": "b09826fd",
   "metadata": {},
   "source": [
    "#### Convert to ISO Time"
   ]
  },
  {
   "cell_type": "code",
   "execution_count": 14,
   "id": "014168e7",
   "metadata": {
    "scrolled": true
   },
   "outputs": [
    {
     "name": "stdout",
     "output_type": "stream",
     "text": [
      "2023-10-31T14:17:49.396Z\n"
     ]
    }
   ],
   "source": [
    "let myTime = new Date(unixNow1);\n",
    "console.log(myTime.toISOString())"
   ]
  },
  {
   "cell_type": "markdown",
   "id": "d8d2fe02",
   "metadata": {},
   "source": [
    "<a id=\"switch\"></a>\n",
    "## Switch Case Statement"
   ]
  },
  {
   "cell_type": "markdown",
   "id": "a0230ea3",
   "metadata": {},
   "source": [
    "The Switch Case Statement allows us to replace long if/else chains with more readable code. It provides the additional benefit of allowing fall-through cases.\n",
    "\n",
    "However, it will only check for strict equality(===), so we cannot use greater than or less than in a switch.  Also, \"1\" and 1 will not evaluate as the same case because it implements strict equality.\n",
    "\n",
    "Syntax:\n",
    "```\n",
    "switch(variable_to_compare_to){\n",
    "    case [Value to test equality on]:\n",
    "        // do stuff\n",
    "        //optional break/return\n",
    "    default:\n",
    "        // basically the else statement, what to do if none of the cases match\n",
    "        //do stuff\n",
    "}\n",
    "```"
   ]
  },
  {
   "cell_type": "markdown",
   "id": "ffcf80c0",
   "metadata": {},
   "source": [
    "<strong>Note: </strong> In this example we are comparing day (integer of the day from the Date function) to the number 0-6 and executing a console.log for every different day.  Also note, we are breaking after every case to prevent fall-through."
   ]
  },
  {
   "cell_type": "code",
   "execution_count": 15,
   "id": "cdd9f0d9",
   "metadata": {},
   "outputs": [
    {
     "data": {
      "text/plain": [
       "7"
      ]
     },
     "execution_count": 15,
     "metadata": {},
     "output_type": "execute_result"
    }
   ],
   "source": [
    "day = 7"
   ]
  },
  {
   "cell_type": "code",
   "execution_count": 16,
   "id": "8360eca2",
   "metadata": {},
   "outputs": [
    {
     "name": "stdout",
     "output_type": "stream",
     "text": [
      "You must be what the Beatles were on thinking there are 8+ days a week\n"
     ]
    }
   ],
   "source": [
    "switch(day){\n",
    "    case 0:\n",
    "        console.log(\"It is Sunday, time to rest\");\n",
    "        break;\n",
    "    case 1:\n",
    "        console.log(\"Write code... it's Monday Madness\");\n",
    "        break;\n",
    "    case 2:\n",
    "        console.log(\"Testing Tuesday so test some code\");\n",
    "        break;\n",
    "    case 3:\n",
    "        console.log(\"Testing more code because it's HUMP DAY!\");\n",
    "        break;\n",
    "    case 4:\n",
    "        console.log(\"Write a feature for our app on Thursday\");\n",
    "        break;\n",
    "    case 5:\n",
    "        console.log(\"Test Feature for Feature Friday\");\n",
    "        break;\n",
    "    case 6:\n",
    "        console.log(\"Sleep all day, party all night!\");\n",
    "        break;\n",
    "    default:\n",
    "        console.log(\"You must be what the Beatles were on thinking there are 8+ days a week\")\n",
    "}\n"
   ]
  },
  {
   "cell_type": "markdown",
   "id": "3847fbf4",
   "metadata": {},
   "source": [
    "This time we will run the switch on a String of the Day"
   ]
  },
  {
   "cell_type": "code",
   "execution_count": 17,
   "id": "90ac7994",
   "metadata": {},
   "outputs": [
    {
     "name": "stdout",
     "output_type": "stream",
     "text": [
      "Tue\n"
     ]
    }
   ],
   "source": [
    "dayOfWeek = today.toString().split(' ')[0]\n",
    "console.log(dayOfWeek)"
   ]
  },
  {
   "cell_type": "code",
   "execution_count": 18,
   "id": "1fcafcb6",
   "metadata": {},
   "outputs": [
    {
     "name": "stdout",
     "output_type": "stream",
     "text": [
      "Testing Tuesday so go test some code\n"
     ]
    }
   ],
   "source": [
    "\n",
    "\n",
    "switch(dayOfWeek){\n",
    "    case 'Sun':\n",
    "        console.log('Go to church');\n",
    "        break;\n",
    "    case 'Mon':\n",
    "        console.log(\"Write code... it's Monday Madness!\");\n",
    "        break;\n",
    "    case 'Tue':\n",
    "        console.log('Testing Tuesday so go test some code');\n",
    "        break;\n",
    "    case 'Wed':\n",
    "        console.log('Testing more code because it is HUMMP DAY!!');\n",
    "        break;\n",
    "    case 'Thu':\n",
    "        console.log('Write a feature for our app on Thursay');\n",
    "        break;\n",
    "    case 'Fri':\n",
    "        console.log('Test Feature for Feature Friday!');\n",
    "        break;\n",
    "    case 'Sat':\n",
    "        console.log('Sleep all day!');\n",
    "        break;\n",
    "    default:\n",
    "        console.log('You must be whatever the Beatles were on thinking there is an eighth day of the week')\n",
    "}\n",
    "\n"
   ]
  },
  {
   "cell_type": "markdown",
   "id": "8292710a",
   "metadata": {},
   "source": [
    "### Fall Through Conditions"
   ]
  },
  {
   "cell_type": "markdown",
   "id": "ca7b3965",
   "metadata": {},
   "source": [
    "In the previous examples, we used a break statement in every case (default excluded because there is no fall-through conditions for default).\n",
    "\n",
    "If we do not include the break, the condition will fall-through to the next case and execute that code as well."
   ]
  },
  {
   "cell_type": "code",
   "execution_count": 19,
   "id": "df6b66b0",
   "metadata": {},
   "outputs": [],
   "source": [
    "let myGrade;"
   ]
  },
  {
   "cell_type": "code",
   "execution_count": 20,
   "id": "b092e271",
   "metadata": {},
   "outputs": [
    {
     "name": "stdout",
     "output_type": "stream",
     "text": [
      "Displays a complete understanding of the material\n",
      "Completes all assignments and projects\n",
      "Attended all classes and lectures\n",
      "You completed orientation\n",
      "You enrolled in this course\n"
     ]
    }
   ],
   "source": [
    "myGrade = 'A';\n",
    "\n",
    "switch(myGrade){\n",
    "    case 'A':\n",
    "        console.log('Displays a complete understanding of the material');\n",
    "    case 'B':\n",
    "        console.log('Completes all assignments and projects')\n",
    "    case 'C':\n",
    "        console.log('Attended all classes and lectures')\n",
    "    case 'D':\n",
    "        console.log('You completed orientation')\n",
    "    case 'F':\n",
    "        console.log('You enrolled in this course')\n",
    "}\n"
   ]
  },
  {
   "cell_type": "markdown",
   "id": "b9c1c6d4",
   "metadata": {},
   "source": [
    "<a id=\"object\"></a>\n",
    "\n",
    "## Object Type"
   ]
  },
  {
   "cell_type": "markdown",
   "id": "88a9aac2",
   "metadata": {},
   "source": [
    "A JavaScript Object is similar to a Python Dictionary.\n",
    "They both store key-value pairs and support dynamically adding keys and removing keys."
   ]
  },
  {
   "cell_type": "markdown",
   "id": "629a1e01",
   "metadata": {},
   "source": [
    "### Instantiating"
   ]
  },
  {
   "cell_type": "markdown",
   "id": "6e4d559a",
   "metadata": {},
   "source": [
    "Keys in JS don't need to surround the keys with quotes, however you can."
   ]
  },
  {
   "cell_type": "code",
   "execution_count": 21,
   "id": "6997e32f",
   "metadata": {},
   "outputs": [
    {
     "name": "stdout",
     "output_type": "stream",
     "text": [
      "{ name: 'Judy', age: 56, city: 'Tulsa' }\n"
     ]
    }
   ],
   "source": [
    "let personQuotes = {\n",
    "    \"name\": \"Judy\",\n",
    "    \"age\": 56,\n",
    "    \"city\": \"Tulsa\"\n",
    "}\n",
    "\n",
    "console.log(personQuotes)"
   ]
  },
  {
   "cell_type": "code",
   "execution_count": 22,
   "id": "c0131ff8",
   "metadata": {},
   "outputs": [
    {
     "name": "stdout",
     "output_type": "stream",
     "text": [
      "{ name: 'Judy', age: 56, city: 'Tulsa' }\n"
     ]
    }
   ],
   "source": [
    "// or it could also be written\n",
    "let person = {\n",
    "    name: \"Judy\",\n",
    "    age: 56,\n",
    "    city: \"Tulsa\"\n",
    "};\n",
    "\n",
    "console.log(person);"
   ]
  },
  {
   "cell_type": "markdown",
   "id": "beae2553",
   "metadata": {},
   "source": [
    "### console.table"
   ]
  },
  {
   "cell_type": "markdown",
   "id": "473cc913",
   "metadata": {},
   "source": [
    "Sometimes reading the properties of an object is difficult using console.log, so we can use console.table to see an easier to read result"
   ]
  },
  {
   "cell_type": "code",
   "execution_count": 23,
   "id": "e572d372",
   "metadata": {},
   "outputs": [
    {
     "name": "stdout",
     "output_type": "stream",
     "text": [
      "┌─────────┬─────────┐\n",
      "│ (index) │ Values  │\n",
      "├─────────┼─────────┤\n",
      "│  name   │ 'Judy'  │\n",
      "│   age   │   56    │\n",
      "│  city   │ 'Tulsa' │\n",
      "└─────────┴─────────┘\n"
     ]
    }
   ],
   "source": [
    "console.table(person);"
   ]
  },
  {
   "cell_type": "code",
   "execution_count": 24,
   "id": "f15ea04f",
   "metadata": {},
   "outputs": [
    {
     "name": "stdout",
     "output_type": "stream",
     "text": [
      "┌─────────┬─────────┐\n",
      "│ (index) │ Values  │\n",
      "├─────────┼─────────┤\n",
      "│  name   │ 'Judy'  │\n",
      "│   age   │   56    │\n",
      "│  city   │ 'Tulsa' │\n",
      "└─────────┴─────────┘\n"
     ]
    }
   ],
   "source": [
    "console.table(personQuotes);"
   ]
  },
  {
   "cell_type": "markdown",
   "id": "43bd5107",
   "metadata": {},
   "source": [
    "### Accessing"
   ]
  },
  {
   "cell_type": "markdown",
   "id": "91029344",
   "metadata": {},
   "source": [
    "JS Allows us to use bracket notation (like python) or dot notation (like python classes) to access our object properties"
   ]
  },
  {
   "cell_type": "code",
   "execution_count": 25,
   "id": "e331c695",
   "metadata": {},
   "outputs": [
    {
     "name": "stdout",
     "output_type": "stream",
     "text": [
      "56\n"
     ]
    }
   ],
   "source": [
    "//bracket notation\n",
    "console.log(person['age']);"
   ]
  },
  {
   "cell_type": "code",
   "execution_count": 26,
   "id": "a6227f40",
   "metadata": {
    "scrolled": true
   },
   "outputs": [
    {
     "name": "stdout",
     "output_type": "stream",
     "text": [
      "56\n"
     ]
    }
   ],
   "source": [
    "//dot notation\n",
    "console.log(person.age)"
   ]
  },
  {
   "cell_type": "markdown",
   "id": "5b6237da",
   "metadata": {},
   "source": [
    "<strong>Note: </strong>Using a key name stored in a variable requires us to use bracket notation."
   ]
  },
  {
   "cell_type": "code",
   "execution_count": 27,
   "id": "5771849c",
   "metadata": {
    "scrolled": true
   },
   "outputs": [
    {
     "name": "stdout",
     "output_type": "stream",
     "text": [
      "56\n"
     ]
    }
   ],
   "source": [
    "let testKey = 'age';\n",
    "console.log(person[testKey])"
   ]
  },
  {
   "cell_type": "code",
   "execution_count": 28,
   "id": "15a0fb06",
   "metadata": {},
   "outputs": [
    {
     "name": "stdout",
     "output_type": "stream",
     "text": [
      "undefined\n"
     ]
    }
   ],
   "source": [
    "//Looks for a key of testKey doesn't find one so return undefinde\n",
    "console.log(person.testKey)"
   ]
  },
  {
   "cell_type": "markdown",
   "id": "6fcf009a",
   "metadata": {},
   "source": [
    "In JS, you can easily add keys to an object just by referencing the dictionary, keying in your new key and setting it to a value"
   ]
  },
  {
   "cell_type": "code",
   "execution_count": 29,
   "id": "559cc83f",
   "metadata": {
    "scrolled": true
   },
   "outputs": [
    {
     "name": "stdout",
     "output_type": "stream",
     "text": [
      "┌─────────────┬─────────┐\n",
      "│   (index)   │ Values  │\n",
      "├─────────────┼─────────┤\n",
      "│    name     │ 'Judy'  │\n",
      "│     age     │   56    │\n",
      "│    city     │ 'Tulsa' │\n",
      "│ isGoodCoder │  false  │\n",
      "└─────────────┴─────────┘\n",
      "Sending Judy to Coding temple...\n",
      "┌─────────────┬─────────┐\n",
      "│   (index)   │ Values  │\n",
      "├─────────────┼─────────┤\n",
      "│    name     │ 'Judy'  │\n",
      "│     age     │   56    │\n",
      "│    city     │ 'Tulsa' │\n",
      "│ isGoodCoder │  true   │\n",
      "└─────────────┴─────────┘\n"
     ]
    }
   ],
   "source": [
    "person.isGoodCoder = false\n",
    "console.table(person);\n",
    "console.log(`Sending ${person.name} to Coding temple...`)\n",
    "person.isGoodCoder = true\n",
    "console.table(person)"
   ]
  },
  {
   "cell_type": "code",
   "execution_count": 30,
   "id": "2edddad9",
   "metadata": {},
   "outputs": [
    {
     "name": "stdout",
     "output_type": "stream",
     "text": [
      "┌─────────────┬────────────┐\n",
      "│   (index)   │   Values   │\n",
      "├─────────────┼────────────┤\n",
      "│    name     │   'Judy'   │\n",
      "│     age     │     56     │\n",
      "│    city     │  'Tulsa'   │\n",
      "│ isGoodCoder │    true    │\n",
      "│  hairColor  │ 'Brunette' │\n",
      "└─────────────┴────────────┘\n",
      "Sending Judy to the salon...\n",
      "┌─────────────┬──────────┐\n",
      "│   (index)   │  Values  │\n",
      "├─────────────┼──────────┤\n",
      "│    name     │  'Judy'  │\n",
      "│     age     │    56    │\n",
      "│    city     │ 'Tulsa'  │\n",
      "│ isGoodCoder │   true   │\n",
      "│  hairColor  │ 'Blonde' │\n",
      "└─────────────┴──────────┘\n"
     ]
    }
   ],
   "source": [
    "person['hairColor'] = 'Brunette';\n",
    "console.table(person);\n",
    "\n",
    "console.log(`Sending ${person['name']} to the salon...`);\n",
    "person['hairColor'] = 'Blonde';\n",
    "console.table(person);"
   ]
  },
  {
   "cell_type": "markdown",
   "id": "d93a01c6",
   "metadata": {},
   "source": [
    "<a id=\"delkey\"></a>\n",
    "### Deleting keys"
   ]
  },
  {
   "cell_type": "code",
   "execution_count": 31,
   "id": "edb0d9ae",
   "metadata": {
    "scrolled": true
   },
   "outputs": [
    {
     "name": "stdout",
     "output_type": "stream",
     "text": [
      "┌─────────────┬─────────┐\n",
      "│   (index)   │ Values  │\n",
      "├─────────────┼─────────┤\n",
      "│    name     │ 'Judy'  │\n",
      "│     age     │   56    │\n",
      "│    city     │ 'Tulsa' │\n",
      "│ isGoodCoder │  true   │\n",
      "└─────────────┴─────────┘\n"
     ]
    }
   ],
   "source": [
    "// we use the delete keyword\n",
    "// delete object['property'] OR delete object.property\n",
    "\n",
    "delete person['hairColor'];\n",
    "console.table(person);"
   ]
  },
  {
   "cell_type": "code",
   "execution_count": 32,
   "id": "70581cfb",
   "metadata": {},
   "outputs": [
    {
     "name": "stdout",
     "output_type": "stream",
     "text": [
      "┌─────────┬─────────┐\n",
      "│ (index) │ Values  │\n",
      "├─────────┼─────────┤\n",
      "│  name   │ 'Judy'  │\n",
      "│   age   │   56    │\n",
      "│  city   │ 'Tulsa' │\n",
      "└─────────┴─────────┘\n"
     ]
    }
   ],
   "source": [
    "delete person.isGoodCoder;\n",
    "\n",
    "console.table(person);"
   ]
  },
  {
   "cell_type": "code",
   "execution_count": 33,
   "id": "6410eeca",
   "metadata": {},
   "outputs": [
    {
     "name": "stdout",
     "output_type": "stream",
     "text": [
      "{ a: 123, b: 456, c: 789 }\n",
      "{ c: 789 }\n"
     ]
    }
   ],
   "source": [
    "let myObj = {\n",
    "    a: 123,\n",
    "    b: 456,\n",
    "    c: 789\n",
    "}\n",
    "\n",
    "console.log(myObj);\n",
    "delete myObj.a;\n",
    "delete myObj['b'];\n",
    "console.log(myObj);\n"
   ]
  },
  {
   "cell_type": "markdown",
   "id": "674594c6",
   "metadata": {},
   "source": [
    "<a id=\"ice1\"></a>\n",
    "\n",
    "### In Class Exercise #1"
   ]
  },
  {
   "cell_type": "code",
   "execution_count": 34,
   "id": "cc5c2062",
   "metadata": {},
   "outputs": [],
   "source": [
    "let person2 = {\n",
    "    name: \"Max\",\n",
    "    age:31,\n",
    "    progLanguages:['JavaScript','Python','C++', 'Java'],\n",
    "    favColor: \"Blue\",\n",
    "    teams:[\n",
    "        {\n",
    "            baseball: 'Chicago White Sox',\n",
    "            football: 'Chicago Bears',\n",
    "            hockey: 'Chicago Blackhawks',\n",
    "            basketball:['Chicago Bulls','Chicago Sky'],\n",
    "            soccer:['Chicago Fire', 'Naperville Yellowjacks']\n",
    "        },\n",
    "        {\n",
    "            baseball:'Toronto Bluejays',\n",
    "            football: 'LA Rams',\n",
    "            basketball: 'Milwalkee Bucks',\n",
    "            soccer: ['Manchester United','Liverpool']\n",
    "        }\n",
    "    ]\n",
    "}"
   ]
  },
  {
   "cell_type": "markdown",
   "id": "769a63cd",
   "metadata": {},
   "source": [
    "Using the above object print out the following values in the cell underneath the heading."
   ]
  },
  {
   "cell_type": "markdown",
   "id": "cabe15cc",
   "metadata": {},
   "source": [
    "##### a) \"Blue\""
   ]
  },
  {
   "cell_type": "code",
   "execution_count": null,
   "id": "def3c151",
   "metadata": {},
   "outputs": [],
   "source": []
  },
  {
   "cell_type": "markdown",
   "id": "566376de",
   "metadata": {},
   "source": [
    "##### b) \"C++\""
   ]
  },
  {
   "cell_type": "code",
   "execution_count": null,
   "id": "b8c88a0c",
   "metadata": {},
   "outputs": [],
   "source": []
  },
  {
   "cell_type": "markdown",
   "id": "e893f1fa",
   "metadata": {},
   "source": [
    "##### c) \"LA Rams\""
   ]
  },
  {
   "cell_type": "code",
   "execution_count": null,
   "id": "ff4babbd",
   "metadata": {},
   "outputs": [],
   "source": []
  },
  {
   "cell_type": "markdown",
   "id": "f8b65dfe",
   "metadata": {},
   "source": [
    "##### d) \"Chicago Fire\""
   ]
  },
  {
   "cell_type": "code",
   "execution_count": null,
   "id": "b0864e27",
   "metadata": {},
   "outputs": [],
   "source": []
  },
  {
   "cell_type": "markdown",
   "id": "ea1e9486",
   "metadata": {},
   "source": [
    "##### e) \"Liverpool\""
   ]
  },
  {
   "cell_type": "code",
   "execution_count": null,
   "id": "de7bd75d",
   "metadata": {},
   "outputs": [],
   "source": []
  },
  {
   "cell_type": "markdown",
   "id": "70feac34",
   "metadata": {},
   "source": [
    "<a id=\"destruct\"></a>\n",
    "\n",
    "### Object Destructuring\n",
    "\n",
    "This is a very important topic because it is widely used, and in most applications, considered best practice.\n",
    "\n",
    "This will allow us to break the keys of a dictionary up into variables when passing to a function"
   ]
  },
  {
   "cell_type": "code",
   "execution_count": 35,
   "id": "16443bf6",
   "metadata": {},
   "outputs": [],
   "source": [
    "let primaryColors = ['red', 'yellow', 'blue']\n",
    "let [r, y, b] = primaryColors;"
   ]
  },
  {
   "cell_type": "code",
   "execution_count": 36,
   "id": "4222b98a",
   "metadata": {},
   "outputs": [
    {
     "name": "stdout",
     "output_type": "stream",
     "text": [
      "yellow\n"
     ]
    }
   ],
   "source": [
    "console.log(y)"
   ]
  },
  {
   "cell_type": "code",
   "execution_count": 37,
   "id": "2450acab",
   "metadata": {},
   "outputs": [],
   "source": [
    "let shoe = {\n",
    "    brand: 'Nike',\n",
    "    size: 11,\n",
    "    color: 'red'\n",
    "}"
   ]
  },
  {
   "cell_type": "markdown",
   "id": "b057608f",
   "metadata": {},
   "source": [
    "#### As Variables"
   ]
  },
  {
   "cell_type": "markdown",
   "id": "163c32cb",
   "metadata": {},
   "source": [
    "<strong>Note: </strong> the variable names must match the names of the keys in the object."
   ]
  },
  {
   "cell_type": "code",
   "execution_count": 38,
   "id": "e9d4f3a7",
   "metadata": {},
   "outputs": [
    {
     "name": "stdout",
     "output_type": "stream",
     "text": [
      "Nike\n",
      "11\n",
      "red\n"
     ]
    }
   ],
   "source": [
    "const { brand, size, color } = shoe;\n",
    "\n",
    "console.log(brand);\n",
    "console.log(size);\n",
    "console.log(color);"
   ]
  },
  {
   "cell_type": "code",
   "execution_count": 39,
   "id": "69c81f8d",
   "metadata": {},
   "outputs": [
    {
     "name": "stdout",
     "output_type": "stream",
     "text": [
      "Blue\n"
     ]
    }
   ],
   "source": [
    "let { favColor } = person2;\n",
    "\n",
    "console.log(favColor);"
   ]
  },
  {
   "cell_type": "markdown",
   "id": "9bdcc7b7",
   "metadata": {},
   "source": [
    "#### As parameters"
   ]
  },
  {
   "cell_type": "markdown",
   "id": "e988dbda",
   "metadata": {},
   "source": [
    "First, let's remember how this would work when passing an array"
   ]
  },
  {
   "cell_type": "code",
   "execution_count": 40,
   "id": "8558aee9",
   "metadata": {},
   "outputs": [
    {
     "name": "stdout",
     "output_type": "stream",
     "text": [
      "A: 10\n",
      "B: 20\n",
      "C: 30\n"
     ]
    }
   ],
   "source": [
    "function myListFunc([a, b, c]){\n",
    "    console.log('A:', a);\n",
    "    console.log('B:', b);\n",
    "    console.log('C:', c);\n",
    "    \n",
    "}\n",
    "\n",
    "\n",
    "myListFunc([10, 20, 30])"
   ]
  },
  {
   "cell_type": "markdown",
   "id": "0641ecae",
   "metadata": {},
   "source": [
    "<b>Now, let's see how this looks with an object without destructuring</b>"
   ]
  },
  {
   "cell_type": "code",
   "execution_count": 41,
   "id": "8710136b",
   "metadata": {},
   "outputs": [
    {
     "name": "stdout",
     "output_type": "stream",
     "text": [
      "Nike\n",
      "11\n",
      "red\n"
     ]
    }
   ],
   "source": [
    "//Without destructuring\n",
    "const logShoeInfo = shoeObj => {\n",
    "    console.log(shoeObj.brand);\n",
    "    console.log(shoeObj.size);\n",
    "    console.log(shoeObj.color);\n",
    "}\n",
    "\n",
    "\n",
    "logShoeInfo(shoe)"
   ]
  },
  {
   "cell_type": "markdown",
   "id": "0ff839bf",
   "metadata": {},
   "source": [
    "<b>and with destructuring </b>"
   ]
  },
  {
   "cell_type": "code",
   "execution_count": 42,
   "id": "5a72c275",
   "metadata": {},
   "outputs": [
    {
     "name": "stdout",
     "output_type": "stream",
     "text": [
      "Nike\n",
      "11\n",
      "red\n"
     ]
    }
   ],
   "source": [
    "//With Destructuring \n",
    "\n",
    "const logShoeDestruct = ({ brand, size, color }) => {\n",
    "    console.log(brand);\n",
    "    console.log(size);\n",
    "    console.log(color);\n",
    "}\n",
    "\n",
    "\n",
    "logShoeDestruct(shoe)"
   ]
  },
  {
   "cell_type": "code",
   "execution_count": 43,
   "id": "33ff846b",
   "metadata": {},
   "outputs": [],
   "source": [
    "let shoe2 = {\n",
    "    brand: 'New Balance',\n",
    "    size: 10,\n",
    "    color: 'Blue'\n",
    "}"
   ]
  },
  {
   "cell_type": "code",
   "execution_count": 44,
   "id": "d150d102",
   "metadata": {},
   "outputs": [
    {
     "name": "stdout",
     "output_type": "stream",
     "text": [
      "New Balance\n",
      "10\n",
      "Blue\n"
     ]
    }
   ],
   "source": [
    "logShoeDestruct(shoe2)"
   ]
  },
  {
   "cell_type": "markdown",
   "id": "3e614632",
   "metadata": {},
   "source": [
    "#### Mixing destructuring with other parameters"
   ]
  },
  {
   "cell_type": "code",
   "execution_count": 45,
   "id": "93ba8d77",
   "metadata": {},
   "outputs": [],
   "source": [
    "let personJones={\n",
    "    firstName:\"Russel\",\n",
    "    lastName:\"Jones\",\n",
    "    nickName:\"Ol' Dirty Illegitimate Child\",\n",
    "    age: 35,\n",
    "    height:62\n",
    "}\n",
    "\n",
    "let quote = `Here I go, deep type flow, Jackques Costueau could never get this low.`\n"
   ]
  },
  {
   "cell_type": "code",
   "execution_count": 46,
   "id": "4231e3bb",
   "metadata": {
    "scrolled": true
   },
   "outputs": [
    {
     "name": "stdout",
     "output_type": "stream",
     "text": [
      "Here I go, deep type flow, Jackques Costueau could never get this low.\n",
      "By Russel \"Ol' Dirty Illegitimate Child\" Jones\n",
      "Age: 35 Height: 62\n"
     ]
    }
   ],
   "source": [
    "function saySomething(aQuote, { firstName, lastName, nickName, age, height }){\n",
    "    console.log(aQuote);\n",
    "    console.log(`By ${firstName} \"${nickName}\" ${lastName}`)\n",
    "    console.log(`Age: ${age} Height: ${height}`)\n",
    "}\n",
    "\n",
    "saySomething(quote, personJones)\n"
   ]
  },
  {
   "cell_type": "markdown",
   "id": "b1499ae0",
   "metadata": {},
   "source": [
    "<a id=\"spread\"></a>\n",
    "\n",
    "#### The Spread Operator"
   ]
  },
  {
   "cell_type": "markdown",
   "id": "c55a2f62",
   "metadata": {},
   "source": [
    "The spread operator can be used to copy an object, combine multiple objects, or even to add a new key while copying an object"
   ]
  },
  {
   "cell_type": "code",
   "execution_count": 47,
   "id": "5a58546a",
   "metadata": {},
   "outputs": [
    {
     "name": "stdout",
     "output_type": "stream",
     "text": [
      "{ name: 'Judy', age: 56, city: 'Tulsa' }\n"
     ]
    }
   ],
   "source": [
    "console.log(person)"
   ]
  },
  {
   "cell_type": "markdown",
   "id": "0133d1d3",
   "metadata": {},
   "source": [
    "#### Copying"
   ]
  },
  {
   "cell_type": "code",
   "execution_count": 48,
   "id": "aef9a38a",
   "metadata": {},
   "outputs": [
    {
     "name": "stdout",
     "output_type": "stream",
     "text": [
      "┌─────────┬─────────┐\n",
      "│ (index) │ Values  │\n",
      "├─────────┼─────────┤\n",
      "│  name   │ 'Judy'  │\n",
      "│   age   │   56    │\n",
      "│  city   │ 'Tulsa' │\n",
      "└─────────┴─────────┘\n"
     ]
    }
   ],
   "source": [
    "let clonePerson = {...person};\n",
    "\n",
    "console.table(clonePerson);"
   ]
  },
  {
   "cell_type": "markdown",
   "id": "80137893",
   "metadata": {},
   "source": [
    "#### Adding a key while copying"
   ]
  },
  {
   "cell_type": "code",
   "execution_count": 49,
   "id": "d533b744",
   "metadata": {},
   "outputs": [
    {
     "name": "stdout",
     "output_type": "stream",
     "text": [
      "┌─────────┬─────────┐\n",
      "│ (index) │ Values  │\n",
      "├─────────┼─────────┤\n",
      "│  name   │ 'Judy'  │\n",
      "│   age   │   56    │\n",
      "│  city   │ 'Tulsa' │\n",
      "│   id    │   187   │\n",
      "└─────────┴─────────┘\n"
     ]
    }
   ],
   "source": [
    "//add an id of 187 to the person object and save it as a new object called newPerson\n",
    "\n",
    "let newPerson = {...person, id: 187}\n",
    "\n",
    "console.table(newPerson);"
   ]
  },
  {
   "cell_type": "markdown",
   "id": "ae337d3b",
   "metadata": {},
   "source": [
    "#### Combining"
   ]
  },
  {
   "cell_type": "code",
   "execution_count": 50,
   "id": "3ec22de2",
   "metadata": {},
   "outputs": [
    {
     "name": "stdout",
     "output_type": "stream",
     "text": [
      "{ a: 123, b: 456, c: 789, d: 'abc' }\n"
     ]
    }
   ],
   "source": [
    "let obj1 = {a:123, b:456}\n",
    "let obj2 = {c:789, d:'abc'}\n",
    "\n",
    "let obj3 = {...obj1, ...obj2}\n",
    "console.log(obj3)"
   ]
  },
  {
   "cell_type": "code",
   "execution_count": 51,
   "id": "3fb9d55e",
   "metadata": {},
   "outputs": [],
   "source": [
    "let objectA = {id: 4, name: 'Item A', price: 5.99}\n",
    "let objectB = {price: 10.99, desciption: 'Great New Item'}"
   ]
  },
  {
   "cell_type": "markdown",
   "id": "e6f19647",
   "metadata": {},
   "source": [
    "<strong>Note: </strong> Both Objects have a key of price, Let's see which price gets added to the new object"
   ]
  },
  {
   "cell_type": "code",
   "execution_count": 52,
   "id": "3b43a020",
   "metadata": {},
   "outputs": [
    {
     "name": "stdout",
     "output_type": "stream",
     "text": [
      "┌────────────┬──────────────────┐\n",
      "│  (index)   │      Values      │\n",
      "├────────────┼──────────────────┤\n",
      "│     id     │        4         │\n",
      "│    name    │     'Item A'     │\n",
      "│   price    │      10.99       │\n",
      "│ desciption │ 'Great New Item' │\n",
      "└────────────┴──────────────────┘\n"
     ]
    }
   ],
   "source": [
    "let objectAB = {...objectA, ...objectB}\n",
    "console.table(objectAB)"
   ]
  },
  {
   "cell_type": "code",
   "execution_count": 53,
   "id": "534aa8e4",
   "metadata": {},
   "outputs": [
    {
     "name": "stdout",
     "output_type": "stream",
     "text": [
      "┌────────────┬──────────────────┐\n",
      "│  (index)   │      Values      │\n",
      "├────────────┼──────────────────┤\n",
      "│   price    │       5.99       │\n",
      "│ desciption │ 'Great New Item' │\n",
      "│     id     │        4         │\n",
      "│    name    │     'Item A'     │\n",
      "└────────────┴──────────────────┘\n"
     ]
    }
   ],
   "source": [
    "let objectBA = {...objectB, ...objectA};\n",
    "console.table(objectBA)"
   ]
  },
  {
   "cell_type": "markdown",
   "id": "1fb7014a",
   "metadata": {},
   "source": [
    "<a id=\"rest\"></a>\n",
    "\n",
    "### Rest Operator"
   ]
  },
  {
   "cell_type": "markdown",
   "id": "a3352ac6",
   "metadata": {},
   "source": [
    "Just like with arrays sometimes you only want to destructure part of your object, you can do this with the rest `...` operator"
   ]
  },
  {
   "cell_type": "code",
   "execution_count": 54,
   "id": "17d6111f",
   "metadata": {},
   "outputs": [
    {
     "name": "stdout",
     "output_type": "stream",
     "text": [
      "test\n",
      "Stephen King\n",
      "{ id: 1, body: 'My Test' }\n"
     ]
    }
   ],
   "source": [
    "restTestObj={\n",
    "    id:1,\n",
    "    title: \"test\",\n",
    "    body: \"My Test\",\n",
    "    author: \"Stephen King\"\n",
    "}\n",
    "\n",
    "\n",
    "function testRest({ title, author, ...anythingElse }){\n",
    "    console.log(title);\n",
    "    console.log(author);\n",
    "    console.log(anythingElse)\n",
    "};\n",
    "\n",
    "\n",
    "testRest(restTestObj);"
   ]
  },
  {
   "cell_type": "code",
   "execution_count": 55,
   "id": "3ad7fe05",
   "metadata": {},
   "outputs": [
    {
     "name": "stdout",
     "output_type": "stream",
     "text": [
      "undefined\n"
     ]
    }
   ],
   "source": [
    "// If the property is not in the object, the variable will be undefined\n",
    "\n",
    "let country = {\n",
    "    name: 'USA',\n",
    "    capital: 'Washington, D.C.',\n",
    "    founded: 1776\n",
    "}\n",
    "\n",
    "\n",
    "\n",
    "let { population } = country\n",
    "\n",
    "console.log(population)"
   ]
  },
  {
   "cell_type": "code",
   "execution_count": 56,
   "id": "60a2bcf2",
   "metadata": {
    "scrolled": true
   },
   "outputs": [
    {
     "name": "stdout",
     "output_type": "stream",
     "text": [
      "Washington, D.C.\n"
     ]
    }
   ],
   "source": [
    "let { capital } = country // let capital = country.capital\n",
    "console.log(capital)"
   ]
  },
  {
   "cell_type": "code",
   "execution_count": 57,
   "id": "9fb585c0",
   "metadata": {},
   "outputs": [
    {
     "name": "stdout",
     "output_type": "stream",
     "text": [
      "{ name: 'USA', capital: 'Washington, D.C.', founded: 1776 }\n"
     ]
    }
   ],
   "source": [
    "console.log(country)"
   ]
  },
  {
   "cell_type": "code",
   "execution_count": 58,
   "id": "546ee495",
   "metadata": {},
   "outputs": [],
   "source": [
    "let student = {\n",
    "    studentName: 'Jack',\n",
    "    grade: 'B+',\n",
    "    teacher: 'Mrs. Featherbottom'\n",
    "}"
   ]
  },
  {
   "cell_type": "code",
   "execution_count": 59,
   "id": "1bfafbd3",
   "metadata": {},
   "outputs": [
    {
     "ename": "SyntaxError",
     "evalue": "Identifier 'studentName' has already been declared",
     "output_type": "error",
     "traceback": [
      "evalmachine.<anonymous>:5",
      "let studentName = student.studentName;",
      "    ^",
      "",
      "SyntaxError: Identifier 'studentName' has already been declared",
      "    at new Script (node:vm:100:7)",
      "    at createScript (node:vm:259:10)",
      "    at Object.runInThisContext (node:vm:307:10)",
      "    at run ([eval]:1020:15)",
      "    at onRunRequest ([eval]:864:18)",
      "    at onMessage ([eval]:828:13)",
      "    at process.emit (node:events:513:28)",
      "    at emit (node:internal/child_process:937:14)",
      "    at process.processTicksAndRejections (node:internal/process/task_queues:83:21)"
     ]
    }
   ],
   "source": [
    "// This:\n",
    "let { studentName, grade, teacher } = student;\n",
    "\n",
    "// is equivalent to this:\n",
    "let studentName = student.studentName;\n",
    "let grade = student.grade;\n",
    "let teacher = student.teacher;\n",
    "\n",
    "\n",
    "// ^ The above will throw an error because of let declarations (example only)"
   ]
  },
  {
   "cell_type": "markdown",
   "id": "c2e83bc1",
   "metadata": {},
   "source": [
    "<a id=\"ice2\"></a>\n",
    "\n",
    "### In Class Assignment #2"
   ]
  },
  {
   "cell_type": "markdown",
   "id": "9630dc92",
   "metadata": {},
   "source": [
    "Create a function called `destructed` that recieves the `destructMe` dictionary using destructuring. Destruct the title body and author and leave the rest of the attributes in a parameter called `others`.\n",
    "Print out the title, body, and author to the console. Then print the entire contents of `others` to the console."
   ]
  },
  {
   "cell_type": "code",
   "execution_count": 60,
   "id": "9e4b3028",
   "metadata": {},
   "outputs": [],
   "source": [
    "var destructMe={\n",
    "    title: \"Intro to JavaScript\",\n",
    "    body: \"I really wish JavaScript had static type checking\",\n",
    "    createdOn: new Date(),\n",
    "    author: \"Kevin Beier\",\n",
    "    topic: \"Programming\",\n",
    "    tags: [\"JS\", \"Async\", \"Dynamic Types\"]\n",
    "}"
   ]
  },
  {
   "cell_type": "code",
   "execution_count": 61,
   "id": "7fb46ba2",
   "metadata": {},
   "outputs": [],
   "source": [
    "//Solution\n",
    "\n",
    "\n",
    "\n",
    "\n",
    "//OUTPUT:\n",
    "/*\n",
    "Intro to JavaScript I really wish JavaScript had static type checking Kevin Beier\n",
    "{\n",
    "  createdOn: 2023-06-07T16:18:31.133Z,\n",
    "  topic: 'Programming',\n",
    "  tags: [ 'JS', 'Async', 'Dynamic Types' ]\n",
    "}\n",
    "*/"
   ]
  },
  {
   "cell_type": "markdown",
   "id": "eede8031",
   "metadata": {},
   "source": [
    "<a id=\"chain\"></a>\n",
    "\n",
    "### Optional Chaining"
   ]
  },
  {
   "cell_type": "markdown",
   "id": "ff7db122",
   "metadata": {},
   "source": [
    "Imagine you have many of the same object, and you want to key into it.  Now imagine not all objects have that key, and you want to do an operation on every object without getting an error.  Welcome in optional chaining using the `?.`"
   ]
  },
  {
   "cell_type": "code",
   "execution_count": 62,
   "id": "4bf85372",
   "metadata": {},
   "outputs": [],
   "source": [
    "let bigObject1={\n",
    "    name:\"Jack\",\n",
    "    friends: [\"Johnnie\", \"Jose\", \"Jim\"]\n",
    "}\n",
    "\n",
    "let bigObject2={\n",
    "    name:\"Kylie Jenner\"\n",
    "}"
   ]
  },
  {
   "cell_type": "code",
   "execution_count": 63,
   "id": "e70de169",
   "metadata": {},
   "outputs": [
    {
     "name": "stdout",
     "output_type": "stream",
     "text": [
      "{ name: 'Jack', friends: [ 'Johnnie', 'Jose', 'Jim', 'Jack' ] }\n"
     ]
    }
   ],
   "source": [
    "bigObject1.friends.push('Jack')\n",
    "\n",
    "console.log(bigObject1)"
   ]
  },
  {
   "cell_type": "code",
   "execution_count": 64,
   "id": "022c6873",
   "metadata": {},
   "outputs": [
    {
     "ename": "TypeError",
     "evalue": "Cannot read properties of undefined (reading 'push')",
     "output_type": "error",
     "traceback": [
      "evalmachine.<anonymous>:1",
      "bigObject2.friends.push('Jack') //Error",
      "                   ^",
      "",
      "TypeError: Cannot read properties of undefined (reading 'push')",
      "    at evalmachine.<anonymous>:1:20",
      "    at Script.runInThisContext (node:vm:129:12)",
      "    at Object.runInThisContext (node:vm:307:38)",
      "    at run ([eval]:1020:15)",
      "    at onRunRequest ([eval]:864:18)",
      "    at onMessage ([eval]:828:13)",
      "    at process.emit (node:events:513:28)",
      "    at emit (node:internal/child_process:937:14)",
      "    at process.processTicksAndRejections (node:internal/process/task_queues:83:21)"
     ]
    }
   ],
   "source": [
    "bigObject2.friends.push('Jack') //Error"
   ]
  },
  {
   "cell_type": "code",
   "execution_count": 65,
   "id": "340f9b47",
   "metadata": {},
   "outputs": [
    {
     "name": "stdout",
     "output_type": "stream",
     "text": [
      "{\n",
      "  name: 'Jack',\n",
      "  friends: [ 'Johnnie', 'Jose', 'Jim', 'Jack', 'Jennifer' ]\n",
      "}\n"
     ]
    }
   ],
   "source": [
    "bigObject1.friends?.push('Jennifer');\n",
    "console.log(bigObject1)\n"
   ]
  },
  {
   "cell_type": "code",
   "execution_count": 66,
   "id": "0db18d50",
   "metadata": {},
   "outputs": [
    {
     "name": "stdout",
     "output_type": "stream",
     "text": [
      "{ name: 'Kylie Jenner' }\n"
     ]
    }
   ],
   "source": [
    "bigObject2.friends?.push('Jennifer');\n",
    "console.log(bigObject2)"
   ]
  },
  {
   "cell_type": "code",
   "execution_count": 67,
   "id": "06c86d99",
   "metadata": {
    "scrolled": true
   },
   "outputs": [
    {
     "data": {
      "text/plain": [
       "[\n",
       "  {\n",
       "    id: 1,\n",
       "    title: 'Oppenheimer',\n",
       "    releaseYear: 2023,\n",
       "    studio: { name: 'Warner Bros' }\n",
       "  },\n",
       "  {\n",
       "    id: 2,\n",
       "    title: 'The Dark Knight',\n",
       "    releaseYear: 2009,\n",
       "    studio: { name: 'Sony' }\n",
       "  },\n",
       "  { id: 3, title: 'Gladiator', releaseYear: 2001 }\n",
       "]"
      ]
     },
     "execution_count": 67,
     "metadata": {},
     "output_type": "execute_result"
    }
   ],
   "source": [
    "movies = [\n",
    "    { id: 1, title: 'Oppenheimer', releaseYear: 2023, studio: { name: 'Warner Bros'}},\n",
    "    { id: 2, title: 'The Dark Knight', releaseYear: 2009, studio: { name: 'Sony'}},\n",
    "    { id: 3, title: 'Gladiator', releaseYear: 2001}\n",
    "]"
   ]
  },
  {
   "cell_type": "code",
   "execution_count": 68,
   "id": "354d1554",
   "metadata": {},
   "outputs": [
    {
     "name": "stdout",
     "output_type": "stream",
     "text": [
      "Warner Bros\n",
      "Sony\n",
      "undefined\n"
     ]
    }
   ],
   "source": [
    "for (let movie of movies){\n",
    "    console.log(movie?.studio?.name)\n",
    "}"
   ]
  },
  {
   "cell_type": "code",
   "execution_count": 69,
   "id": "3f36ce67",
   "metadata": {},
   "outputs": [
    {
     "name": "stdout",
     "output_type": "stream",
     "text": [
      "Warner Bros\n",
      "Sony\n",
      "undefined\n"
     ]
    }
   ],
   "source": [
    "// condition ? if true : if false\n",
    "for (let movie of movies){\n",
    "    console.log( movie ? movie.studio ? movie.studio.name : undefined : undefined )\n",
    "}"
   ]
  },
  {
   "cell_type": "markdown",
   "id": "9d2712b8",
   "metadata": {},
   "source": [
    "<a id=\"nco\"></a>\n",
    "\n",
    "### Nullish Coalescing Operator (??)"
   ]
  },
  {
   "cell_type": "markdown",
   "id": "0d2088ff",
   "metadata": {},
   "source": [
    "Often times we want to check the value of something and if it is undefined or null, we want to use a default value instead. The Nullish Coalescing Operator `??` allows just that."
   ]
  },
  {
   "cell_type": "code",
   "execution_count": 70,
   "id": "50c62d20",
   "metadata": {},
   "outputs": [
    {
     "name": "stdout",
     "output_type": "stream",
     "text": [
      "[ 'Johnnie', 'Jose', 'Jim', 'Jack', 'Jennifer' ]\n",
      "has no friends\n",
      "has no friends\n"
     ]
    }
   ],
   "source": [
    "console.log(bigObject1.friends ?? \"has no friends\");\n",
    "console.log(bigObject2.friends ?? \"has no friends\");\n",
    "console.log(null ?? \"has no friends\")\n"
   ]
  },
  {
   "cell_type": "markdown",
   "id": "468cc379",
   "metadata": {},
   "source": [
    "<b>It can be combined with optional chaining</b>"
   ]
  },
  {
   "cell_type": "code",
   "execution_count": 71,
   "id": "6e65f06b",
   "metadata": {
    "scrolled": true
   },
   "outputs": [
    {
     "name": "stdout",
     "output_type": "stream",
     "text": [
      "Oppenheimer released in 2023. Studio: Warner Bros\n",
      "The Dark Knight released in 2009. Studio: Sony\n",
      "Gladiator released in 2001. Studio: Independent\n"
     ]
    }
   ],
   "source": [
    "// Lets find the first friend of our people\n",
    "\n",
    "for (let m of movies){\n",
    "    console.log(`${m.title} released in ${m.releaseYear}. Studio: ${m.studio?.name ?? 'Independent'}`)\n",
    "}\n"
   ]
  },
  {
   "cell_type": "markdown",
   "id": "81761fe4",
   "metadata": {},
   "source": [
    "<a id=\"objeq\"></a>\n",
    "\n",
    "## Object Equality"
   ]
  },
  {
   "cell_type": "markdown",
   "id": "3c9a7cf5",
   "metadata": {},
   "source": [
    "Testing whether two object in JS are the same can be rather confusing.\n",
    "\n",
    "In JavaScript two Objects are considered equal if they point to the same spot in memory, not if the values are the same"
   ]
  },
  {
   "cell_type": "code",
   "execution_count": 72,
   "id": "db9ab7aa",
   "metadata": {},
   "outputs": [
    {
     "name": "stdout",
     "output_type": "stream",
     "text": [
      "false\n",
      "false\n"
     ]
    }
   ],
   "source": [
    "let objX = {id:1}\n",
    "let objY = {id:1}\n",
    "\n",
    "console.log(objX == objY);\n",
    "console.log(objX === objY);"
   ]
  },
  {
   "cell_type": "code",
   "execution_count": 73,
   "id": "906f204d",
   "metadata": {},
   "outputs": [],
   "source": [
    "let objNewX = objX;"
   ]
  },
  {
   "cell_type": "code",
   "execution_count": 74,
   "id": "f832bfcf",
   "metadata": {},
   "outputs": [
    {
     "name": "stdout",
     "output_type": "stream",
     "text": [
      "false\n",
      "true\n",
      "false\n"
     ]
    }
   ],
   "source": [
    "console.log(objX === objY); // false\n",
    "console.log(objX === objNewX); // true\n",
    "console.log(objY === objNewX); // false"
   ]
  },
  {
   "cell_type": "markdown",
   "id": "85276a0f",
   "metadata": {},
   "source": [
    "In this case the easy way to determine if the values are the same is to compare the id values"
   ]
  },
  {
   "cell_type": "code",
   "execution_count": 75,
   "id": "94143284",
   "metadata": {},
   "outputs": [
    {
     "name": "stdout",
     "output_type": "stream",
     "text": [
      "true\n",
      "true\n",
      "true\n"
     ]
    }
   ],
   "source": [
    "console.log(objX.id === objY.id); // true\n",
    "console.log(objX.id === objNewX.id); // true\n",
    "console.log(objY.id === objNewX.id); // true"
   ]
  },
  {
   "cell_type": "code",
   "execution_count": 76,
   "id": "75762ed2",
   "metadata": {},
   "outputs": [
    {
     "name": "stdout",
     "output_type": "stream",
     "text": [
      "false\n",
      "true\n",
      "false\n"
     ]
    }
   ],
   "source": [
    "// Same applies to arrays - must be same object in memory\n",
    "\n",
    "let arr1 = [1, 2, 3];\n",
    "let arr2 = [1, 2, 3];\n",
    "let arr3 = arr1;\n",
    "\n",
    "console.log(arr1 === arr2);\n",
    "console.log(arr1 === arr3);\n",
    "console.log(arr2 === arr3);"
   ]
  },
  {
   "cell_type": "markdown",
   "id": "f9efdcb8",
   "metadata": {},
   "source": [
    "<a id=\"emptyobj\"></a>\n",
    "\n",
    "### Checking for Empty Objects/Arrays"
   ]
  },
  {
   "cell_type": "code",
   "execution_count": 77,
   "id": "8afacd22",
   "metadata": {
    "scrolled": true
   },
   "outputs": [],
   "source": [
    "let testObj;\n",
    "let testArr;"
   ]
  },
  {
   "cell_type": "code",
   "execution_count": 78,
   "id": "c899219d",
   "metadata": {},
   "outputs": [
    {
     "name": "stdout",
     "output_type": "stream",
     "text": [
      "This evaluated to true\n",
      "This evaluated to true\n"
     ]
    }
   ],
   "source": [
    "testObj = {};\n",
    "\n",
    "if (testObj){\n",
    "    console.log('This evaluated to true');\n",
    "} else {\n",
    "    console.log('Nope, it is false')\n",
    "}\n",
    "\n",
    "\n",
    "\n",
    "\n",
    "testArr = [];\n",
    "\n",
    "if (testArr){\n",
    "    console.log('This evaluated to true')\n",
    "} else {\n",
    "    console.log('Nope, it is false')\n",
    "}"
   ]
  },
  {
   "cell_type": "code",
   "execution_count": 79,
   "id": "09103e0b",
   "metadata": {},
   "outputs": [
    {
     "name": "stdout",
     "output_type": "stream",
     "text": [
      "No it is most definitely empty\n"
     ]
    }
   ],
   "source": [
    "// To see if an array is empty, you can use the .length property (remember 0 evaluates to false)\n",
    "\n",
    "if (testArr.length){\n",
    "    console.log('The array is not empty')\n",
    "} else {\n",
    "    console.log('No it is most definitely empty')\n",
    "}"
   ]
  },
  {
   "cell_type": "code",
   "execution_count": 80,
   "id": "97ce168d",
   "metadata": {},
   "outputs": [
    {
     "name": "stdout",
     "output_type": "stream",
     "text": [
      "No it is most definitely empty\n"
     ]
    }
   ],
   "source": [
    "// To see if an object is empty, first use the keys method to get array of keys, check that length\n",
    "\n",
    "if (Object.keys(testObj).length){\n",
    "    console.log('The object is not empty')\n",
    "} else {\n",
    "    console.log('No it is most definitely empty')\n",
    "}"
   ]
  },
  {
   "cell_type": "code",
   "execution_count": 81,
   "id": "e91af203",
   "metadata": {},
   "outputs": [
    {
     "data": {
      "text/plain": [
       "0"
      ]
     },
     "execution_count": 81,
     "metadata": {},
     "output_type": "execute_result"
    }
   ],
   "source": [
    "Object.keys(testObj).length"
   ]
  },
  {
   "cell_type": "markdown",
   "id": "061f335e",
   "metadata": {},
   "source": [
    "<a id=\"loop\"></a>\n",
    "\n",
    "#### Looping over Objects"
   ]
  },
  {
   "cell_type": "markdown",
   "id": "70064320",
   "metadata": {},
   "source": [
    "In python, we have .keys .values and .items. In JS, we have .keys .values and .entries, but instead of them being instance methods on the Dictionary class (like in python), they are static methods of the Object Class (meaning they don't work on the instance but they do work on the class itself)."
   ]
  },
  {
   "cell_type": "code",
   "execution_count": 82,
   "id": "5efef94b",
   "metadata": {},
   "outputs": [
    {
     "name": "stdout",
     "output_type": "stream",
     "text": [
      "┌─────────┬─────────┐\n",
      "│ (index) │ Values  │\n",
      "├─────────┼─────────┤\n",
      "│  name   │ 'Judy'  │\n",
      "│   age   │   56    │\n",
      "│  city   │ 'Tulsa' │\n",
      "└─────────┴─────────┘\n"
     ]
    }
   ],
   "source": [
    "console.table(person)"
   ]
  },
  {
   "cell_type": "markdown",
   "id": "3b28bdbf",
   "metadata": {},
   "source": [
    "##### .keys()"
   ]
  },
  {
   "cell_type": "code",
   "execution_count": 83,
   "id": "b27ac1f4",
   "metadata": {},
   "outputs": [
    {
     "data": {
      "text/plain": [
       "[ 'name', 'age', 'city' ]"
      ]
     },
     "execution_count": 83,
     "metadata": {},
     "output_type": "execute_result"
    }
   ],
   "source": [
    "Object.keys(person)"
   ]
  },
  {
   "cell_type": "markdown",
   "id": "b5c56f99",
   "metadata": {},
   "source": [
    "##### .values()"
   ]
  },
  {
   "cell_type": "code",
   "execution_count": 84,
   "id": "acd9a39f",
   "metadata": {},
   "outputs": [
    {
     "data": {
      "text/plain": [
       "[ 'Judy', 56, 'Tulsa' ]"
      ]
     },
     "execution_count": 84,
     "metadata": {},
     "output_type": "execute_result"
    }
   ],
   "source": [
    "Object.values(person);"
   ]
  },
  {
   "cell_type": "markdown",
   "id": "fc52a1bd",
   "metadata": {},
   "source": [
    "##### .entries()"
   ]
  },
  {
   "cell_type": "code",
   "execution_count": 85,
   "id": "ea3402ff",
   "metadata": {},
   "outputs": [
    {
     "data": {
      "text/plain": [
       "[ [ 'name', 'Judy' ], [ 'age', 56 ], [ 'city', 'Tulsa' ] ]"
      ]
     },
     "execution_count": 85,
     "metadata": {},
     "output_type": "execute_result"
    }
   ],
   "source": [
    "Object.entries(person);"
   ]
  },
  {
   "cell_type": "markdown",
   "id": "4a381a29",
   "metadata": {},
   "source": [
    "<a id=\"tradloop\"></a>\n",
    "\n",
    "#### Traditional (ES5 and earlier) looping over Object"
   ]
  },
  {
   "cell_type": "code",
   "execution_count": 86,
   "id": "b16376dd",
   "metadata": {},
   "outputs": [
    {
     "name": "stdout",
     "output_type": "stream",
     "text": [
      "Key: name\n",
      "Value: Judy Judy\n",
      "--------------\n",
      "Key: age\n",
      "Value: 56 56\n",
      "--------------\n",
      "Key: city\n",
      "Value: Tulsa Tulsa\n",
      "--------------\n"
     ]
    }
   ],
   "source": [
    "for (let i=0; i < Object.keys(person).length; i++){\n",
    "    console.log('Key:', Object.keys(person)[i]);\n",
    "    console.log('Value:', Object.values(person)[i], person[Object.keys(person)[i]])\n",
    "    console.log('--------------')\n",
    "}"
   ]
  },
  {
   "cell_type": "markdown",
   "id": "7ae11556",
   "metadata": {},
   "source": [
    "<a id=\"ice3\"></a>\n",
    "\n",
    "### In Class Assignment #3"
   ]
  },
  {
   "cell_type": "markdown",
   "id": "cb15c647",
   "metadata": {},
   "source": [
    "In the cell provided, create a traditional for loop to loop over all the keys and values in the `herbie` object and log them to the console in the following format:\n",
    "\n",
    "```\n",
    "the key [key] has the value of [value]\n",
    "```"
   ]
  },
  {
   "cell_type": "code",
   "execution_count": 87,
   "id": "c6d888bd",
   "metadata": {},
   "outputs": [],
   "source": [
    "var herbie={\n",
    "    wheels:\"4\",\n",
    "    color: \"white\",\n",
    "    make: \"VW\",\n",
    "    model: \"Beetle\",\n",
    "    year: 1963,\n",
    "    number: 53\n",
    "}"
   ]
  },
  {
   "cell_type": "code",
   "execution_count": 88,
   "id": "774a9800",
   "metadata": {},
   "outputs": [],
   "source": [
    "//Solution\n",
    "\n",
    "\n",
    "\n"
   ]
  },
  {
   "cell_type": "markdown",
   "id": "b8297246",
   "metadata": {},
   "source": [
    "<a id=\"forin\"></a>\n",
    "##### For in Loop"
   ]
  },
  {
   "cell_type": "markdown",
   "id": "3da036cc",
   "metadata": {},
   "source": [
    "ES6 marked the introduction of the `for in` loop in JS unlike python which uses this to loop over lists, in JS it is used to loop over the keys of an object.\n",
    "\n",
    "<strong>Remember:</strong> In JS, to loop over a lis,t we can use the `for of` loop.\n",
    "\n",
    "syntax:\n",
    "```\n",
    "for (let placeholder in myObject){\n",
    "    //do stuff\n",
    "}\n",
    "```"
   ]
  },
  {
   "cell_type": "code",
   "execution_count": 89,
   "id": "a48ea679",
   "metadata": {
    "scrolled": true
   },
   "outputs": [
    {
     "name": "stdout",
     "output_type": "stream",
     "text": [
      "Key: name\n",
      "Value: Judy\n",
      "-------------\n",
      "Key: age\n",
      "Value: 56\n",
      "-------------\n",
      "Key: city\n",
      "Value: Tulsa\n",
      "-------------\n"
     ]
    }
   ],
   "source": [
    "for (let key in person){\n",
    "    console.log('Key:', key);\n",
    "    console.log('Value:', person[key])\n",
    "    console.log('-------------')\n",
    "}"
   ]
  },
  {
   "cell_type": "code",
   "execution_count": 90,
   "id": "0fb219c5",
   "metadata": {
    "scrolled": true
   },
   "outputs": [
    {
     "name": "stdout",
     "output_type": "stream",
     "text": [
      "for...of\n",
      "New York\n",
      "Los Angeles\n",
      "Chicago\n",
      "Houston\n",
      "Phoenix\n",
      "---------------------\n",
      "for...in\n",
      "0\n",
      "1\n",
      "2\n",
      "3\n",
      "4\n"
     ]
    }
   ],
   "source": [
    "var cities = ['New York', 'Los Angeles', 'Chicago', 'Houston', 'Phoenix'];\n",
    "\n",
    "console.log('for...of')\n",
    "for (let c of cities){\n",
    "    console.log(c)\n",
    "}\n",
    "\n",
    "console.log('---------------------')\n",
    "\n",
    "console.log('for...in')\n",
    "for (let c in cities){\n",
    "    console.log(c)\n",
    "}"
   ]
  },
  {
   "cell_type": "code",
   "execution_count": 91,
   "id": "0ceade84",
   "metadata": {},
   "outputs": [
    {
     "name": "stdout",
     "output_type": "stream",
     "text": [
      "object\n"
     ]
    }
   ],
   "source": [
    "let myCoolArr = [1, 2, 3]\n",
    "\n",
    "console.log(typeof myCoolArr)"
   ]
  },
  {
   "cell_type": "code",
   "execution_count": 92,
   "id": "9e10f375",
   "metadata": {},
   "outputs": [
    {
     "name": "stdout",
     "output_type": "stream",
     "text": [
      "true\n"
     ]
    }
   ],
   "source": [
    "console.log(Array.isArray(myCoolArr))"
   ]
  },
  {
   "cell_type": "code",
   "execution_count": 93,
   "id": "adfa0044",
   "metadata": {},
   "outputs": [
    {
     "name": "stdout",
     "output_type": "stream",
     "text": [
      "false\n"
     ]
    }
   ],
   "source": [
    "console.log(Array.isArray(person))"
   ]
  },
  {
   "cell_type": "markdown",
   "id": "0502bc0d",
   "metadata": {},
   "source": [
    "<a id=\"ice4\"></a>\n",
    "### In Class Assignment #4"
   ]
  },
  {
   "cell_type": "markdown",
   "id": "508fc924",
   "metadata": {},
   "source": [
    "In the cell provided create a `for...in` loop to loop over all the keys and values in the `kit` object and log them to the console in the following format:\n",
    "\n",
    "If the value is null use the nullish coalescence to print `\"No Value Given\"` \n",
    "\n",
    "```\n",
    "the key [key] has the value of [value]\n",
    "```"
   ]
  },
  {
   "cell_type": "code",
   "execution_count": 94,
   "id": "fcf8fced",
   "metadata": {},
   "outputs": [],
   "source": [
    "var kit={\n",
    "    wheels:\"4\",\n",
    "    color: \"black\",\n",
    "    make: \"Pontiac\",\n",
    "    model: \"Thunderbird\",\n",
    "    year: 1981,\n",
    "    number: null\n",
    "}"
   ]
  },
  {
   "cell_type": "code",
   "execution_count": 95,
   "id": "e82bb820",
   "metadata": {},
   "outputs": [],
   "source": [
    "//solution\n",
    "\n",
    "\n",
    "\n",
    "\n"
   ]
  },
  {
   "cell_type": "markdown",
   "id": "ac369328",
   "metadata": {},
   "source": [
    "### Returning from an arrow function"
   ]
  },
  {
   "cell_type": "markdown",
   "id": "b563a094",
   "metadata": {},
   "source": [
    "When returning an object literal from a one line arrow function, we have to surround the object with parentheses, otherwise JS sees the braces and assumes it is starting the code block for your arrow function."
   ]
  },
  {
   "cell_type": "code",
   "execution_count": 96,
   "id": "d775ab41",
   "metadata": {},
   "outputs": [
    {
     "name": "stdout",
     "output_type": "stream",
     "text": [
      "{ id: 1, name: 'Brian', city: 'Chicago' }\n"
     ]
    }
   ],
   "source": [
    "function createObj(){\n",
    "    return {\n",
    "        id: 1,\n",
    "        name: 'Brian',\n",
    "        city: 'Chicago'\n",
    "    }\n",
    "};\n",
    "\n",
    "console.log(createObj());"
   ]
  },
  {
   "cell_type": "code",
   "execution_count": 97,
   "id": "e9279b51",
   "metadata": {},
   "outputs": [
    {
     "name": "stdout",
     "output_type": "stream",
     "text": [
      "{ id: 1, name: 'Brian', city: 'Chicago' }\n"
     ]
    }
   ],
   "source": [
    "const createObjArrow = () => {\n",
    "    return {\n",
    "        id: 1,\n",
    "        name: 'Brian',\n",
    "        city: 'Chicago'\n",
    "    }\n",
    "}\n",
    "\n",
    "console.log(createObjArrow());"
   ]
  },
  {
   "cell_type": "code",
   "execution_count": 98,
   "id": "2be39ccf",
   "metadata": {},
   "outputs": [
    {
     "data": {
      "text/plain": [
       "'Hello'"
      ]
     },
     "execution_count": 98,
     "metadata": {},
     "output_type": "execute_result"
    }
   ],
   "source": [
    "const myArrFunc = () => 'Hello'\n",
    "myArrFunc()"
   ]
  },
  {
   "cell_type": "code",
   "execution_count": 99,
   "id": "ee8b3749",
   "metadata": {},
   "outputs": [
    {
     "name": "stdout",
     "output_type": "stream",
     "text": [
      "{ id: 1, name: 'Brian', city: 'Chicago' }\n"
     ]
    }
   ],
   "source": [
    "var createObjArrow2 = () => ({id: 1,name: 'Brian',city: 'Chicago'})\n",
    "\n",
    "console.log(createObjArrow2());"
   ]
  },
  {
   "cell_type": "markdown",
   "id": "371f7713",
   "metadata": {},
   "source": [
    "<a id=\"this\"></a>\n",
    "### this keyword"
   ]
  },
  {
   "cell_type": "markdown",
   "id": "9fc35382",
   "metadata": {},
   "source": [
    "The `this` keyword in JS is similar to self in Python. It is a way to refer to the parent object or instance.\n",
    "\n",
    "One important thing to note is that arrow functions do not bind this to their parent."
   ]
  },
  {
   "cell_type": "code",
   "execution_count": 100,
   "id": "ef4fc287",
   "metadata": {},
   "outputs": [
    {
     "name": "stdout",
     "output_type": "stream",
     "text": [
      "{\n",
      "  firstName: 'Chris',\n",
      "  lastName: 'Rock',\n",
      "  fullNameRegular: [Function: fullNameRegular],\n",
      "  fullNameArrow: [Function: fullNameArrow]\n",
      "}\n"
     ]
    }
   ],
   "source": [
    "var thisObject = {\n",
    "    firstName: 'Chris',\n",
    "    lastName: 'Rock',\n",
    "    fullNameRegular: function(){return this.firstName + ' ' + this.lastName},\n",
    "    fullNameArrow: ()=>{this.firstName + ' ' + this.lastName}\n",
    "}\n",
    "\n",
    "console.log(thisObject)"
   ]
  },
  {
   "cell_type": "code",
   "execution_count": 101,
   "id": "2b275482",
   "metadata": {},
   "outputs": [
    {
     "data": {
      "text/plain": [
       "'Chris Rock'"
      ]
     },
     "execution_count": 101,
     "metadata": {},
     "output_type": "execute_result"
    }
   ],
   "source": [
    "thisObject.fullNameRegular()"
   ]
  },
  {
   "cell_type": "code",
   "execution_count": 102,
   "id": "f9c5a8d0",
   "metadata": {},
   "outputs": [
    {
     "name": "stdout",
     "output_type": "stream",
     "text": [
      "undefined\n"
     ]
    }
   ],
   "source": [
    "console.log(thisObject.fullNameArrow())"
   ]
  },
  {
   "cell_type": "code",
   "execution_count": 103,
   "id": "04499c02",
   "metadata": {},
   "outputs": [],
   "source": [
    "let myTestObj = {\n",
    "    getThisReg: function(){return this},\n",
    "    getThisArrow: ()=> this\n",
    "}"
   ]
  },
  {
   "cell_type": "code",
   "execution_count": 104,
   "id": "9b957718",
   "metadata": {
    "scrolled": true
   },
   "outputs": [
    {
     "name": "stdout",
     "output_type": "stream",
     "text": [
      "Outside of function: <ref *1> Object [global] {\n",
      "  global: [Circular *1],\n",
      "  queueMicrotask: [Function: queueMicrotask],\n",
      "  clearImmediate: [Function: clearImmediate],\n",
      "  setImmediate: [Function: setImmediate] {\n",
      "    [Symbol(nodejs.util.promisify.custom)]: [Getter]\n",
      "  },\n",
      "  structuredClone: [Function: structuredClone],\n",
      "  clearInterval: [Function: clearInterval],\n",
      "  clearTimeout: [Function: clearTimeout],\n",
      "  setInterval: [Function: setInterval],\n",
      "  setTimeout: [Function: setTimeout] {\n",
      "    [Symbol(nodejs.util.promisify.custom)]: [Getter]\n",
      "  },\n",
      "  atob: [Function: atob],\n",
      "  btoa: [Function: btoa],\n",
      "  performance: Performance {\n",
      "    nodeTiming: PerformanceNodeTiming {\n",
      "      name: 'node',\n",
      "      entryType: 'node',\n",
      "      startTime: 0,\n",
      "      duration: 56190.73309993744,\n",
      "      nodeStart: 3.9649999141693115,\n",
      "      v8Start: 8.640699982643127,\n",
      "      bootstrapComplete: 61.563899993896484,\n",
      "      environment: 22.568300008773804,\n",
      "      loopStart: 70.44099998474121,\n",
      "      loopExit: -1,\n",
      "      idleTime: 55995.5506\n",
      "    },\n",
      "    timeOrigin: 1698761856045.152\n",
      "  },\n",
      "  fetch: [AsyncFunction: fetch],\n",
      "  __filename: '[eval]',\n",
      "  module: <ref *2> [Function: Module] {\n",
      "    builtinModules: [\n",
      "      '_http_agent',         '_http_client',        '_http_common',\n",
      "      '_http_incoming',      '_http_outgoing',      '_http_server',\n",
      "      '_stream_duplex',      '_stream_passthrough', '_stream_readable',\n",
      "      '_stream_transform',   '_stream_wrap',        '_stream_writable',\n",
      "      '_tls_common',         '_tls_wrap',           'assert',\n",
      "      'assert/strict',       'async_hooks',         'buffer',\n",
      "      'child_process',       'cluster',             'console',\n",
      "      'constants',           'crypto',              'dgram',\n",
      "      'diagnostics_channel', 'dns',                 'dns/promises',\n",
      "      'domain',              'events',              'fs',\n",
      "      'fs/promises',         'http',                'http2',\n",
      "      'https',               'inspector',           'module',\n",
      "      'net',                 'os',                  'path',\n",
      "      'path/posix',          'path/win32',          'perf_hooks',\n",
      "      'process',             'punycode',            'querystring',\n",
      "      'readline',            'readline/promises',   'repl',\n",
      "      'stream',              'stream/consumers',    'stream/promises',\n",
      "      'stream/web',          'string_decoder',      'sys',\n",
      "      'timers',              'timers/promises',     'tls',\n",
      "      'trace_events',        'tty',                 'url',\n",
      "      'util',                'util/types',          'v8',\n",
      "      'vm',                  'worker_threads',      'zlib'\n",
      "    ],\n",
      "    _cache: [Object: null prototype] {},\n",
      "    _pathCache: [Object: null prototype] {},\n",
      "    _extensions: [Object: null prototype] {\n",
      "      '.js': [Function (anonymous)],\n",
      "      '.json': [Function (anonymous)],\n",
      "      '.node': [Function (anonymous)]\n",
      "    },\n",
      "    globalPaths: [\n",
      "      'C:\\\\Users\\\\bstan\\\\.node_modules',\n",
      "      'C:\\\\Users\\\\bstan\\\\.node_libraries',\n",
      "      'C:\\\\Users\\\\bstan\\\\anaconda3\\\\lib\\\\node'\n",
      "    ],\n",
      "    _debug: [Function: deprecated],\n",
      "    _findPath: [Function (anonymous)],\n",
      "    _nodeModulePaths: [Function (anonymous)],\n",
      "    _resolveLookupPaths: [Function (anonymous)],\n",
      "    _load: [Function (anonymous)],\n",
      "    _resolveFilename: [Function (anonymous)],\n",
      "    createRequire: [Function: createRequire],\n",
      "    _initPaths: [Function (anonymous)],\n",
      "    _preloadModules: [Function (anonymous)],\n",
      "    syncBuiltinESMExports: [Function: syncBuiltinESMExports],\n",
      "    isBuiltin: [Function: isBuiltin],\n",
      "    Module: [Circular *2],\n",
      "    runMain: [Function: executeUserEntryPoint],\n",
      "    findSourceMap: [Function: findSourceMap],\n",
      "    SourceMap: [class SourceMap]\n",
      "  },\n",
      "  exports: {},\n",
      "  __dirname: '.',\n",
      "  require: [Function: require] {\n",
      "    resolve: [Function: resolve] { paths: [Function: paths] },\n",
      "    main: undefined,\n",
      "    extensions: [Object: null prototype] {\n",
      "      '.js': [Function (anonymous)],\n",
      "      '.json': [Function (anonymous)],\n",
      "      '.node': [Function (anonymous)]\n",
      "    },\n",
      "    cache: [Object: null prototype] {}\n",
      "  },\n",
      "  '$$mimer$$': [Function: defaultMimer],\n",
      "  '$$done$$': [Function: bound bound done],\n",
      "  jan1701am: 1970-01-01T01:00:00.000Z,\n",
      "  dayOfWeek: 'Tue',\n",
      "  myListFunc: [Function: myListFunc],\n",
      "  saySomething: [Function: saySomething],\n",
      "  testRest: [Function: testRest],\n",
      "  restTestObj: { id: 1, title: 'test', body: 'My Test', author: 'Stephen King' },\n",
      "  destructMe: {\n",
      "    title: 'Intro to JavaScript',\n",
      "    body: 'I really wish JavaScript had static type checking',\n",
      "    createdOn: 2023-10-31T14:18:14.083Z,\n",
      "    author: 'Kevin Beier',\n",
      "    topic: 'Programming',\n",
      "    tags: [ 'JS', 'Async', 'Dynamic Types' ]\n",
      "  },\n",
      "  movies: [\n",
      "    {\n",
      "      id: 1,\n",
      "      title: 'Oppenheimer',\n",
      "      releaseYear: 2023,\n",
      "      studio: [Object]\n",
      "    },\n",
      "    {\n",
      "      id: 2,\n",
      "      title: 'The Dark Knight',\n",
      "      releaseYear: 2009,\n",
      "      studio: [Object]\n",
      "    },\n",
      "    { id: 3, title: 'Gladiator', releaseYear: 2001 }\n",
      "  ],\n",
      "  herbie: {\n",
      "    wheels: '4',\n",
      "    color: 'white',\n",
      "    make: 'VW',\n",
      "    model: 'Beetle',\n",
      "    year: 1963,\n",
      "    number: 53\n",
      "  },\n",
      "  cities: [ 'New York', 'Los Angeles', 'Chicago', 'Houston', 'Phoenix' ],\n",
      "  kit: {\n",
      "    wheels: '4',\n",
      "    color: 'black',\n",
      "    make: 'Pontiac',\n",
      "    model: 'Thunderbird',\n",
      "    year: 1981,\n",
      "    number: null\n",
      "  },\n",
      "  createObj: [Function: createObj],\n",
      "  createObjArrow2: [Function: createObjArrow2],\n",
      "  thisObject: {\n",
      "    firstName: 'Chris',\n",
      "    lastName: 'Rock',\n",
      "    fullNameRegular: [Function: fullNameRegular],\n",
      "    fullNameArrow: [Function: fullNameArrow]\n",
      "  },\n",
      "  console: Console [console] {\n",
      "    log: [Function: log],\n",
      "    warn: [Function: warn],\n",
      "    dir: [Function: dir],\n",
      "    time: [Function: time],\n",
      "    timeEnd: [Function: timeEnd],\n",
      "    timeLog: [Function: timeLog],\n",
      "    trace: [Function: trace],\n",
      "    assert: [Function: assert],\n",
      "    clear: [Function: clear],\n",
      "    count: [Function: count],\n",
      "    countReset: [Function: countReset],\n",
      "    group: [Function: group],\n",
      "    groupEnd: [Function: groupEnd],\n",
      "    table: [Function: table],\n",
      "    debug: [Function: debug],\n",
      "    info: [Function: info],\n",
      "    dirxml: [Function: dirxml],\n",
      "    error: [Function: error],\n",
      "    groupCollapsed: [Function: groupCollapsed],\n",
      "    Console: [Function: Console]\n",
      "  },\n",
      "  '$$': [Object: null prototype] {\n",
      "    async: [Function: bound async],\n",
      "    done: [Function: bound done],\n",
      "    sendResult: [Function: bound ],\n",
      "    sendError: [Function: bound ],\n",
      "    mime: [Function: bound ],\n",
      "    text: [Function: bound ],\n",
      "    html: [Function: bound ],\n",
      "    svg: [Function: bound ],\n",
      "    png: [Function: bound ],\n",
      "    jpeg: [Function: bound ],\n",
      "    json: [Function: bound ],\n",
      "    input: [Function: bound input],\n",
      "    display: [Function: bound createDisplay],\n",
      "    clear: [Function: bound clear]\n",
      "  }\n",
      "}\n",
      "--------------------------------------------------------------------------------\n",
      "Regular Function: {\n",
      "  getThisReg: [Function: getThisReg],\n",
      "  getThisArrow: [Function: getThisArrow]\n",
      "}\n",
      "--------------------------------------------------------------------------------\n",
      "Arrow Function: <ref *1> Object [global] {\n",
      "  global: [Circular *1],\n",
      "  queueMicrotask: [Function: queueMicrotask],\n",
      "  clearImmediate: [Function: clearImmediate],\n",
      "  setImmediate: [Function: setImmediate] {\n",
      "    [Symbol(nodejs.util.promisify.custom)]: [Getter]\n",
      "  },\n",
      "  structuredClone: [Function: structuredClone],\n",
      "  clearInterval: [Function: clearInterval],\n",
      "  clearTimeout: [Function: clearTimeout],\n",
      "  setInterval: [Function: setInterval],\n",
      "  setTimeout: [Function: setTimeout] {\n",
      "    [Symbol(nodejs.util.promisify.custom)]: [Getter]\n",
      "  },\n",
      "  atob: [Function: atob],\n",
      "  btoa: [Function: btoa],\n",
      "  performance: Performance {\n",
      "    nodeTiming: PerformanceNodeTiming {\n",
      "      name: 'node',\n",
      "      entryType: 'node',\n",
      "      startTime: 0,\n",
      "      duration: 56193.20939993858,\n",
      "      nodeStart: 3.9649999141693115,\n",
      "      v8Start: 8.640699982643127,\n",
      "      bootstrapComplete: 61.563899993896484,\n",
      "      environment: 22.568300008773804,\n",
      "      loopStart: 70.44099998474121,\n",
      "      loopExit: -1,\n",
      "      idleTime: 55995.5506\n",
      "    },\n",
      "    timeOrigin: 1698761856045.152\n",
      "  },\n",
      "  fetch: [AsyncFunction: fetch],\n",
      "  __filename: '[eval]',\n",
      "  module: <ref *2> [Function: Module] {\n",
      "    builtinModules: [\n",
      "      '_http_agent',         '_http_client',        '_http_common',\n",
      "      '_http_incoming',      '_http_outgoing',      '_http_server',\n",
      "      '_stream_duplex',      '_stream_passthrough', '_stream_readable',\n",
      "      '_stream_transform',   '_stream_wrap',        '_stream_writable',\n",
      "      '_tls_common',         '_tls_wrap',           'assert',\n",
      "      'assert/strict',       'async_hooks',         'buffer',\n",
      "      'child_process',       'cluster',             'console',\n",
      "      'constants',           'crypto',              'dgram',\n",
      "      'diagnostics_channel', 'dns',                 'dns/promises',\n",
      "      'domain',              'events',              'fs',\n",
      "      'fs/promises',         'http',                'http2',\n",
      "      'https',               'inspector',           'module',\n",
      "      'net',                 'os',                  'path',\n",
      "      'path/posix',          'path/win32',          'perf_hooks',\n",
      "      'process',             'punycode',            'querystring',\n",
      "      'readline',            'readline/promises',   'repl',\n",
      "      'stream',              'stream/consumers',    'stream/promises',\n",
      "      'stream/web',          'string_decoder',      'sys',\n",
      "      'timers',              'timers/promises',     'tls',\n",
      "      'trace_events',        'tty',                 'url',\n",
      "      'util',                'util/types',          'v8',\n",
      "      'vm',                  'worker_threads',      'zlib'\n",
      "    ],\n",
      "    _cache: [Object: null prototype] {},\n",
      "    _pathCache: [Object: null prototype] {},\n",
      "    _extensions: [Object: null prototype] {\n",
      "      '.js': [Function (anonymous)],\n",
      "      '.json': [Function (anonymous)],\n",
      "      '.node': [Function (anonymous)]\n",
      "    },\n",
      "    globalPaths: [\n",
      "      'C:\\\\Users\\\\bstan\\\\.node_modules',\n",
      "      'C:\\\\Users\\\\bstan\\\\.node_libraries',\n",
      "      'C:\\\\Users\\\\bstan\\\\anaconda3\\\\lib\\\\node'\n",
      "    ],\n",
      "    _debug: [Function: deprecated],\n",
      "    _findPath: [Function (anonymous)],\n",
      "    _nodeModulePaths: [Function (anonymous)],\n",
      "    _resolveLookupPaths: [Function (anonymous)],\n",
      "    _load: [Function (anonymous)],\n",
      "    _resolveFilename: [Function (anonymous)],\n",
      "    createRequire: [Function: createRequire],\n",
      "    _initPaths: [Function (anonymous)],\n",
      "    _preloadModules: [Function (anonymous)],\n",
      "    syncBuiltinESMExports: [Function: syncBuiltinESMExports],\n",
      "    isBuiltin: [Function: isBuiltin],\n",
      "    Module: [Circular *2],\n",
      "    runMain: [Function: executeUserEntryPoint],\n",
      "    findSourceMap: [Function: findSourceMap],\n",
      "    SourceMap: [class SourceMap]\n",
      "  },\n",
      "  exports: {},\n",
      "  __dirname: '.',\n",
      "  require: [Function: require] {\n",
      "    resolve: [Function: resolve] { paths: [Function: paths] },\n",
      "    main: undefined,\n",
      "    extensions: [Object: null prototype] {\n",
      "      '.js': [Function (anonymous)],\n",
      "      '.json': [Function (anonymous)],\n",
      "      '.node': [Function (anonymous)]\n",
      "    },\n",
      "    cache: [Object: null prototype] {}\n",
      "  },\n",
      "  '$$mimer$$': [Function: defaultMimer],\n",
      "  '$$done$$': [Function: bound bound done],\n",
      "  jan1701am: 1970-01-01T01:00:00.000Z,\n",
      "  dayOfWeek: 'Tue',\n",
      "  myListFunc: [Function: myListFunc],\n",
      "  saySomething: [Function: saySomething],\n",
      "  testRest: [Function: testRest],\n",
      "  restTestObj: { id: 1, title: 'test', body: 'My Test', author: 'Stephen King' },\n",
      "  destructMe: {\n",
      "    title: 'Intro to JavaScript',\n",
      "    body: 'I really wish JavaScript had static type checking',\n",
      "    createdOn: 2023-10-31T14:18:14.083Z,\n",
      "    author: 'Kevin Beier',\n",
      "    topic: 'Programming',\n",
      "    tags: [ 'JS', 'Async', 'Dynamic Types' ]\n",
      "  },\n",
      "  movies: [\n",
      "    {\n",
      "      id: 1,\n",
      "      title: 'Oppenheimer',\n",
      "      releaseYear: 2023,\n",
      "      studio: [Object]\n",
      "    },\n",
      "    {\n",
      "      id: 2,\n",
      "      title: 'The Dark Knight',\n",
      "      releaseYear: 2009,\n",
      "      studio: [Object]\n",
      "    },\n",
      "    { id: 3, title: 'Gladiator', releaseYear: 2001 }\n",
      "  ],\n",
      "  herbie: {\n",
      "    wheels: '4',\n",
      "    color: 'white',\n",
      "    make: 'VW',\n",
      "    model: 'Beetle',\n",
      "    year: 1963,\n",
      "    number: 53\n",
      "  },\n",
      "  cities: [ 'New York', 'Los Angeles', 'Chicago', 'Houston', 'Phoenix' ],\n",
      "  kit: {\n",
      "    wheels: '4',\n",
      "    color: 'black',\n",
      "    make: 'Pontiac',\n",
      "    model: 'Thunderbird',\n",
      "    year: 1981,\n",
      "    number: null\n",
      "  },\n",
      "  createObj: [Function: createObj],\n",
      "  createObjArrow2: [Function: createObjArrow2],\n",
      "  thisObject: {\n",
      "    firstName: 'Chris',\n",
      "    lastName: 'Rock',\n",
      "    fullNameRegular: [Function: fullNameRegular],\n",
      "    fullNameArrow: [Function: fullNameArrow]\n",
      "  },\n",
      "  console: Console [console] {\n",
      "    log: [Function: log],\n",
      "    warn: [Function: warn],\n",
      "    dir: [Function: dir],\n",
      "    time: [Function: time],\n",
      "    timeEnd: [Function: timeEnd],\n",
      "    timeLog: [Function: timeLog],\n",
      "    trace: [Function: trace],\n",
      "    assert: [Function: assert],\n",
      "    clear: [Function: clear],\n",
      "    count: [Function: count],\n",
      "    countReset: [Function: countReset],\n",
      "    group: [Function: group],\n",
      "    groupEnd: [Function: groupEnd],\n",
      "    table: [Function: table],\n",
      "    debug: [Function: debug],\n",
      "    info: [Function: info],\n",
      "    dirxml: [Function: dirxml],\n",
      "    error: [Function: error],\n",
      "    groupCollapsed: [Function: groupCollapsed],\n",
      "    Console: [Function: Console]\n",
      "  },\n",
      "  '$$': [Object: null prototype] {\n",
      "    async: [Function: bound async],\n",
      "    done: [Function: bound done],\n",
      "    sendResult: [Function: bound ],\n",
      "    sendError: [Function: bound ],\n",
      "    mime: [Function: bound ],\n",
      "    text: [Function: bound ],\n",
      "    html: [Function: bound ],\n",
      "    svg: [Function: bound ],\n",
      "    png: [Function: bound ],\n",
      "    jpeg: [Function: bound ],\n",
      "    json: [Function: bound ],\n",
      "    input: [Function: bound input],\n",
      "    display: [Function: bound createDisplay],\n",
      "    clear: [Function: bound clear]\n",
      "  }\n",
      "}\n"
     ]
    }
   ],
   "source": [
    "console.log(\"Outside of function:\", this);\n",
    "console.log('--------------------------------------------------------------------------------')\n",
    "console.log(\"Regular Function:\", myTestObj.getThisReg());\n",
    "console.log('--------------------------------------------------------------------------------')\n",
    "\n",
    "console.log(\"Arrow Function:\", myTestObj.getThisArrow());"
   ]
  },
  {
   "cell_type": "markdown",
   "id": "bea78702",
   "metadata": {},
   "source": [
    "<a id=\"typecheck\"></a>\n",
    "### Checking the type of a variable"
   ]
  },
  {
   "cell_type": "code",
   "execution_count": 105,
   "id": "b4d6830c",
   "metadata": {},
   "outputs": [],
   "source": [
    "let testArray = [1, 2, 3, 4];"
   ]
  },
  {
   "cell_type": "code",
   "execution_count": 106,
   "id": "79ab9d30",
   "metadata": {},
   "outputs": [
    {
     "ename": "SyntaxError",
     "evalue": "Identifier 'testObj' has already been declared",
     "output_type": "error",
     "traceback": [
      "evalmachine.<anonymous>:1",
      "let testObj = {id: 1};",
      "^",
      "",
      "SyntaxError: Identifier 'testObj' has already been declared",
      "    at Script.runInThisContext (node:vm:129:12)",
      "    at Object.runInThisContext (node:vm:307:38)",
      "    at run ([eval]:1020:15)",
      "    at onRunRequest ([eval]:864:18)",
      "    at onMessage ([eval]:828:13)",
      "    at process.emit (node:events:513:28)",
      "    at emit (node:internal/child_process:937:14)",
      "    at process.processTicksAndRejections (node:internal/process/task_queues:83:21)"
     ]
    }
   ],
   "source": [
    "let testObj = {id: 1};"
   ]
  },
  {
   "cell_type": "code",
   "execution_count": 107,
   "id": "772809fc",
   "metadata": {},
   "outputs": [
    {
     "name": "stdout",
     "output_type": "stream",
     "text": [
      "object\n",
      "true\n",
      "true\n",
      "true\n",
      "========\n",
      "true\n",
      "true\n",
      "false\n",
      "string\n",
      "========\n",
      "object\n",
      "false\n",
      "object\n",
      "false\n",
      "true\n"
     ]
    }
   ],
   "source": [
    "console.log(typeof testArray) //object\n",
    "console.log(testArray instanceof Array) //true\n",
    "console.log(Array instanceof Object) //true\n",
    "console.log(Array.isArray(testArray)) //true\n",
    "console.log(\"========\")\n",
    "console.log(testArray instanceof Object) //true\n",
    "console.log(testObj instanceof Object)  //true\n",
    "console.log(Array.isArray(testObj)) //false\n",
    "console.log(typeof 'hello') //string\n",
    "console.log(\"========\")\n",
    "console.log(typeof {}) //object\n",
    "console.log('hello' instanceof Object) //False\n",
    "console.log(typeof null); //object\n",
    "console.log(null instanceof Object) //False\n",
    "console.log({key:1} instanceof Object)  //true\n"
   ]
  },
  {
   "cell_type": "markdown",
   "id": "cdcc5a39",
   "metadata": {},
   "source": [
    "<a id=\"proto\"></a>\n",
    "## ES5 Object Prototypes"
   ]
  },
  {
   "cell_type": "markdown",
   "id": "c9b8d3d9",
   "metadata": {},
   "source": [
    "The class keyword wasn't added to JS until ES6, and replaces the functionality we are about to talk about.  You will still see alot of ES5 prototypes in the wild, so be sure to understand what they are doing.\n",
    "\n",
    "Lets build out a JS object to be reuseable."
   ]
  },
  {
   "cell_type": "markdown",
   "id": "9c39537c",
   "metadata": {},
   "source": [
    "<a id=\"new\"></a>\n",
    "\n",
    "### new keyword"
   ]
  },
  {
   "cell_type": "markdown",
   "id": "79305a8f",
   "metadata": {},
   "source": [
    "The `new` keyword will initialize an object and return it for you.  It will also allow the use of the this keyword"
   ]
  },
  {
   "cell_type": "code",
   "execution_count": 108,
   "id": "33d4df70",
   "metadata": {},
   "outputs": [],
   "source": [
    "let personA = function(name, age){\n",
    "    personA.age = age;\n",
    "    personA.realName = name;\n",
    "    \n",
    "    personA.jump = function(){console.log(personA.realName + ' just jumped')};\n",
    "    personA.squat = function(){console.log(personA.realName + ' just squatted')};\n",
    "    return personA\n",
    "}"
   ]
  },
  {
   "cell_type": "code",
   "execution_count": 109,
   "id": "0cead021",
   "metadata": {},
   "outputs": [
    {
     "name": "stdout",
     "output_type": "stream",
     "text": [
      "[Function: personA] {\n",
      "  age: 22,\n",
      "  realName: 'John',\n",
      "  jump: [Function (anonymous)],\n",
      "  squat: [Function (anonymous)]\n",
      "}\n",
      "John just jumped\n",
      "John just squatted\n"
     ]
    }
   ],
   "source": [
    "let myPerson1 = personA('John', 22);\n",
    "\n",
    "console.log(myPerson1);\n",
    "myPerson1.jump();\n",
    "myPerson1.squat();"
   ]
  },
  {
   "cell_type": "code",
   "execution_count": 110,
   "id": "a04241d6",
   "metadata": {},
   "outputs": [
    {
     "name": "stdout",
     "output_type": "stream",
     "text": [
      "[Function: personA] {\n",
      "  age: 33,\n",
      "  realName: 'Ellen',\n",
      "  jump: [Function (anonymous)],\n",
      "  squat: [Function (anonymous)]\n",
      "}\n",
      "Ellen just jumped\n",
      "Ellen just squatted\n"
     ]
    }
   ],
   "source": [
    "let myPerson2 = personA('Ellen', 33);\n",
    "\n",
    "console.log(myPerson2);\n",
    "myPerson2.jump();\n",
    "myPerson2.squat();"
   ]
  },
  {
   "cell_type": "markdown",
   "id": "108c069f",
   "metadata": {},
   "source": [
    "#### with the new keyword"
   ]
  },
  {
   "cell_type": "code",
   "execution_count": 111,
   "id": "53933409",
   "metadata": {},
   "outputs": [],
   "source": [
    "let personB = function(name, age){\n",
    "    this.age = age;\n",
    "    this.realName = name;\n",
    "    \n",
    "    this.jump = function(){console.log(this.realName + ' just jumped')};\n",
    "    this.squat = function(){console.log(this.realName + ' just squatted')};\n",
    "}"
   ]
  },
  {
   "cell_type": "code",
   "execution_count": 112,
   "id": "748884b4",
   "metadata": {},
   "outputs": [
    {
     "name": "stdout",
     "output_type": "stream",
     "text": [
      "personB {\n",
      "  age: 45,\n",
      "  realName: 'Thomas',\n",
      "  jump: [Function (anonymous)],\n",
      "  squat: [Function (anonymous)]\n",
      "}\n",
      "Thomas just jumped\n",
      "Thomas just squatted\n"
     ]
    }
   ],
   "source": [
    "let myPerson3 = new personB('Thomas', 45);\n",
    "\n",
    "console.log(myPerson3);\n",
    "\n",
    "myPerson3.jump();\n",
    "myPerson3.squat();"
   ]
  },
  {
   "cell_type": "code",
   "execution_count": 113,
   "id": "3fc4cb2b",
   "metadata": {},
   "outputs": [
    {
     "name": "stdout",
     "output_type": "stream",
     "text": [
      "undefined\n"
     ]
    },
    {
     "ename": "TypeError",
     "evalue": "Cannot read properties of undefined (reading 'jump')",
     "output_type": "error",
     "traceback": [
      "evalmachine.<anonymous>:5",
      "myPerson4.jump();",
      "          ^",
      "",
      "TypeError: Cannot read properties of undefined (reading 'jump')",
      "    at evalmachine.<anonymous>:5:11",
      "    at Script.runInThisContext (node:vm:129:12)",
      "    at Object.runInThisContext (node:vm:307:38)",
      "    at run ([eval]:1020:15)",
      "    at onRunRequest ([eval]:864:18)",
      "    at onMessage ([eval]:828:13)",
      "    at process.emit (node:events:513:28)",
      "    at emit (node:internal/child_process:937:14)",
      "    at process.processTicksAndRejections (node:internal/process/task_queues:83:21)"
     ]
    }
   ],
   "source": [
    "let myPerson4 = personB('Trevon', 33);\n",
    "\n",
    "console.log(myPerson4);\n",
    "\n",
    "myPerson4.jump();\n",
    "myPerson4.squat();"
   ]
  },
  {
   "cell_type": "code",
   "execution_count": 114,
   "id": "6cafae2d",
   "metadata": {
    "scrolled": false
   },
   "outputs": [],
   "source": [
    "function doSomethingCool(city){\n",
    "    console.log(this)\n",
    "    this.city = city\n",
    "}"
   ]
  },
  {
   "cell_type": "code",
   "execution_count": 115,
   "id": "8e2e1f03",
   "metadata": {},
   "outputs": [
    {
     "name": "stdout",
     "output_type": "stream",
     "text": [
      "doSomethingCool {}\n"
     ]
    }
   ],
   "source": [
    "let myCool1 = new doSomethingCool('Denver')"
   ]
  },
  {
   "cell_type": "code",
   "execution_count": 116,
   "id": "b970fa7e",
   "metadata": {
    "scrolled": true
   },
   "outputs": [
    {
     "name": "stdout",
     "output_type": "stream",
     "text": [
      "<ref *1> Object [global] {\n",
      "  global: [Circular *1],\n",
      "  queueMicrotask: [Function: queueMicrotask],\n",
      "  clearImmediate: [Function: clearImmediate],\n",
      "  setImmediate: [Function: setImmediate] {\n",
      "    [Symbol(nodejs.util.promisify.custom)]: [Getter]\n",
      "  },\n",
      "  structuredClone: [Function: structuredClone],\n",
      "  clearInterval: [Function: clearInterval],\n",
      "  clearTimeout: [Function: clearTimeout],\n",
      "  setInterval: [Function: setInterval],\n",
      "  setTimeout: [Function: setTimeout] {\n",
      "    [Symbol(nodejs.util.promisify.custom)]: [Getter]\n",
      "  },\n",
      "  atob: [Function: atob],\n",
      "  btoa: [Function: btoa],\n",
      "  performance: Performance {\n",
      "    nodeTiming: PerformanceNodeTiming {\n",
      "      name: 'node',\n",
      "      entryType: 'node',\n",
      "      startTime: 0,\n",
      "      duration: 60480.027399897575,\n",
      "      nodeStart: 3.9649999141693115,\n",
      "      v8Start: 8.640699982643127,\n",
      "      bootstrapComplete: 61.563899993896484,\n",
      "      environment: 22.568300008773804,\n",
      "      loopStart: 70.44099998474121,\n",
      "      loopExit: -1,\n",
      "      idleTime: 60268.1179\n",
      "    },\n",
      "    timeOrigin: 1698761856045.152\n",
      "  },\n",
      "  fetch: [AsyncFunction: fetch],\n",
      "  __filename: '[eval]',\n",
      "  module: <ref *2> [Function: Module] {\n",
      "    builtinModules: [\n",
      "      '_http_agent',         '_http_client',        '_http_common',\n",
      "      '_http_incoming',      '_http_outgoing',      '_http_server',\n",
      "      '_stream_duplex',      '_stream_passthrough', '_stream_readable',\n",
      "      '_stream_transform',   '_stream_wrap',        '_stream_writable',\n",
      "      '_tls_common',         '_tls_wrap',           'assert',\n",
      "      'assert/strict',       'async_hooks',         'buffer',\n",
      "      'child_process',       'cluster',             'console',\n",
      "      'constants',           'crypto',              'dgram',\n",
      "      'diagnostics_channel', 'dns',                 'dns/promises',\n",
      "      'domain',              'events',              'fs',\n",
      "      'fs/promises',         'http',                'http2',\n",
      "      'https',               'inspector',           'module',\n",
      "      'net',                 'os',                  'path',\n",
      "      'path/posix',          'path/win32',          'perf_hooks',\n",
      "      'process',             'punycode',            'querystring',\n",
      "      'readline',            'readline/promises',   'repl',\n",
      "      'stream',              'stream/consumers',    'stream/promises',\n",
      "      'stream/web',          'string_decoder',      'sys',\n",
      "      'timers',              'timers/promises',     'tls',\n",
      "      'trace_events',        'tty',                 'url',\n",
      "      'util',                'util/types',          'v8',\n",
      "      'vm',                  'worker_threads',      'zlib'\n",
      "    ],\n",
      "    _cache: [Object: null prototype] {},\n",
      "    _pathCache: [Object: null prototype] {},\n",
      "    _extensions: [Object: null prototype] {\n",
      "      '.js': [Function (anonymous)],\n",
      "      '.json': [Function (anonymous)],\n",
      "      '.node': [Function (anonymous)]\n",
      "    },\n",
      "    globalPaths: [\n",
      "      'C:\\\\Users\\\\bstan\\\\.node_modules',\n",
      "      'C:\\\\Users\\\\bstan\\\\.node_libraries',\n",
      "      'C:\\\\Users\\\\bstan\\\\anaconda3\\\\lib\\\\node'\n",
      "    ],\n",
      "    _debug: [Function: deprecated],\n",
      "    _findPath: [Function (anonymous)],\n",
      "    _nodeModulePaths: [Function (anonymous)],\n",
      "    _resolveLookupPaths: [Function (anonymous)],\n",
      "    _load: [Function (anonymous)],\n",
      "    _resolveFilename: [Function (anonymous)],\n",
      "    createRequire: [Function: createRequire],\n",
      "    _initPaths: [Function (anonymous)],\n",
      "    _preloadModules: [Function (anonymous)],\n",
      "    syncBuiltinESMExports: [Function: syncBuiltinESMExports],\n",
      "    isBuiltin: [Function: isBuiltin],\n",
      "    Module: [Circular *2],\n",
      "    runMain: [Function: executeUserEntryPoint],\n",
      "    findSourceMap: [Function: findSourceMap],\n",
      "    SourceMap: [class SourceMap]\n",
      "  },\n",
      "  exports: {},\n",
      "  __dirname: '.',\n",
      "  require: [Function: require] {\n",
      "    resolve: [Function: resolve] { paths: [Function: paths] },\n",
      "    main: undefined,\n",
      "    extensions: [Object: null prototype] {\n",
      "      '.js': [Function (anonymous)],\n",
      "      '.json': [Function (anonymous)],\n",
      "      '.node': [Function (anonymous)]\n",
      "    },\n",
      "    cache: [Object: null prototype] {}\n",
      "  },\n",
      "  '$$mimer$$': [Function: defaultMimer],\n",
      "  '$$done$$': [Function: bound bound done],\n",
      "  jan1701am: 1970-01-01T01:00:00.000Z,\n",
      "  dayOfWeek: 'Tue',\n",
      "  myListFunc: [Function: myListFunc],\n",
      "  saySomething: [Function: saySomething],\n",
      "  testRest: [Function: testRest],\n",
      "  restTestObj: { id: 1, title: 'test', body: 'My Test', author: 'Stephen King' },\n",
      "  destructMe: {\n",
      "    title: 'Intro to JavaScript',\n",
      "    body: 'I really wish JavaScript had static type checking',\n",
      "    createdOn: 2023-10-31T14:18:14.083Z,\n",
      "    author: 'Kevin Beier',\n",
      "    topic: 'Programming',\n",
      "    tags: [ 'JS', 'Async', 'Dynamic Types' ]\n",
      "  },\n",
      "  movies: [\n",
      "    {\n",
      "      id: 1,\n",
      "      title: 'Oppenheimer',\n",
      "      releaseYear: 2023,\n",
      "      studio: [Object]\n",
      "    },\n",
      "    {\n",
      "      id: 2,\n",
      "      title: 'The Dark Knight',\n",
      "      releaseYear: 2009,\n",
      "      studio: [Object]\n",
      "    },\n",
      "    { id: 3, title: 'Gladiator', releaseYear: 2001 }\n",
      "  ],\n",
      "  herbie: {\n",
      "    wheels: '4',\n",
      "    color: 'white',\n",
      "    make: 'VW',\n",
      "    model: 'Beetle',\n",
      "    year: 1963,\n",
      "    number: 53\n",
      "  },\n",
      "  cities: [ 'New York', 'Los Angeles', 'Chicago', 'Houston', 'Phoenix' ],\n",
      "  kit: {\n",
      "    wheels: '4',\n",
      "    color: 'black',\n",
      "    make: 'Pontiac',\n",
      "    model: 'Thunderbird',\n",
      "    year: 1981,\n",
      "    number: null\n",
      "  },\n",
      "  createObj: [Function: createObj],\n",
      "  createObjArrow2: [Function: createObjArrow2],\n",
      "  thisObject: {\n",
      "    firstName: 'Chris',\n",
      "    lastName: 'Rock',\n",
      "    fullNameRegular: [Function: fullNameRegular],\n",
      "    fullNameArrow: [Function: fullNameArrow]\n",
      "  },\n",
      "  age: 33,\n",
      "  realName: 'Trevon',\n",
      "  jump: [Function (anonymous)],\n",
      "  squat: [Function (anonymous)],\n",
      "  doSomethingCool: [Function: doSomethingCool],\n",
      "  console: Console [console] {\n",
      "    log: [Function: log],\n",
      "    warn: [Function: warn],\n",
      "    dir: [Function: dir],\n",
      "    time: [Function: time],\n",
      "    timeEnd: [Function: timeEnd],\n",
      "    timeLog: [Function: timeLog],\n",
      "    trace: [Function: trace],\n",
      "    assert: [Function: assert],\n",
      "    clear: [Function: clear],\n",
      "    count: [Function: count],\n",
      "    countReset: [Function: countReset],\n",
      "    group: [Function: group],\n",
      "    groupEnd: [Function: groupEnd],\n",
      "    table: [Function: table],\n",
      "    debug: [Function: debug],\n",
      "    info: [Function: info],\n",
      "    dirxml: [Function: dirxml],\n",
      "    error: [Function: error],\n",
      "    groupCollapsed: [Function: groupCollapsed],\n",
      "    Console: [Function: Console]\n",
      "  },\n",
      "  '$$': [Object: null prototype] {\n",
      "    async: [Function: bound async],\n",
      "    done: [Function: bound done],\n",
      "    sendResult: [Function: bound ],\n",
      "    sendError: [Function: bound ],\n",
      "    mime: [Function: bound ],\n",
      "    text: [Function: bound ],\n",
      "    html: [Function: bound ],\n",
      "    svg: [Function: bound ],\n",
      "    png: [Function: bound ],\n",
      "    jpeg: [Function: bound ],\n",
      "    json: [Function: bound ],\n",
      "    input: [Function: bound input],\n",
      "    display: [Function: bound createDisplay],\n",
      "    clear: [Function: bound clear]\n",
      "  }\n",
      "}\n"
     ]
    }
   ],
   "source": [
    "let myCool2 = doSomethingCool('Portland');"
   ]
  },
  {
   "cell_type": "markdown",
   "id": "d2a13525",
   "metadata": {},
   "source": [
    "#### Why did I give the name property realName not name?"
   ]
  },
  {
   "cell_type": "markdown",
   "id": "6204c37c",
   "metadata": {},
   "source": [
    "When working with a function the name property is already assigned to the name of the function"
   ]
  },
  {
   "cell_type": "code",
   "execution_count": 117,
   "id": "ecf3fa87",
   "metadata": {},
   "outputs": [
    {
     "name": "stdout",
     "output_type": "stream",
     "text": [
      "testFunctionName\n"
     ]
    }
   ],
   "source": [
    "function testFunctionName(){return}\n",
    "\n",
    "console.log(testFunctionName.name)"
   ]
  },
  {
   "cell_type": "code",
   "execution_count": 118,
   "id": "d26f0106",
   "metadata": {},
   "outputs": [],
   "source": [
    "let personD = function(name, age){\n",
    "    personD.name = name\n",
    "    personD.age = age\n",
    "    \n",
    "    this.getName = function(){return personD.name}\n",
    "}"
   ]
  },
  {
   "cell_type": "code",
   "execution_count": 119,
   "id": "719f1908",
   "metadata": {},
   "outputs": [],
   "source": [
    "let person6 = new personD('Danielle', 55);"
   ]
  },
  {
   "cell_type": "code",
   "execution_count": 120,
   "id": "945b8674",
   "metadata": {},
   "outputs": [
    {
     "data": {
      "text/plain": [
       "'personD'"
      ]
     },
     "execution_count": 120,
     "metadata": {},
     "output_type": "execute_result"
    }
   ],
   "source": [
    "person6.getName();"
   ]
  },
  {
   "cell_type": "markdown",
   "id": "541ef00a",
   "metadata": {},
   "source": [
    "The above method works fine, but it has an issue. Every time I make a new person, I have to save all the person's methods to memory. We can define a prototype for all objects to share to prevent wasting memory space. These are stored in memory once, and use the this keyword to find the correct references. This saves tons of memory space, and prototypes should be used with ES5 objects when declaring many instances of the same object."
   ]
  },
  {
   "cell_type": "code",
   "execution_count": 121,
   "id": "b64eaab3",
   "metadata": {},
   "outputs": [],
   "source": [
    "let coolPerson1 = new personB('Mike', 34);\n",
    "let coolPerson2 = new personB('Fred', 52);"
   ]
  },
  {
   "cell_type": "code",
   "execution_count": 122,
   "id": "7caf484a",
   "metadata": {},
   "outputs": [
    {
     "name": "stdout",
     "output_type": "stream",
     "text": [
      "false\n"
     ]
    }
   ],
   "source": [
    "console.log(coolPerson1.jump === coolPerson2.jump)"
   ]
  },
  {
   "cell_type": "code",
   "execution_count": 123,
   "id": "d2cc6153",
   "metadata": {},
   "outputs": [
    {
     "name": "stdout",
     "output_type": "stream",
     "text": [
      "{}\n",
      "object\n"
     ]
    }
   ],
   "source": [
    "function doNothing(){}\n",
    "\n",
    "console.log(doNothing.prototype);\n",
    "console.log(typeof doNothing.prototype)"
   ]
  },
  {
   "cell_type": "code",
   "execution_count": 124,
   "id": "da64146f",
   "metadata": {},
   "outputs": [
    {
     "name": "stdout",
     "output_type": "stream",
     "text": [
      "{ first: 'Ellen', last: 'Murphy', heritage: 'Irish' }\n"
     ]
    }
   ],
   "source": [
    "let parent = {\n",
    "    first: 'Ellen',\n",
    "    last: 'Murphy',\n",
    "    heritage: 'Irish'\n",
    "}\n",
    "\n",
    "console.log(parent);"
   ]
  },
  {
   "cell_type": "code",
   "execution_count": 125,
   "id": "8efbbdb1",
   "metadata": {},
   "outputs": [
    {
     "name": "stdout",
     "output_type": "stream",
     "text": [
      "{ first: 'Seamus' }\n"
     ]
    }
   ],
   "source": [
    "let child1 = Object.create(parent);\n",
    "child1.first = 'Seamus';\n",
    "\n",
    "console.log(child1);"
   ]
  },
  {
   "cell_type": "code",
   "execution_count": 126,
   "id": "ed82e1cd",
   "metadata": {},
   "outputs": [
    {
     "name": "stdout",
     "output_type": "stream",
     "text": [
      "Murphy\n",
      "Irish\n"
     ]
    }
   ],
   "source": [
    "console.log(child1.last);\n",
    "console.log(child1.heritage)"
   ]
  },
  {
   "cell_type": "code",
   "execution_count": 127,
   "id": "69254da1",
   "metadata": {},
   "outputs": [
    {
     "data": {
      "text/plain": [
       "[Function (anonymous)]"
      ]
     },
     "execution_count": 127,
     "metadata": {},
     "output_type": "execute_result"
    }
   ],
   "source": [
    "personB.prototype.run = function(){\n",
    "    return this.realName + ' just ran'\n",
    "}"
   ]
  },
  {
   "cell_type": "code",
   "execution_count": 128,
   "id": "e2b941d8",
   "metadata": {},
   "outputs": [
    {
     "data": {
      "text/plain": [
       "'Mike just ran'"
      ]
     },
     "execution_count": 128,
     "metadata": {},
     "output_type": "execute_result"
    }
   ],
   "source": [
    "coolPerson1.run();"
   ]
  },
  {
   "cell_type": "markdown",
   "id": "8ba41b0a",
   "metadata": {},
   "source": [
    "#### Possible but bad practice"
   ]
  },
  {
   "cell_type": "markdown",
   "id": "45212317",
   "metadata": {},
   "source": [
    "You can modify existing built in prototypes at anytime, but this is bad practice because it leads to confusion, and unforeseen side effects"
   ]
  },
  {
   "cell_type": "code",
   "execution_count": 129,
   "id": "701531c9",
   "metadata": {},
   "outputs": [
    {
     "data": {
      "text/plain": [
       "[Function (anonymous)]"
      ]
     },
     "execution_count": 129,
     "metadata": {},
     "output_type": "execute_result"
    }
   ],
   "source": [
    "String.prototype.toTitleCase=function() {\n",
    "  str = this.toLowerCase().split(' ');\n",
    "  for (var i = 0; i < str.length; i++) {\n",
    "    str[i] = str[i].charAt(0).toUpperCase() + str[i].slice(1); \n",
    "  }\n",
    "  return str.join(' ');\n",
    "}"
   ]
  },
  {
   "cell_type": "code",
   "execution_count": 130,
   "id": "e8469a45",
   "metadata": {
    "scrolled": true
   },
   "outputs": [
    {
     "data": {
      "text/plain": [
       "'Hello You Kind Human'"
      ]
     },
     "execution_count": 130,
     "metadata": {},
     "output_type": "execute_result"
    }
   ],
   "source": [
    "\"hello you kind human\".toTitleCase()"
   ]
  },
  {
   "cell_type": "code",
   "execution_count": 131,
   "id": "cc7eec53",
   "metadata": {},
   "outputs": [
    {
     "data": {
      "text/plain": [
       "'My Name Is Brian Stanton'"
      ]
     },
     "execution_count": 131,
     "metadata": {},
     "output_type": "execute_result"
    }
   ],
   "source": [
    "'my name is brian stanton'.toTitleCase();"
   ]
  },
  {
   "cell_type": "markdown",
   "id": "3f4bc649",
   "metadata": {},
   "source": [
    "<a id=\"class\"></a>\n",
    "\n",
    "## ES 6 Classes/OOP"
   ]
  },
  {
   "cell_type": "markdown",
   "id": "13dda6c6",
   "metadata": {},
   "source": [
    "In ES6, JavaScript finally added classes, allowing traditional Object Oreinted Design.\n",
    "\n",
    "\n",
    "In python we define a constructor like:\n",
    "```\n",
    "    def __init__(self, params):\n",
    "        self.param=param\n",
    "```\n",
    "In JS it would look like:\n",
    "```\n",
    "    constructor(params){\n",
    "        this.params=params\n",
    "    }\n",
    "```\n",
    "\n",
    "Like python, Class names are written in PascalCase.\n",
    "\n",
    "The keyword `new` is required when initializing an instance as it is what runs the constructor function.\n",
    "\n",
    "<strong>Note:</strong> Methods need no function keyword."
   ]
  },
  {
   "cell_type": "code",
   "execution_count": 132,
   "id": "ef9b476f",
   "metadata": {},
   "outputs": [
    {
     "ename": "SyntaxError",
     "evalue": "Identifier 'personB' has already been declared",
     "output_type": "error",
     "traceback": [
      "evalmachine.<anonymous>:1",
      "let personB = function(name, age){",
      "^",
      "",
      "SyntaxError: Identifier 'personB' has already been declared",
      "    at Script.runInThisContext (node:vm:129:12)",
      "    at Object.runInThisContext (node:vm:307:38)",
      "    at run ([eval]:1020:15)",
      "    at onRunRequest ([eval]:864:18)",
      "    at onMessage ([eval]:828:13)",
      "    at process.emit (node:events:513:28)",
      "    at emit (node:internal/child_process:937:14)",
      "    at process.processTicksAndRejections (node:internal/process/task_queues:83:21)"
     ]
    }
   ],
   "source": [
    "let personB = function(name, age){\n",
    "    this.age = age;\n",
    "    this.realName = name;\n",
    "    \n",
    "    this.jump = function(){console.log(this.realName + ' just jumped')};\n",
    "    this.squat = function(){console.log(this.realName + ' just squatted')};\n",
    "}"
   ]
  },
  {
   "cell_type": "code",
   "execution_count": 133,
   "id": "a2992b43",
   "metadata": {},
   "outputs": [],
   "source": [
    "class Human{\n",
    "    constructor(name, age){\n",
    "        this.name = name;\n",
    "        this.age = age;\n",
    "    }\n",
    "    \n",
    "    jump(){\n",
    "        console.log(this.name + ' just jumped')\n",
    "    }\n",
    "    \n",
    "    squat(){\n",
    "        console.log(this.name + ' just squatted')\n",
    "    }\n",
    "}"
   ]
  },
  {
   "cell_type": "code",
   "execution_count": 134,
   "id": "661954e3",
   "metadata": {},
   "outputs": [],
   "source": [
    "let f = new Human('Fred', 34);"
   ]
  },
  {
   "cell_type": "code",
   "execution_count": 135,
   "id": "7385dfe7",
   "metadata": {},
   "outputs": [
    {
     "name": "stdout",
     "output_type": "stream",
     "text": [
      "┌─────────┬────────┐\n",
      "│ (index) │ Values │\n",
      "├─────────┼────────┤\n",
      "│  name   │ 'Fred' │\n",
      "│   age   │   34   │\n",
      "└─────────┴────────┘\n"
     ]
    }
   ],
   "source": [
    "console.table(f)"
   ]
  },
  {
   "cell_type": "code",
   "execution_count": 136,
   "id": "cf7bca6c",
   "metadata": {},
   "outputs": [
    {
     "name": "stdout",
     "output_type": "stream",
     "text": [
      "Fred just jumped\n"
     ]
    }
   ],
   "source": [
    "f.jump()"
   ]
  },
  {
   "cell_type": "code",
   "execution_count": 137,
   "id": "16f4e67e",
   "metadata": {},
   "outputs": [
    {
     "name": "stdout",
     "output_type": "stream",
     "text": [
      "Fred just squatted\n"
     ]
    }
   ],
   "source": [
    "f.squat()"
   ]
  },
  {
   "cell_type": "code",
   "execution_count": 138,
   "id": "b317d058",
   "metadata": {},
   "outputs": [
    {
     "name": "stdout",
     "output_type": "stream",
     "text": [
      "┌─────────┬─────────┐\n",
      "│ (index) │ Values  │\n",
      "├─────────┼─────────┤\n",
      "│  name   │ 'Wilma' │\n",
      "│   age   │   31    │\n",
      "└─────────┴─────────┘\n",
      "Wilma just jumped\n",
      "Wilma just squatted\n"
     ]
    }
   ],
   "source": [
    "let wilma = new Human('Wilma', 31);\n",
    "console.table(wilma);\n",
    "wilma.jump();\n",
    "wilma.squat();"
   ]
  },
  {
   "cell_type": "markdown",
   "id": "45f6cc44",
   "metadata": {},
   "source": [
    "<a id=\"inherit\"></a>\n",
    "\n",
    "### Inheritance "
   ]
  },
  {
   "cell_type": "markdown",
   "id": "0a087057",
   "metadata": {},
   "source": [
    "In python, to inherit (or extend) a class, we did something like `class Baby(Human)`. In JS, we use the keyword `extends` ie `class Baby extends Human`.\n",
    "\n",
    "A Parent Class is often also called a super class.\n",
    "\n",
    "In a child class the keyword super represents the parent class.  \n",
    "\n",
    "Often it is use to invoke the parent constructor.\n",
    "just like in python when we did:\n",
    "\n",
    "```\n",
    "super().__init__(params)\n",
    "```\n",
    "\n",
    "in JS this becomes\n",
    "\n",
    "```\n",
    "super(params)\n",
    "```\n",
    "\n",
    "<strong>Note:</strong> Giving the returnInfo to the baby class creates a method override, so now all the members of class Baby will now returnInfo in a new way, while members of the Human class will retain their original returnInfo method."
   ]
  },
  {
   "cell_type": "code",
   "execution_count": 139,
   "id": "a5252a61",
   "metadata": {},
   "outputs": [],
   "source": [
    "class Baby extends Human{\n",
    "    constructor(name, age, isWalking){\n",
    "        super(name, age);\n",
    "        this.isWalking = isWalking\n",
    "    }\n",
    "    \n",
    "    walk(){\n",
    "        if (this.isWalking){\n",
    "            console.log('We got a walkin baby -- ' + this.name)\n",
    "        } else {\n",
    "            console.log(this.name + ' is still crawling')\n",
    "        }\n",
    "    }\n",
    "}"
   ]
  },
  {
   "cell_type": "code",
   "execution_count": 140,
   "id": "e32e69e2",
   "metadata": {},
   "outputs": [],
   "source": [
    "let bambam = new Baby('Bam Bam', 3, false);"
   ]
  },
  {
   "cell_type": "code",
   "execution_count": 141,
   "id": "1583599c",
   "metadata": {},
   "outputs": [
    {
     "name": "stdout",
     "output_type": "stream",
     "text": [
      "┌───────────┬───────────┐\n",
      "│  (index)  │  Values   │\n",
      "├───────────┼───────────┤\n",
      "│   name    │ 'Bam Bam' │\n",
      "│    age    │     3     │\n",
      "│ isWalking │   false   │\n",
      "└───────────┴───────────┘\n"
     ]
    }
   ],
   "source": [
    "console.table(bambam);"
   ]
  },
  {
   "cell_type": "code",
   "execution_count": 142,
   "id": "3fc985f8",
   "metadata": {},
   "outputs": [
    {
     "name": "stdout",
     "output_type": "stream",
     "text": [
      "Bam Bam just jumped\n",
      "Bam Bam just squatted\n"
     ]
    }
   ],
   "source": [
    "bambam.jump();\n",
    "bambam.squat();"
   ]
  },
  {
   "cell_type": "code",
   "execution_count": 143,
   "id": "b9908bb5",
   "metadata": {},
   "outputs": [
    {
     "name": "stdout",
     "output_type": "stream",
     "text": [
      "Bam Bam is still crawling\n"
     ]
    }
   ],
   "source": [
    "bambam.walk();"
   ]
  },
  {
   "cell_type": "code",
   "execution_count": 144,
   "id": "7eee80ff",
   "metadata": {},
   "outputs": [
    {
     "name": "stdout",
     "output_type": "stream",
     "text": [
      "undefined\n"
     ]
    }
   ],
   "source": [
    "// Inheritance flows down. Human instances will not have the .walk method\n",
    "console.log(wilma.walk);"
   ]
  },
  {
   "cell_type": "code",
   "execution_count": 145,
   "id": "746cbcea",
   "metadata": {},
   "outputs": [
    {
     "name": "stdout",
     "output_type": "stream",
     "text": [
      "Test from B\n"
     ]
    }
   ],
   "source": [
    "class A{\n",
    "    test(){\n",
    "        console.log('Test from A')\n",
    "    }\n",
    "}\n",
    "\n",
    "class B{\n",
    "    test(){\n",
    "        console.log('Test from B')\n",
    "    }\n",
    "}\n",
    "\n",
    "\n",
    "\n",
    "let myB = new B();\n",
    "\n",
    "\n",
    "myB.test();"
   ]
  },
  {
   "cell_type": "markdown",
   "id": "9e41fcd2",
   "metadata": {},
   "source": [
    "<a id=\"super\"></a>\n",
    "\n",
    "### super keyword"
   ]
  },
  {
   "cell_type": "markdown",
   "id": "e06f22ae",
   "metadata": {},
   "source": [
    "Another use of the super keyword is to call methods from the parent class"
   ]
  },
  {
   "cell_type": "code",
   "execution_count": 146,
   "id": "35c1fd44",
   "metadata": {},
   "outputs": [],
   "source": [
    "class ParentClass{\n",
    "    singLine(){\n",
    "        console.log(\"No I can't sleep until I feel your touch\")\n",
    "    }\n",
    "}\n",
    "\n",
    "\n",
    "\n",
    "class ChildClass extends ParentClass{\n",
    "    singLine(){\n",
    "        console.log(\"I said ooh I'm blinded by the lights\")\n",
    "        super.singLine();\n",
    "        console.log(\"I said ooh I'm drowning in the night\")\n",
    "    }\n",
    "}\n"
   ]
  },
  {
   "cell_type": "code",
   "execution_count": 147,
   "id": "4b08ae12",
   "metadata": {},
   "outputs": [],
   "source": [
    "let mySingingChild = new ChildClass();"
   ]
  },
  {
   "cell_type": "code",
   "execution_count": 148,
   "id": "45c1b90d",
   "metadata": {},
   "outputs": [
    {
     "name": "stdout",
     "output_type": "stream",
     "text": [
      "I said ooh I'm blinded by the lights\n",
      "No I can't sleep until I feel your touch\n",
      "I said ooh I'm drowning in the night\n"
     ]
    }
   ],
   "source": [
    "mySingingChild.singLine()"
   ]
  },
  {
   "cell_type": "markdown",
   "id": "d5f30221",
   "metadata": {},
   "source": [
    "<b> In the Typescript Section of this course we will go into more detail on OOP design principals</b>"
   ]
  },
  {
   "cell_type": "markdown",
   "id": "2fbfb90f",
   "metadata": {},
   "source": [
    "<a id=\"ice5\"></a>\n",
    "\n",
    "### In Class Assignment #5"
   ]
  },
  {
   "cell_type": "markdown",
   "id": "9203e781",
   "metadata": {},
   "source": [
    "Create a Class to represent all Animals.  These animals have a name and age attributes, and they have functions that will talk and walk.\n",
    "\n",
    "Create a class that inherehits from the Animal Class called Cat and one called Dog and override the methods for talk to an appropriate method for a Cat or Dog talking and retains the method for walk."
   ]
  },
  {
   "cell_type": "code",
   "execution_count": null,
   "id": "84b74db7",
   "metadata": {},
   "outputs": [],
   "source": [
    "\n"
   ]
  },
  {
   "cell_type": "code",
   "execution_count": null,
   "id": "2d79f16e",
   "metadata": {},
   "outputs": [],
   "source": []
  },
  {
   "cell_type": "code",
   "execution_count": null,
   "id": "eccaee66",
   "metadata": {},
   "outputs": [],
   "source": []
  },
  {
   "cell_type": "code",
   "execution_count": null,
   "id": "8bc77e5e",
   "metadata": {},
   "outputs": [],
   "source": []
  },
  {
   "cell_type": "markdown",
   "id": "6b7e2da8",
   "metadata": {},
   "source": [
    "<a id=\"closure\"></a>\n",
    "\n",
    "## Closures"
   ]
  },
  {
   "cell_type": "markdown",
   "id": "b2347bd9",
   "metadata": {},
   "source": [
    "JavaScript and Python both have closures.  In JS they are used more often to create private variables.  But have many uses and we will talk about stateful functions and private variables\n",
    "\n",
    "A closure in JavaScript is a function that has access to variables in its outer scope, even after the outer function has returned. The closure \"closes over\" the variables in its outer scope, keeping them accessible even after the outer function has completed. This allows for data persistence and stateful function behavior. Closures are created when a function is declared inside another function and the inner function references variables from the outer function."
   ]
  },
  {
   "cell_type": "code",
   "execution_count": 149,
   "id": "a52cb826",
   "metadata": {},
   "outputs": [],
   "source": [
    "function outer(){\n",
    "    // define a variable in the outer scope\n",
    "    let outerMessage = 'This is the outer message';\n",
    "    \n",
    "    // Define a function scoped to the outer scope\n",
    "    function inner(){\n",
    "        // define a variable in the inner scope\n",
    "        let innerMessage = ' and this is the inner message';\n",
    "        console.log(outerMessage + innerMessage);\n",
    "    }\n",
    "    \n",
    "    // Execute the inner function\n",
    "    inner();\n",
    "}"
   ]
  },
  {
   "cell_type": "code",
   "execution_count": 150,
   "id": "28a00426",
   "metadata": {},
   "outputs": [
    {
     "name": "stdout",
     "output_type": "stream",
     "text": [
      "This is the outer message and this is the inner message\n"
     ]
    }
   ],
   "source": [
    "outer();"
   ]
  },
  {
   "cell_type": "code",
   "execution_count": 151,
   "id": "04cdb7b4",
   "metadata": {},
   "outputs": [],
   "source": [
    "function outer(){\n",
    "    // define a variable in the outer scope\n",
    "    let outerMessage = 'This is the outer message';\n",
    "    \n",
    "    // Define a function scoped to the outer scope\n",
    "    function inner(){\n",
    "        // define a variable in the inner scope\n",
    "        let innerMessage = ' and this is the inner message';\n",
    "        console.log(outerMessage + innerMessage);\n",
    "    }\n",
    "    \n",
    "    // Return the inner function\n",
    "    return inner;\n",
    "}"
   ]
  },
  {
   "cell_type": "code",
   "execution_count": 152,
   "id": "ba53849a",
   "metadata": {},
   "outputs": [
    {
     "name": "stdout",
     "output_type": "stream",
     "text": [
      "[Function: outer]\n"
     ]
    }
   ],
   "source": [
    "console.log(outer)"
   ]
  },
  {
   "cell_type": "code",
   "execution_count": 153,
   "id": "494ca7b3",
   "metadata": {},
   "outputs": [
    {
     "name": "stdout",
     "output_type": "stream",
     "text": [
      "[Function: inner]\n"
     ]
    }
   ],
   "source": [
    "let outerReturn = outer();\n",
    "console.log(outerReturn);"
   ]
  },
  {
   "cell_type": "code",
   "execution_count": 154,
   "id": "5886c2b2",
   "metadata": {},
   "outputs": [
    {
     "name": "stdout",
     "output_type": "stream",
     "text": [
      "This is the outer message and this is the inner message\n"
     ]
    }
   ],
   "source": [
    "outerReturn();"
   ]
  },
  {
   "cell_type": "code",
   "execution_count": 155,
   "id": "0b7f5676",
   "metadata": {},
   "outputs": [
    {
     "name": "stdout",
     "output_type": "stream",
     "text": [
      "function\n"
     ]
    }
   ],
   "source": [
    "console.log(typeof outerReturn)"
   ]
  },
  {
   "cell_type": "markdown",
   "id": "fca88c6d",
   "metadata": {},
   "source": [
    "### Stateful Functions"
   ]
  },
  {
   "cell_type": "markdown",
   "id": "275ba1af",
   "metadata": {},
   "source": [
    "What we can see in this example is the inner function is incremeting the value of x that waas defined in the outer function.  The outher function is returning the unexecuted version of the inner function.\n",
    "\n",
    "when we try\n",
    "\n",
    "```\n",
    "adder=outer()\n",
    "```\n",
    "\n",
    "We are setting the variable adder to the unexecuted function inner. so adder is the inner funtion from our enclosure.\n",
    "\n",
    "then to execute that inner funcer and actually start incrementing our x value we can execute adder().\n",
    "\n",
    "<strong>Note</strong> that the value of x is maintained over multiple calls to the inner function, this is the benefit of the enclosure.\n",
    "\n"
   ]
  },
  {
   "cell_type": "code",
   "execution_count": 156,
   "id": "04de37a0",
   "metadata": {
    "scrolled": true
   },
   "outputs": [],
   "source": [
    "//simple example\n",
    "\n",
    "function createStepper(){\n",
    "    let hiddenVar = 1;\n",
    "    function insideFunc(){\n",
    "        console.log(hiddenVar++);\n",
    "    }\n",
    "    \n",
    "    return insideFunc\n",
    "}\n",
    "\n",
    "const step = createStepper();"
   ]
  },
  {
   "cell_type": "code",
   "execution_count": 157,
   "id": "3ef0b56e",
   "metadata": {},
   "outputs": [
    {
     "name": "stdout",
     "output_type": "stream",
     "text": [
      "[Function: insideFunc]\n"
     ]
    }
   ],
   "source": [
    "console.log(step)"
   ]
  },
  {
   "cell_type": "code",
   "execution_count": 158,
   "id": "16e02da3",
   "metadata": {},
   "outputs": [
    {
     "name": "stdout",
     "output_type": "stream",
     "text": [
      "1\n"
     ]
    }
   ],
   "source": [
    "step();"
   ]
  },
  {
   "cell_type": "code",
   "execution_count": 159,
   "id": "6259b7ef",
   "metadata": {},
   "outputs": [
    {
     "ename": "ReferenceError",
     "evalue": "hiddenVar is not defined",
     "output_type": "error",
     "traceback": [
      "evalmachine.<anonymous>:1",
      "console.log(hiddenVar);",
      "            ^",
      "",
      "ReferenceError: hiddenVar is not defined",
      "    at evalmachine.<anonymous>:1:13",
      "    at Script.runInThisContext (node:vm:129:12)",
      "    at Object.runInThisContext (node:vm:307:38)",
      "    at run ([eval]:1020:15)",
      "    at onRunRequest ([eval]:864:18)",
      "    at onMessage ([eval]:828:13)",
      "    at process.emit (node:events:513:28)",
      "    at emit (node:internal/child_process:937:14)",
      "    at process.processTicksAndRejections (node:internal/process/task_queues:83:21)"
     ]
    }
   ],
   "source": [
    "console.log(hiddenVar);"
   ]
  },
  {
   "cell_type": "markdown",
   "id": "0e641a99",
   "metadata": {},
   "source": [
    "### Closures as Private Variables"
   ]
  },
  {
   "cell_type": "markdown",
   "id": "4513f240",
   "metadata": {},
   "source": [
    "One Problem we may have seen while exploring the ES5 syntax is that you can change the variables from outside of your class.  If someone changes a variable that shouldn't be changed this could spell disaster.  TypeScript (we will learn next week) will help use greatly with this along with the ES 6 syntax for creating classes.  But what if we wanted a private variable in ES5?  Well Closures also help us with that.  We will use a self-invoking function to create the encolsure."
   ]
  },
  {
   "cell_type": "markdown",
   "id": "37e9b703",
   "metadata": {},
   "source": [
    "#### Self Invoking Function"
   ]
  },
  {
   "cell_type": "markdown",
   "id": "14cc5f44",
   "metadata": {},
   "source": [
    "A Self Invoking Function is merely a name given to a function that calls itself.  We use parathesis to wrap the function then add `(params)` to execute the function."
   ]
  },
  {
   "cell_type": "code",
   "execution_count": 160,
   "id": "6cb819e2",
   "metadata": {},
   "outputs": [
    {
     "name": "stdout",
     "output_type": "stream",
     "text": [
      "Hello Amanda\n"
     ]
    }
   ],
   "source": [
    "// Non self invoking:\n",
    "\n",
    "// Step 1 - Create the function\n",
    "function sayHello(name){\n",
    "    console.log(`Hello ${name}`)\n",
    "}\n",
    "\n",
    "// Step 2 - Invoke the funcion\n",
    "sayHello('Amanda');"
   ]
  },
  {
   "cell_type": "code",
   "execution_count": 161,
   "id": "caee34ad",
   "metadata": {},
   "outputs": [
    {
     "name": "stdout",
     "output_type": "stream",
     "text": [
      "Hello Margaret\n"
     ]
    }
   ],
   "source": [
    "// IIFE - Immediately Invoked Function Expression\n",
    "\n",
    "(function(name){\n",
    "    console.log(`Hello ${name}`)\n",
    "})('Margaret')"
   ]
  },
  {
   "cell_type": "code",
   "execution_count": 162,
   "id": "cc85fac5",
   "metadata": {},
   "outputs": [
    {
     "name": "stdout",
     "output_type": "stream",
     "text": [
      "[Function: inner]\n",
      "1\n",
      "2\n",
      "3\n",
      "4\n"
     ]
    }
   ],
   "source": [
    "const stepper = (function (){\n",
    "    let count = 1;\n",
    "    function inner(){\n",
    "        console.log(count++)\n",
    "    }\n",
    "    return inner\n",
    "})()\n",
    "\n",
    "\n",
    "console.log(stepper)\n",
    "stepper();\n",
    "stepper();\n",
    "stepper();\n",
    "stepper();"
   ]
  },
  {
   "cell_type": "code",
   "execution_count": 163,
   "id": "29472409",
   "metadata": {},
   "outputs": [
    {
     "name": "stdout",
     "output_type": "stream",
     "text": [
      "5\n"
     ]
    }
   ],
   "source": [
    "stepper();"
   ]
  },
  {
   "cell_type": "markdown",
   "id": "3d94c1a4",
   "metadata": {},
   "source": [
    "#### Private Variable"
   ]
  },
  {
   "cell_type": "code",
   "execution_count": 164,
   "id": "ca61744d",
   "metadata": {},
   "outputs": [
    {
     "name": "stdout",
     "output_type": "stream",
     "text": [
      "{ getName: [Function: getName], setName: [Function: setName] }\n"
     ]
    }
   ],
   "source": [
    "var myTest = (function(){\n",
    "    let _name = 'default';\n",
    "    \n",
    "    getName = function(){\n",
    "        return _name\n",
    "    }\n",
    "    \n",
    "    setName = function(newName){\n",
    "        if (typeof newName === 'string'){\n",
    "            _name = newName;\n",
    "        }\n",
    "    }\n",
    "    \n",
    "    return {\n",
    "        getName: getName,\n",
    "        setName: setName\n",
    "    }\n",
    "})()\n",
    "\n",
    "\n",
    "console.log(myTest)"
   ]
  },
  {
   "cell_type": "code",
   "execution_count": 165,
   "id": "b5a46c53",
   "metadata": {},
   "outputs": [
    {
     "name": "stdout",
     "output_type": "stream",
     "text": [
      "default\n",
      "Albert\n"
     ]
    }
   ],
   "source": [
    "console.log(myTest.getName())\n",
    "myTest.setName('Albert');\n",
    "console.log(myTest.getName())"
   ]
  },
  {
   "cell_type": "code",
   "execution_count": 166,
   "id": "ce49e651",
   "metadata": {},
   "outputs": [
    {
     "name": "stdout",
     "output_type": "stream",
     "text": [
      "Albert\n"
     ]
    }
   ],
   "source": [
    "myTest.setName(1212);\n",
    "console.log(myTest.getName())"
   ]
  },
  {
   "cell_type": "code",
   "execution_count": 167,
   "id": "89a3162b",
   "metadata": {},
   "outputs": [
    {
     "name": "stdout",
     "output_type": "stream",
     "text": [
      "undefined\n"
     ]
    }
   ],
   "source": [
    "console.log(myTest._name)"
   ]
  },
  {
   "cell_type": "markdown",
   "id": "e7ce6c23",
   "metadata": {},
   "source": [
    "<a id=\"stack\"></a>\n",
    "\n",
    "## JavaScript Call Stack"
   ]
  },
  {
   "cell_type": "markdown",
   "id": "1665d4a7",
   "metadata": {},
   "source": [
    "JS uses a Call Stack to add processes to the stack that executes the process.\n",
    "The stack runs in Chrome's V8 engine, which also contains WebAPIs. Things that run asynchronously (not in the queue with other commands) are sent to the WebAPI to await their turn to be added to the stack. The stack must be cleared before the WebAPI can add the asynchronous process. This is why you often see `setTimeout()` set to a timeout of zero seconds. This is not saying to wait zero seconds and then execute this process; it is saying to wait for the stack to clear before running it.\n",
    "\n",
    "\n",
    "Recommended Video: <a href=\"https://www.youtube.com/watch?v=8aGhZQkoFbQ\">https://www.youtube.com/watch?v=8aGhZQkoFbQ</a>\n"
   ]
  },
  {
   "cell_type": "code",
   "execution_count": 168,
   "id": "4e653100",
   "metadata": {},
   "outputs": [
    {
     "name": "stdout",
     "output_type": "stream",
     "text": [
      "Above timeout\n",
      "Below timeout\n"
     ]
    }
   ],
   "source": [
    "console.log('Above timeout');\n",
    "\n",
    "setTimeout(() => { console.log('In the timeout') }, 2000);\n",
    "\n",
    "console.log('Below timeout');"
   ]
  },
  {
   "cell_type": "code",
   "execution_count": 169,
   "id": "71a2d67e",
   "metadata": {},
   "outputs": [
    {
     "name": "stdout",
     "output_type": "stream",
     "text": [
      "Above timeout\n",
      "Below timeout\n",
      "In the timeout\n"
     ]
    }
   ],
   "source": [
    "console.log('Above timeout');\n",
    "\n",
    "setTimeout(() => { console.log('In the timeout') }, 0);\n",
    "\n",
    "console.log('Below timeout');"
   ]
  },
  {
   "cell_type": "code",
   "execution_count": 170,
   "id": "370db114",
   "metadata": {},
   "outputs": [
    {
     "name": "stdout",
     "output_type": "stream",
     "text": [
      "Start\n",
      "Second\n"
     ]
    }
   ],
   "source": [
    "function first(){\n",
    "    console.log('Start');\n",
    "    setTimeout(() => {\n",
    "        console.log('First');\n",
    "    }, 2000)\n",
    "}\n",
    "\n",
    "\n",
    "function second(){\n",
    "    console.log('Second');\n",
    "}\n",
    "\n",
    "\n",
    "\n",
    "first();\n",
    "second();"
   ]
  },
  {
   "cell_type": "markdown",
   "id": "271ffd45",
   "metadata": {},
   "source": [
    "Below the initial call stack will look like:\n",
    "\n",
    "tfunc3()\n",
    "\n",
    "tfunc2()\n",
    "\n",
    "tfunc1()\n",
    "\n",
    "This is because tfunc1 calls tfunc2 which calls tfunc3.  Then tfunc3 will execute then tfunc2 then tfunc1. Now that all those have processed, the stack is clear and the setTime will come from the WebAPIs and be ran even though it was called first.\n"
   ]
  },
  {
   "cell_type": "code",
   "execution_count": 171,
   "id": "2acd8c28",
   "metadata": {},
   "outputs": [
    {
     "name": "stdout",
     "output_type": "stream",
     "text": [
      "Hello\n",
      "In the timeout\n"
     ]
    }
   ],
   "source": [
    "var tfunc1 = () => { tfunc2() }\n",
    "\n",
    "var tfunc2 = () => { tfunc3() }\n",
    "\n",
    "var tfunc3 = () => { console.log('Hello') }\n",
    "\n",
    "setTimeout(() => console.log('In the timeout'), 0)\n",
    "\n",
    "\n",
    "tfunc1();"
   ]
  },
  {
   "cell_type": "markdown",
   "id": "60b8ebdd",
   "metadata": {},
   "source": [
    "<a id=\"callback\"></a>\n",
    "\n",
    "## Callbacks"
   ]
  },
  {
   "cell_type": "markdown",
   "id": "4ed13917",
   "metadata": {},
   "source": [
    "Simply put: A Callback is a function that is to be executed after another\n",
    "    function has finished its execution - hence the name callback.\n",
    "\n",
    "   More Complex Definition: In JavaScript, functions are objects. Because of this,\n",
    "    functions can take other functions as arguments(parameters), and can return functions\n",
    "    by other functions.\n",
    "\n",
    "   Functions that do this are called \"higher - Order functions\". Any function,\n",
    "    that is passed as an argument is called a \"Callback function\".\n",
    "\n",
    "   SOOOO...why do we need them?\n",
    "\n",
    "   The reason for this is, because of the JavaScript Event Loop. In a nutshell\n",
    "    JavaScript is an event driven language so this means, that instead of waiting for \n",
    "    a response before moving on, JS will keep executing while listening for other events.\n",
    "\n"
   ]
  },
  {
   "cell_type": "code",
   "execution_count": 172,
   "id": "0deaa19e",
   "metadata": {},
   "outputs": [],
   "source": [
    "function downloadSong(songName){\n",
    "    console.log(`Downloading ${songName}...`)\n",
    "    setTimeout( () => {\n",
    "        console.log('Finished...')\n",
    "        return {title: songName, artist: 'Taylor Swift'}\n",
    "    }, 2000 )\n",
    "}\n",
    "\n",
    "\n",
    "function playSong(songName){\n",
    "    let song = downloadSong(songName);\n",
    "    console.log(`${song?.title} by ${song?.artist} is now playing`)\n",
    "}"
   ]
  },
  {
   "cell_type": "code",
   "execution_count": 173,
   "id": "645085de",
   "metadata": {},
   "outputs": [
    {
     "name": "stdout",
     "output_type": "stream",
     "text": [
      "Downloading Bad Blood...\n",
      "undefined by undefined is now playing\n"
     ]
    }
   ],
   "source": [
    "playSong('Bad Blood');"
   ]
  },
  {
   "cell_type": "code",
   "execution_count": 174,
   "id": "c39a058c",
   "metadata": {},
   "outputs": [
    {
     "name": "stdout",
     "output_type": "stream",
     "text": [
      "Starting JavaScript homework\n",
      "Finally time to relax with a nice cold beer...\n"
     ]
    }
   ],
   "source": [
    "function doHomework(subject){\n",
    "    console.log(`Starting ${subject} homework`);\n",
    "    setTimeout( ()=> {\n",
    "        console.log(`Finished ${subject} homework`)\n",
    "    }, 3000)\n",
    "}\n",
    "\n",
    "\n",
    "function relax(){\n",
    "    console.log('Finally time to relax with a nice cold beer...')\n",
    "}\n",
    "\n",
    "\n",
    "doHomework('JavaScript');\n",
    "relax();"
   ]
  },
  {
   "cell_type": "code",
   "execution_count": 175,
   "id": "8fa6b554",
   "metadata": {},
   "outputs": [
    {
     "name": "stdout",
     "output_type": "stream",
     "text": [
      "Starting JavaScript homework\n"
     ]
    }
   ],
   "source": [
    "function doHomework(subject, callbackFn){\n",
    "    console.log(`Starting ${subject} homework`);\n",
    "    setTimeout( ()=> {\n",
    "        console.log(`Finished ${subject} homework`);\n",
    "        callbackFn();\n",
    "    }, 3000)\n",
    "}\n",
    "\n",
    "\n",
    "function relax(){\n",
    "    console.log('Finally time to relax with a nice cold beer...')\n",
    "}\n",
    "\n",
    "\n",
    "doHomework('JavaScript', relax);"
   ]
  },
  {
   "cell_type": "code",
   "execution_count": 176,
   "id": "b9db41b4",
   "metadata": {},
   "outputs": [
    {
     "name": "stdout",
     "output_type": "stream",
     "text": [
      "Starting Python homework\n"
     ]
    }
   ],
   "source": [
    "doHomework('Python', () => {console.log('Time to eat!')})"
   ]
  },
  {
   "cell_type": "code",
   "execution_count": 177,
   "id": "d1ced8c6",
   "metadata": {},
   "outputs": [
    {
     "name": "stdout",
     "output_type": "stream",
     "text": [
      "Starting SQL homework\n",
      "In the timeout\n",
      "First\n"
     ]
    }
   ],
   "source": [
    "doHomework('SQL', () => {\n",
    "    console.log('Start workout')\n",
    "    setTimeout( () => {\n",
    "        console.log('Finish workout')\n",
    "    }, 3000)\n",
    "})"
   ]
  },
  {
   "cell_type": "markdown",
   "id": "6c806b92",
   "metadata": {},
   "source": [
    "\n",
    "   Thought Callbacks give us more functionality...they also introduce\n",
    "    their own problem: Callback Hell\n",
    "\n",
    "   Something that looks like this:\n",
    "   ```\n",
    "    function1( () => {\n",
    "        function2( () => {\n",
    "            function3( () => {\n",
    "                function4( () => {\n",
    "                    // Maybe do something here... 🤷🏾‍♂️\n",
    "                })\n",
    "            })\n",
    "        })\n",
    "    })\n",
    "```"
   ]
  },
  {
   "cell_type": "markdown",
   "id": "88368efe",
   "metadata": {},
   "source": [
    "<a id=\"promise\"></a>\n",
    "\n",
    "## Promises"
   ]
  },
  {
   "cell_type": "markdown",
   "id": "2a26e829",
   "metadata": {},
   "source": [
    "A Promise in JS is basically a promise that the function will do the requested action and then return that result back when it is finished.  This will run asynchronously on the WebAPIs.  \n",
    "\n",
    "Each Promise can either be fulfilled, meaning it has got the answer for you; pending meaning it hasn't finished yet, and rejected meaning something went wrong.\n",
    "\n",
    "The Promise object supports two properties: state and result.\n",
    "\n",
    "While a Promise object is \"pending\" (working), the result is undefined.\n",
    "\n",
    "When a Promise object is \"fulfilled\", the result is a value.\n",
    "\n",
    "When a Promise object is \"rejected\", the result is an error object."
   ]
  },
  {
   "cell_type": "code",
   "execution_count": 178,
   "id": "e4c7c4ff",
   "metadata": {},
   "outputs": [
    {
     "name": "stdout",
     "output_type": "stream",
     "text": [
      "Finished...\n"
     ]
    }
   ],
   "source": [
    "function downloadSong(songName){\n",
    "    console.log(`Searching for ${songName} in database...`);\n",
    "    return new Promise( (resolve, reject) => {\n",
    "        // mimic downloading a song - songs with titles less than 5 chars don't exist\n",
    "        setTimeout(() => {\n",
    "            if (songName.length > 5){\n",
    "                resolve({title: songName, artist: 'Taylor Swift'})\n",
    "            } else {\n",
    "                reject(`${songName} is not in the database`)\n",
    "            }\n",
    "        }, 2000)\n",
    "    } )\n",
    "}\n"
   ]
  },
  {
   "cell_type": "markdown",
   "id": "169d8280",
   "metadata": {},
   "source": [
    "#### Still pending"
   ]
  },
  {
   "cell_type": "code",
   "execution_count": 179,
   "id": "d9f60bca",
   "metadata": {},
   "outputs": [
    {
     "name": "stdout",
     "output_type": "stream",
     "text": [
      "Searching for Blank Space in database...\n",
      "Promise { <pending> }\n",
      "Finished JavaScript homework\n",
      "Finished JavaScript homework\n",
      "Finally time to relax with a nice cold beer...\n",
      "Finished Python homework\n",
      "Time to eat!\n",
      "Finished SQL homework\n",
      "Start workout\n"
     ]
    }
   ],
   "source": [
    "var myFavSong = downloadSong('Blank Space');\n",
    "\n",
    "\n",
    "console.log(myFavSong);"
   ]
  },
  {
   "cell_type": "code",
   "execution_count": 180,
   "id": "4cb6794e",
   "metadata": {},
   "outputs": [
    {
     "name": "stdout",
     "output_type": "stream",
     "text": [
      "Promise { <pending> }\n"
     ]
    }
   ],
   "source": [
    "console.log(myFavSong);"
   ]
  },
  {
   "cell_type": "code",
   "execution_count": 181,
   "id": "76265fa1",
   "metadata": {
    "scrolled": true
   },
   "outputs": [
    {
     "name": "stdout",
     "output_type": "stream",
     "text": [
      "Searching for Now in database...\n",
      "Promise { <pending> }\n"
     ]
    }
   ],
   "source": [
    "var myHateSong = downloadSong('Now');\n",
    "\n",
    "console.log(myHateSong);"
   ]
  },
  {
   "cell_type": "code",
   "execution_count": 182,
   "id": "4a1f00d9",
   "metadata": {},
   "outputs": [
    {
     "name": "stdout",
     "output_type": "stream",
     "text": [
      "Promise { <pending> }\n",
      "Finish workout\n"
     ]
    },
    {
     "name": "stderr",
     "output_type": "stream",
     "text": [
      "UnhandledPromiseRejection: This error originated either by throwing inside of an async function without a catch block, or by rejecting a promise which was not handled with .catch(). The promise rejected with the reason \"Now is not in the database\"."
     ]
    }
   ],
   "source": [
    "console.log(myHateSong);"
   ]
  },
  {
   "cell_type": "code",
   "execution_count": 183,
   "id": "fb633f9c",
   "metadata": {},
   "outputs": [
    {
     "name": "stdout",
     "output_type": "stream",
     "text": [
      "Searching for Bad Blood in database...\n"
     ]
    },
    {
     "data": {
      "text/plain": [
       "Promise { <pending> }"
      ]
     },
     "execution_count": 183,
     "metadata": {},
     "output_type": "execute_result"
    }
   ],
   "source": [
    "downloadSong('Bad Blood')"
   ]
  },
  {
   "cell_type": "markdown",
   "id": "47aef0f3",
   "metadata": {},
   "source": [
    "#### Resolving the Promise"
   ]
  },
  {
   "cell_type": "markdown",
   "id": "69713ff4",
   "metadata": {},
   "source": [
    "Using a chain of callbacks and .then/.catch/.finally we can resolve the promise and recieve its output\n",
    "\n",
    "`.then((resultOfPromise)=>{do something with result})` this will resolve the promise when it becomes fulfilled.\n",
    "\n",
    "`.catch((error)=>{do something based on the error})` this will run if the promise returns an error\n",
    "\n",
    "`.finally(()=>{do something after promise has been fulfilled or rejected})`"
   ]
  },
  {
   "cell_type": "code",
   "execution_count": 184,
   "id": "cb209982",
   "metadata": {},
   "outputs": [],
   "source": [
    "function playSong(song){\n",
    "    console.log(`${song.title} by ${song.artist} is playing...`)\n",
    "}"
   ]
  },
  {
   "cell_type": "code",
   "execution_count": 192,
   "id": "2472f5a2",
   "metadata": {},
   "outputs": [
    {
     "name": "stdout",
     "output_type": "stream",
     "text": [
      "Umbrella by Rihanna is playing...\n"
     ]
    }
   ],
   "source": [
    "playSong({title: 'Umbrella', artist: 'Rihanna'})"
   ]
  },
  {
   "cell_type": "code",
   "execution_count": 194,
   "id": "2de1a34a",
   "metadata": {},
   "outputs": [
    {
     "name": "stdout",
     "output_type": "stream",
     "text": [
      "Searching for Bad Blood in database...\n",
      "undefined by undefined is playing...\n"
     ]
    }
   ],
   "source": [
    "let song = downloadSong('Bad Blood');\n",
    "playSong(song);"
   ]
  },
  {
   "cell_type": "code",
   "execution_count": 195,
   "id": "60fae945",
   "metadata": {},
   "outputs": [
    {
     "name": "stdout",
     "output_type": "stream",
     "text": [
      "Searching for Bad Blood in database...\n"
     ]
    },
    {
     "data": {
      "text/plain": [
       "Promise { <pending> }"
      ]
     },
     "execution_count": 195,
     "metadata": {},
     "output_type": "execute_result"
    },
    {
     "name": "stdout",
     "output_type": "stream",
     "text": [
      "Bad Blood by Taylor Swift is playing...\n"
     ]
    }
   ],
   "source": [
    "downloadSong('Bad Blood').then(playSong)"
   ]
  },
  {
   "cell_type": "code",
   "execution_count": 196,
   "id": "628ba5cc",
   "metadata": {},
   "outputs": [],
   "source": [
    "function handleRejection(errMessage){\n",
    "    console.warn(errMessage);\n",
    "}"
   ]
  },
  {
   "cell_type": "code",
   "execution_count": 197,
   "id": "f998c802",
   "metadata": {},
   "outputs": [
    {
     "name": "stderr",
     "output_type": "stream",
     "text": [
      "I don't love you\n"
     ]
    }
   ],
   "source": [
    "handleRejection(\"I don't love you\")"
   ]
  },
  {
   "cell_type": "code",
   "execution_count": 198,
   "id": "a4fde2aa",
   "metadata": {},
   "outputs": [
    {
     "name": "stdout",
     "output_type": "stream",
     "text": [
      "Searching for Hi in database...\n"
     ]
    },
    {
     "data": {
      "text/plain": [
       "Promise { <pending> }"
      ]
     },
     "execution_count": 198,
     "metadata": {},
     "output_type": "execute_result"
    },
    {
     "name": "stderr",
     "output_type": "stream",
     "text": [
      "Hi is not in the database\n"
     ]
    }
   ],
   "source": [
    "downloadSong('Hi').then(playSong).catch(handleRejection)"
   ]
  },
  {
   "cell_type": "code",
   "execution_count": 199,
   "id": "79e68a69",
   "metadata": {},
   "outputs": [
    {
     "name": "stdout",
     "output_type": "stream",
     "text": [
      "Searching for Anti-Hero in database...\n"
     ]
    },
    {
     "data": {
      "text/plain": [
       "Promise { <pending> }"
      ]
     },
     "execution_count": 199,
     "metadata": {},
     "output_type": "execute_result"
    },
    {
     "name": "stdout",
     "output_type": "stream",
     "text": [
      "Anti-Hero by Taylor Swift is playing\n",
      "Finished!\n"
     ]
    }
   ],
   "source": [
    "downloadSong('Anti-Hero')\n",
    "    .then((song) => {console.log(`${song.title} by ${song.artist} is playing`)})\n",
    "    .catch( (err) => console.warn(err) )\n",
    "    .finally( () => console.log('Finished!'))"
   ]
  },
  {
   "cell_type": "code",
   "execution_count": 200,
   "id": "8769d7f2",
   "metadata": {},
   "outputs": [
    {
     "name": "stdout",
     "output_type": "stream",
     "text": [
      "Searching for ABC in database...\n"
     ]
    },
    {
     "data": {
      "text/plain": [
       "Promise { <pending> }"
      ]
     },
     "execution_count": 200,
     "metadata": {},
     "output_type": "execute_result"
    },
    {
     "name": "stderr",
     "output_type": "stream",
     "text": [
      "ABC is not in the database\n"
     ]
    },
    {
     "name": "stdout",
     "output_type": "stream",
     "text": [
      "Finished!\n"
     ]
    }
   ],
   "source": [
    "\n",
    "downloadSong('ABC')\n",
    "    .then((song) => {console.log(`${song.title} by ${song.artist} is playing`)})\n",
    "    .catch( (err) => console.warn(err) )\n",
    "    .finally( () => console.log('Finished!'))\n"
   ]
  },
  {
   "cell_type": "code",
   "execution_count": 201,
   "id": "b38dd9a7",
   "metadata": {},
   "outputs": [
    {
     "name": "stdout",
     "output_type": "stream",
     "text": [
      "Searching for Love Story in database...\n"
     ]
    },
    {
     "data": {
      "text/plain": [
       "Promise { <pending> }"
      ]
     },
     "execution_count": 201,
     "metadata": {},
     "output_type": "execute_result"
    },
    {
     "name": "stdout",
     "output_type": "stream",
     "text": [
      "{ title: 'Love Story', artist: 'Taylor Swift' }\n",
      "Taylor Swift\n",
      "TAYLOR SWIFT\n",
      "This chain is over.\n"
     ]
    }
   ],
   "source": [
    "downloadSong('Love Story')\n",
    "    .then((songObj) => {\n",
    "        console.log(songObj)\n",
    "        return songObj.artist\n",
    "    }).then((artist) => {\n",
    "        console.log(artist)\n",
    "        return artist.toUpperCase()\n",
    "    }).then((upperArtist) => {\n",
    "        console.log(upperArtist)\n",
    "    }).catch( (err) => console.warn(err))\n",
    "    .finally( () => console.log('This chain is over.') )"
   ]
  },
  {
   "cell_type": "code",
   "execution_count": 202,
   "id": "bdf251ba",
   "metadata": {},
   "outputs": [
    {
     "name": "stdout",
     "output_type": "stream",
     "text": [
      "Searching for 123 in database...\n"
     ]
    },
    {
     "data": {
      "text/plain": [
       "Promise { <pending> }"
      ]
     },
     "execution_count": 202,
     "metadata": {},
     "output_type": "execute_result"
    },
    {
     "name": "stderr",
     "output_type": "stream",
     "text": [
      "123 is not in the database\n"
     ]
    },
    {
     "name": "stdout",
     "output_type": "stream",
     "text": [
      "This chain is over.\n"
     ]
    }
   ],
   "source": [
    "downloadSong('123')\n",
    "    .then((songObj) => {\n",
    "        console.log(songObj)\n",
    "        return songObj.artist\n",
    "    }).then((artist) => {\n",
    "        console.log(artist)\n",
    "        return artist.toUpperCase()\n",
    "    }).then((upperArtist) => {\n",
    "        console.log(upperArtist)\n",
    "    }).catch( (err) => console.warn(err))\n",
    "    .finally( () => console.log('This chain is over.') )"
   ]
  },
  {
   "cell_type": "code",
   "execution_count": 203,
   "id": "42a61a5c",
   "metadata": {},
   "outputs": [
    {
     "name": "stderr",
     "output_type": "stream",
     "text": [
      "Hello\n"
     ]
    }
   ],
   "source": [
    "console.error('Hello')"
   ]
  },
  {
   "cell_type": "code",
   "execution_count": 204,
   "id": "1a6fd743",
   "metadata": {},
   "outputs": [],
   "source": [
    "function playSong(songName){\n",
    "    downloadSong(songName)\n",
    "        .then( song => console.log(`${song.title} by ${song.artist} is now playing...`))\n",
    "        .catch( err => console.error(err) )\n",
    "        .finally( () => console.log('Thank you for using our service') )\n",
    "}"
   ]
  },
  {
   "cell_type": "code",
   "execution_count": 205,
   "id": "46274485",
   "metadata": {},
   "outputs": [
    {
     "name": "stdout",
     "output_type": "stream",
     "text": [
      "Searching for Cruel Summer in database...\n",
      "Cruel Summer by Taylor Swift is now playing...\n",
      "Thank you for using our service\n"
     ]
    }
   ],
   "source": [
    "playSong('Cruel Summer')"
   ]
  },
  {
   "cell_type": "code",
   "execution_count": 206,
   "id": "dcd058c0",
   "metadata": {
    "scrolled": true
   },
   "outputs": [
    {
     "name": "stdout",
     "output_type": "stream",
     "text": [
      "Searching for 1989 in database...\n"
     ]
    },
    {
     "name": "stderr",
     "output_type": "stream",
     "text": [
      "1989 is not in the database\n"
     ]
    },
    {
     "name": "stdout",
     "output_type": "stream",
     "text": [
      "Thank you for using our service\n"
     ]
    }
   ],
   "source": [
    "playSong('1989')"
   ]
  },
  {
   "cell_type": "markdown",
   "id": "3d9eb851",
   "metadata": {},
   "source": [
    "<a id=\"async\"></a>\n",
    "\n",
    "### Async Await"
   ]
  },
  {
   "cell_type": "markdown",
   "id": "1c9948c4",
   "metadata": {},
   "source": [
    "Async Await is another way to reolve your promises, that is a bit more clear than the .then.catch chain\n",
    "\n",
    "To do this we use the key word `await` in front of the promise call.\n",
    "\n",
    "Any function that is awaiting something must be labeled as `async`.\n",
    "\n",
    "You can not await something at the top level of your code"
   ]
  },
  {
   "cell_type": "code",
   "execution_count": 209,
   "id": "88127f77",
   "metadata": {},
   "outputs": [
    {
     "name": "stdout",
     "output_type": "stream",
     "text": [
      "Searching for Love Story in database...\n"
     ]
    },
    {
     "data": {
      "text/plain": [
       "Promise { <pending> }"
      ]
     },
     "execution_count": 209,
     "metadata": {},
     "output_type": "execute_result"
    },
    {
     "name": "stdout",
     "output_type": "stream",
     "text": [
      "Love Story by Taylor Swift is now playing...\n"
     ]
    }
   ],
   "source": [
    "async function playSong2(songName){\n",
    "    let song = await downloadSong(songName);\n",
    "    console.log(`${song.title} by ${song.artist} is now playing...`)\n",
    "}\n",
    "\n",
    "playSong2('Love Story');"
   ]
  },
  {
   "cell_type": "code",
   "execution_count": 210,
   "id": "6d9a957f",
   "metadata": {},
   "outputs": [
    {
     "name": "stdout",
     "output_type": "stream",
     "text": [
      "Searching for Teardrops on My Guitar in database...\n"
     ]
    },
    {
     "data": {
      "text/plain": [
       "Promise { <pending> }"
      ]
     },
     "execution_count": 210,
     "metadata": {},
     "output_type": "execute_result"
    },
    {
     "name": "stdout",
     "output_type": "stream",
     "text": [
      "Teardrops on My Guitar by Taylor Swift is now playing...\n"
     ]
    }
   ],
   "source": [
    "playSong2('Teardrops on My Guitar')"
   ]
  },
  {
   "cell_type": "code",
   "execution_count": 211,
   "id": "d171030d",
   "metadata": {},
   "outputs": [
    {
     "name": "stdout",
     "output_type": "stream",
     "text": [
      "Searching for Now in database...\n"
     ]
    },
    {
     "data": {
      "text/plain": [
       "Promise { <pending> }"
      ]
     },
     "execution_count": 211,
     "metadata": {},
     "output_type": "execute_result"
    },
    {
     "name": "stderr",
     "output_type": "stream",
     "text": [
      "UnhandledPromiseRejection: This error originated either by throwing inside of an async function without a catch block, or by rejecting a promise which was not handled with .catch(). The promise rejected with the reason \"Now is not in the database\"."
     ]
    }
   ],
   "source": [
    "playSong2('Now')"
   ]
  },
  {
   "cell_type": "markdown",
   "id": "752cbd0c",
   "metadata": {},
   "source": [
    "#### Handling an Error"
   ]
  },
  {
   "cell_type": "code",
   "execution_count": 212,
   "id": "1f304273",
   "metadata": {},
   "outputs": [],
   "source": [
    "async function playSong3(songName){\n",
    "    try{\n",
    "        let song = await downloadSong(songName);\n",
    "        console.log(`${song.title} by ${song.artist} is now playing...`)\n",
    "    } catch(err) {\n",
    "        console.error(err)\n",
    "    }\n",
    "    console.log('Thank you for using our service!')\n",
    "}"
   ]
  },
  {
   "cell_type": "code",
   "execution_count": 213,
   "id": "fc95aa90",
   "metadata": {},
   "outputs": [
    {
     "name": "stdout",
     "output_type": "stream",
     "text": [
      "Searching for Now in database...\n"
     ]
    },
    {
     "data": {
      "text/plain": [
       "Promise { <pending> }"
      ]
     },
     "execution_count": 213,
     "metadata": {},
     "output_type": "execute_result"
    },
    {
     "name": "stderr",
     "output_type": "stream",
     "text": [
      "Now is not in the database\n"
     ]
    },
    {
     "name": "stdout",
     "output_type": "stream",
     "text": [
      "Thank you for using our service!\n"
     ]
    }
   ],
   "source": [
    "playSong3('Now')"
   ]
  },
  {
   "cell_type": "code",
   "execution_count": 214,
   "id": "7658bc86",
   "metadata": {},
   "outputs": [
    {
     "name": "stdout",
     "output_type": "stream",
     "text": [
      "Searching for Out of the Woods in database...\n"
     ]
    },
    {
     "data": {
      "text/plain": [
       "Promise { <pending> }"
      ]
     },
     "execution_count": 214,
     "metadata": {},
     "output_type": "execute_result"
    },
    {
     "name": "stdout",
     "output_type": "stream",
     "text": [
      "Out of the Woods by Taylor Swift is now playing...\n",
      "Thank you for using our service!\n"
     ]
    }
   ],
   "source": [
    "playSong3('Out of the Woods')"
   ]
  },
  {
   "cell_type": "markdown",
   "id": "846ace33",
   "metadata": {},
   "source": [
    "### Async with Arrow Functions"
   ]
  },
  {
   "cell_type": "markdown",
   "id": "f023c98d",
   "metadata": {},
   "source": [
    "In arrow functions the `async` keyword goes before the parameter list\n",
    "\n",
    "\n",
    "```const arrow_func = async () =>{\n",
    "    await some```"
   ]
  },
  {
   "cell_type": "code",
   "execution_count": 215,
   "id": "bc1d898f",
   "metadata": {
    "scrolled": true
   },
   "outputs": [],
   "source": [
    "const arrowPlaySong = async (songName) => {\n",
    "    try{\n",
    "        let song = await downloadSong(songName);\n",
    "        console.log(`${song.title} by ${song.artist} is now playing...`)\n",
    "    } catch(err) {\n",
    "        console.error(err)\n",
    "    }\n",
    "    console.log('Thank you for using our service!')\n",
    "}"
   ]
  },
  {
   "cell_type": "code",
   "execution_count": 216,
   "id": "ce953c16",
   "metadata": {},
   "outputs": [
    {
     "name": "stdout",
     "output_type": "stream",
     "text": [
      "Searching for Trouble in database...\n",
      "Searching for 1989 in database...\n"
     ]
    },
    {
     "data": {
      "text/plain": [
       "Promise { <pending> }"
      ]
     },
     "execution_count": 216,
     "metadata": {},
     "output_type": "execute_result"
    },
    {
     "name": "stdout",
     "output_type": "stream",
     "text": [
      "Trouble by Taylor Swift is now playing...\n",
      "Thank you for using our service!\n"
     ]
    },
    {
     "name": "stderr",
     "output_type": "stream",
     "text": [
      "1989 is not in the database\n"
     ]
    },
    {
     "name": "stdout",
     "output_type": "stream",
     "text": [
      "Thank you for using our service!\n"
     ]
    }
   ],
   "source": [
    "arrowPlaySong('Trouble')\n",
    "arrowPlaySong('1989')"
   ]
  },
  {
   "cell_type": "markdown",
   "id": "75d2f2ad",
   "metadata": {},
   "source": [
    "<a id=\"ice6\"></a>\n",
    "\n",
    "### In Class Assignment #6"
   ]
  },
  {
   "cell_type": "markdown",
   "id": "bdf055d1",
   "metadata": {},
   "source": [
    "In the 2 cells Provided resolve the `login` promise using .then/.catch and using async await (for async await create an async function) to login in `codingtemple` with the password `ctrules` be sure to handle rejection in both cases."
   ]
  },
  {
   "cell_type": "code",
   "execution_count": null,
   "id": "9fcff3df",
   "metadata": {},
   "outputs": [],
   "source": []
  },
  {
   "cell_type": "code",
   "execution_count": null,
   "id": "15db11f3",
   "metadata": {},
   "outputs": [],
   "source": []
  },
  {
   "cell_type": "code",
   "execution_count": null,
   "id": "2d6dc6af",
   "metadata": {},
   "outputs": [],
   "source": []
  },
  {
   "cell_type": "code",
   "execution_count": 217,
   "id": "d2c3a6ce",
   "metadata": {},
   "outputs": [],
   "source": [
    "//.then .catch\n",
    "\n",
    "\n",
    "\n",
    "\n",
    "\n",
    "\n",
    "\n",
    "\n"
   ]
  },
  {
   "cell_type": "code",
   "execution_count": 218,
   "id": "acfe4234",
   "metadata": {},
   "outputs": [],
   "source": [
    "// async await\n",
    "\n",
    "\n",
    "\n",
    "\n",
    "\n",
    "\n",
    "\n",
    "\n"
   ]
  },
  {
   "cell_type": "markdown",
   "id": "9fca9011",
   "metadata": {},
   "source": [
    "<a id=\"hw\"></a>\n",
    "\n",
    "# Homework"
   ]
  },
  {
   "cell_type": "markdown",
   "id": "70bd1f3d",
   "metadata": {},
   "source": [
    "### Question #1"
   ]
  },
  {
   "cell_type": "markdown",
   "id": "e50cbea4",
   "metadata": {},
   "source": [
    "Use the array of shop items provided and present the the information in the following format\n",
    "\n",
    "```\n",
    "=======================================\n",
    "Name: \t Air Max 97\n",
    "Price: \t 130\n",
    "About: \t The design of the shoe is commonly thought to be inspired by the bullet trains of Japan, but the design was inspired by mountain bikes. \n",
    "Category: shoes\n",
    "=======================================\n",
    "Name: \t Adidas NMD R1\n",
    "Price: \t 128\n",
    "About: \t New-wave classics, with a timeless vintage design: men’s NMD R1 gear is the ultimate go-anywhere shoe. Vibrant styles and soft cushioning will have you gliding through life, wherever it may take you.\n",
    "Category: shoes\n",
    "=======================================\n",
    "Name: \t Gucci Oversize T-shirt with Interlocking G\n",
    "Price: \t 580\n",
    "About: \t The now recognizable oversize Gucci T-shirt continues to evolve with each new collection, the Interlocking G print is influenced by an '80s design from the archives. Streetwear continues to be a defining feature of Gucci's collections and is often juxtaposed by tailored separates.\n",
    "Category: shirts\n",
    "=======================================\n",
    "Name: \t Nike Sportswear Club\n",
    "Price: \t 18.97\n",
    "About: \t The Nike Sportswear Club T-Shirt is made with our everyday cotton fabric and a classic fit for a familiar feel right out of the bag. An embroidered Futura logo on the chest provides a signature Nike look.\n",
    "Category: shirts\n",
    "=======================================\n",
    "Name: \t Spanx Flare Jeans, Vintage Indigo\n",
    "Price: \t 148\n",
    "About: \t These 70s inspired flare jeans are the perfect wear everywhere with anything style. Designed with premium stretch denim, high-rise coverage and hidden core shaping technology, this jean puts a new twist on a retro silhouette.\n",
    "Category: pants\n",
    "=======================================\n",
    "Name: \t Bonobos Premium Stretch Jeans\n",
    "Price: \t 69\n",
    "About: \t Resilient stretch denim made incredibly soft. Yes, jeans can be unbelievably comfortable.\n",
    "Category: pants\n",
    "```"
   ]
  },
  {
   "cell_type": "code",
   "execution_count": 219,
   "id": "0083b114",
   "metadata": {},
   "outputs": [],
   "source": [
    "var shopItems=[{\n",
    "    id:1,\n",
    "    name:\"Air Max 97\",\n",
    "    price:130.00,\n",
    "    desc:\"The design of the shoe is commonly thought to be inspired by the bullet trains of Japan, but the design was inspired by mountain bikes. \",\n",
    "    category:\"shoes\"\n",
    "},{\n",
    "    id:2,\n",
    "    name:\"Adidas NMD R1\",\n",
    "    price:128,\n",
    "    desc:\"New-wave classics, with a timeless vintage design: men’s NMD R1 gear is the ultimate go-anywhere shoe. Vibrant styles and soft cushioning will have you gliding through life, wherever it may take you.\",\n",
    "    category:\"shoes\"\n",
    "},{\n",
    "    id:3,\n",
    "    name:\"Gucci Oversize T-shirt with Interlocking G\",\n",
    "    price:580,\n",
    "    desc:\"The now recognizable oversize Gucci T-shirt continues to evolve with each new collection, the Interlocking G print is influenced by an '80s design from the archives. Streetwear continues to be a defining feature of Gucci's collections and is often juxtaposed by tailored separates.\",\n",
    "    category:\"shirts\"\n",
    "},{\n",
    "    id:4,\n",
    "    name:\"Nike Sportswear Club\",\n",
    "    price:18.97,\n",
    "    desc:\"The Nike Sportswear Club T-Shirt is made with our everyday cotton fabric and a classic fit for a familiar feel right out of the bag. An embroidered Futura logo on the chest provides a signature Nike look.\",\n",
    "    category:\"shirts\"\n",
    "},{\n",
    "    id:5,\n",
    "    name:\"Spanx Flare Jeans, Vintage Indigo\",\n",
    "    price:148,\n",
    "    desc:\"These 70s inspired flare jeans are the perfect wear everywhere with anything style. Designed with premium stretch denim, high-rise coverage and hidden core shaping technology, this jean puts a new twist on a retro silhouette.\",\n",
    "    category:\"pants\"\n",
    "},{\n",
    "    id:6,\n",
    "    name:\"Bonobos Premium Stretch Jeans\",\n",
    "    price:69,\n",
    "    desc:\"Resilient stretch denim made incredibly soft. Yes, jeans can be unbelievably comfortable.\",\n",
    "    category:\"pants\"\n",
    "}]"
   ]
  },
  {
   "cell_type": "code",
   "execution_count": 220,
   "id": "82aaf889",
   "metadata": {},
   "outputs": [],
   "source": [
    "//Solution\n",
    "\n",
    "\n",
    "\n",
    "\n",
    "\n",
    "\n",
    "\n",
    "\n"
   ]
  },
  {
   "cell_type": "markdown",
   "id": "3e4e6fce",
   "metadata": {},
   "source": [
    "### Question #2"
   ]
  },
  {
   "cell_type": "markdown",
   "id": "97dba0b8",
   "metadata": {},
   "source": [
    "Write a function that parses through the below object and displays all of their\n",
    "favorite food dishes as shown:\n",
    "```\n",
    "pizza contains:\n",
    "Deep Dish\n",
    "South Side Thin Crust\n",
    "tacos contains:\n",
    "Anything not from Taco bell\n",
    "burgers contains:\n",
    "Portillos Burgers\n",
    "ice_cream contains:\n",
    "Chocolate\n",
    "Vanilla\n",
    "Oreo\n",
    "shakes contains:\n",
    "oberwise contains:\n",
    "Chocolate\n",
    "dunkin contains:\n",
    "Vanilla\n",
    "culvers contains:\n",
    "All of them\n",
    "mcDonalds contains:\n",
    "Sham-rock-shake\n",
    "cupids_candies contains:\n",
    "Chocolate Malt\n",
    "```\n",
    "<b>Note: </b> The solution should work on any object with values of strings, numbers, objects, and arrays not just this specific object\n",
    "\n",
    "<b> Hint </b> recursion and <a href=\"#typecheck\">checking types</a>"
   ]
  },
  {
   "cell_type": "code",
   "execution_count": 221,
   "id": "9a1a16ce",
   "metadata": {},
   "outputs": [],
   "source": [
    "var hwPerson = {\n",
    "    pizza:[\"Deep Dish\",\"South Side Thin Crust\"],\n",
    "    tacos:\"Anything not from Taco bell\",\n",
    "    burgers:\"Portillos Burgers\",\n",
    "    ice_cream:[\"Chocolate\",\"Vanilla\",\"Oreo\"],\n",
    "    shakes:[{\n",
    "        oberwise:\"Chocolate\",\n",
    "        dunkin:\"Vanilla\",\n",
    "        culvers:\"All of them\",\n",
    "        mcDonalds:\"Sham-rock-shake\",\n",
    "        cupids_candies:\"Chocolate Malt\"\n",
    "    }]\n",
    "}"
   ]
  },
  {
   "cell_type": "code",
   "execution_count": 222,
   "id": "c393dc13",
   "metadata": {},
   "outputs": [],
   "source": [
    "//Solution\n",
    "\n",
    "\n",
    "\n",
    "\n",
    "\n",
    "\n",
    "\n",
    "\n",
    "\n",
    "\n",
    "\n",
    "\n",
    "\n",
    "\n",
    "\n",
    "\n",
    "\n",
    "\n",
    "\n",
    "\n",
    "\n",
    "\n",
    "\n"
   ]
  },
  {
   "cell_type": "markdown",
   "id": "fb913b65",
   "metadata": {},
   "source": [
    "### Question #3"
   ]
  },
  {
   "cell_type": "markdown",
   "id": "9c6b801b",
   "metadata": {},
   "source": [
    "\n",
    "Create a Promised based function that will check a string to determine if it's length is greater than 10.\n",
    "\n",
    "If the length is greater than 10 then resolve it and console log \"Big word\". \n",
    "\n",
    "If the length of the string is less than 10 then reject it and  console log \"Small String\""
   ]
  },
  {
   "cell_type": "code",
   "execution_count": 223,
   "id": "e392b881",
   "metadata": {},
   "outputs": [],
   "source": [
    "//Solution\n",
    "\n",
    "\n",
    "\n",
    "\n",
    "\n",
    "\n",
    "\n",
    "\n",
    "\n",
    "\n",
    "\n",
    "\n",
    "\n",
    "\n",
    "\n",
    "\n"
   ]
  },
  {
   "cell_type": "markdown",
   "id": "9babd4ad",
   "metadata": {},
   "source": [
    "### Question #4"
   ]
  },
  {
   "cell_type": "markdown",
   "id": "03642f0c",
   "metadata": {},
   "source": [
    "Create a base class of GameMember and 2 children classes of Dealer, Player\n",
    "\n",
    "both dealer and player have:\n",
    "\n",
    "hand : array of 2 numbers (1-13) ex: [5, 12] which starts with 2 random numbers\n",
    "\n",
    "hit() : ability to add  a random number [1-13] to their hand\n",
    "\n",
    "When a Dealer trys to hit he can only hit if he has his hand adds up to less than a total of 17 (so 16 and under)\n",
    "\n",
    "When a Play hits they can hit as long as their total is under 21\n",
    "\n",
    "Use the randomNumber function provided below to gernerate a random number 1-12"
   ]
  },
  {
   "cell_type": "code",
   "execution_count": 224,
   "id": "9c3b6841",
   "metadata": {},
   "outputs": [
    {
     "data": {
      "text/plain": [
       "12"
      ]
     },
     "execution_count": 224,
     "metadata": {},
     "output_type": "execute_result"
    }
   ],
   "source": [
    "let getRandomNumber = () =>Math.floor(Math.random() * 13) + 1;\n",
    "getRandomNumber()"
   ]
  },
  {
   "cell_type": "code",
   "execution_count": 225,
   "id": "a8a862dc",
   "metadata": {},
   "outputs": [
    {
     "data": {
      "text/plain": [
       "5"
      ]
     },
     "execution_count": 225,
     "metadata": {},
     "output_type": "execute_result"
    }
   ],
   "source": [
    "// This will print a different random number\n",
    "getRandomNumber()"
   ]
  },
  {
   "cell_type": "code",
   "execution_count": 226,
   "id": "1f33d5c5",
   "metadata": {},
   "outputs": [],
   "source": [
    "//Solution\n",
    "\n",
    "\n",
    "\n",
    "\n",
    "\n",
    "\n",
    "\n",
    "\n",
    "\n",
    "\n"
   ]
  },
  {
   "cell_type": "code",
   "execution_count": null,
   "id": "a8f15e27",
   "metadata": {},
   "outputs": [],
   "source": [
    "\n",
    "\n",
    "\n",
    "\n",
    "\n"
   ]
  },
  {
   "cell_type": "markdown",
   "id": "1b1300a1",
   "metadata": {},
   "source": [
    "### Question #5"
   ]
  },
  {
   "cell_type": "markdown",
   "id": "1bc58007",
   "metadata": {},
   "source": [
    "Complete 3 Codewars problems using JavaScript, start with ones you have already solved in python.  Paste a link here to the 3 questions you completed\n",
    "\n",
    "1:\n",
    "\n",
    "2:\n",
    "\n",
    "3:"
   ]
  }
 ],
 "metadata": {
  "kernelspec": {
   "display_name": "JavaScript (Node.js)",
   "language": "javascript",
   "name": "javascript"
  },
  "language_info": {
   "file_extension": ".js",
   "mimetype": "application/javascript",
   "name": "javascript",
   "version": "18.16.0"
  }
 },
 "nbformat": 4,
 "nbformat_minor": 5
}
