{
 "cells": [
  {
   "cell_type": "markdown",
   "id": "b49428f3",
   "metadata": {},
   "source": [
    "# Index for Intro JS Day 2"
   ]
  },
  {
   "cell_type": "markdown",
   "id": "743e6670",
   "metadata": {},
   "source": [
    "[Dates](#date)<br>\n",
    "[Switch Case](#switch)<br>\n",
    "[Objects](#object)<br>\n",
    "&emsp;[Deleting Keys](#del)<br>\n",
    "&emsp;[Exercise #1](#ice1)<br>\n",
    "&emsp;[Destructuring](#destruct)<br>\n",
    "&emsp;[Spread Operator (...)](#spread)<br>\n",
    "&emsp;[Rest Operator (...)](#rest)<br>\n",
    "&emsp;[Exercise #2](#ice2)<br>\n",
    "&emsp;[Optional Chaining (.?)](#chain)<br>\n",
    "&emsp;[Null Coalescing Operator (??)](#nco)<br>\n",
    "&emsp;[Object Equality](#objeq)<br>\n",
    "&emsp;[Testing Empty Objects](#emptyobj)<br>\n",
    "[For Loops with Objects](#loop)<br>\n",
    "&emsp;[Traditional Loop](#tradloop)<br>\n",
    "&emsp;[Exercise #3](#ice3)<br>\n",
    "&emsp;[for in Loop](#forin)<br>\n",
    "&emsp;[Exercise #4](#ice4)<br>\n",
    "[this keyword](#this)<br>\n",
    "[Checking Object/Array Type](#typecheck)<br>\n",
    "[ES5 Object Prototypes](#proto)<br>\n",
    "&emsp;[New Keyword](#new)<br>\n",
    "[Closures](#closure)<br>\n",
    "[Class keyword](#class)<br>\n",
    "&emsp;[Inheritance](#inherit)<br>\n",
    "&emsp;[Exercise #5](#ice5)<br>\n",
    "[JS and the Call Stack](#stack)<br>\n",
    "[Call Back Functions](#callback)<br>\n",
    "[Promises](#promise)<br>\n",
    "&emsp;[Async Await](#async)<br>\n",
    "&emsp;[Exercise #6](#ice6)<br>\n",
    "[Homework](#hw)<br>\n",
    "\n",
    "\n",
    "\n",
    "\n",
    "\n",
    "\n",
    "\n",
    "\n",
    "\n",
    "\n",
    "\n",
    "\n",
    "\n",
    "\n",
    "\n",
    "\n",
    "\n",
    "\n",
    "\n"
   ]
  },
  {
   "cell_type": "markdown",
   "id": "30beb35a",
   "metadata": {},
   "source": [
    "<a id=\"date\"></a>\n",
    "## Date Class"
   ]
  },
  {
   "cell_type": "markdown",
   "id": "42fe8af1",
   "metadata": {},
   "source": [
    "The Date Class in JS allows us to work with dates and retrieve the current time and date.\n",
    "\n",
    "Days of the week are represented as numbers, 0 being Sunday and 1 is for Monday and so on until you get to  6 for Saturday\n",
    "\n",
    "Dates are formatted using the Internation standard ISO 8601 [Year]-[Month]-[Day]T[Hours]:[Minutes]:[Seconds].[Milliseconds][Time Zone Modifier]\n",
    "\n",
    "Z is the modifier for UTC time"
   ]
  },
  {
   "cell_type": "code",
   "execution_count": 1,
   "id": "785f7c33",
   "metadata": {},
   "outputs": [
    {
     "name": "stdout",
     "output_type": "stream",
     "text": [
      "2024-01-18T16:12:59.315Z\n"
     ]
    }
   ],
   "source": [
    "let today = new Date();\n",
    "\n",
    "console.log(today)"
   ]
  },
  {
   "cell_type": "code",
   "execution_count": 2,
   "id": "5c102749",
   "metadata": {},
   "outputs": [
    {
     "data": {
      "text/plain": [
       "4"
      ]
     },
     "execution_count": 2,
     "metadata": {},
     "output_type": "execute_result"
    }
   ],
   "source": [
    "today.getDay()"
   ]
  },
  {
   "cell_type": "code",
   "execution_count": 3,
   "id": "6951bbbf",
   "metadata": {},
   "outputs": [
    {
     "data": {
      "text/plain": [
       "'Thu Jan 18 2024 10:12:59 GMT-0600 (Central Standard Time)'"
      ]
     },
     "execution_count": 3,
     "metadata": {},
     "output_type": "execute_result"
    }
   ],
   "source": [
    "today.toString()"
   ]
  },
  {
   "cell_type": "code",
   "execution_count": null,
   "id": "04f80c52",
   "metadata": {},
   "outputs": [],
   "source": []
  },
  {
   "cell_type": "markdown",
   "id": "3a94b0b8",
   "metadata": {},
   "source": [
    "Like The Days Months will also start at 0.  So Janurary is month 0 and December is month 11"
   ]
  },
  {
   "cell_type": "code",
   "execution_count": 4,
   "id": "d4cc8146",
   "metadata": {
    "scrolled": true
   },
   "outputs": [
    {
     "data": {
      "text/plain": [
       "0"
      ]
     },
     "execution_count": 4,
     "metadata": {},
     "output_type": "execute_result"
    }
   ],
   "source": [
    "// Shows the numeric month of the year ()\n",
    "today.getMonth()"
   ]
  },
  {
   "cell_type": "code",
   "execution_count": 5,
   "id": "3e3fd381",
   "metadata": {},
   "outputs": [
    {
     "name": "stdout",
     "output_type": "stream",
     "text": [
      "2024-07-04T17:00:00.000Z\n"
     ]
    }
   ],
   "source": [
    "fourthOfJuly = new Date('2024-07-04 12:00:00')\n",
    "\n",
    "console.log(fourthOfJuly)"
   ]
  },
  {
   "cell_type": "code",
   "execution_count": 6,
   "id": "60abe713",
   "metadata": {},
   "outputs": [
    {
     "data": {
      "text/plain": [
       "6"
      ]
     },
     "execution_count": 6,
     "metadata": {},
     "output_type": "execute_result"
    }
   ],
   "source": [
    "fourthOfJuly.getMonth()"
   ]
  },
  {
   "cell_type": "code",
   "execution_count": 7,
   "id": "b386f343",
   "metadata": {},
   "outputs": [
    {
     "data": {
      "text/plain": [
       "18"
      ]
     },
     "execution_count": 7,
     "metadata": {},
     "output_type": "execute_result"
    }
   ],
   "source": [
    "// Shows the numeric day of the month\n",
    "today.getDate()"
   ]
  },
  {
   "cell_type": "code",
   "execution_count": 11,
   "id": "5948944f",
   "metadata": {},
   "outputs": [
    {
     "data": {
      "text/plain": [
       "2024"
      ]
     },
     "execution_count": 11,
     "metadata": {},
     "output_type": "execute_result"
    }
   ],
   "source": [
    "// Shows the numeric year of the date\n",
    "today.getFullYear()"
   ]
  },
  {
   "cell_type": "code",
   "execution_count": 13,
   "id": "575adfea",
   "metadata": {},
   "outputs": [
    {
     "data": {
      "text/plain": [
       "10"
      ]
     },
     "execution_count": 13,
     "metadata": {},
     "output_type": "execute_result"
    }
   ],
   "source": [
    "// Shows the numeric hour of the day\n",
    "today.getHours()"
   ]
  },
  {
   "cell_type": "markdown",
   "id": "eae7a275",
   "metadata": {},
   "source": [
    "### Unix Time"
   ]
  },
  {
   "cell_type": "markdown",
   "id": "172aa929",
   "metadata": {},
   "source": [
    "In computing, we often want to represent time as an integer to make it easier to parse and use across many systems.  To do this, we use Unix Time.  Unix Time represents time as the number of seconds since January 1st, 1970, at 00:00:00 UTC.\n",
    "\n",
    "Some Date Methods give us Unix Time\n",
    "\n",
    "<strong>Note:</strong>  Similar to the issue that hit with Y2K, Unix Time also faces this problem in 2038 (Also known as the Year 2038 problem).  Because Unix time is stored as a signed 32-bit integer, we will run out of space to store dates past 2038.  BUT DON'T WORRY.  Most modern systems use an unsigned 64-bit integer to store the time, allowing Unix Time to run for 292 billion years."
   ]
  },
  {
   "cell_type": "code",
   "execution_count": 17,
   "id": "005b2aff",
   "metadata": {},
   "outputs": [
    {
     "name": "stdout",
     "output_type": "stream",
     "text": [
      "54.08404297675672\n"
     ]
    }
   ],
   "source": [
    "numSecondsMaybe = today.getTime()\n",
    "\n",
    "years = numSecondsMaybe / (60 * 525600 * 1000)\n",
    "\n",
    "console.log(years)"
   ]
  },
  {
   "cell_type": "code",
   "execution_count": 18,
   "id": "54657ce0",
   "metadata": {
    "scrolled": true
   },
   "outputs": [
    {
     "data": {
      "text/plain": [
       "1705594379315"
      ]
     },
     "execution_count": 18,
     "metadata": {},
     "output_type": "execute_result"
    }
   ],
   "source": [
    "today.getTime()"
   ]
  },
  {
   "cell_type": "code",
   "execution_count": 19,
   "id": "e72cd0d5",
   "metadata": {},
   "outputs": [
    {
     "name": "stdout",
     "output_type": "stream",
     "text": [
      "1970-01-01T00:00:00.000Z\n"
     ]
    }
   ],
   "source": [
    "let startDate = new Date(0)\n",
    "console.log(startDate)"
   ]
  },
  {
   "cell_type": "markdown",
   "id": "b09826fd",
   "metadata": {},
   "source": [
    "#### Convert to ISO Time"
   ]
  },
  {
   "cell_type": "code",
   "execution_count": 21,
   "id": "014168e7",
   "metadata": {
    "scrolled": true
   },
   "outputs": [
    {
     "data": {
      "text/plain": [
       "'1970-01-01T00:00:00.000Z'"
      ]
     },
     "execution_count": 21,
     "metadata": {},
     "output_type": "execute_result"
    }
   ],
   "source": [
    "startDate.toISOString()"
   ]
  },
  {
   "cell_type": "markdown",
   "id": "d8d2fe02",
   "metadata": {},
   "source": [
    "<a id=\"switch\"></a>\n",
    "## Switch Case Statement"
   ]
  },
  {
   "cell_type": "markdown",
   "id": "a0230ea3",
   "metadata": {},
   "source": [
    "The Switch Case Statement allows us to replace long if/else chains with more readable code. It provides the additional benefit of allowing fall-through cases.\n",
    "\n",
    "However, it will only check for strict equality(===), so we cannot use greater than or less than in a switch.  Also, \"1\" and 1 will not evaluate as the same case because it implements strict equality.\n",
    "\n",
    "Syntax:\n",
    "```\n",
    "switch(variable_to_compare_to){\n",
    "    case [Value to test equality on]:\n",
    "        // do stuff\n",
    "        //optional break/return\n",
    "    default:\n",
    "        // basically the else statement, what to do if none of the cases match\n",
    "        //do stuff\n",
    "}\n",
    "```"
   ]
  },
  {
   "cell_type": "markdown",
   "id": "ffcf80c0",
   "metadata": {},
   "source": [
    "<strong>Note: </strong> In this example we are comparing day (integer of the day from the Date function) to the number 0-6 and executing a console.log for every different day.  Also note, we are breaking after every case to prevent fall-through."
   ]
  },
  {
   "cell_type": "code",
   "execution_count": 22,
   "id": "cdd9f0d9",
   "metadata": {},
   "outputs": [],
   "source": [
    "let day;"
   ]
  },
  {
   "cell_type": "code",
   "execution_count": 28,
   "id": "8360eca2",
   "metadata": {},
   "outputs": [
    {
     "name": "stdout",
     "output_type": "stream",
     "text": [
      "It is Sunday, time to rest\n"
     ]
    }
   ],
   "source": [
    "day = 4;\n",
    "\n",
    "switch(day){\n",
    "    case 0:\n",
    "        console.log('It is Sunday, time to rest');\n",
    "        break;\n",
    "    case 1:\n",
    "        console.log(\"Write code... it's Monday!\");\n",
    "        break;\n",
    "    case 2:\n",
    "        console.log(\"Testing Tuesday so test some code\")\n",
    "        break;\n",
    "    case 3:\n",
    "        console.log(\"Testing more code because it's HUMP DAY!\");\n",
    "        break;\n",
    "    case 4:\n",
    "        console.log(\"Write a feature for our app on Thursday\");\n",
    "        break;\n",
    "    case 5:\n",
    "        console.log(\"Test Feature for Feature Friday\");\n",
    "        break;\n",
    "    case 6:\n",
    "        console.log(\"Sleep all day, party all night!\");\n",
    "        break;\n",
    "    default:\n",
    "        console.log(\"You must be on what the Beatles were on if you think there are 8+ days a week\")\n",
    "}\n"
   ]
  },
  {
   "cell_type": "markdown",
   "id": "8292710a",
   "metadata": {},
   "source": [
    "### Fall Through Conditions"
   ]
  },
  {
   "cell_type": "markdown",
   "id": "ca7b3965",
   "metadata": {},
   "source": [
    "In the previous examples, we used a break statement in every case (default excluded because there is no fall-through conditions for default).\n",
    "\n",
    "If we do not include the break, the condition will fall-through to the next case and execute that code as well."
   ]
  },
  {
   "cell_type": "code",
   "execution_count": 29,
   "id": "df6b66b0",
   "metadata": {},
   "outputs": [],
   "source": [
    "let seasonTicketPackage;"
   ]
  },
  {
   "cell_type": "code",
   "execution_count": 35,
   "id": "b092e271",
   "metadata": {},
   "outputs": [
    {
     "name": "stdout",
     "output_type": "stream",
     "text": [
      "Championship Game Tickets Included\n",
      "Playoff Tickets Included\n",
      "Parking Pass to Every Game\n",
      "Ticket to Every Home Game\n"
     ]
    }
   ],
   "source": [
    "seasonTicketPackage = 'Double Platinum'\n",
    "\n",
    "\n",
    "switch(seasonTicketPackage){\n",
    "    case 'Double Platinum':\n",
    "        console.log('Championship Game Tickets Included');\n",
    "    case 'Platinum':\n",
    "        console.log('Playoff Tickets Included');\n",
    "    case 'Gold':\n",
    "        console.log('Parking Pass to Every Game');\n",
    "    case 'Silver':\n",
    "        console.log('Ticket to Every Home Game');\n",
    "}"
   ]
  },
  {
   "cell_type": "markdown",
   "id": "b9c1c6d4",
   "metadata": {},
   "source": [
    "<a id=\"object\"></a>\n",
    "\n",
    "## Object Type"
   ]
  },
  {
   "cell_type": "markdown",
   "id": "88a9aac2",
   "metadata": {},
   "source": [
    "A JavaScript Object is similar to a Python Dictionary.\n",
    "They both store key-value pairs and support dynamically adding keys and removing keys."
   ]
  },
  {
   "cell_type": "markdown",
   "id": "629a1e01",
   "metadata": {},
   "source": [
    "### Instantiating"
   ]
  },
  {
   "cell_type": "markdown",
   "id": "6e4d559a",
   "metadata": {},
   "source": [
    "Keys in JS don't need to surround the keys with quotes, however you can."
   ]
  },
  {
   "cell_type": "code",
   "execution_count": 36,
   "id": "6997e32f",
   "metadata": {},
   "outputs": [
    {
     "name": "stdout",
     "output_type": "stream",
     "text": [
      "{ name: 'Janet', age: 55, city: 'Louisville' }\n"
     ]
    }
   ],
   "source": [
    "let person1 = {\n",
    "    \"name\": \"Janet\",\n",
    "    \"age\": 55,\n",
    "    \"city\": \"Louisville\"\n",
    "}\n",
    "\n",
    "console.log(person1)"
   ]
  },
  {
   "cell_type": "code",
   "execution_count": 37,
   "id": "c0131ff8",
   "metadata": {},
   "outputs": [
    {
     "name": "stdout",
     "output_type": "stream",
     "text": [
      "{ name: 'Maury', age: 44, city: 'San Diego' }\n"
     ]
    }
   ],
   "source": [
    "// JS does not require quotes around the keys\n",
    "let person2 = {\n",
    "    name: \"Maury\",\n",
    "    age: 44,\n",
    "    city: \"San Diego\"\n",
    "}\n",
    "\n",
    "console.log(person2)"
   ]
  },
  {
   "cell_type": "markdown",
   "id": "beae2553",
   "metadata": {},
   "source": [
    "### console.table"
   ]
  },
  {
   "cell_type": "markdown",
   "id": "473cc913",
   "metadata": {},
   "source": [
    "Sometimes reading the properties of an object is difficult using console.log, so we can use console.table to see an easier to read result"
   ]
  },
  {
   "cell_type": "code",
   "execution_count": 38,
   "id": "e572d372",
   "metadata": {},
   "outputs": [
    {
     "name": "stdout",
     "output_type": "stream",
     "text": [
      "┌─────────┬──────────────┐\n",
      "│ (index) │    Values    │\n",
      "├─────────┼──────────────┤\n",
      "│  name   │   'Janet'    │\n",
      "│   age   │      55      │\n",
      "│  city   │ 'Louisville' │\n",
      "└─────────┴──────────────┘\n"
     ]
    }
   ],
   "source": [
    "console.table(person1)"
   ]
  },
  {
   "cell_type": "code",
   "execution_count": 39,
   "id": "f15ea04f",
   "metadata": {},
   "outputs": [
    {
     "name": "stdout",
     "output_type": "stream",
     "text": [
      "┌─────────┬─────────────┐\n",
      "│ (index) │   Values    │\n",
      "├─────────┼─────────────┤\n",
      "│  name   │   'Maury'   │\n",
      "│   age   │     44      │\n",
      "│  city   │ 'San Diego' │\n",
      "└─────────┴─────────────┘\n"
     ]
    }
   ],
   "source": [
    "console.table(person2)"
   ]
  },
  {
   "cell_type": "markdown",
   "id": "43bd5107",
   "metadata": {},
   "source": [
    "### Accessing"
   ]
  },
  {
   "cell_type": "markdown",
   "id": "91029344",
   "metadata": {},
   "source": [
    "JS Allows us to use bracket notation (like python) or dot notation (like python classes) to access our object properties"
   ]
  },
  {
   "cell_type": "code",
   "execution_count": 42,
   "id": "e331c695",
   "metadata": {},
   "outputs": [
    {
     "name": "stdout",
     "output_type": "stream",
     "text": [
      "Janet\n"
     ]
    }
   ],
   "source": [
    "//bracket notation\n",
    "console.log(person1['name'])"
   ]
  },
  {
   "cell_type": "code",
   "execution_count": 43,
   "id": "a6227f40",
   "metadata": {
    "scrolled": true
   },
   "outputs": [
    {
     "name": "stdout",
     "output_type": "stream",
     "text": [
      "Maury\n"
     ]
    }
   ],
   "source": [
    "//dot notation\n",
    "console.log(person2.name)"
   ]
  },
  {
   "cell_type": "markdown",
   "id": "5b6237da",
   "metadata": {},
   "source": [
    "<strong>Note: </strong>Using a key name stored in a variable requires us to use bracket notation."
   ]
  },
  {
   "cell_type": "code",
   "execution_count": 45,
   "id": "5771849c",
   "metadata": {
    "scrolled": true
   },
   "outputs": [
    {
     "name": "stdout",
     "output_type": "stream",
     "text": [
      "Louisville\n"
     ]
    }
   ],
   "source": [
    "console.log(person1['city'])"
   ]
  },
  {
   "cell_type": "code",
   "execution_count": 46,
   "id": "5768b91d",
   "metadata": {},
   "outputs": [
    {
     "name": "stdout",
     "output_type": "stream",
     "text": [
      "44\n"
     ]
    }
   ],
   "source": [
    "let ageKey = 'age';\n",
    "\n",
    "console.log(person2[ageKey]) // person2['age']"
   ]
  },
  {
   "cell_type": "code",
   "execution_count": 47,
   "id": "15a0fb06",
   "metadata": {},
   "outputs": [
    {
     "name": "stdout",
     "output_type": "stream",
     "text": [
      "undefined\n"
     ]
    }
   ],
   "source": [
    "//Looks for a key of ageKey doesn't find one so return undefinde\n",
    "\n",
    "console.log(person1.ageKey) // Is looking for a property called ageKey"
   ]
  },
  {
   "cell_type": "markdown",
   "id": "6fcf009a",
   "metadata": {},
   "source": [
    "In JS, you can easily add keys to an object just by referencing the dictionary, keying in your new key and setting it to a value"
   ]
  },
  {
   "cell_type": "code",
   "execution_count": 49,
   "id": "559cc83f",
   "metadata": {
    "scrolled": true
   },
   "outputs": [
    {
     "name": "stdout",
     "output_type": "stream",
     "text": [
      "┌─────────────┬──────────────┐\n",
      "│   (index)   │    Values    │\n",
      "├─────────────┼──────────────┤\n",
      "│    name     │   'Janet'    │\n",
      "│     age     │      55      │\n",
      "│    city     │ 'Louisville' │\n",
      "│ isGoodCoder │    false     │\n",
      "└─────────────┴──────────────┘\n",
      "Sending Janet to Coding Temple...\n",
      "┌─────────────┬──────────────┐\n",
      "│   (index)   │    Values    │\n",
      "├─────────────┼──────────────┤\n",
      "│    name     │   'Janet'    │\n",
      "│     age     │      55      │\n",
      "│    city     │ 'Louisville' │\n",
      "│ isGoodCoder │     true     │\n",
      "└─────────────┴──────────────┘\n"
     ]
    }
   ],
   "source": [
    "// To add a new poperty, obj.newKey = value   OR obj['newKey'] = value\n",
    "\n",
    "person1.isGoodCoder = false;\n",
    "console.table(person1)\n",
    "\n",
    "console.log(`Sending ${person1.name} to Coding Temple...`)\n",
    "\n",
    "// To modify properties, same syntax\n",
    "person1.isGoodCoder = true;\n",
    "console.table(person1)"
   ]
  },
  {
   "cell_type": "code",
   "execution_count": 50,
   "id": "2edddad9",
   "metadata": {},
   "outputs": [
    {
     "name": "stdout",
     "output_type": "stream",
     "text": [
      "┌─────────────┬─────────────┐\n",
      "│   (index)   │   Values    │\n",
      "├─────────────┼─────────────┤\n",
      "│    name     │   'Maury'   │\n",
      "│     age     │     44      │\n",
      "│    city     │ 'San Diego' │\n",
      "│ isGoodCoder │    false    │\n",
      "└─────────────┴─────────────┘\n",
      "Sending Maury to Coding Temple...\n",
      "┌─────────────┬─────────────┐\n",
      "│   (index)   │   Values    │\n",
      "├─────────────┼─────────────┤\n",
      "│    name     │   'Maury'   │\n",
      "│     age     │     44      │\n",
      "│    city     │ 'San Diego' │\n",
      "│ isGoodCoder │    true     │\n",
      "└─────────────┴─────────────┘\n"
     ]
    }
   ],
   "source": [
    "// To add a new poperty, obj.newKey = value   OR obj['newKey'] = value\n",
    "\n",
    "person2['isGoodCoder'] = false;\n",
    "console.table(person2)\n",
    "\n",
    "console.log(`Sending ${person2.name} to Coding Temple...`)\n",
    "\n",
    "// To modify properties, same syntax\n",
    "person2['isGoodCoder'] = true;\n",
    "console.table(person2)"
   ]
  },
  {
   "cell_type": "markdown",
   "id": "d93a01c6",
   "metadata": {},
   "source": [
    "<a id=\"delkey\"></a>\n",
    "### Deleting keys"
   ]
  },
  {
   "cell_type": "code",
   "execution_count": 51,
   "id": "edb0d9ae",
   "metadata": {
    "scrolled": true
   },
   "outputs": [
    {
     "name": "stdout",
     "output_type": "stream",
     "text": [
      "┌─────────────┬──────────────┐\n",
      "│   (index)   │    Values    │\n",
      "├─────────────┼──────────────┤\n",
      "│    name     │   'Janet'    │\n",
      "│     age     │      55      │\n",
      "│    city     │ 'Louisville' │\n",
      "│ isGoodCoder │     true     │\n",
      "└─────────────┴──────────────┘\n",
      "┌─────────────┬──────────────┐\n",
      "│   (index)   │    Values    │\n",
      "├─────────────┼──────────────┤\n",
      "│    name     │   'Janet'    │\n",
      "│    city     │ 'Louisville' │\n",
      "│ isGoodCoder │     true     │\n",
      "└─────────────┴──────────────┘\n"
     ]
    }
   ],
   "source": [
    "// we use the delete keyword\n",
    "// delete object['property'] OR delete object.property\n",
    "\n",
    "console.table(person1);\n",
    "\n",
    "delete person1.age;\n",
    "\n",
    "console.table(person1);"
   ]
  },
  {
   "cell_type": "code",
   "execution_count": 52,
   "id": "70581cfb",
   "metadata": {},
   "outputs": [
    {
     "name": "stdout",
     "output_type": "stream",
     "text": [
      "┌─────────────┬─────────────┐\n",
      "│   (index)   │   Values    │\n",
      "├─────────────┼─────────────┤\n",
      "│    name     │   'Maury'   │\n",
      "│     age     │     44      │\n",
      "│    city     │ 'San Diego' │\n",
      "│ isGoodCoder │    true     │\n",
      "└─────────────┴─────────────┘\n",
      "┌─────────────┬─────────────┐\n",
      "│   (index)   │   Values    │\n",
      "├─────────────┼─────────────┤\n",
      "│    name     │   'Maury'   │\n",
      "│    city     │ 'San Diego' │\n",
      "│ isGoodCoder │    true     │\n",
      "└─────────────┴─────────────┘\n"
     ]
    }
   ],
   "source": [
    "console.table(person2)\n",
    "\n",
    "delete person2['age']\n",
    "\n",
    "console.table(person2)"
   ]
  },
  {
   "cell_type": "code",
   "execution_count": 53,
   "id": "6410eeca",
   "metadata": {},
   "outputs": [],
   "source": [
    "let someBigObj = {\n",
    "    a: 123,\n",
    "    b: 'xyz',\n",
    "    c: [4, 5, 6],\n",
    "    d: {\n",
    "        m: \"Mornin'\",\n",
    "        n: 'Night'\n",
    "    }\n",
    "}"
   ]
  },
  {
   "cell_type": "code",
   "execution_count": 56,
   "id": "841e1131",
   "metadata": {},
   "outputs": [
    {
     "name": "stdout",
     "output_type": "stream",
     "text": [
      "Mornin'\n"
     ]
    }
   ],
   "source": [
    "console.log(someBigObj.d.m)"
   ]
  },
  {
   "cell_type": "code",
   "execution_count": 57,
   "id": "9aea8171",
   "metadata": {},
   "outputs": [
    {
     "name": "stdout",
     "output_type": "stream",
     "text": [
      "Night\n"
     ]
    }
   ],
   "source": [
    "console.log(someBigObj['d']['n'])"
   ]
  },
  {
   "cell_type": "code",
   "execution_count": 60,
   "id": "765989b7",
   "metadata": {},
   "outputs": [
    {
     "data": {
      "text/plain": [
       "4"
      ]
     },
     "execution_count": 60,
     "metadata": {},
     "output_type": "execute_result"
    }
   ],
   "source": [
    "// Arrays are Objects but only use Bracket Notation\n",
    "\n",
    "someBigObj.c[0]"
   ]
  },
  {
   "cell_type": "markdown",
   "id": "674594c6",
   "metadata": {},
   "source": [
    "<a id=\"ice1\"></a>\n",
    "\n",
    "### In Class Exercise #1"
   ]
  },
  {
   "cell_type": "code",
   "execution_count": 61,
   "id": "cc5c2062",
   "metadata": {},
   "outputs": [],
   "source": [
    "let person3 = {\n",
    "    name: \"Max\",\n",
    "    age:31,\n",
    "    progLanguages:['JavaScript','Python','C++', 'Java'],\n",
    "    favColor: \"Blue\",\n",
    "    teams:[\n",
    "        {\n",
    "            baseball: 'Chicago White Sox',\n",
    "            football: 'Chicago Bears',\n",
    "            hockey: 'Chicago Blackhawks',\n",
    "            basketball:['Chicago Bulls','Chicago Sky'],\n",
    "            soccer:['Chicago Fire', 'Naperville Yellowjacks']\n",
    "        },\n",
    "        {\n",
    "            baseball:'Toronto Bluejays',\n",
    "            football: 'LA Rams',\n",
    "            basketball: 'Milwalkee Bucks',\n",
    "            soccer: ['Manchester United','Liverpool']\n",
    "        }\n",
    "    ]\n",
    "}"
   ]
  },
  {
   "cell_type": "markdown",
   "id": "769a63cd",
   "metadata": {},
   "source": [
    "Using the above object print out the following values in the cell underneath the heading."
   ]
  },
  {
   "cell_type": "markdown",
   "id": "cabe15cc",
   "metadata": {},
   "source": [
    "##### a) \"Blue\""
   ]
  },
  {
   "cell_type": "code",
   "execution_count": 63,
   "id": "def3c151",
   "metadata": {},
   "outputs": [
    {
     "name": "stdout",
     "output_type": "stream",
     "text": [
      "Blue\n",
      "Blue\n"
     ]
    }
   ],
   "source": [
    "console.log(person3.favColor)\n",
    "console.log(person3['favColor'])"
   ]
  },
  {
   "cell_type": "markdown",
   "id": "566376de",
   "metadata": {},
   "source": [
    "##### b) \"C++\""
   ]
  },
  {
   "cell_type": "code",
   "execution_count": 67,
   "id": "b8c88a0c",
   "metadata": {},
   "outputs": [
    {
     "name": "stdout",
     "output_type": "stream",
     "text": [
      "C++\n",
      "C++\n"
     ]
    }
   ],
   "source": [
    "console.log(person3.progLanguages[2])\n",
    "console.log(person3['progLanguages'][2])"
   ]
  },
  {
   "cell_type": "markdown",
   "id": "e893f1fa",
   "metadata": {},
   "source": [
    "##### c) \"LA Rams\""
   ]
  },
  {
   "cell_type": "code",
   "execution_count": 74,
   "id": "ff4babbd",
   "metadata": {},
   "outputs": [
    {
     "name": "stdout",
     "output_type": "stream",
     "text": [
      "LA Rams\n",
      "LA Rams\n"
     ]
    }
   ],
   "source": [
    "console.log(person3.teams[1].football)\n",
    "console.log(person3['teams'][1]['football'])"
   ]
  },
  {
   "cell_type": "markdown",
   "id": "f8b65dfe",
   "metadata": {},
   "source": [
    "##### d) \"Chicago Fire\""
   ]
  },
  {
   "cell_type": "code",
   "execution_count": 80,
   "id": "b0864e27",
   "metadata": {},
   "outputs": [
    {
     "name": "stdout",
     "output_type": "stream",
     "text": [
      "Chicago Fire\n",
      "Chicago Fire\n"
     ]
    }
   ],
   "source": [
    "console.log(person3.teams[0].soccer[0])\n",
    "console.log(person3['teams'][0]['soccer'][0])"
   ]
  },
  {
   "cell_type": "markdown",
   "id": "ea1e9486",
   "metadata": {},
   "source": [
    "##### e) \"Liverpool\""
   ]
  },
  {
   "cell_type": "code",
   "execution_count": 87,
   "id": "de7bd75d",
   "metadata": {},
   "outputs": [
    {
     "name": "stdout",
     "output_type": "stream",
     "text": [
      "Liverpool\n",
      "Liverpool\n"
     ]
    }
   ],
   "source": [
    "console.log(person3.teams[1].soccer[1])\n",
    "console.log(person3['teams'][1]['soccer'][1])"
   ]
  },
  {
   "cell_type": "markdown",
   "id": "70feac34",
   "metadata": {},
   "source": [
    "<a id=\"destruct\"></a>\n",
    "\n",
    "### Object Destructuring\n",
    "\n",
    "This is a very important topic because it is widely used, and in most applications, considered best practice.\n",
    "\n",
    "This will allow us to break the keys of a dictionary up into variables when passing to a function"
   ]
  },
  {
   "cell_type": "code",
   "execution_count": 88,
   "id": "16443bf6",
   "metadata": {},
   "outputs": [],
   "source": [
    "let primaryColors = ['red', 'yellow', 'blue'];\n",
    "\n",
    "let [r, y, b] = primaryColors;"
   ]
  },
  {
   "cell_type": "code",
   "execution_count": 91,
   "id": "4222b98a",
   "metadata": {},
   "outputs": [
    {
     "name": "stdout",
     "output_type": "stream",
     "text": [
      "blue\n"
     ]
    }
   ],
   "source": [
    "console.log(b)"
   ]
  },
  {
   "cell_type": "code",
   "execution_count": 92,
   "id": "2450acab",
   "metadata": {},
   "outputs": [
    {
     "name": "stdout",
     "output_type": "stream",
     "text": [
      "{ color: 'blue', brand: 'Adidas', size: 10 }\n"
     ]
    }
   ],
   "source": [
    "let shoe = {\n",
    "    color: 'blue',\n",
    "    brand: 'Adidas',\n",
    "    size: 10\n",
    "}\n",
    "\n",
    "console.log(shoe)"
   ]
  },
  {
   "cell_type": "markdown",
   "id": "b057608f",
   "metadata": {},
   "source": [
    "#### As Variables"
   ]
  },
  {
   "cell_type": "markdown",
   "id": "163c32cb",
   "metadata": {},
   "source": [
    "<strong>Note: </strong> the variable names must match the names of the keys in the object."
   ]
  },
  {
   "cell_type": "code",
   "execution_count": 93,
   "id": "e9d4f3a7",
   "metadata": {},
   "outputs": [
    {
     "name": "stdout",
     "output_type": "stream",
     "text": [
      "10\n",
      "blue\n",
      "Adidas\n"
     ]
    }
   ],
   "source": [
    "let { size, color, brand } = shoe;\n",
    "\n",
    "console.log(size);\n",
    "console.log(color);\n",
    "console.log(brand);"
   ]
  },
  {
   "cell_type": "code",
   "execution_count": 95,
   "id": "69c81f8d",
   "metadata": {},
   "outputs": [
    {
     "name": "stdout",
     "output_type": "stream",
     "text": [
      "Blue\n"
     ]
    }
   ],
   "source": [
    "let { favColor } = person3\n",
    "\n",
    "console.log(favColor);"
   ]
  },
  {
   "cell_type": "code",
   "execution_count": 96,
   "id": "b9be87ac",
   "metadata": {},
   "outputs": [
    {
     "name": "stdout",
     "output_type": "stream",
     "text": [
      "undefined\n"
     ]
    }
   ],
   "source": [
    "// variable name must match a key in the object. If not, it will be undefined\n",
    "\n",
    "let { test } = shoe;\n",
    "\n",
    "console.log(test);"
   ]
  },
  {
   "cell_type": "code",
   "execution_count": 97,
   "id": "490a5dbc",
   "metadata": {},
   "outputs": [],
   "source": [
    "let car = {\n",
    "    carColor: 'pink',\n",
    "    make: 'Ford',\n",
    "    model: 'F-150'\n",
    "}\n",
    "\n",
    "// let { carColor, make, model } = car is equivalent to: see below\n",
    "let carColor = car.carColor\n",
    "let make = car.make\n",
    "let model = car.model"
   ]
  },
  {
   "cell_type": "markdown",
   "id": "9bdcc7b7",
   "metadata": {},
   "source": [
    "#### As parameters"
   ]
  },
  {
   "cell_type": "markdown",
   "id": "e988dbda",
   "metadata": {},
   "source": [
    "First, let's remember how this would work when passing an array"
   ]
  },
  {
   "cell_type": "code",
   "execution_count": 98,
   "id": "8558aee9",
   "metadata": {},
   "outputs": [
    {
     "name": "stdout",
     "output_type": "stream",
     "text": [
      "a= hi\n",
      "b= hello\n",
      "c= hola\n",
      "a= 4\n",
      "b= 5\n",
      "c= 6\n"
     ]
    }
   ],
   "source": [
    "function destructureArray([a, b, c]){\n",
    "    console.log('a=', a);\n",
    "    console.log('b=', b);\n",
    "    console.log('c=', c);\n",
    "}\n",
    "\n",
    "destructureArray(['hi', 'hello', 'hola'])\n",
    "destructureArray([4, 5, 6])"
   ]
  },
  {
   "cell_type": "markdown",
   "id": "0641ecae",
   "metadata": {},
   "source": [
    "<b>Now, let's see how this looks with an object without destructuring</b>"
   ]
  },
  {
   "cell_type": "code",
   "execution_count": 99,
   "id": "8710136b",
   "metadata": {},
   "outputs": [
    {
     "name": "stdout",
     "output_type": "stream",
     "text": [
      "blue\n",
      "Adidas\n",
      "10\n"
     ]
    }
   ],
   "source": [
    "//Without destructuring\n",
    "function logShoeInfo(shoeObj){\n",
    "    console.log(shoeObj.color);\n",
    "    console.log(shoeObj.brand);\n",
    "    console.log(shoeObj.size);\n",
    "}\n",
    "\n",
    "logShoeInfo(shoe)"
   ]
  },
  {
   "cell_type": "code",
   "execution_count": 100,
   "id": "a502fe15",
   "metadata": {},
   "outputs": [
    {
     "name": "stdout",
     "output_type": "stream",
     "text": [
      "green\n",
      "Nike\n",
      "12\n"
     ]
    }
   ],
   "source": [
    "let shoe2 = {\n",
    "    size: 12,\n",
    "    color: 'green',\n",
    "    brand: 'Nike'\n",
    "}\n",
    "\n",
    "logShoeInfo(shoe2)"
   ]
  },
  {
   "cell_type": "markdown",
   "id": "0ff839bf",
   "metadata": {},
   "source": [
    "<b>and with destructuring </b>"
   ]
  },
  {
   "cell_type": "code",
   "execution_count": 101,
   "id": "5a72c275",
   "metadata": {},
   "outputs": [],
   "source": [
    "//With Destructuring \n",
    "function logShoe({ brand, size, color }){\n",
    "    console.log(color);\n",
    "    console.log(brand);\n",
    "    console.log(size)\n",
    "}"
   ]
  },
  {
   "cell_type": "code",
   "execution_count": 103,
   "id": "33ff846b",
   "metadata": {},
   "outputs": [
    {
     "name": "stdout",
     "output_type": "stream",
     "text": [
      "blue\n",
      "Adidas\n",
      "10\n"
     ]
    }
   ],
   "source": [
    "logShoe(shoe)"
   ]
  },
  {
   "cell_type": "code",
   "execution_count": 104,
   "id": "d150d102",
   "metadata": {},
   "outputs": [
    {
     "name": "stdout",
     "output_type": "stream",
     "text": [
      "green\n",
      "Nike\n",
      "12\n"
     ]
    }
   ],
   "source": [
    "logShoe(shoe2)"
   ]
  },
  {
   "cell_type": "code",
   "execution_count": 105,
   "id": "3c14f11c",
   "metadata": {},
   "outputs": [
    {
     "name": "stdout",
     "output_type": "stream",
     "text": [
      "Tie-dye\n",
      "Rad\n",
      "11\n"
     ]
    }
   ],
   "source": [
    "let radicalShoe = {\n",
    "    brand: 'Rad',\n",
    "    color: 'Tie-dye',\n",
    "    size: 11,\n",
    "    secondaryColor: 'black',\n",
    "    hiTops: true\n",
    "}\n",
    "\n",
    "logShoe(radicalShoe)"
   ]
  },
  {
   "cell_type": "code",
   "execution_count": 106,
   "id": "e7ac91af",
   "metadata": {},
   "outputs": [
    {
     "name": "stdout",
     "output_type": "stream",
     "text": [
      "undefined\n",
      "Sandal\n",
      "13\n"
     ]
    }
   ],
   "source": [
    "let sandal = {\n",
    "    brand: 'Sandal',\n",
    "    size: 13\n",
    "}\n",
    "\n",
    "logShoe(sandal)"
   ]
  },
  {
   "cell_type": "markdown",
   "id": "3e614632",
   "metadata": {},
   "source": [
    "#### Mixing destructuring with other parameters"
   ]
  },
  {
   "cell_type": "code",
   "execution_count": 107,
   "id": "93ba8d77",
   "metadata": {},
   "outputs": [],
   "source": [
    "let personJones={\n",
    "    firstName:\"Russel\",\n",
    "    lastName:\"Jones\",\n",
    "    nickName:\"Ol' Dirty Illegitimate Child\",\n",
    "    age: 35,\n",
    "    height:62\n",
    "}\n",
    "\n",
    "let quote = `Here I go, deep type flow, Jackques Costueau could never get this low.`\n"
   ]
  },
  {
   "cell_type": "code",
   "execution_count": 108,
   "id": "4231e3bb",
   "metadata": {
    "scrolled": true
   },
   "outputs": [],
   "source": [
    "function sayIt(aQuote, { firstName, lastName, nickName, age, height }){\n",
    "    console.log(aQuote);\n",
    "    console.log(`By ${firstName} \"${nickName}\" ${lastName}\\nAge: ${age}, Height: ${height}`)\n",
    "}"
   ]
  },
  {
   "cell_type": "code",
   "execution_count": 109,
   "id": "b37774eb",
   "metadata": {},
   "outputs": [
    {
     "name": "stdout",
     "output_type": "stream",
     "text": [
      "Here I go, deep type flow, Jackques Costueau could never get this low.\n",
      "By Russel \"Ol' Dirty Illegitimate Child\" Jones\n",
      "Age: 35, Height: 62\n"
     ]
    }
   ],
   "source": [
    "sayIt(quote, personJones)"
   ]
  },
  {
   "cell_type": "code",
   "execution_count": 110,
   "id": "f66ddab7",
   "metadata": {},
   "outputs": [
    {
     "name": "stdout",
     "output_type": "stream",
     "text": [
      "I love JavaScript\n",
      "By Brian \"Cool Guy\" Stanton\n",
      "Age: 99, Height: 99\n"
     ]
    }
   ],
   "source": [
    "sayIt('I love JavaScript', {firstName:'Brian', lastName: 'Stanton', nickName: 'Cool Guy', age: 99, height: 99})"
   ]
  },
  {
   "cell_type": "markdown",
   "id": "b1499ae0",
   "metadata": {},
   "source": [
    "<a id=\"spread\"></a>\n",
    "\n",
    "#### The Spread Operator"
   ]
  },
  {
   "cell_type": "markdown",
   "id": "c55a2f62",
   "metadata": {},
   "source": [
    "The spread operator can be used to copy an object, combine multiple objects, or even to add a new key while copying an object"
   ]
  },
  {
   "cell_type": "code",
   "execution_count": 111,
   "id": "5a58546a",
   "metadata": {},
   "outputs": [
    {
     "name": "stdout",
     "output_type": "stream",
     "text": [
      "┌─────────────┬──────────────┐\n",
      "│   (index)   │    Values    │\n",
      "├─────────────┼──────────────┤\n",
      "│    name     │   'Janet'    │\n",
      "│    city     │ 'Louisville' │\n",
      "│ isGoodCoder │     true     │\n",
      "└─────────────┴──────────────┘\n"
     ]
    }
   ],
   "source": [
    "console.table(person1)"
   ]
  },
  {
   "cell_type": "markdown",
   "id": "0133d1d3",
   "metadata": {},
   "source": [
    "#### Copying"
   ]
  },
  {
   "cell_type": "code",
   "execution_count": 112,
   "id": "aef9a38a",
   "metadata": {},
   "outputs": [
    {
     "name": "stdout",
     "output_type": "stream",
     "text": [
      "{ name: 'Janet', city: 'Louisville', isGoodCoder: true }\n"
     ]
    }
   ],
   "source": [
    "let janet = {...person1}\n",
    "console.log(janet)"
   ]
  },
  {
   "cell_type": "markdown",
   "id": "80137893",
   "metadata": {},
   "source": [
    "#### Adding a key while copying"
   ]
  },
  {
   "cell_type": "code",
   "execution_count": 113,
   "id": "d533b744",
   "metadata": {},
   "outputs": [
    {
     "name": "stdout",
     "output_type": "stream",
     "text": [
      "┌─────────────┬──────────────┐\n",
      "│   (index)   │    Values    │\n",
      "├─────────────┼──────────────┤\n",
      "│    name     │   'Janet'    │\n",
      "│    city     │ 'Louisville' │\n",
      "│ isGoodCoder │     true     │\n",
      "│     id      │     187      │\n",
      "└─────────────┴──────────────┘\n"
     ]
    }
   ],
   "source": [
    "//add an id of 187 to the person object and save it as a new object called newPerson\n",
    "\n",
    "let newPerson1 = {...person1, id: 187}\n",
    "\n",
    "console.table(newPerson1)"
   ]
  },
  {
   "cell_type": "code",
   "execution_count": 114,
   "id": "d1ea02a3",
   "metadata": {},
   "outputs": [
    {
     "name": "stdout",
     "output_type": "stream",
     "text": [
      "┌─────────────┬──────────────┐\n",
      "│   (index)   │    Values    │\n",
      "├─────────────┼──────────────┤\n",
      "│    name     │   'Janet'    │\n",
      "│    city     │ 'Louisville' │\n",
      "│ isGoodCoder │     true     │\n",
      "└─────────────┴──────────────┘\n"
     ]
    }
   ],
   "source": [
    "console.table(person1)"
   ]
  },
  {
   "cell_type": "markdown",
   "id": "ae337d3b",
   "metadata": {},
   "source": [
    "#### Combining"
   ]
  },
  {
   "cell_type": "code",
   "execution_count": 115,
   "id": "3ec22de2",
   "metadata": {},
   "outputs": [
    {
     "name": "stdout",
     "output_type": "stream",
     "text": [
      "{ a: 123, b: 456, c: 789, d: 10 }\n"
     ]
    }
   ],
   "source": [
    "let obj1 = {a: 123, b: 456};\n",
    "let obj2 = {c: 789, d: 10};\n",
    "\n",
    "\n",
    "let obj3 = {...obj1, ...obj2}\n",
    "console.log(obj3)"
   ]
  },
  {
   "cell_type": "code",
   "execution_count": 116,
   "id": "3fb9d55e",
   "metadata": {},
   "outputs": [],
   "source": [
    "let objA = {id: 10001, name: 'Item A', price: 5.99}\n",
    "let objB = {price: 9.55, description: 'Great New Item'}"
   ]
  },
  {
   "cell_type": "markdown",
   "id": "e6f19647",
   "metadata": {},
   "source": [
    "<strong>Note: </strong> Both Objects have a key of price, Let's see which price gets added to the new object"
   ]
  },
  {
   "cell_type": "code",
   "execution_count": 117,
   "id": "3b43a020",
   "metadata": {},
   "outputs": [
    {
     "name": "stdout",
     "output_type": "stream",
     "text": [
      "┌─────────────┬──────────────────┐\n",
      "│   (index)   │      Values      │\n",
      "├─────────────┼──────────────────┤\n",
      "│     id      │      10001       │\n",
      "│    name     │     'Item A'     │\n",
      "│    price    │       9.55       │\n",
      "│ description │ 'Great New Item' │\n",
      "└─────────────┴──────────────────┘\n"
     ]
    }
   ],
   "source": [
    "let objAB = {...objA, ...objB}\n",
    "console.table(objAB)"
   ]
  },
  {
   "cell_type": "code",
   "execution_count": 118,
   "id": "534aa8e4",
   "metadata": {},
   "outputs": [
    {
     "name": "stdout",
     "output_type": "stream",
     "text": [
      "┌─────────────┬──────────────────┐\n",
      "│   (index)   │      Values      │\n",
      "├─────────────┼──────────────────┤\n",
      "│    price    │       5.99       │\n",
      "│ description │ 'Great New Item' │\n",
      "│     id      │      10001       │\n",
      "│    name     │     'Item A'     │\n",
      "└─────────────┴──────────────────┘\n"
     ]
    }
   ],
   "source": [
    "let objBA = {...objB, ...objA}\n",
    "\n",
    "console.table(objBA)"
   ]
  },
  {
   "cell_type": "markdown",
   "id": "1fb7014a",
   "metadata": {},
   "source": [
    "<a id=\"rest\"></a>\n",
    "\n",
    "### Rest Operator"
   ]
  },
  {
   "cell_type": "markdown",
   "id": "a3352ac6",
   "metadata": {},
   "source": [
    "Just like with arrays sometimes you only want to destructure part of your object, you can do this with the rest `...` operator"
   ]
  },
  {
   "cell_type": "code",
   "execution_count": 119,
   "id": "17d6111f",
   "metadata": {},
   "outputs": [
    {
     "data": {
      "text/plain": [
       "{ id: 1, title: 'test', body: 'My Test', author: 'Stephen King' }"
      ]
     },
     "execution_count": 119,
     "metadata": {},
     "output_type": "execute_result"
    }
   ],
   "source": [
    "restTestObj={\n",
    "    id:1,\n",
    "    title: \"test\",\n",
    "    body: \"My Test\",\n",
    "    author: \"Stephen King\"\n",
    "}\n",
    "\n",
    "let { title, author, ...otherStuff} = restTestObj"
   ]
  },
  {
   "cell_type": "code",
   "execution_count": 122,
   "id": "fe00e283",
   "metadata": {},
   "outputs": [
    {
     "name": "stdout",
     "output_type": "stream",
     "text": [
      "test\n",
      "Stephen King\n",
      "{ id: 1, body: 'My Test' }\n"
     ]
    }
   ],
   "source": [
    "console.log(title);\n",
    "console.log(author);\n",
    "console.log(otherStuff);"
   ]
  },
  {
   "cell_type": "code",
   "execution_count": 123,
   "id": "3ad7fe05",
   "metadata": {},
   "outputs": [
    {
     "name": "stdout",
     "output_type": "stream",
     "text": [
      "undefined\n"
     ]
    }
   ],
   "source": [
    "// If the property is not in the object, the variable will be undefined\n",
    "\n",
    "let country = {\n",
    "    name: 'USA',\n",
    "    capital: 'Washington, D.C.',\n",
    "    founded: 1776\n",
    "}\n",
    "\n",
    "let { population } = country;\n",
    "\n",
    "console.log(population)"
   ]
  },
  {
   "cell_type": "code",
   "execution_count": 124,
   "id": "0d7b9507",
   "metadata": {},
   "outputs": [],
   "source": [
    "let student = {\n",
    "    studentName: 'Jimmy',\n",
    "    grade: 'B+',\n",
    "    teacher: 'Mrs. Featherbottom'\n",
    "}"
   ]
  },
  {
   "cell_type": "code",
   "execution_count": null,
   "id": "1bfafbd3",
   "metadata": {},
   "outputs": [],
   "source": [
    "// This:\n",
    "let { studentName, grade, teacher } = student;\n",
    "\n",
    "// is equivalent to this:\n",
    "let studentName = student.studentName;\n",
    "let grade = student.grade;\n",
    "let teacher = student.teacher;\n",
    "\n",
    "\n",
    "// ^ The above will throw an error because of let declarations (example only)"
   ]
  },
  {
   "cell_type": "markdown",
   "id": "c2e83bc1",
   "metadata": {},
   "source": [
    "<a id=\"ice2\"></a>\n",
    "\n",
    "### In Class Assignment #2"
   ]
  },
  {
   "cell_type": "markdown",
   "id": "9630dc92",
   "metadata": {},
   "source": [
    "Create a function called `destructed` that recieves the `destructMe` dictionary using destructuring. Destruct the title body and author and leave the rest of the attributes in a parameter called `others`.\n",
    "Print out the title, body, and author to the console. Then print the entire contents of `others` to the console."
   ]
  },
  {
   "cell_type": "code",
   "execution_count": 125,
   "id": "9e4b3028",
   "metadata": {},
   "outputs": [],
   "source": [
    "var destructMe={\n",
    "    title: \"Intro to JavaScript\",\n",
    "    body: \"I really wish JavaScript had static type checking\",\n",
    "    createdOn: new Date(),\n",
    "    author: \"Kevin Beier\",\n",
    "    topic: \"Programming\",\n",
    "    tags: [\"JS\", \"Async\", \"Dynamic Types\"]\n",
    "}"
   ]
  },
  {
   "cell_type": "code",
   "execution_count": 127,
   "id": "7fb46ba2",
   "metadata": {},
   "outputs": [
    {
     "name": "stdout",
     "output_type": "stream",
     "text": [
      "Intro to JavaScript I really wish JavaScript had static type checking Kevin Beier\n",
      "{\n",
      "  createdOn: 2024-01-18T17:54:44.833Z,\n",
      "  topic: 'Programming',\n",
      "  tags: [ 'JS', 'Async', 'Dynamic Types' ]\n",
      "}\n"
     ]
    }
   ],
   "source": [
    "//Solution\n",
    "function destructed({ title, body, author, ...others }){\n",
    "    console.log(title, body, author);\n",
    "    console.log(others)\n",
    "}\n",
    "\n",
    "\n",
    "destructed(destructMe)\n",
    "//OUTPUT:\n",
    "/*\n",
    "Intro to JavaScript I really wish JavaScript had static type checking Kevin Beier\n",
    "{\n",
    "  createdOn: 2023-06-07T16:18:31.133Z,\n",
    "  topic: 'Programming',\n",
    "  tags: [ 'JS', 'Async', 'Dynamic Types' ]\n",
    "}\n",
    "*/"
   ]
  },
  {
   "cell_type": "markdown",
   "id": "eede8031",
   "metadata": {},
   "source": [
    "<a id=\"chain\"></a>\n",
    "\n",
    "### Optional Chaining"
   ]
  },
  {
   "cell_type": "markdown",
   "id": "ff7db122",
   "metadata": {},
   "source": [
    "Imagine you have many of the same object, and you want to key into it.  Now imagine not all objects have that key, and you want to do an operation on every object without getting an error.  Welcome in optional chaining using the `?.`"
   ]
  },
  {
   "cell_type": "code",
   "execution_count": 128,
   "id": "4bf85372",
   "metadata": {},
   "outputs": [],
   "source": [
    "let someObject1 = {\n",
    "    name: 'Jack',\n",
    "    friends: ['John', 'Joe', 'Jim']\n",
    "}\n",
    "\n",
    "let someObject2 = {\n",
    "    name: 'Kylie'\n",
    "}"
   ]
  },
  {
   "cell_type": "code",
   "execution_count": 130,
   "id": "e70de169",
   "metadata": {},
   "outputs": [
    {
     "name": "stdout",
     "output_type": "stream",
     "text": [
      "{ name: 'Jack', friends: [ 'John', 'Joe', 'Jim', 'Jeremy' ] }\n"
     ]
    }
   ],
   "source": [
    "someObject1.friends.push('Jeremy');\n",
    "\n",
    "console.log(someObject1)"
   ]
  },
  {
   "cell_type": "code",
   "execution_count": 131,
   "id": "022c6873",
   "metadata": {},
   "outputs": [
    {
     "ename": "TypeError",
     "evalue": "Cannot read properties of undefined (reading 'push')",
     "output_type": "error",
     "traceback": [
      "evalmachine.<anonymous>:1",
      "someObject2.friends.push('Kendall')",
      "                    ^",
      "",
      "TypeError: Cannot read properties of undefined (reading 'push')",
      "    at evalmachine.<anonymous>:1:21",
      "    at Script.runInThisContext (node:vm:129:12)",
      "    at Object.runInThisContext (node:vm:307:38)",
      "    at run ([eval]:1020:15)",
      "    at onRunRequest ([eval]:864:18)",
      "    at onMessage ([eval]:828:13)",
      "    at process.emit (node:events:513:28)",
      "    at emit (node:internal/child_process:937:14)",
      "    at process.processTicksAndRejections (node:internal/process/task_queues:83:21)"
     ]
    }
   ],
   "source": [
    "someObject2.friends.push('Kendall')\n",
    "// The .friends property is undefined, so calling the .push method from there throws an Error"
   ]
  },
  {
   "cell_type": "code",
   "execution_count": 133,
   "id": "30a06121",
   "metadata": {},
   "outputs": [
    {
     "name": "stdout",
     "output_type": "stream",
     "text": [
      "undefined\n"
     ]
    }
   ],
   "source": [
    "console.log(someObject2.friends)"
   ]
  },
  {
   "cell_type": "code",
   "execution_count": 134,
   "id": "340f9b47",
   "metadata": {},
   "outputs": [
    {
     "name": "stdout",
     "output_type": "stream",
     "text": [
      "{ name: 'Kylie' }\n"
     ]
    }
   ],
   "source": [
    "someObject2.friends?.push('Kendall')\n",
    "\n",
    "console.log(someObject2)"
   ]
  },
  {
   "cell_type": "code",
   "execution_count": 135,
   "id": "0db18d50",
   "metadata": {},
   "outputs": [
    {
     "name": "stdout",
     "output_type": "stream",
     "text": [
      "{ name: 'Jack', friends: [ 'John', 'Joe', 'Jim', 'Jeremy', 'Jeff' ] }\n"
     ]
    }
   ],
   "source": [
    "someObject1.friends?.push('Jeff')\n",
    "\n",
    "console.log(someObject1)"
   ]
  },
  {
   "cell_type": "code",
   "execution_count": 136,
   "id": "06c86d99",
   "metadata": {
    "scrolled": true
   },
   "outputs": [
    {
     "data": {
      "text/plain": [
       "[\n",
       "  {\n",
       "    id: 1,\n",
       "    title: 'Oppenheimer',\n",
       "    releaseYear: 2023,\n",
       "    studio: { name: 'Warner Bros' }\n",
       "  },\n",
       "  {\n",
       "    id: 2,\n",
       "    title: 'The Dark Knight',\n",
       "    releaseYear: 2009,\n",
       "    studio: { name: 'Sony' }\n",
       "  },\n",
       "  { id: 3, title: 'Gladiator', releaseYear: 2001 }\n",
       "]"
      ]
     },
     "execution_count": 136,
     "metadata": {},
     "output_type": "execute_result"
    }
   ],
   "source": [
    "movies = [\n",
    "    { id: 1, title: 'Oppenheimer', releaseYear: 2023, studio: { name: 'Warner Bros'}},\n",
    "    { id: 2, title: 'The Dark Knight', releaseYear: 2009, studio: { name: 'Sony'}},\n",
    "    { id: 3, title: 'Gladiator', releaseYear: 2001}\n",
    "]"
   ]
  },
  {
   "cell_type": "code",
   "execution_count": 140,
   "id": "354d1554",
   "metadata": {},
   "outputs": [
    {
     "name": "stdout",
     "output_type": "stream",
     "text": [
      "Warner Bros\n",
      "Sony\n",
      "undefined\n"
     ]
    }
   ],
   "source": [
    "for (let movie of movies){\n",
    "    console.log(movie.studio?.name)\n",
    "}"
   ]
  },
  {
   "cell_type": "code",
   "execution_count": 141,
   "id": "3f36ce67",
   "metadata": {},
   "outputs": [
    {
     "name": "stdout",
     "output_type": "stream",
     "text": [
      "Warner Bros\n",
      "Sony\n",
      "undefined\n"
     ]
    }
   ],
   "source": [
    "// condition ? if true : if false\n",
    "for (let movie of movies){\n",
    "    console.log(movie.studio ? movie.studio.name : undefined)\n",
    "}"
   ]
  },
  {
   "cell_type": "code",
   "execution_count": 143,
   "id": "7989dc83",
   "metadata": {},
   "outputs": [],
   "source": [
    "let movies2 = [\n",
    "    { id: 1, title: 'Oppenheimer', releaseYear: 2023, studio: { name: 'Warner Bros', address: {city: 'Los Angeles', street: 'Rodeo Dr'}}},\n",
    "    { id: 2, title: 'The Dark Knight', releaseYear: 2009, studio: { name: 'Sony', address: {city: 'Los Angeles', street: 'Rodeo Dr'}}},\n",
    "    { id: 3, title: 'Gladiator', releaseYear: 2001}\n",
    "]"
   ]
  },
  {
   "cell_type": "code",
   "execution_count": 148,
   "id": "3e9cb639",
   "metadata": {},
   "outputs": [
    {
     "name": "stdout",
     "output_type": "stream",
     "text": [
      "Los Angeles\n",
      "Los Angeles\n",
      "undefined\n"
     ]
    }
   ],
   "source": [
    "for (let m of movies2){\n",
    "    console.log(m.studio?.address?.city)\n",
    "}"
   ]
  },
  {
   "cell_type": "code",
   "execution_count": 149,
   "id": "dcf6966e",
   "metadata": {},
   "outputs": [
    {
     "name": "stdout",
     "output_type": "stream",
     "text": [
      "Los Angeles\n",
      "Los Angeles\n",
      "undefined\n"
     ]
    }
   ],
   "source": [
    "for (let m of movies2){\n",
    "    console.log(m.studio ? m.studio.address ? m.studio.address.city : undefined : undefined)\n",
    "}"
   ]
  },
  {
   "cell_type": "markdown",
   "id": "9d2712b8",
   "metadata": {},
   "source": [
    "<a id=\"nco\"></a>\n",
    "\n",
    "### Nullish Coalescing Operator (??)"
   ]
  },
  {
   "cell_type": "markdown",
   "id": "0d2088ff",
   "metadata": {},
   "source": [
    "Often times we want to check the value of something and if it is undefined or null, we want to use a default value instead. The Nullish Coalescing Operator `??` allows just that."
   ]
  },
  {
   "cell_type": "code",
   "execution_count": 153,
   "id": "50c62d20",
   "metadata": {},
   "outputs": [
    {
     "name": "stdout",
     "output_type": "stream",
     "text": [
      "Jack: John,Joe,Jim,Jeremy,Jeff\n",
      "Kylie: has no friends\n"
     ]
    }
   ],
   "source": [
    "console.log(`${someObject1.name}: ${someObject1.friends ?? 'has no friends'}`)\n",
    "console.log(`${someObject2.name}: ${someObject2.friends ?? 'has no friends'}`)"
   ]
  },
  {
   "cell_type": "markdown",
   "id": "468cc379",
   "metadata": {},
   "source": [
    "<b>It can be combined with optional chaining</b>"
   ]
  },
  {
   "cell_type": "code",
   "execution_count": 159,
   "id": "d54aac96",
   "metadata": {},
   "outputs": [
    {
     "name": "stdout",
     "output_type": "stream",
     "text": [
      "[\n",
      "  {\n",
      "    id: 1,\n",
      "    title: 'Oppenheimer',\n",
      "    releaseYear: 2023,\n",
      "    studio: { name: 'Warner Bros' }\n",
      "  },\n",
      "  {\n",
      "    id: 2,\n",
      "    title: 'The Dark Knight',\n",
      "    releaseYear: 2009,\n",
      "    studio: { name: 'Sony' }\n",
      "  },\n",
      "  { id: 3, title: 'Gladiator', releaseYear: 2001 }\n",
      "]\n"
     ]
    }
   ],
   "source": [
    "console.log(movies)"
   ]
  },
  {
   "cell_type": "code",
   "execution_count": 161,
   "id": "6e65f06b",
   "metadata": {
    "scrolled": true
   },
   "outputs": [
    {
     "name": "stdout",
     "output_type": "stream",
     "text": [
      "Oppenheimer released in 2023 -- Studio: Warner Bros\n",
      "The Dark Knight released in 2009 -- Studio: Sony\n",
      "Gladiator released in 2001 -- Studio: Independent\n"
     ]
    }
   ],
   "source": [
    "for (let m of movies){\n",
    "    console.log(`${m.title} released in ${m.releaseYear} -- Studio: ${m.studio?.name ?? 'Independent'}`)\n",
    "}\n"
   ]
  },
  {
   "cell_type": "markdown",
   "id": "81761fe4",
   "metadata": {},
   "source": [
    "<a id=\"objeq\"></a>\n",
    "\n",
    "## Object Equality"
   ]
  },
  {
   "cell_type": "markdown",
   "id": "3c9a7cf5",
   "metadata": {},
   "source": [
    "Testing whether two object in JS are the same can be rather confusing.\n",
    "\n",
    "In JavaScript two Objects are considered equal if they point to the same spot in memory, not if the values are the same"
   ]
  },
  {
   "cell_type": "code",
   "execution_count": 164,
   "id": "db9ab7aa",
   "metadata": {},
   "outputs": [
    {
     "name": "stdout",
     "output_type": "stream",
     "text": [
      "false\n",
      "false\n"
     ]
    }
   ],
   "source": [
    "let objX = {id:1}\n",
    "let objY = {id:1}\n",
    "\n",
    "console.log(objX === objY);\n",
    "console.log(objX == objY);"
   ]
  },
  {
   "cell_type": "code",
   "execution_count": 165,
   "id": "906f204d",
   "metadata": {},
   "outputs": [],
   "source": [
    "let objZ = objX;"
   ]
  },
  {
   "cell_type": "code",
   "execution_count": 166,
   "id": "f832bfcf",
   "metadata": {},
   "outputs": [
    {
     "name": "stdout",
     "output_type": "stream",
     "text": [
      "true\n",
      "false\n"
     ]
    }
   ],
   "source": [
    "console.log(objX === objZ);\n",
    "console.log(objY === objZ);"
   ]
  },
  {
   "cell_type": "markdown",
   "id": "85276a0f",
   "metadata": {},
   "source": [
    "In this case the easy way to determine if the values are the same is to compare the id values"
   ]
  },
  {
   "cell_type": "code",
   "execution_count": 167,
   "id": "94143284",
   "metadata": {},
   "outputs": [
    {
     "name": "stdout",
     "output_type": "stream",
     "text": [
      "true\n",
      "true\n",
      "true\n"
     ]
    }
   ],
   "source": [
    "console.log(objX.id === objY.id);\n",
    "console.log(objX.id === objZ.id);\n",
    "console.log(objY.id === objZ.id);"
   ]
  },
  {
   "cell_type": "code",
   "execution_count": 168,
   "id": "75762ed2",
   "metadata": {},
   "outputs": [],
   "source": [
    "// Same applies to arrays - must be same object in memory\n",
    "let arr1 = [1, 2, 3]\n",
    "let arr2 = [1, 2, 3]\n",
    "let arr3 = arr1;"
   ]
  },
  {
   "cell_type": "code",
   "execution_count": 171,
   "id": "1451e9ed",
   "metadata": {},
   "outputs": [
    {
     "name": "stdout",
     "output_type": "stream",
     "text": [
      "false\n",
      "false\n",
      "true\n"
     ]
    }
   ],
   "source": [
    "console.log(arr1 === arr2)\n",
    "console.log(arr2 === arr3)\n",
    "console.log(arr1 === arr3)"
   ]
  },
  {
   "cell_type": "markdown",
   "id": "f9efdcb8",
   "metadata": {},
   "source": [
    "<a id=\"emptyobj\"></a>\n",
    "\n",
    "### Checking for Empty Objects/Arrays"
   ]
  },
  {
   "cell_type": "code",
   "execution_count": 172,
   "id": "8afacd22",
   "metadata": {
    "scrolled": true
   },
   "outputs": [],
   "source": [
    "let testObj;\n",
    "let testArr;"
   ]
  },
  {
   "cell_type": "code",
   "execution_count": 174,
   "id": "c899219d",
   "metadata": {},
   "outputs": [
    {
     "name": "stdout",
     "output_type": "stream",
     "text": [
      "testObj is true\n",
      "testArr is true\n"
     ]
    }
   ],
   "source": [
    "testObj = {}\n",
    "\n",
    "if (testObj){\n",
    "    console.log('testObj is true')\n",
    "} else {\n",
    "    console.log('testObj is false')\n",
    "}\n",
    "\n",
    "\n",
    "testArr = []\n",
    "\n",
    "if (testArr){\n",
    "    console.log('testArr is true')\n",
    "} else {\n",
    "    console.log('testArr is false')\n",
    "}"
   ]
  },
  {
   "cell_type": "code",
   "execution_count": 177,
   "id": "09103e0b",
   "metadata": {},
   "outputs": [
    {
     "name": "stdout",
     "output_type": "stream",
     "text": [
      "testArr is false\n"
     ]
    }
   ],
   "source": [
    "// To see if an array is empty, you can use the .length property (remember 0 evaluates to false)\n",
    "testArr = []\n",
    "\n",
    "if (testArr.length){\n",
    "    console.log('testArr is true')\n",
    "} else {\n",
    "    console.log('testArr is false')\n",
    "}"
   ]
  },
  {
   "cell_type": "code",
   "execution_count": 185,
   "id": "97ce168d",
   "metadata": {},
   "outputs": [
    {
     "name": "stdout",
     "output_type": "stream",
     "text": [
      "testObj is false\n"
     ]
    }
   ],
   "source": [
    "// To see if an object is empty, first use the keys method to get array of keys, check that length\n",
    "testObj = {}\n",
    "\n",
    "if (Object.keys(testObj).length){\n",
    "    console.log('testObj is true')\n",
    "} else {\n",
    "    console.log('testObj is false')\n",
    "}"
   ]
  },
  {
   "cell_type": "markdown",
   "id": "061f335e",
   "metadata": {},
   "source": [
    "<a id=\"loop\"></a>\n",
    "\n",
    "#### Looping over Objects"
   ]
  },
  {
   "cell_type": "markdown",
   "id": "70064320",
   "metadata": {},
   "source": [
    "In python, we have .keys .values and .items. In JS, we have .keys .values and .entries, but instead of them being instance methods on the Dictionary class (like in python), they are static methods of the Object Class (meaning they don't work on the instance but they do work on the class itself)."
   ]
  },
  {
   "cell_type": "code",
   "execution_count": 186,
   "id": "5efef94b",
   "metadata": {},
   "outputs": [
    {
     "name": "stdout",
     "output_type": "stream",
     "text": [
      "┌─────────────┬──────────────┐\n",
      "│   (index)   │    Values    │\n",
      "├─────────────┼──────────────┤\n",
      "│    name     │   'Janet'    │\n",
      "│    city     │ 'Louisville' │\n",
      "│ isGoodCoder │     true     │\n",
      "└─────────────┴──────────────┘\n"
     ]
    }
   ],
   "source": [
    "console.table(person1)"
   ]
  },
  {
   "cell_type": "markdown",
   "id": "3b28bdbf",
   "metadata": {},
   "source": [
    "##### .keys()"
   ]
  },
  {
   "cell_type": "code",
   "execution_count": 189,
   "id": "b27ac1f4",
   "metadata": {},
   "outputs": [
    {
     "data": {
      "text/plain": [
       "[ 'name', 'city', 'isGoodCoder' ]"
      ]
     },
     "execution_count": 189,
     "metadata": {},
     "output_type": "execute_result"
    }
   ],
   "source": [
    "Object.keys(person1)"
   ]
  },
  {
   "cell_type": "markdown",
   "id": "b5c56f99",
   "metadata": {},
   "source": [
    "##### .values()"
   ]
  },
  {
   "cell_type": "code",
   "execution_count": 190,
   "id": "acd9a39f",
   "metadata": {},
   "outputs": [
    {
     "data": {
      "text/plain": [
       "[ 'Janet', 'Louisville', true ]"
      ]
     },
     "execution_count": 190,
     "metadata": {},
     "output_type": "execute_result"
    }
   ],
   "source": [
    "Object.values(person1)"
   ]
  },
  {
   "cell_type": "markdown",
   "id": "fc52a1bd",
   "metadata": {},
   "source": [
    "##### .entries()"
   ]
  },
  {
   "cell_type": "code",
   "execution_count": 191,
   "id": "ea3402ff",
   "metadata": {},
   "outputs": [
    {
     "data": {
      "text/plain": [
       "[\n",
       "  [ 'name', 'Janet' ],\n",
       "  [ 'city', 'Louisville' ],\n",
       "  [ 'isGoodCoder', true ]\n",
       "]"
      ]
     },
     "execution_count": 191,
     "metadata": {},
     "output_type": "execute_result"
    }
   ],
   "source": [
    "Object.entries(person1)"
   ]
  },
  {
   "cell_type": "markdown",
   "id": "4a381a29",
   "metadata": {},
   "source": [
    "<a id=\"tradloop\"></a>\n",
    "\n",
    "#### Traditional (ES5 and earlier) looping over Object"
   ]
  },
  {
   "cell_type": "code",
   "execution_count": 196,
   "id": "b16376dd",
   "metadata": {},
   "outputs": [
    {
     "name": "stdout",
     "output_type": "stream",
     "text": [
      "0\n",
      "Key: name\n",
      "Value: Janet\n",
      "Value2: Janet\n",
      "-----------------------------------\n",
      "1\n",
      "Key: city\n",
      "Value: Louisville\n",
      "Value2: Louisville\n",
      "-----------------------------------\n",
      "2\n",
      "Key: isGoodCoder\n",
      "Value: true\n",
      "Value2: true\n",
      "-----------------------------------\n"
     ]
    }
   ],
   "source": [
    "for (let i=0; i < Object.keys(person1).length; i++){\n",
    "    console.log(i)\n",
    "    console.log('Key:', Object.keys(person1)[i])\n",
    "    console.log('Value:', Object.values(person1)[i])\n",
    "    console.log('Value2:', person1[Object.keys(person1)[i]])\n",
    "    console.log('-----------------------------------')\n",
    "}"
   ]
  },
  {
   "cell_type": "markdown",
   "id": "7ae11556",
   "metadata": {},
   "source": [
    "<a id=\"ice3\"></a>\n",
    "\n",
    "### In Class Assignment #3"
   ]
  },
  {
   "cell_type": "markdown",
   "id": "cb15c647",
   "metadata": {},
   "source": [
    "In the cell provided, create a traditional for loop to loop over all the keys and values in the `herbie` object and log them to the console in the following format:\n",
    "\n",
    "```\n",
    "the key [key] has the value of [value]\n",
    "```"
   ]
  },
  {
   "cell_type": "code",
   "execution_count": 197,
   "id": "c6d888bd",
   "metadata": {},
   "outputs": [],
   "source": [
    "var herbie={\n",
    "    wheels:\"4\",\n",
    "    color: \"white\",\n",
    "    make: \"VW\",\n",
    "    model: \"Beetle\",\n",
    "    year: 1963,\n",
    "    number: 53\n",
    "}"
   ]
  },
  {
   "cell_type": "code",
   "execution_count": 199,
   "id": "774a9800",
   "metadata": {},
   "outputs": [
    {
     "name": "stdout",
     "output_type": "stream",
     "text": [
      "The key wheels has the value of 4\n",
      "The key color has the value of white\n",
      "The key make has the value of VW\n",
      "The key model has the value of Beetle\n",
      "The key year has the value of 1963\n",
      "The key number has the value of 53\n"
     ]
    }
   ],
   "source": [
    "//Solution\n",
    "for (let i=0; i < Object.keys(herbie).length; i++){\n",
    "    console.log(`The key ${Object.keys(herbie)[i]} has the value of ${Object.values(herbie)[i]}`)\n",
    "}\n",
    "\n",
    "\n"
   ]
  },
  {
   "cell_type": "code",
   "execution_count": 200,
   "id": "ddd3f1f4",
   "metadata": {},
   "outputs": [
    {
     "name": "stdout",
     "output_type": "stream",
     "text": [
      "The key wheels has the value of 4\n",
      "The key color has the value of white\n",
      "The key make has the value of VW\n",
      "The key model has the value of Beetle\n",
      "The key year has the value of 1963\n",
      "The key number has the value of 53\n"
     ]
    }
   ],
   "source": [
    "for (let i=0; i < Object.keys(herbie).length; i++){\n",
    "    let key = Object.keys(herbie)[i]\n",
    "    let value = Object.values(herbie)[i]\n",
    "    console.log(`The key ${key} has the value of ${value}`)\n",
    "}"
   ]
  },
  {
   "cell_type": "markdown",
   "id": "b8297246",
   "metadata": {},
   "source": [
    "<a id=\"forin\"></a>\n",
    "##### For in Loop"
   ]
  },
  {
   "cell_type": "markdown",
   "id": "3da036cc",
   "metadata": {},
   "source": [
    "ES6 marked the introduction of the `for in` loop in JS unlike python which uses this to loop over lists, in JS it is used to loop over the keys of an object.\n",
    "\n",
    "<strong>Remember:</strong> In JS, to loop over a lis,t we can use the `for of` loop.\n",
    "\n",
    "syntax:\n",
    "```\n",
    "for (let placeholder in myObject){\n",
    "    //do stuff\n",
    "}\n",
    "```"
   ]
  },
  {
   "cell_type": "code",
   "execution_count": 201,
   "id": "a48ea679",
   "metadata": {
    "scrolled": true
   },
   "outputs": [
    {
     "data": {
      "text/plain": [
       "{ name: 'Janet', city: 'Louisville', isGoodCoder: true }"
      ]
     },
     "execution_count": 201,
     "metadata": {},
     "output_type": "execute_result"
    }
   ],
   "source": [
    "person1"
   ]
  },
  {
   "cell_type": "code",
   "execution_count": 205,
   "id": "303c1c0b",
   "metadata": {},
   "outputs": [
    {
     "name": "stdout",
     "output_type": "stream",
     "text": [
      "Key: name\n",
      "Value: Janet\n",
      "-------------------------\n",
      "Key: city\n",
      "Value: Louisville\n",
      "-------------------------\n",
      "Key: isGoodCoder\n",
      "Value: true\n",
      "-------------------------\n"
     ]
    }
   ],
   "source": [
    "for (let key in person1){\n",
    "    console.log('Key:', key)\n",
    "    console.log('Value:', person1[key])\n",
    "    console.log('-------------------------')\n",
    "}"
   ]
  },
  {
   "cell_type": "code",
   "execution_count": 217,
   "id": "705daff3",
   "metadata": {},
   "outputs": [
    {
     "name": "stdout",
     "output_type": "stream",
     "text": [
      "name\n",
      "Janet\n"
     ]
    }
   ],
   "source": [
    "let testKey = 'name'\n",
    "console.log(testKey)\n",
    "console.log(person1[testKey])"
   ]
  },
  {
   "cell_type": "code",
   "execution_count": 218,
   "id": "849ea5f8",
   "metadata": {},
   "outputs": [
    {
     "data": {
      "text/plain": [
       "'Janet'"
      ]
     },
     "execution_count": 218,
     "metadata": {},
     "output_type": "execute_result"
    }
   ],
   "source": [
    "person1.name"
   ]
  },
  {
   "cell_type": "code",
   "execution_count": 219,
   "id": "9b5ab287",
   "metadata": {},
   "outputs": [],
   "source": [
    "person1.testKey"
   ]
  },
  {
   "cell_type": "code",
   "execution_count": 207,
   "id": "0fb219c5",
   "metadata": {
    "scrolled": true
   },
   "outputs": [
    {
     "name": "stdout",
     "output_type": "stream",
     "text": [
      "for...of\n",
      "New York\n",
      "Los Angeles\n",
      "Chicago\n",
      "Houston\n",
      "Phoenix\n",
      "---------\n",
      "for...in\n",
      "0\n",
      "1\n",
      "2\n",
      "3\n",
      "4\n"
     ]
    }
   ],
   "source": [
    "var cities = ['New York', 'Los Angeles', 'Chicago', 'Houston', 'Phoenix'];\n",
    "\n",
    "\n",
    "console.log('for...of')\n",
    "for (let c of cities){\n",
    "    console.log(c)\n",
    "}\n",
    "\n",
    "console.log('---------')\n",
    "\n",
    "\n",
    "console.log('for...in')\n",
    "for (let c in cities){\n",
    "    console.log(c)\n",
    "}"
   ]
  },
  {
   "cell_type": "code",
   "execution_count": 208,
   "id": "0ceade84",
   "metadata": {},
   "outputs": [
    {
     "name": "stdout",
     "output_type": "stream",
     "text": [
      "object\n"
     ]
    }
   ],
   "source": [
    "console.log(typeof cities)"
   ]
  },
  {
   "cell_type": "code",
   "execution_count": 210,
   "id": "9e10f375",
   "metadata": {},
   "outputs": [
    {
     "name": "stdout",
     "output_type": "stream",
     "text": [
      "object\n",
      "true\n"
     ]
    }
   ],
   "source": [
    "// To determine if an object is an array, use the Array.isArray() static method\n",
    "console.log(typeof cities)\n",
    "console.log(Array.isArray(cities))"
   ]
  },
  {
   "cell_type": "code",
   "execution_count": 211,
   "id": "adfa0044",
   "metadata": {},
   "outputs": [
    {
     "name": "stdout",
     "output_type": "stream",
     "text": [
      "object\n",
      "false\n"
     ]
    }
   ],
   "source": [
    "console.log(typeof person1)\n",
    "console.log(Array.isArray(person1))"
   ]
  },
  {
   "cell_type": "markdown",
   "id": "0502bc0d",
   "metadata": {},
   "source": [
    "<a id=\"ice4\"></a>\n",
    "### In Class Assignment #4"
   ]
  },
  {
   "cell_type": "markdown",
   "id": "508fc924",
   "metadata": {},
   "source": [
    "In the cell provided create a `for...in` loop to loop over all the keys and values in the `kit` object and log them to the console in the following format:\n",
    "\n",
    "If the value is null use the nullish coalescence to print `\"No Value Given\"` \n",
    "\n",
    "```\n",
    "the key [key] has the value of [value]\n",
    "```"
   ]
  },
  {
   "cell_type": "code",
   "execution_count": 212,
   "id": "fcf8fced",
   "metadata": {},
   "outputs": [],
   "source": [
    "var kit={\n",
    "    wheels:\"4\",\n",
    "    color: \"black\",\n",
    "    make: \"Pontiac\",\n",
    "    model: \"Thunderbird\",\n",
    "    year: 1981,\n",
    "    number: null\n",
    "}"
   ]
  },
  {
   "cell_type": "code",
   "execution_count": 228,
   "id": "e82bb820",
   "metadata": {},
   "outputs": [
    {
     "name": "stdout",
     "output_type": "stream",
     "text": [
      "The key of wheels has a value of 4\n",
      "The key of color has a value of black\n",
      "The key of make has a value of Pontiac\n",
      "The key of model has a value of Thunderbird\n",
      "The key of year has a value of 1981\n",
      "The key of number has a value of No Value Given\n"
     ]
    }
   ],
   "source": [
    "//solution\n",
    "\n",
    "for (let key in kit){\n",
    "    console.log(`The key of ${key} has a value of ${kit[key] ?? 'No Value Given'}`)\n",
    "}\n"
   ]
  },
  {
   "cell_type": "code",
   "execution_count": 220,
   "id": "5a496a1c",
   "metadata": {},
   "outputs": [],
   "source": [
    "let state = {\n",
    "    name: 'Illinois',\n",
    "    capital: 'Springfield',\n",
    "    region: 'Midwest',\n",
    "    coastal: false\n",
    "}"
   ]
  },
  {
   "cell_type": "code",
   "execution_count": 222,
   "id": "3e3f464a",
   "metadata": {},
   "outputs": [
    {
     "data": {
      "text/plain": [
       "'Springfield'"
      ]
     },
     "execution_count": 222,
     "metadata": {},
     "output_type": "execute_result"
    }
   ],
   "source": [
    "state['capital']"
   ]
  },
  {
   "cell_type": "code",
   "execution_count": 224,
   "id": "030217ea",
   "metadata": {},
   "outputs": [
    {
     "name": "stdout",
     "output_type": "stream",
     "text": [
      "name Illinois\n",
      "capital Springfield\n",
      "region Midwest\n",
      "coastal false\n"
     ]
    }
   ],
   "source": [
    "for (let key in state){\n",
    "    console.log(key, state[key])\n",
    "}"
   ]
  },
  {
   "cell_type": "markdown",
   "id": "ac369328",
   "metadata": {},
   "source": [
    "### Returning from an arrow function"
   ]
  },
  {
   "cell_type": "markdown",
   "id": "b563a094",
   "metadata": {},
   "source": [
    "When returning an object literal from a one line arrow function, we have to surround the object with parentheses, otherwise JS sees the braces and assumes it is starting the code block for your arrow function."
   ]
  },
  {
   "cell_type": "code",
   "execution_count": 229,
   "id": "e8c7162e",
   "metadata": {},
   "outputs": [
    {
     "name": "stdout",
     "output_type": "stream",
     "text": [
      "[ 1, 2, 3, 4 ]\n"
     ]
    }
   ],
   "source": [
    "function createArr(){\n",
    "    return [1, 2, 3, 4]\n",
    "}\n",
    "\n",
    "let returnedArr1 = createArr();\n",
    "\n",
    "console.log(returnedArr1)"
   ]
  },
  {
   "cell_type": "code",
   "execution_count": 230,
   "id": "6fbb3a88",
   "metadata": {},
   "outputs": [
    {
     "name": "stdout",
     "output_type": "stream",
     "text": [
      "[ 1, 2, 3, 4 ]\n"
     ]
    }
   ],
   "source": [
    "let createArrArrow = () => [1, 2, 3, 4]\n",
    "\n",
    "let returnedArr2 = createArrArrow();\n",
    "\n",
    "console.log(returnedArr2);"
   ]
  },
  {
   "cell_type": "code",
   "execution_count": 231,
   "id": "d775ab41",
   "metadata": {},
   "outputs": [
    {
     "name": "stdout",
     "output_type": "stream",
     "text": [
      "{ id: 1, name: 'Brian', age: 55 }\n"
     ]
    }
   ],
   "source": [
    "function createObj(){\n",
    "    return { id: 1, name: 'Brian', age: 55}\n",
    "}\n",
    "\n",
    "let returnedObj1 = createObj();\n",
    "console.log(returnedObj1)"
   ]
  },
  {
   "cell_type": "code",
   "execution_count": 233,
   "id": "e9279b51",
   "metadata": {},
   "outputs": [
    {
     "name": "stdout",
     "output_type": "stream",
     "text": [
      "{ id: 1, name: 'Brian', age: 55 }\n"
     ]
    }
   ],
   "source": [
    "let createObjArrow = () => ({ id: 1, name: 'Brian', age: 55 })\n",
    "\n",
    "let returnedObj2 = createObjArrow();\n",
    "console.log(returnedObj2)"
   ]
  },
  {
   "cell_type": "markdown",
   "id": "371f7713",
   "metadata": {},
   "source": [
    "<a id=\"this\"></a>\n",
    "### this keyword"
   ]
  },
  {
   "cell_type": "markdown",
   "id": "9fc35382",
   "metadata": {},
   "source": [
    "The `this` keyword in JS is similar to self in Python. It is a way to refer to the parent object or instance.\n",
    "\n",
    "One important thing to note is that arrow functions do not bind this to their parent."
   ]
  },
  {
   "cell_type": "code",
   "execution_count": 235,
   "id": "ef4fc287",
   "metadata": {},
   "outputs": [
    {
     "name": "stdout",
     "output_type": "stream",
     "text": [
      "{\n",
      "  firstName: 'Chris',\n",
      "  lastName: 'Rock',\n",
      "  fullNameRegular: [Function: fullNameRegular],\n",
      "  fullNameArrow: [Function: fullNameArrow]\n",
      "}\n"
     ]
    }
   ],
   "source": [
    "var thisObject = {\n",
    "    firstName: 'Chris',\n",
    "    lastName: 'Rock',\n",
    "    fullNameRegular: function(){return this.firstName + ' ' + this.lastName},\n",
    "    fullNameArrow: () => this.firstName + ' ' + this.lastName\n",
    "}\n",
    "\n",
    "console.log(thisObject)"
   ]
  },
  {
   "cell_type": "code",
   "execution_count": 239,
   "id": "2b275482",
   "metadata": {},
   "outputs": [
    {
     "data": {
      "text/plain": [
       "'Chris Rock'"
      ]
     },
     "execution_count": 239,
     "metadata": {},
     "output_type": "execute_result"
    }
   ],
   "source": [
    "thisObject.fullNameRegular()"
   ]
  },
  {
   "cell_type": "code",
   "execution_count": 240,
   "id": "f9c5a8d0",
   "metadata": {},
   "outputs": [
    {
     "data": {
      "text/plain": [
       "'undefined undefined'"
      ]
     },
     "execution_count": 240,
     "metadata": {},
     "output_type": "execute_result"
    }
   ],
   "source": [
    "thisObject.fullNameArrow()"
   ]
  },
  {
   "cell_type": "code",
   "execution_count": 241,
   "id": "04499c02",
   "metadata": {},
   "outputs": [],
   "source": [
    "let myTestObj = {\n",
    "    getThisReg: function(){return this},\n",
    "    getThisArrow: ()=>this\n",
    "}"
   ]
  },
  {
   "cell_type": "code",
   "execution_count": 242,
   "id": "9b957718",
   "metadata": {
    "scrolled": true
   },
   "outputs": [
    {
     "name": "stdout",
     "output_type": "stream",
     "text": [
      "Outside of function: <ref *1> Object [global] {\n",
      "  global: [Circular *1],\n",
      "  queueMicrotask: [Function: queueMicrotask],\n",
      "  clearImmediate: [Function: clearImmediate],\n",
      "  setImmediate: [Function: setImmediate] {\n",
      "    [Symbol(nodejs.util.promisify.custom)]: [Getter]\n",
      "  },\n",
      "  structuredClone: [Function: structuredClone],\n",
      "  clearInterval: [Function: clearInterval],\n",
      "  clearTimeout: [Function: clearTimeout],\n",
      "  setInterval: [Function: setInterval],\n",
      "  setTimeout: [Function: setTimeout] {\n",
      "    [Symbol(nodejs.util.promisify.custom)]: [Getter]\n",
      "  },\n",
      "  atob: [Function: atob],\n",
      "  btoa: [Function: btoa],\n",
      "  performance: Performance {\n",
      "    nodeTiming: PerformanceNodeTiming {\n",
      "      name: 'node',\n",
      "      entryType: 'node',\n",
      "      startTime: 0,\n",
      "      duration: 17922035.020400003,\n",
      "      nodeStart: 13.881800003349781,\n",
      "      v8Start: 34.10970000177622,\n",
      "      bootstrapComplete: 266.136800006032,\n",
      "      environment: 88.77900000661612,\n",
      "      loopStart: 297.3848000019789,\n",
      "      loopExit: -1,\n",
      "      idleTime: 17920225.4994\n",
      "    },\n",
      "    timeOrigin: 1705594148375.555\n",
      "  },\n",
      "  fetch: [AsyncFunction: fetch],\n",
      "  __filename: '[eval]',\n",
      "  module: <ref *2> [Function: Module] {\n",
      "    builtinModules: [\n",
      "      '_http_agent',         '_http_client',        '_http_common',\n",
      "      '_http_incoming',      '_http_outgoing',      '_http_server',\n",
      "      '_stream_duplex',      '_stream_passthrough', '_stream_readable',\n",
      "      '_stream_transform',   '_stream_wrap',        '_stream_writable',\n",
      "      '_tls_common',         '_tls_wrap',           'assert',\n",
      "      'assert/strict',       'async_hooks',         'buffer',\n",
      "      'child_process',       'cluster',             'console',\n",
      "      'constants',           'crypto',              'dgram',\n",
      "      'diagnostics_channel', 'dns',                 'dns/promises',\n",
      "      'domain',              'events',              'fs',\n",
      "      'fs/promises',         'http',                'http2',\n",
      "      'https',               'inspector',           'module',\n",
      "      'net',                 'os',                  'path',\n",
      "      'path/posix',          'path/win32',          'perf_hooks',\n",
      "      'process',             'punycode',            'querystring',\n",
      "      'readline',            'readline/promises',   'repl',\n",
      "      'stream',              'stream/consumers',    'stream/promises',\n",
      "      'stream/web',          'string_decoder',      'sys',\n",
      "      'timers',              'timers/promises',     'tls',\n",
      "      'trace_events',        'tty',                 'url',\n",
      "      'util',                'util/types',          'v8',\n",
      "      'vm',                  'worker_threads',      'zlib'\n",
      "    ],\n",
      "    _cache: [Object: null prototype] {},\n",
      "    _pathCache: [Object: null prototype] {},\n",
      "    _extensions: [Object: null prototype] {\n",
      "      '.js': [Function (anonymous)],\n",
      "      '.json': [Function (anonymous)],\n",
      "      '.node': [Function (anonymous)]\n",
      "    },\n",
      "    globalPaths: [\n",
      "      'C:\\\\Users\\\\bstan\\\\.node_modules',\n",
      "      'C:\\\\Users\\\\bstan\\\\.node_libraries',\n",
      "      'C:\\\\Users\\\\bstan\\\\anaconda3\\\\lib\\\\node'\n",
      "    ],\n",
      "    _debug: [Function: deprecated],\n",
      "    _findPath: [Function (anonymous)],\n",
      "    _nodeModulePaths: [Function (anonymous)],\n",
      "    _resolveLookupPaths: [Function (anonymous)],\n",
      "    _load: [Function (anonymous)],\n",
      "    _resolveFilename: [Function (anonymous)],\n",
      "    createRequire: [Function: createRequire],\n",
      "    _initPaths: [Function (anonymous)],\n",
      "    _preloadModules: [Function (anonymous)],\n",
      "    syncBuiltinESMExports: [Function: syncBuiltinESMExports],\n",
      "    isBuiltin: [Function: isBuiltin],\n",
      "    Module: [Circular *2],\n",
      "    runMain: [Function: executeUserEntryPoint],\n",
      "    findSourceMap: [Function: findSourceMap],\n",
      "    SourceMap: [class SourceMap]\n",
      "  },\n",
      "  exports: {},\n",
      "  __dirname: '.',\n",
      "  require: [Function: require] {\n",
      "    resolve: [Function: resolve] { paths: [Function: paths] },\n",
      "    main: undefined,\n",
      "    extensions: [Object: null prototype] {\n",
      "      '.js': [Function (anonymous)],\n",
      "      '.json': [Function (anonymous)],\n",
      "      '.node': [Function (anonymous)]\n",
      "    },\n",
      "    cache: [Object: null prototype] {}\n",
      "  },\n",
      "  '$$mimer$$': [Function: defaultMimer],\n",
      "  '$$done$$': [Function: bound bound done],\n",
      "  fourthOfJuly: 2024-07-04T17:00:00.000Z,\n",
      "  destructureArray: [Function: destructureArray],\n",
      "  logShoeInfo: [Function: logShoeInfo],\n",
      "  logShoe: [Function: logShoe],\n",
      "  sayIt: [Function: sayIt],\n",
      "  restTestObj: { id: 1, title: 'test', body: 'My Test', author: 'Stephen King' },\n",
      "  destructMe: {\n",
      "    title: 'Intro to JavaScript',\n",
      "    body: 'I really wish JavaScript had static type checking',\n",
      "    createdOn: 2024-01-18T17:54:44.833Z,\n",
      "    author: 'Kevin Beier',\n",
      "    topic: 'Programming',\n",
      "    tags: [ 'JS', 'Async', 'Dynamic Types' ]\n",
      "  },\n",
      "  destructed: [Function: destructed],\n",
      "  movies: [\n",
      "    {\n",
      "      id: 1,\n",
      "      title: 'Oppenheimer',\n",
      "      releaseYear: 2023,\n",
      "      studio: [Object]\n",
      "    },\n",
      "    {\n",
      "      id: 2,\n",
      "      title: 'The Dark Knight',\n",
      "      releaseYear: 2009,\n",
      "      studio: [Object]\n",
      "    },\n",
      "    { id: 3, title: 'Gladiator', releaseYear: 2001 }\n",
      "  ],\n",
      "  herbie: {\n",
      "    wheels: '4',\n",
      "    color: 'white',\n",
      "    make: 'VW',\n",
      "    model: 'Beetle',\n",
      "    year: 1963,\n",
      "    number: 53\n",
      "  },\n",
      "  cities: [ 'New York', 'Los Angeles', 'Chicago', 'Houston', 'Phoenix' ],\n",
      "  kit: {\n",
      "    wheels: '4',\n",
      "    color: 'black',\n",
      "    make: 'Pontiac',\n",
      "    model: 'Thunderbird',\n",
      "    year: 1981,\n",
      "    number: null\n",
      "  },\n",
      "  createArr: [Function: createArr],\n",
      "  createObj: [Function: createObj],\n",
      "  thisObject: {\n",
      "    firstName: 'Chris',\n",
      "    lastName: 'Rock',\n",
      "    fullNameRegular: [Function: fullNameRegular],\n",
      "    fullNameArrow: [Function: fullNameArrow]\n",
      "  },\n",
      "  console: Console [console] {\n",
      "    log: [Function: log],\n",
      "    warn: [Function: warn],\n",
      "    dir: [Function: dir],\n",
      "    time: [Function: time],\n",
      "    timeEnd: [Function: timeEnd],\n",
      "    timeLog: [Function: timeLog],\n",
      "    trace: [Function: trace],\n",
      "    assert: [Function: assert],\n",
      "    clear: [Function: clear],\n",
      "    count: [Function: count],\n",
      "    countReset: [Function: countReset],\n",
      "    group: [Function: group],\n",
      "    groupEnd: [Function: groupEnd],\n",
      "    table: [Function: table],\n",
      "    debug: [Function: debug],\n",
      "    info: [Function: info],\n",
      "    dirxml: [Function: dirxml],\n",
      "    error: [Function: error],\n",
      "    groupCollapsed: [Function: groupCollapsed],\n",
      "    Console: [Function: Console]\n",
      "  },\n",
      "  '$$': [Object: null prototype] {\n",
      "    async: [Function: bound async],\n",
      "    done: [Function: bound done],\n",
      "    sendResult: [Function: bound ],\n",
      "    sendError: [Function: bound ],\n",
      "    mime: [Function: bound ],\n",
      "    text: [Function: bound ],\n",
      "    html: [Function: bound ],\n",
      "    svg: [Function: bound ],\n",
      "    png: [Function: bound ],\n",
      "    jpeg: [Function: bound ],\n",
      "    json: [Function: bound ],\n",
      "    input: [Function: bound input],\n",
      "    display: [Function: bound createDisplay],\n",
      "    clear: [Function: bound clear]\n",
      "  }\n",
      "}\n",
      "--------------------------------------------------------------------------------\n",
      "Regular Function: {\n",
      "  getThisReg: [Function: getThisReg],\n",
      "  getThisArrow: [Function: getThisArrow]\n",
      "}\n",
      "--------------------------------------------------------------------------------\n",
      "Arrow Function: <ref *1> Object [global] {\n",
      "  global: [Circular *1],\n",
      "  queueMicrotask: [Function: queueMicrotask],\n",
      "  clearImmediate: [Function: clearImmediate],\n",
      "  setImmediate: [Function: setImmediate] {\n",
      "    [Symbol(nodejs.util.promisify.custom)]: [Getter]\n",
      "  },\n",
      "  structuredClone: [Function: structuredClone],\n",
      "  clearInterval: [Function: clearInterval],\n",
      "  clearTimeout: [Function: clearTimeout],\n",
      "  setInterval: [Function: setInterval],\n",
      "  setTimeout: [Function: setTimeout] {\n",
      "    [Symbol(nodejs.util.promisify.custom)]: [Getter]\n",
      "  },\n",
      "  atob: [Function: atob],\n",
      "  btoa: [Function: btoa],\n",
      "  performance: Performance {\n",
      "    nodeTiming: PerformanceNodeTiming {\n",
      "      name: 'node',\n",
      "      entryType: 'node',\n",
      "      startTime: 0,\n",
      "      duration: 17922068.03670001,\n",
      "      nodeStart: 13.881800003349781,\n",
      "      v8Start: 34.10970000177622,\n",
      "      bootstrapComplete: 266.136800006032,\n",
      "      environment: 88.77900000661612,\n",
      "      loopStart: 297.3848000019789,\n",
      "      loopExit: -1,\n",
      "      idleTime: 17920225.4994\n",
      "    },\n",
      "    timeOrigin: 1705594148375.555\n",
      "  },\n",
      "  fetch: [AsyncFunction: fetch],\n",
      "  __filename: '[eval]',\n",
      "  module: <ref *2> [Function: Module] {\n",
      "    builtinModules: [\n",
      "      '_http_agent',         '_http_client',        '_http_common',\n",
      "      '_http_incoming',      '_http_outgoing',      '_http_server',\n",
      "      '_stream_duplex',      '_stream_passthrough', '_stream_readable',\n",
      "      '_stream_transform',   '_stream_wrap',        '_stream_writable',\n",
      "      '_tls_common',         '_tls_wrap',           'assert',\n",
      "      'assert/strict',       'async_hooks',         'buffer',\n",
      "      'child_process',       'cluster',             'console',\n",
      "      'constants',           'crypto',              'dgram',\n",
      "      'diagnostics_channel', 'dns',                 'dns/promises',\n",
      "      'domain',              'events',              'fs',\n",
      "      'fs/promises',         'http',                'http2',\n",
      "      'https',               'inspector',           'module',\n",
      "      'net',                 'os',                  'path',\n",
      "      'path/posix',          'path/win32',          'perf_hooks',\n",
      "      'process',             'punycode',            'querystring',\n",
      "      'readline',            'readline/promises',   'repl',\n",
      "      'stream',              'stream/consumers',    'stream/promises',\n",
      "      'stream/web',          'string_decoder',      'sys',\n",
      "      'timers',              'timers/promises',     'tls',\n",
      "      'trace_events',        'tty',                 'url',\n",
      "      'util',                'util/types',          'v8',\n",
      "      'vm',                  'worker_threads',      'zlib'\n",
      "    ],\n",
      "    _cache: [Object: null prototype] {},\n",
      "    _pathCache: [Object: null prototype] {},\n",
      "    _extensions: [Object: null prototype] {\n",
      "      '.js': [Function (anonymous)],\n",
      "      '.json': [Function (anonymous)],\n",
      "      '.node': [Function (anonymous)]\n",
      "    },\n",
      "    globalPaths: [\n",
      "      'C:\\\\Users\\\\bstan\\\\.node_modules',\n",
      "      'C:\\\\Users\\\\bstan\\\\.node_libraries',\n",
      "      'C:\\\\Users\\\\bstan\\\\anaconda3\\\\lib\\\\node'\n",
      "    ],\n",
      "    _debug: [Function: deprecated],\n",
      "    _findPath: [Function (anonymous)],\n",
      "    _nodeModulePaths: [Function (anonymous)],\n",
      "    _resolveLookupPaths: [Function (anonymous)],\n",
      "    _load: [Function (anonymous)],\n",
      "    _resolveFilename: [Function (anonymous)],\n",
      "    createRequire: [Function: createRequire],\n",
      "    _initPaths: [Function (anonymous)],\n",
      "    _preloadModules: [Function (anonymous)],\n",
      "    syncBuiltinESMExports: [Function: syncBuiltinESMExports],\n",
      "    isBuiltin: [Function: isBuiltin],\n",
      "    Module: [Circular *2],\n",
      "    runMain: [Function: executeUserEntryPoint],\n",
      "    findSourceMap: [Function: findSourceMap],\n",
      "    SourceMap: [class SourceMap]\n",
      "  },\n",
      "  exports: {},\n",
      "  __dirname: '.',\n",
      "  require: [Function: require] {\n",
      "    resolve: [Function: resolve] { paths: [Function: paths] },\n",
      "    main: undefined,\n",
      "    extensions: [Object: null prototype] {\n",
      "      '.js': [Function (anonymous)],\n",
      "      '.json': [Function (anonymous)],\n",
      "      '.node': [Function (anonymous)]\n",
      "    },\n",
      "    cache: [Object: null prototype] {}\n",
      "  },\n",
      "  '$$mimer$$': [Function: defaultMimer],\n",
      "  '$$done$$': [Function: bound bound done],\n",
      "  fourthOfJuly: 2024-07-04T17:00:00.000Z,\n",
      "  destructureArray: [Function: destructureArray],\n",
      "  logShoeInfo: [Function: logShoeInfo],\n",
      "  logShoe: [Function: logShoe],\n",
      "  sayIt: [Function: sayIt],\n",
      "  restTestObj: { id: 1, title: 'test', body: 'My Test', author: 'Stephen King' },\n",
      "  destructMe: {\n",
      "    title: 'Intro to JavaScript',\n",
      "    body: 'I really wish JavaScript had static type checking',\n",
      "    createdOn: 2024-01-18T17:54:44.833Z,\n",
      "    author: 'Kevin Beier',\n",
      "    topic: 'Programming',\n",
      "    tags: [ 'JS', 'Async', 'Dynamic Types' ]\n",
      "  },\n",
      "  destructed: [Function: destructed],\n",
      "  movies: [\n",
      "    {\n",
      "      id: 1,\n",
      "      title: 'Oppenheimer',\n",
      "      releaseYear: 2023,\n",
      "      studio: [Object]\n",
      "    },\n",
      "    {\n",
      "      id: 2,\n",
      "      title: 'The Dark Knight',\n",
      "      releaseYear: 2009,\n",
      "      studio: [Object]\n",
      "    },\n",
      "    { id: 3, title: 'Gladiator', releaseYear: 2001 }\n",
      "  ],\n",
      "  herbie: {\n",
      "    wheels: '4',\n",
      "    color: 'white',\n",
      "    make: 'VW',\n",
      "    model: 'Beetle',\n",
      "    year: 1963,\n",
      "    number: 53\n",
      "  },\n",
      "  cities: [ 'New York', 'Los Angeles', 'Chicago', 'Houston', 'Phoenix' ],\n",
      "  kit: {\n",
      "    wheels: '4',\n",
      "    color: 'black',\n",
      "    make: 'Pontiac',\n",
      "    model: 'Thunderbird',\n",
      "    year: 1981,\n",
      "    number: null\n",
      "  },\n",
      "  createArr: [Function: createArr],\n",
      "  createObj: [Function: createObj],\n",
      "  thisObject: {\n",
      "    firstName: 'Chris',\n",
      "    lastName: 'Rock',\n",
      "    fullNameRegular: [Function: fullNameRegular],\n",
      "    fullNameArrow: [Function: fullNameArrow]\n",
      "  },\n",
      "  console: Console [console] {\n",
      "    log: [Function: log],\n",
      "    warn: [Function: warn],\n",
      "    dir: [Function: dir],\n",
      "    time: [Function: time],\n",
      "    timeEnd: [Function: timeEnd],\n",
      "    timeLog: [Function: timeLog],\n",
      "    trace: [Function: trace],\n",
      "    assert: [Function: assert],\n",
      "    clear: [Function: clear],\n",
      "    count: [Function: count],\n",
      "    countReset: [Function: countReset],\n",
      "    group: [Function: group],\n",
      "    groupEnd: [Function: groupEnd],\n",
      "    table: [Function: table],\n",
      "    debug: [Function: debug],\n",
      "    info: [Function: info],\n",
      "    dirxml: [Function: dirxml],\n",
      "    error: [Function: error],\n",
      "    groupCollapsed: [Function: groupCollapsed],\n",
      "    Console: [Function: Console]\n",
      "  },\n",
      "  '$$': [Object: null prototype] {\n",
      "    async: [Function: bound async],\n",
      "    done: [Function: bound done],\n",
      "    sendResult: [Function: bound ],\n",
      "    sendError: [Function: bound ],\n",
      "    mime: [Function: bound ],\n",
      "    text: [Function: bound ],\n",
      "    html: [Function: bound ],\n",
      "    svg: [Function: bound ],\n",
      "    png: [Function: bound ],\n",
      "    jpeg: [Function: bound ],\n",
      "    json: [Function: bound ],\n",
      "    input: [Function: bound input],\n",
      "    display: [Function: bound createDisplay],\n",
      "    clear: [Function: bound clear]\n",
      "  }\n",
      "}\n"
     ]
    }
   ],
   "source": [
    "console.log(\"Outside of function:\", this);\n",
    "console.log('--------------------------------------------------------------------------------')\n",
    "console.log(\"Regular Function:\", myTestObj.getThisReg());\n",
    "console.log('--------------------------------------------------------------------------------')\n",
    "console.log(\"Arrow Function:\", myTestObj.getThisArrow());"
   ]
  },
  {
   "cell_type": "markdown",
   "id": "bea78702",
   "metadata": {},
   "source": [
    "<a id=\"typecheck\"></a>\n",
    "### Checking the type of a variable"
   ]
  },
  {
   "cell_type": "code",
   "execution_count": 243,
   "id": "b4d6830c",
   "metadata": {},
   "outputs": [],
   "source": [
    "let testArray = [10, 20, 30, 40]"
   ]
  },
  {
   "cell_type": "code",
   "execution_count": 245,
   "id": "79ab9d30",
   "metadata": {},
   "outputs": [
    {
     "data": {
      "text/plain": [
       "{ id: 1, name: 'Test' }"
      ]
     },
     "execution_count": 245,
     "metadata": {},
     "output_type": "execute_result"
    }
   ],
   "source": [
    "let testObj = {id: 1, name: 'Test'}"
   ]
  },
  {
   "cell_type": "code",
   "execution_count": 246,
   "id": "772809fc",
   "metadata": {},
   "outputs": [
    {
     "name": "stdout",
     "output_type": "stream",
     "text": [
      "object\n",
      "true\n",
      "true\n",
      "true\n",
      "========\n",
      "true\n",
      "true\n",
      "false\n",
      "string\n",
      "========\n",
      "object\n",
      "false\n",
      "object\n",
      "false\n",
      "true\n"
     ]
    }
   ],
   "source": [
    "console.log(typeof testArray) //object\n",
    "console.log(testArray instanceof Array) //true\n",
    "console.log(Array instanceof Object) //true\n",
    "console.log(Array.isArray(testArray)) //true\n",
    "console.log(\"========\")\n",
    "console.log(testArray instanceof Object) //true\n",
    "console.log(testObj instanceof Object)  //true\n",
    "console.log(Array.isArray(testObj)) //false\n",
    "console.log(typeof 'hello') //string\n",
    "console.log(\"========\")\n",
    "console.log(typeof {}) //object\n",
    "console.log('hello' instanceof Object) //False\n",
    "console.log(typeof null); //object\n",
    "console.log(null instanceof Object) //False\n",
    "console.log({key:1} instanceof Object)  //true\n"
   ]
  },
  {
   "cell_type": "markdown",
   "id": "cdcc5a39",
   "metadata": {},
   "source": [
    "<a id=\"proto\"></a>\n",
    "## ES5 Object Prototypes"
   ]
  },
  {
   "cell_type": "markdown",
   "id": "c9b8d3d9",
   "metadata": {},
   "source": [
    "The class keyword wasn't added to JS until ES6, and replaces the functionality we are about to talk about.  You will still see alot of ES5 prototypes in the wild, so be sure to understand what they are doing.\n",
    "\n",
    "Lets build out a JS object to be reuseable."
   ]
  },
  {
   "cell_type": "markdown",
   "id": "9c39537c",
   "metadata": {},
   "source": [
    "<a id=\"new\"></a>\n",
    "\n",
    "### new keyword"
   ]
  },
  {
   "cell_type": "markdown",
   "id": "79305a8f",
   "metadata": {},
   "source": [
    "The `new` keyword will initialize an object and return it for you.  It will also allow the use of the this keyword"
   ]
  },
  {
   "cell_type": "code",
   "execution_count": 247,
   "id": "33d4df70",
   "metadata": {},
   "outputs": [
    {
     "data": {
      "text/plain": [
       "[Function (anonymous)]"
      ]
     },
     "execution_count": 247,
     "metadata": {},
     "output_type": "execute_result"
    }
   ],
   "source": [
    "let testPerson = {}\n",
    "testPerson.age = 22;\n",
    "testPerson.name = 'John'\n",
    "testPerson.jump = function(){console.log(this.name + ' just jumped')}\n",
    "testPerson.squat = function(){console.log(this.name + ' just squatted')}"
   ]
  },
  {
   "cell_type": "code",
   "execution_count": 250,
   "id": "0cead021",
   "metadata": {},
   "outputs": [
    {
     "name": "stdout",
     "output_type": "stream",
     "text": [
      "John just squatted\n"
     ]
    }
   ],
   "source": [
    "testPerson.squat()"
   ]
  },
  {
   "cell_type": "code",
   "execution_count": 259,
   "id": "a04241d6",
   "metadata": {},
   "outputs": [
    {
     "data": {
      "text/plain": [
       "[Function: createPerson]"
      ]
     },
     "execution_count": 259,
     "metadata": {},
     "output_type": "execute_result"
    }
   ],
   "source": [
    "createPerson = function(name, age){\n",
    "    createPerson.realName = name\n",
    "    createPerson.age = age\n",
    "    createPerson.jump = function(){console.log(createPerson.realName + ' just jumped')}\n",
    "    createPerson.squat = function(){console.log(createPerson.realName + ' just squatted')}\n",
    "    \n",
    "    return createPerson\n",
    "}"
   ]
  },
  {
   "cell_type": "code",
   "execution_count": 260,
   "id": "8d0bf6e8",
   "metadata": {},
   "outputs": [
    {
     "name": "stdout",
     "output_type": "stream",
     "text": [
      "[Function: createPerson] {\n",
      "  realName: 'Julie',\n",
      "  age: 22,\n",
      "  jump: [Function (anonymous)],\n",
      "  squat: [Function (anonymous)]\n",
      "}\n",
      "Julie just jumped\n",
      "Julie just squatted\n"
     ]
    }
   ],
   "source": [
    "myPerson1 = createPerson('Julie', 22);\n",
    "\n",
    "console.log(myPerson1);\n",
    "myPerson1.jump();\n",
    "myPerson1.squat();"
   ]
  },
  {
   "cell_type": "markdown",
   "id": "108c069f",
   "metadata": {},
   "source": [
    "#### with the new keyword"
   ]
  },
  {
   "cell_type": "code",
   "execution_count": 261,
   "id": "53933409",
   "metadata": {},
   "outputs": [],
   "source": [
    "let createPerson2 = function(name, age){\n",
    "    this.realName = name;\n",
    "    this.age = age;\n",
    "    this.jump = function(){console.log(this.realName + ' just jumped')}\n",
    "    this.squat = function(){console.log(this.realName + ' just squatted')}\n",
    "}"
   ]
  },
  {
   "cell_type": "code",
   "execution_count": 263,
   "id": "748884b4",
   "metadata": {},
   "outputs": [
    {
     "name": "stdout",
     "output_type": "stream",
     "text": [
      "createPerson2 {\n",
      "  realName: 'Ellen',\n",
      "  age: 33,\n",
      "  jump: [Function (anonymous)],\n",
      "  squat: [Function (anonymous)]\n",
      "}\n"
     ]
    }
   ],
   "source": [
    "let myPerson2 = new createPerson2('Ellen', 33);\n",
    "console.log(myPerson2)"
   ]
  },
  {
   "cell_type": "code",
   "execution_count": 264,
   "id": "3fc4cb2b",
   "metadata": {},
   "outputs": [
    {
     "name": "stdout",
     "output_type": "stream",
     "text": [
      "Ellen just jumped\n"
     ]
    }
   ],
   "source": [
    "myPerson2.jump()"
   ]
  },
  {
   "cell_type": "code",
   "execution_count": 265,
   "id": "6cafae2d",
   "metadata": {
    "scrolled": false
   },
   "outputs": [
    {
     "name": "stdout",
     "output_type": "stream",
     "text": [
      "Ellen just squatted\n"
     ]
    }
   ],
   "source": [
    "myPerson2.squat()"
   ]
  },
  {
   "cell_type": "code",
   "execution_count": 266,
   "id": "8e2e1f03",
   "metadata": {},
   "outputs": [
    {
     "name": "stdout",
     "output_type": "stream",
     "text": [
      "createPerson2 {\n",
      "  realName: 'Cam',\n",
      "  age: 44,\n",
      "  jump: [Function (anonymous)],\n",
      "  squat: [Function (anonymous)]\n",
      "}\n",
      "Cam just jumped\n",
      "Cam just squatted\n"
     ]
    }
   ],
   "source": [
    "let myPerson3 = new createPerson2('Cam', 44);\n",
    "\n",
    "console.log(myPerson3);\n",
    "myPerson3.jump();\n",
    "myPerson3.squat()"
   ]
  },
  {
   "cell_type": "markdown",
   "id": "d2a13525",
   "metadata": {},
   "source": [
    "#### Why did I give the name property realName not name?"
   ]
  },
  {
   "cell_type": "markdown",
   "id": "6204c37c",
   "metadata": {},
   "source": [
    "When working with a function the name property is already assigned to the name of the function"
   ]
  },
  {
   "cell_type": "code",
   "execution_count": 268,
   "id": "ecf3fa87",
   "metadata": {},
   "outputs": [
    {
     "name": "stdout",
     "output_type": "stream",
     "text": [
      "[Function: awesomeFunctionName]\n",
      "awesomeFunctionName\n"
     ]
    }
   ],
   "source": [
    "function awesomeFunctionName(){}\n",
    "\n",
    "console.log(awesomeFunctionName)\n",
    "console.log(awesomeFunctionName.name)\n"
   ]
  },
  {
   "cell_type": "markdown",
   "id": "541ef00a",
   "metadata": {},
   "source": [
    "The above method works fine, but it has an issue. Every time I make a new person, I have to save all the person's methods to memory. We can define a prototype for all objects to share to prevent wasting memory space. These are stored in memory once, and use the this keyword to find the correct references. This saves tons of memory space, and prototypes should be used with ES5 objects when declaring many instances of the same object."
   ]
  },
  {
   "cell_type": "code",
   "execution_count": 269,
   "id": "b64eaab3",
   "metadata": {},
   "outputs": [],
   "source": [
    "let sally = new createPerson2('Sally', 34);\n",
    "let frank = new createPerson2('Frank', 43);"
   ]
  },
  {
   "cell_type": "code",
   "execution_count": 270,
   "id": "7caf484a",
   "metadata": {},
   "outputs": [
    {
     "name": "stdout",
     "output_type": "stream",
     "text": [
      "createPerson2 {\n",
      "  realName: 'Sally',\n",
      "  age: 34,\n",
      "  jump: [Function (anonymous)],\n",
      "  squat: [Function (anonymous)]\n",
      "}\n",
      "createPerson2 {\n",
      "  realName: 'Frank',\n",
      "  age: 43,\n",
      "  jump: [Function (anonymous)],\n",
      "  squat: [Function (anonymous)]\n",
      "}\n"
     ]
    }
   ],
   "source": [
    "console.log(sally);\n",
    "console.log(frank);"
   ]
  },
  {
   "cell_type": "code",
   "execution_count": 271,
   "id": "d2cc6153",
   "metadata": {},
   "outputs": [
    {
     "name": "stdout",
     "output_type": "stream",
     "text": [
      "false\n"
     ]
    }
   ],
   "source": [
    "console.log(sally.jump === frank.jump)"
   ]
  },
  {
   "cell_type": "code",
   "execution_count": 272,
   "id": "da64146f",
   "metadata": {},
   "outputs": [],
   "source": [
    "let personMethods = {\n",
    "    jump: function(){console.log(this.realName + ' just jumped')},\n",
    "    squat: function(){console.log(this.realName + ' just squatted')}\n",
    "}\n",
    "\n",
    "let createPerson3 = function(name, age){\n",
    "    this.realName = name;\n",
    "    this.age = age;\n",
    "    this.jump = personMethods.jump\n",
    "    this.squat = personMethods.sqaut\n",
    "}"
   ]
  },
  {
   "cell_type": "code",
   "execution_count": 273,
   "id": "8efbbdb1",
   "metadata": {},
   "outputs": [],
   "source": [
    "let hannah = new createPerson3('Hannah', 34);\n",
    "let bill = new createPerson3('Bill', 43);"
   ]
  },
  {
   "cell_type": "code",
   "execution_count": 274,
   "id": "ed82e1cd",
   "metadata": {},
   "outputs": [
    {
     "name": "stdout",
     "output_type": "stream",
     "text": [
      "true\n"
     ]
    }
   ],
   "source": [
    "console.log(hannah.jump === bill.jump)"
   ]
  },
  {
   "cell_type": "code",
   "execution_count": 275,
   "id": "69254da1",
   "metadata": {},
   "outputs": [
    {
     "name": "stdout",
     "output_type": "stream",
     "text": [
      "Hannah just jumped\n",
      "Bill just jumped\n"
     ]
    }
   ],
   "source": [
    "hannah.jump()\n",
    "bill.jump()"
   ]
  },
  {
   "cell_type": "code",
   "execution_count": 276,
   "id": "e2b941d8",
   "metadata": {},
   "outputs": [
    {
     "name": "stdout",
     "output_type": "stream",
     "text": [
      "{}\n",
      "object\n"
     ]
    }
   ],
   "source": [
    "function doNothing(){}\n",
    "\n",
    "console.log(doNothing.prototype);\n",
    "console.log(typeof doNothing.prototype);"
   ]
  },
  {
   "cell_type": "code",
   "execution_count": 278,
   "id": "a1275850",
   "metadata": {
    "scrolled": true
   },
   "outputs": [
    {
     "name": "stdout",
     "output_type": "stream",
     "text": [
      "{ first: 'Seamus', last: 'Callahan', nationality: 'Irish' }\n"
     ]
    }
   ],
   "source": [
    "let parent = {\n",
    "    first: 'Seamus',\n",
    "    last: 'Callahan',\n",
    "    nationality: 'Irish'\n",
    "}\n",
    "\n",
    "console.log(parent)"
   ]
  },
  {
   "cell_type": "code",
   "execution_count": 279,
   "id": "ec20574c",
   "metadata": {},
   "outputs": [
    {
     "name": "stdout",
     "output_type": "stream",
     "text": [
      "{ first: 'Eileen' }\n"
     ]
    }
   ],
   "source": [
    "let child1 = Object.create(parent);\n",
    "child1.first = 'Eileen';\n",
    "\n",
    "console.log(child1)"
   ]
  },
  {
   "cell_type": "code",
   "execution_count": 281,
   "id": "ca55ca65",
   "metadata": {},
   "outputs": [
    {
     "name": "stdout",
     "output_type": "stream",
     "text": [
      "Callahan\n",
      "Irish\n"
     ]
    }
   ],
   "source": [
    "console.log(child1.last)\n",
    "console.log(child1.nationality)"
   ]
  },
  {
   "cell_type": "code",
   "execution_count": 282,
   "id": "96758aa7",
   "metadata": {},
   "outputs": [
    {
     "data": {
      "text/plain": [
       "[Function (anonymous)]"
      ]
     },
     "execution_count": 282,
     "metadata": {},
     "output_type": "execute_result"
    }
   ],
   "source": [
    "let createPerson4 = function(name, age){\n",
    "    this.realName = name\n",
    "    this.age = age\n",
    "}\n",
    "\n",
    "createPerson4.prototype.jump = function(){console.log(this.realName + ' just jumped')}\n",
    "createPerson4.prototype.squat = function(){console.log(this.realName + ' just squatted')}"
   ]
  },
  {
   "cell_type": "code",
   "execution_count": 283,
   "id": "71bf1715",
   "metadata": {},
   "outputs": [
    {
     "name": "stdout",
     "output_type": "stream",
     "text": [
      "createPerson4 { realName: 'Dan', age: 77 }\n"
     ]
    }
   ],
   "source": [
    "let dan = new createPerson4('Dan', 77);\n",
    "\n",
    "console.log(dan)"
   ]
  },
  {
   "cell_type": "code",
   "execution_count": 284,
   "id": "9338b4f3",
   "metadata": {},
   "outputs": [
    {
     "name": "stdout",
     "output_type": "stream",
     "text": [
      "Dan just jumped\n"
     ]
    }
   ],
   "source": [
    "dan.jump()"
   ]
  },
  {
   "cell_type": "code",
   "execution_count": 285,
   "id": "c25d65ef",
   "metadata": {},
   "outputs": [
    {
     "name": "stdout",
     "output_type": "stream",
     "text": [
      "Dan just squatted\n"
     ]
    }
   ],
   "source": [
    "dan.squat()"
   ]
  },
  {
   "cell_type": "markdown",
   "id": "8ba41b0a",
   "metadata": {},
   "source": [
    "#### Possible but bad practice"
   ]
  },
  {
   "cell_type": "markdown",
   "id": "45212317",
   "metadata": {},
   "source": [
    "You can modify existing built in prototypes at anytime, but this is bad practice because it leads to confusion, and unforeseen side effects"
   ]
  },
  {
   "cell_type": "code",
   "execution_count": 286,
   "id": "701531c9",
   "metadata": {},
   "outputs": [
    {
     "data": {
      "text/plain": [
       "[Function (anonymous)]"
      ]
     },
     "execution_count": 286,
     "metadata": {},
     "output_type": "execute_result"
    }
   ],
   "source": [
    "String.prototype.toTitleCase=function() {\n",
    "  str = this.toLowerCase().split(' ');\n",
    "  for (var i = 0; i < str.length; i++) {\n",
    "    str[i] = str[i].charAt(0).toUpperCase() + str[i].slice(1); \n",
    "  }\n",
    "  return str.join(' ');\n",
    "}"
   ]
  },
  {
   "cell_type": "code",
   "execution_count": 287,
   "id": "e8469a45",
   "metadata": {
    "scrolled": true
   },
   "outputs": [
    {
     "data": {
      "text/plain": [
       "'Hello You Kind Human'"
      ]
     },
     "execution_count": 287,
     "metadata": {},
     "output_type": "execute_result"
    }
   ],
   "source": [
    "\"hello you kind human\".toTitleCase()"
   ]
  },
  {
   "cell_type": "code",
   "execution_count": 288,
   "id": "cc7eec53",
   "metadata": {},
   "outputs": [
    {
     "data": {
      "text/plain": [
       "'My Name Is Brian Stanton'"
      ]
     },
     "execution_count": 288,
     "metadata": {},
     "output_type": "execute_result"
    }
   ],
   "source": [
    "'my name is brian stanton'.toTitleCase()"
   ]
  },
  {
   "cell_type": "markdown",
   "id": "3f4bc649",
   "metadata": {},
   "source": [
    "<a id=\"class\"></a>\n",
    "\n",
    "## ES 6 Classes/OOP"
   ]
  },
  {
   "cell_type": "markdown",
   "id": "13dda6c6",
   "metadata": {},
   "source": [
    "In ES6, JavaScript finally added classes, allowing traditional Object Oreinted Design.\n",
    "\n",
    "\n",
    "In python we define a constructor like:\n",
    "```\n",
    "    def __init__(self, params):\n",
    "        self.param=param\n",
    "```\n",
    "In JS it would look like:\n",
    "```\n",
    "    constructor(params){\n",
    "        this.params=params\n",
    "    }\n",
    "```\n",
    "\n",
    "Like python, Class names are written in PascalCase.\n",
    "\n",
    "The keyword `new` is required when initializing an instance as it is what runs the constructor function.\n",
    "\n",
    "<strong>Note:</strong> Methods need no function keyword."
   ]
  },
  {
   "cell_type": "code",
   "execution_count": null,
   "id": "ef9b476f",
   "metadata": {},
   "outputs": [],
   "source": [
    "let createPerson4 = function(name, age){\n",
    "    this.realName = name\n",
    "    this.age = age\n",
    "}\n",
    "\n",
    "createPerson4.prototype.jump = function(){console.log(this.realName + ' just jumped')}\n",
    "createPerson4.prototype.squat = function(){console.log(this.realName + ' just squatted')}"
   ]
  },
  {
   "cell_type": "code",
   "execution_count": 289,
   "id": "a2992b43",
   "metadata": {},
   "outputs": [],
   "source": [
    "class Person{\n",
    "    constructor(name, age){\n",
    "        this.name = name\n",
    "        this.age = age\n",
    "    }\n",
    "    \n",
    "    jump(){\n",
    "        console.log(this.name + ' just jumped')\n",
    "    }\n",
    "    \n",
    "    squat(){\n",
    "        console.log(this.name + ' just squatted')\n",
    "    }\n",
    "}"
   ]
  },
  {
   "cell_type": "code",
   "execution_count": 290,
   "id": "661954e3",
   "metadata": {},
   "outputs": [
    {
     "name": "stdout",
     "output_type": "stream",
     "text": [
      "Person { name: 'Taylor', age: 37 }\n"
     ]
    }
   ],
   "source": [
    "let taylor = new Person('Taylor', 37);\n",
    "\n",
    "console.log(taylor)"
   ]
  },
  {
   "cell_type": "code",
   "execution_count": 291,
   "id": "7385dfe7",
   "metadata": {},
   "outputs": [
    {
     "name": "stdout",
     "output_type": "stream",
     "text": [
      "Taylor just jumped\n"
     ]
    }
   ],
   "source": [
    "taylor.jump()"
   ]
  },
  {
   "cell_type": "code",
   "execution_count": 292,
   "id": "cf7bca6c",
   "metadata": {},
   "outputs": [
    {
     "name": "stdout",
     "output_type": "stream",
     "text": [
      "Taylor just squatted\n"
     ]
    }
   ],
   "source": [
    "taylor.squat()"
   ]
  },
  {
   "cell_type": "code",
   "execution_count": 293,
   "id": "16f4e67e",
   "metadata": {},
   "outputs": [
    {
     "name": "stdout",
     "output_type": "stream",
     "text": [
      "Person { name: 'Travis', age: 34 }\n"
     ]
    }
   ],
   "source": [
    "let travis = new Person('Travis', 34);\n",
    "console.log(travis)"
   ]
  },
  {
   "cell_type": "code",
   "execution_count": 294,
   "id": "b317d058",
   "metadata": {},
   "outputs": [
    {
     "name": "stdout",
     "output_type": "stream",
     "text": [
      "Travis just jumped\n",
      "Travis just squatted\n"
     ]
    }
   ],
   "source": [
    "travis.jump();\n",
    "travis.squat();"
   ]
  },
  {
   "cell_type": "markdown",
   "id": "45f6cc44",
   "metadata": {},
   "source": [
    "<a id=\"inherit\"></a>\n",
    "\n",
    "### Inheritance "
   ]
  },
  {
   "cell_type": "markdown",
   "id": "0a087057",
   "metadata": {},
   "source": [
    "In python, to inherit (or extend) a class, we did something like `class Baby(Human)`. In JS, we use the keyword `extends` ie `class Baby extends Human`.\n",
    "\n",
    "A Parent Class is often also called a super class.\n",
    "\n",
    "In a child class the keyword super represents the parent class.  \n",
    "\n",
    "Often it is use to invoke the parent constructor.\n",
    "just like in python when we did:\n",
    "\n",
    "```\n",
    "super().__init__(params)\n",
    "```\n",
    "\n",
    "in JS this becomes\n",
    "\n",
    "```\n",
    "super(params)\n",
    "```\n",
    "\n",
    "<strong>Note:</strong> Giving the returnInfo to the baby class creates a method override, so now all the members of class Baby will now returnInfo in a new way, while members of the Human class will retain their original returnInfo method."
   ]
  },
  {
   "cell_type": "code",
   "execution_count": 295,
   "id": "a5252a61",
   "metadata": {},
   "outputs": [],
   "source": [
    "class Baby extends Person {\n",
    "    constructor(name, age, isWalking){\n",
    "        super(name, age);\n",
    "        this.isWalking = isWalking\n",
    "    }\n",
    "    \n",
    "    walk(){\n",
    "        if (this.isWalking){\n",
    "            console.log('Hooray,', this.name, 'can walk!')\n",
    "        } else {\n",
    "            console.log(this.name, 'is still crawling...')\n",
    "        }\n",
    "    }\n",
    "}"
   ]
  },
  {
   "cell_type": "code",
   "execution_count": 297,
   "id": "e32e69e2",
   "metadata": {},
   "outputs": [
    {
     "name": "stdout",
     "output_type": "stream",
     "text": [
      "Baby { name: 'Stewie', age: 2, isWalking: true }\n"
     ]
    }
   ],
   "source": [
    "let stewie = new Baby('Stewie', 2, true);\n",
    "console.log(stewie)"
   ]
  },
  {
   "cell_type": "code",
   "execution_count": 298,
   "id": "1583599c",
   "metadata": {},
   "outputs": [
    {
     "name": "stdout",
     "output_type": "stream",
     "text": [
      "Stewie just jumped\n"
     ]
    }
   ],
   "source": [
    "stewie.jump()"
   ]
  },
  {
   "cell_type": "code",
   "execution_count": 299,
   "id": "3fc985f8",
   "metadata": {},
   "outputs": [
    {
     "name": "stdout",
     "output_type": "stream",
     "text": [
      "Stewie just squatted\n"
     ]
    }
   ],
   "source": [
    "stewie.squat()"
   ]
  },
  {
   "cell_type": "code",
   "execution_count": 300,
   "id": "b9908bb5",
   "metadata": {},
   "outputs": [
    {
     "name": "stdout",
     "output_type": "stream",
     "text": [
      "Hooray, Stewie can walk!\n"
     ]
    }
   ],
   "source": [
    "stewie.walk()"
   ]
  },
  {
   "cell_type": "code",
   "execution_count": 301,
   "id": "7eee80ff",
   "metadata": {},
   "outputs": [
    {
     "ename": "TypeError",
     "evalue": "taylor.walk is not a function",
     "output_type": "error",
     "traceback": [
      "evalmachine.<anonymous>:2",
      "taylor.walk()",
      "       ^",
      "",
      "TypeError: taylor.walk is not a function",
      "    at evalmachine.<anonymous>:2:8",
      "    at Script.runInThisContext (node:vm:129:12)",
      "    at Object.runInThisContext (node:vm:307:38)",
      "    at run ([eval]:1020:15)",
      "    at onRunRequest ([eval]:864:18)",
      "    at onMessage ([eval]:828:13)",
      "    at process.emit (node:events:513:28)",
      "    at emit (node:internal/child_process:937:14)",
      "    at process.processTicksAndRejections (node:internal/process/task_queues:83:21)"
     ]
    }
   ],
   "source": [
    "// Inheritance flows down. Human instances will not have the .walk method\n",
    "taylor.walk()"
   ]
  },
  {
   "cell_type": "code",
   "execution_count": 302,
   "id": "746cbcea",
   "metadata": {},
   "outputs": [
    {
     "name": "stdout",
     "output_type": "stream",
     "text": [
      "undefined\n"
     ]
    }
   ],
   "source": [
    "console.log(taylor.walk)"
   ]
  },
  {
   "cell_type": "markdown",
   "id": "9e41fcd2",
   "metadata": {},
   "source": [
    "<a id=\"super\"></a>\n",
    "\n",
    "### super keyword"
   ]
  },
  {
   "cell_type": "markdown",
   "id": "e06f22ae",
   "metadata": {},
   "source": [
    "Another use of the super keyword is to call methods from the parent class"
   ]
  },
  {
   "cell_type": "code",
   "execution_count": 305,
   "id": "35c1fd44",
   "metadata": {},
   "outputs": [],
   "source": [
    "class ParentClass{\n",
    "    singLine(){\n",
    "        console.log(\"No, I can't sleep until I feel your touch\")\n",
    "    }\n",
    "}\n",
    "\n",
    "class Child extends ParentClass {\n",
    "    singLine(){\n",
    "        console.log(\"I said, ooh, I'm blinded by the lights\")\n",
    "        super.singLine();\n",
    "        console.log(\"I said, ooh, I'm drowning in the night\")\n",
    "    }\n",
    "}"
   ]
  },
  {
   "cell_type": "code",
   "execution_count": 306,
   "id": "4b08ae12",
   "metadata": {},
   "outputs": [],
   "source": [
    "let childSinger = new Child();"
   ]
  },
  {
   "cell_type": "code",
   "execution_count": 307,
   "id": "45c1b90d",
   "metadata": {},
   "outputs": [
    {
     "name": "stdout",
     "output_type": "stream",
     "text": [
      "I said, ooh, I'm blinded by the lights\n",
      "No, I can't sleep until I feel your touch\n",
      "I said, oof, I'm drowning in the night\n"
     ]
    }
   ],
   "source": [
    "childSinger.singLine()"
   ]
  },
  {
   "cell_type": "markdown",
   "id": "d5f30221",
   "metadata": {},
   "source": [
    "<b> In the Typescript Section of this course we will go into more detail on OOP design principals</b>"
   ]
  },
  {
   "cell_type": "markdown",
   "id": "2fbfb90f",
   "metadata": {},
   "source": [
    "<a id=\"ice5\"></a>\n",
    "\n",
    "### In Class Assignment #5"
   ]
  },
  {
   "cell_type": "markdown",
   "id": "9203e781",
   "metadata": {},
   "source": [
    "Create a Class to represent all Animals.  These animals have a name and age attributes, and they have functions that will talk and walk.\n",
    "\n",
    "Create a class that inherehits from the Animal Class called Cat and one called Dog and override the methods for talk to an appropriate method for a Cat or Dog talking and retains the method for walk."
   ]
  },
  {
   "cell_type": "code",
   "execution_count": 308,
   "id": "84b74db7",
   "metadata": {},
   "outputs": [],
   "source": [
    "class Animal{\n",
    "    constructor(name, age){\n",
    "        this.name = name;\n",
    "        this.age = age;\n",
    "    }\n",
    "    \n",
    "    talk(){\n",
    "        console.log(this.name, 'is talking')\n",
    "    }\n",
    "    \n",
    "    walk(){\n",
    "        console.log(this.name, 'is walking')\n",
    "    }\n",
    "}\n"
   ]
  },
  {
   "cell_type": "code",
   "execution_count": 309,
   "id": "b3fa41e3",
   "metadata": {},
   "outputs": [
    {
     "name": "stdout",
     "output_type": "stream",
     "text": [
      "Test is walking\n",
      "Test is talking\n"
     ]
    }
   ],
   "source": [
    "let testAnimal = new Animal('Test', 123);\n",
    "testAnimal.walk();\n",
    "testAnimal.talk();"
   ]
  },
  {
   "cell_type": "code",
   "execution_count": 310,
   "id": "2d79f16e",
   "metadata": {},
   "outputs": [],
   "source": [
    "class Cat extends Animal{\n",
    "    talk(){\n",
    "        console.log(this.name, 'is meowing')\n",
    "    }\n",
    "}"
   ]
  },
  {
   "cell_type": "code",
   "execution_count": 311,
   "id": "eccaee66",
   "metadata": {},
   "outputs": [],
   "source": [
    "class Dog extends Animal{\n",
    "    talk(){\n",
    "        console.log(this.name, 'is barking')\n",
    "    }\n",
    "}"
   ]
  },
  {
   "cell_type": "code",
   "execution_count": 312,
   "id": "8bc77e5e",
   "metadata": {},
   "outputs": [
    {
     "name": "stdout",
     "output_type": "stream",
     "text": [
      "Whiskers is walking\n",
      "Whiskers is meowing\n",
      "Spot is walking\n",
      "Spot is barking\n"
     ]
    }
   ],
   "source": [
    "let whiskers = new Cat('Whiskers', 7);\n",
    "let spot = new Dog('Spot', 3);\n",
    "\n",
    "whiskers.walk(); // Whiskers is walking\n",
    "whiskers.talk(); // Whiskers meows\n",
    "spot.walk(); // Spot is walking\n",
    "spot.talk(); // Spot barks"
   ]
  },
  {
   "cell_type": "markdown",
   "id": "6b7e2da8",
   "metadata": {},
   "source": [
    "<a id=\"closure\"></a>\n",
    "\n",
    "## Closures"
   ]
  },
  {
   "cell_type": "markdown",
   "id": "b2347bd9",
   "metadata": {},
   "source": [
    "JavaScript and Python both have closures.  In JS they are used more often to create private variables.  But have many uses and we will talk about stateful functions and private variables\n",
    "\n",
    "A closure in JavaScript is a function that has access to variables in its outer scope, even after the outer function has returned. The closure \"closes over\" the variables in its outer scope, keeping them accessible even after the outer function has completed. This allows for data persistence and stateful function behavior. Closures are created when a function is declared inside another function and the inner function references variables from the outer function."
   ]
  },
  {
   "cell_type": "code",
   "execution_count": 1,
   "id": "a52cb826",
   "metadata": {},
   "outputs": [],
   "source": [
    "function createMultiplier(x){\n",
    "    function multiply(y){\n",
    "        return x * y\n",
    "    }\n",
    "    return multiply\n",
    "}"
   ]
  },
  {
   "cell_type": "code",
   "execution_count": 2,
   "id": "28a00426",
   "metadata": {},
   "outputs": [
    {
     "data": {
      "text/plain": [
       "[Function: multiply]"
      ]
     },
     "execution_count": 2,
     "metadata": {},
     "output_type": "execute_result"
    }
   ],
   "source": [
    "let timesFive = createMultiplier(5);\n",
    "\n",
    "timesFive"
   ]
  },
  {
   "cell_type": "code",
   "execution_count": 3,
   "id": "04cdb7b4",
   "metadata": {},
   "outputs": [
    {
     "data": {
      "text/plain": [
       "50"
      ]
     },
     "execution_count": 3,
     "metadata": {},
     "output_type": "execute_result"
    }
   ],
   "source": [
    "timesFive(10)"
   ]
  },
  {
   "cell_type": "code",
   "execution_count": 4,
   "id": "ba53849a",
   "metadata": {},
   "outputs": [
    {
     "ename": "ReferenceError",
     "evalue": "x is not defined",
     "output_type": "error",
     "traceback": [
      "evalmachine.<anonymous>:1",
      "console.log(x)",
      "            ^",
      "",
      "ReferenceError: x is not defined",
      "    at evalmachine.<anonymous>:1:13",
      "    at Script.runInThisContext (node:vm:129:12)",
      "    at Object.runInThisContext (node:vm:307:38)",
      "    at run ([eval]:1020:15)",
      "    at onRunRequest ([eval]:864:18)",
      "    at onMessage ([eval]:828:13)",
      "    at process.emit (node:events:513:28)",
      "    at emit (node:internal/child_process:937:14)",
      "    at process.processTicksAndRejections (node:internal/process/task_queues:83:21)"
     ]
    }
   ],
   "source": [
    "console.log(x)"
   ]
  },
  {
   "cell_type": "code",
   "execution_count": 5,
   "id": "494ca7b3",
   "metadata": {},
   "outputs": [],
   "source": [
    "let timesThree = createMultiplier(3)"
   ]
  },
  {
   "cell_type": "code",
   "execution_count": 6,
   "id": "5886c2b2",
   "metadata": {},
   "outputs": [
    {
     "data": {
      "text/plain": [
       "30"
      ]
     },
     "execution_count": 6,
     "metadata": {},
     "output_type": "execute_result"
    }
   ],
   "source": [
    "timesThree(10)"
   ]
  },
  {
   "cell_type": "code",
   "execution_count": 7,
   "id": "0b7f5676",
   "metadata": {},
   "outputs": [
    {
     "data": {
      "text/plain": [
       "24"
      ]
     },
     "execution_count": 7,
     "metadata": {},
     "output_type": "execute_result"
    }
   ],
   "source": [
    "timesThree(8)"
   ]
  },
  {
   "cell_type": "markdown",
   "id": "fca88c6d",
   "metadata": {},
   "source": [
    "### Stateful Functions"
   ]
  },
  {
   "cell_type": "markdown",
   "id": "275ba1af",
   "metadata": {},
   "source": [
    "What we can see in this example is the inner function is incremeting the value of x that waas defined in the outer function.  The outher function is returning the unexecuted version of the inner function.\n",
    "\n",
    "when we try\n",
    "\n",
    "```\n",
    "adder=outer()\n",
    "```\n",
    "\n",
    "We are setting the variable adder to the unexecuted function inner. so adder is the inner funtion from our enclosure.\n",
    "\n",
    "then to execute that inner funcer and actually start incrementing our x value we can execute adder().\n",
    "\n",
    "<strong>Note</strong> that the value of x is maintained over multiple calls to the inner function, this is the benefit of the enclosure.\n",
    "\n"
   ]
  },
  {
   "cell_type": "code",
   "execution_count": 8,
   "id": "04de37a0",
   "metadata": {
    "scrolled": true
   },
   "outputs": [],
   "source": [
    "//simple example\n",
    "function outer(){\n",
    "    let myVar = 1;\n",
    "    function inner(){\n",
    "        console.log(myVar++)\n",
    "    };\n",
    "    return inner;\n",
    "};\n"
   ]
  },
  {
   "cell_type": "code",
   "execution_count": 9,
   "id": "3ef0b56e",
   "metadata": {},
   "outputs": [
    {
     "name": "stdout",
     "output_type": "stream",
     "text": [
      "[Function: inner]\n"
     ]
    }
   ],
   "source": [
    "// let adder equal the return value of outer -> the inner function\n",
    "let adder = outer()\n",
    "\n",
    "console.log(adder)"
   ]
  },
  {
   "cell_type": "code",
   "execution_count": 15,
   "id": "16e02da3",
   "metadata": {},
   "outputs": [
    {
     "name": "stdout",
     "output_type": "stream",
     "text": [
      "6\n"
     ]
    }
   ],
   "source": [
    "adder()"
   ]
  },
  {
   "cell_type": "code",
   "execution_count": 16,
   "id": "6259b7ef",
   "metadata": {},
   "outputs": [
    {
     "ename": "ReferenceError",
     "evalue": "myVar is not defined",
     "output_type": "error",
     "traceback": [
      "evalmachine.<anonymous>:1",
      "console.log(myVar)",
      "            ^",
      "",
      "ReferenceError: myVar is not defined",
      "    at evalmachine.<anonymous>:1:13",
      "    at Script.runInThisContext (node:vm:129:12)",
      "    at Object.runInThisContext (node:vm:307:38)",
      "    at run ([eval]:1020:15)",
      "    at onRunRequest ([eval]:864:18)",
      "    at onMessage ([eval]:828:13)",
      "    at process.emit (node:events:513:28)",
      "    at emit (node:internal/child_process:937:14)",
      "    at process.processTicksAndRejections (node:internal/process/task_queues:83:21)"
     ]
    }
   ],
   "source": [
    "console.log(myVar)"
   ]
  },
  {
   "cell_type": "markdown",
   "id": "0e641a99",
   "metadata": {},
   "source": [
    "### Closures as Private Variables"
   ]
  },
  {
   "cell_type": "markdown",
   "id": "4513f240",
   "metadata": {},
   "source": [
    "One Problem we may have seen while exploring the ES5 syntax is that you can change the variables from outside of your class.  If someone changes a variable that shouldn't be changed this could spell disaster.  TypeScript (we will learn next week) will help use greatly with this along with the ES 6 syntax for creating classes.  But what if we wanted a private variable in ES5?  Well Closures also help us with that.  We will use a self-invoking function to create the encolsure."
   ]
  },
  {
   "cell_type": "markdown",
   "id": "37e9b703",
   "metadata": {},
   "source": [
    "#### Self Invoking Function"
   ]
  },
  {
   "cell_type": "markdown",
   "id": "14cc5f44",
   "metadata": {},
   "source": [
    "A Self Invoking Function is merely a name given to a function that calls itself.  We use parathesis to wrap the function then add `(params)` to execute the function."
   ]
  },
  {
   "cell_type": "code",
   "execution_count": 17,
   "id": "6cb819e2",
   "metadata": {},
   "outputs": [
    {
     "name": "stdout",
     "output_type": "stream",
     "text": [
      "Hi Charlie\n"
     ]
    }
   ],
   "source": [
    "// Non self invoking:\n",
    "\n",
    "// Step 1 - Create the function\n",
    "function sayHi(aName){\n",
    "    console.log('Hi ' + aName);\n",
    "}\n",
    "\n",
    "// Step 2 - Invoke the funcion\n",
    "sayHi('Charlie')"
   ]
  },
  {
   "cell_type": "code",
   "execution_count": 19,
   "id": "caee34ad",
   "metadata": {},
   "outputs": [
    {
     "name": "stdout",
     "output_type": "stream",
     "text": [
      "Hi Claire\n"
     ]
    }
   ],
   "source": [
    "// IIFE - Immediately Invoked Function Expression\n",
    "\n",
    "(function(aName){\n",
    "    console.log('Hi ' + aName);\n",
    "})('Claire')"
   ]
  },
  {
   "cell_type": "code",
   "execution_count": 20,
   "id": "cc85fac5",
   "metadata": {},
   "outputs": [],
   "source": [
    "// Create the adder (which we'll call stepper) using and IIFE\n",
    "\n",
    "const stepper = (function(){\n",
    "    let count = 1;\n",
    "    return function(){\n",
    "        console.log(count++)\n",
    "    }\n",
    "})()"
   ]
  },
  {
   "cell_type": "code",
   "execution_count": 21,
   "id": "29472409",
   "metadata": {},
   "outputs": [
    {
     "name": "stdout",
     "output_type": "stream",
     "text": [
      "[Function (anonymous)]\n"
     ]
    }
   ],
   "source": [
    "console.log(stepper)"
   ]
  },
  {
   "cell_type": "code",
   "execution_count": 27,
   "id": "5dc51a14",
   "metadata": {},
   "outputs": [
    {
     "name": "stdout",
     "output_type": "stream",
     "text": [
      "6\n"
     ]
    }
   ],
   "source": [
    "stepper()"
   ]
  },
  {
   "cell_type": "code",
   "execution_count": 34,
   "id": "8206d1ea",
   "metadata": {},
   "outputs": [],
   "source": [
    "let fibCache = {};"
   ]
  },
  {
   "cell_type": "code",
   "execution_count": 35,
   "id": "3d071c08",
   "metadata": {},
   "outputs": [
    {
     "data": {
      "text/plain": [
       "5"
      ]
     },
     "execution_count": 35,
     "metadata": {},
     "output_type": "execute_result"
    }
   ],
   "source": [
    "function fibonacci(number){\n",
    "    if (number <= 1){\n",
    "        return number\n",
    "    } else if (number in fibCache){\n",
    "        return fibCache[number]\n",
    "    } else {\n",
    "        let num = fibonacci(number-1) + fibonacci(number - 2)\n",
    "        fibCache[number] = num\n",
    "        return num\n",
    "    }\n",
    "}\n",
    "\n",
    "\n",
    "fibonacci(5)"
   ]
  },
  {
   "cell_type": "code",
   "execution_count": 36,
   "id": "72da6699",
   "metadata": {},
   "outputs": [
    {
     "data": {
      "text/plain": [
       "55"
      ]
     },
     "execution_count": 36,
     "metadata": {},
     "output_type": "execute_result"
    }
   ],
   "source": [
    "fibonacci(10)"
   ]
  },
  {
   "cell_type": "code",
   "execution_count": 41,
   "id": "133be553",
   "metadata": {},
   "outputs": [
    {
     "ename": "TypeError",
     "evalue": "Cannot use 'in' operator to search for '58' in 0",
     "output_type": "error",
     "traceback": [
      "evalmachine.<anonymous>:4",
      "    } else if (number in fibCache){",
      "                      ^",
      "",
      "TypeError: Cannot use 'in' operator to search for '58' in 0",
      "    at fibonacci (evalmachine.<anonymous>:4:23)",
      "    at evalmachine.<anonymous>:1:1",
      "    at Script.runInThisContext (node:vm:129:12)",
      "    at Object.runInThisContext (node:vm:307:38)",
      "    at run ([eval]:1020:15)",
      "    at onRunRequest ([eval]:864:18)",
      "    at onMessage ([eval]:828:13)",
      "    at process.emit (node:events:513:28)",
      "    at emit (node:internal/child_process:937:14)",
      "    at process.processTicksAndRejections (node:internal/process/task_queues:83:21)"
     ]
    }
   ],
   "source": [
    "fibonacci(58)"
   ]
  },
  {
   "cell_type": "code",
   "execution_count": 40,
   "id": "20825e12",
   "metadata": {},
   "outputs": [
    {
     "data": {
      "text/plain": [
       "0"
      ]
     },
     "execution_count": 40,
     "metadata": {},
     "output_type": "execute_result"
    }
   ],
   "source": [
    "fibCache = 0"
   ]
  },
  {
   "cell_type": "code",
   "execution_count": 42,
   "id": "6eebea41",
   "metadata": {},
   "outputs": [],
   "source": [
    "function createFib(){\n",
    "    let fibCache1 = {}\n",
    "    function fibonacci(number){\n",
    "        if (number <= 1){\n",
    "            return number\n",
    "        } else if (number in fibCache1){\n",
    "            return fibCache1[number]\n",
    "        } else {\n",
    "            let num = fibonacci(number-1) + fibonacci(number - 2)\n",
    "            fibCache1[number] = num\n",
    "            return num\n",
    "        }\n",
    "    }\n",
    "    return fibonacci\n",
    "}\n",
    "\n",
    "\n",
    "const fib = createFib();"
   ]
  },
  {
   "cell_type": "code",
   "execution_count": 43,
   "id": "ef00ff02",
   "metadata": {},
   "outputs": [
    {
     "data": {
      "text/plain": [
       "354224848179262000000"
      ]
     },
     "execution_count": 43,
     "metadata": {},
     "output_type": "execute_result"
    }
   ],
   "source": [
    "fib(100)"
   ]
  },
  {
   "cell_type": "code",
   "execution_count": 44,
   "id": "2d4b7de1",
   "metadata": {},
   "outputs": [
    {
     "ename": "ReferenceError",
     "evalue": "fibCache1 is not defined",
     "output_type": "error",
     "traceback": [
      "evalmachine.<anonymous>:1",
      "console.log(fibCache1)",
      "            ^",
      "",
      "ReferenceError: fibCache1 is not defined",
      "    at evalmachine.<anonymous>:1:13",
      "    at Script.runInThisContext (node:vm:129:12)",
      "    at Object.runInThisContext (node:vm:307:38)",
      "    at run ([eval]:1020:15)",
      "    at onRunRequest ([eval]:864:18)",
      "    at onMessage ([eval]:828:13)",
      "    at process.emit (node:events:513:28)",
      "    at emit (node:internal/child_process:937:14)",
      "    at process.processTicksAndRejections (node:internal/process/task_queues:83:21)"
     ]
    }
   ],
   "source": [
    "console.log(fibCache1)"
   ]
  },
  {
   "cell_type": "code",
   "execution_count": 45,
   "id": "40b39665",
   "metadata": {},
   "outputs": [],
   "source": [
    "const fibNum = (function(){\n",
    "    let cache = {}\n",
    "    return function calc(num){\n",
    "        if (num <= 1){\n",
    "            return num\n",
    "        } else if (num in cache) {\n",
    "            return cache[num]\n",
    "        } else {\n",
    "            let n = calc(num-1) + calc(num-2);\n",
    "            cache[num] = n;\n",
    "            return n\n",
    "        }\n",
    "    }\n",
    "})()"
   ]
  },
  {
   "cell_type": "code",
   "execution_count": 46,
   "id": "77f24fde",
   "metadata": {},
   "outputs": [
    {
     "data": {
      "text/plain": [
       "55"
      ]
     },
     "execution_count": 46,
     "metadata": {},
     "output_type": "execute_result"
    }
   ],
   "source": [
    "fibNum(10)"
   ]
  },
  {
   "cell_type": "code",
   "execution_count": 47,
   "id": "86dcea5e",
   "metadata": {},
   "outputs": [],
   "source": [
    "// When creating object via variable names, we do not need to double up if we are setting\n",
    "// a object key to a variable of the same name like so { varName: varName }\n",
    "// we can instead just do { varName }\n",
    "\n",
    "let tempHi = 85\n",
    "let tempLo = 75\n",
    "let condition = 'sunny'\n",
    "let precipitation = 0"
   ]
  },
  {
   "cell_type": "code",
   "execution_count": 48,
   "id": "712816e3",
   "metadata": {},
   "outputs": [
    {
     "name": "stdout",
     "output_type": "stream",
     "text": [
      "{ tempHi: 85, tempLo: 75, condition: 'sunny', precipitation: 0 }\n"
     ]
    }
   ],
   "source": [
    "let weatherObj1 = {\n",
    "    tempHi: tempHi,\n",
    "    tempLo: tempLo,\n",
    "    condition: condition,\n",
    "    precipitation: precipitation\n",
    "}\n",
    "\n",
    "console.log(weatherObj1)"
   ]
  },
  {
   "cell_type": "code",
   "execution_count": 49,
   "id": "054cf7c1",
   "metadata": {},
   "outputs": [
    {
     "name": "stdout",
     "output_type": "stream",
     "text": [
      "{ tempHi: 85, tempLo: 75, condition: 'sunny', precipitation: 0 }\n"
     ]
    }
   ],
   "source": [
    "let weatherObj2 = {\n",
    "    tempHi,\n",
    "    tempLo,\n",
    "    condition,\n",
    "    precipitation\n",
    "}\n",
    "\n",
    "console.log(weatherObj2)"
   ]
  },
  {
   "cell_type": "markdown",
   "id": "3d94c1a4",
   "metadata": {},
   "source": [
    "#### Private Variable"
   ]
  },
  {
   "cell_type": "code",
   "execution_count": 50,
   "id": "ca61744d",
   "metadata": {},
   "outputs": [],
   "source": [
    "var myTest = (function(){\n",
    "    let _name = 'default';\n",
    "    \n",
    "    getName = function(){\n",
    "        return _name\n",
    "    }\n",
    "    \n",
    "    setName = function(newName){\n",
    "        if (typeof newName === 'string'){\n",
    "            _name = newName\n",
    "        }\n",
    "    }\n",
    "    \n",
    "    return { getName, setName }\n",
    "})()"
   ]
  },
  {
   "cell_type": "code",
   "execution_count": 51,
   "id": "b5a46c53",
   "metadata": {},
   "outputs": [
    {
     "data": {
      "text/plain": [
       "{ getName: [Function: getName], setName: [Function: setName] }"
      ]
     },
     "execution_count": 51,
     "metadata": {},
     "output_type": "execute_result"
    }
   ],
   "source": [
    "myTest"
   ]
  },
  {
   "cell_type": "code",
   "execution_count": 54,
   "id": "ce49e651",
   "metadata": {},
   "outputs": [
    {
     "name": "stdout",
     "output_type": "stream",
     "text": [
      "default\n",
      "Benjamin\n"
     ]
    }
   ],
   "source": [
    "console.log(myTest.getName())\n",
    "myTest.setName('Benjamin');\n",
    "console.log(myTest.getName())"
   ]
  },
  {
   "cell_type": "code",
   "execution_count": 55,
   "id": "89a3162b",
   "metadata": {},
   "outputs": [
    {
     "name": "stdout",
     "output_type": "stream",
     "text": [
      "Benjamin\n",
      "Benjamin\n"
     ]
    }
   ],
   "source": [
    "console.log(myTest.getName())\n",
    "myTest.setName(12345);\n",
    "console.log(myTest.getName())"
   ]
  },
  {
   "cell_type": "markdown",
   "id": "e7ce6c23",
   "metadata": {},
   "source": [
    "<a id=\"stack\"></a>\n",
    "\n",
    "## JavaScript Call Stack"
   ]
  },
  {
   "cell_type": "markdown",
   "id": "1665d4a7",
   "metadata": {},
   "source": [
    "JS uses a Call Stack to add processes to the stack that executes the process.\n",
    "The stack runs in Chrome's V8 engine, which also contains WebAPIs. Things that run asynchronously (not in the queue with other commands) are sent to the WebAPI to await their turn to be added to the stack. The stack must be cleared before the WebAPI can add the asynchronous process. This is why you often see `setTimeout()` set to a timeout of zero seconds. This is not saying to wait zero seconds and then execute this process; it is saying to wait for the stack to clear before running it.\n",
    "\n",
    "\n",
    "Recommended Video: <a href=\"https://www.youtube.com/watch?v=8aGhZQkoFbQ\">https://www.youtube.com/watch?v=8aGhZQkoFbQ</a>\n"
   ]
  },
  {
   "cell_type": "code",
   "execution_count": 57,
   "id": "4e653100",
   "metadata": {},
   "outputs": [
    {
     "name": "stdout",
     "output_type": "stream",
     "text": [
      "Above timeout\n",
      "Below timeout\n",
      "In the timeout\n"
     ]
    }
   ],
   "source": [
    "console.log('Above timeout');\n",
    "\n",
    "setTimeout(() => { console.log('In the timeout') }, 2000);\n",
    "\n",
    "console.log('Below timeout');"
   ]
  },
  {
   "cell_type": "code",
   "execution_count": 58,
   "id": "71a2d67e",
   "metadata": {},
   "outputs": [
    {
     "name": "stdout",
     "output_type": "stream",
     "text": [
      "Above timeout\n",
      "Below timeout\n",
      "In the timeout\n"
     ]
    }
   ],
   "source": [
    "console.log('Above timeout');\n",
    "\n",
    "setTimeout(() => { console.log('In the timeout') }, 0);\n",
    "\n",
    "console.log('Below timeout');"
   ]
  },
  {
   "cell_type": "code",
   "execution_count": 62,
   "id": "370db114",
   "metadata": {},
   "outputs": [
    {
     "name": "stdout",
     "output_type": "stream",
     "text": [
      "First Started\n",
      "Second Started\n",
      "Second Ended\n",
      "First Ended\n"
     ]
    }
   ],
   "source": [
    "function first(){\n",
    "    console.log('First Started');\n",
    "    setTimeout(() => {\n",
    "        console.log('First Ended');\n",
    "    }, 2000)\n",
    "}\n",
    "\n",
    "\n",
    "function second(){\n",
    "    console.log('Second Started');\n",
    "    console.log('Second Ended')\n",
    "}\n",
    "\n",
    "\n",
    "function main(){\n",
    "    first();\n",
    "    second();\n",
    "}\n",
    "\n",
    "\n",
    "main();"
   ]
  },
  {
   "cell_type": "markdown",
   "id": "271ffd45",
   "metadata": {},
   "source": [
    "Below the initial call stack will look like:\n",
    "\n",
    "tfunc3()\n",
    "\n",
    "tfunc2()\n",
    "\n",
    "tfunc1()\n",
    "\n",
    "This is because tfunc1 calls tfunc2 which calls tfunc3.  Then tfunc3 will execute then tfunc2 then tfunc1. Now that all those have processed, the stack is clear and the setTime will come from the WebAPIs and be ran even though it was called first.\n"
   ]
  },
  {
   "cell_type": "code",
   "execution_count": 63,
   "id": "2acd8c28",
   "metadata": {},
   "outputs": [
    {
     "name": "stdout",
     "output_type": "stream",
     "text": [
      "Hello\n",
      "In the timeout\n"
     ]
    }
   ],
   "source": [
    "var tfunc1 = () => { tfunc2() }\n",
    "\n",
    "var tfunc2 = () => { tfunc3() }\n",
    "\n",
    "var tfunc3 = () => { console.log('Hello') }\n",
    "\n",
    "setTimeout(() => console.log('In the timeout'), 0)\n",
    "\n",
    "\n",
    "tfunc1();"
   ]
  },
  {
   "cell_type": "markdown",
   "id": "60b8ebdd",
   "metadata": {},
   "source": [
    "<a id=\"callback\"></a>\n",
    "\n",
    "## Callbacks"
   ]
  },
  {
   "cell_type": "markdown",
   "id": "4ed13917",
   "metadata": {},
   "source": [
    "Simply put: A Callback is a function that is to be executed after another\n",
    "    function has finished its execution - hence the name callback.\n",
    "\n",
    "   More Complex Definition: In JavaScript, functions are objects. Because of this,\n",
    "    functions can take other functions as arguments(parameters), and can return functions\n",
    "    by other functions.\n",
    "\n",
    "   Functions that do this are called \"higher - Order functions\". Any function,\n",
    "    that is passed as an argument is called a \"Callback function\".\n",
    "\n",
    "   SOOOO...why do we need them?\n",
    "\n",
    "   The reason for this is, because of the JavaScript Event Loop. In a nutshell\n",
    "    JavaScript is an event driven language so this means, that instead of waiting for \n",
    "    a response before moving on, JS will keep executing while listening for other events.\n",
    "\n"
   ]
  },
  {
   "cell_type": "code",
   "execution_count": 66,
   "id": "0deaa19e",
   "metadata": {},
   "outputs": [],
   "source": [
    "function downloadSong(songName){\n",
    "    console.log(`Downloading ${songName}...`)\n",
    "    setTimeout( () => {\n",
    "        console.log('Finished Downloading');\n",
    "        return {title: songName, artist: 'The Beatles'}\n",
    "    } , 3000)\n",
    "}\n",
    "\n",
    "function playSong(songName){\n",
    "    let song = downloadSong(songName);\n",
    "    console.log(`${song?.title} by ${song?.artist} is now playing`)\n",
    "}"
   ]
  },
  {
   "cell_type": "code",
   "execution_count": 69,
   "id": "645085de",
   "metadata": {},
   "outputs": [
    {
     "name": "stdout",
     "output_type": "stream",
     "text": [
      "Downloading Yesterday...\n",
      "undefined by undefined is now playing\n",
      "Downloading Come Together...\n",
      "undefined by undefined is now playing\n",
      "Finished Downloading\n",
      "Finished Downloading\n"
     ]
    }
   ],
   "source": [
    "playSong('Yesterday')\n",
    "playSong('Come Together')"
   ]
  },
  {
   "cell_type": "code",
   "execution_count": 71,
   "id": "c39a058c",
   "metadata": {},
   "outputs": [
    {
     "name": "stdout",
     "output_type": "stream",
     "text": [
      "Starting JavaScript homework\n",
      "Finally time to relax\n",
      "Finsihed JavaScript homework\n"
     ]
    }
   ],
   "source": [
    "function doHomework(subject){\n",
    "    console.log(`Starting ${subject} homework`);\n",
    "    setTimeout( () => {\n",
    "        console.log(`Finsihed ${subject} homework`)\n",
    "    }, 3000)\n",
    "}\n",
    "\n",
    "\n",
    "function relax(){\n",
    "    console.log('Finally time to relax')\n",
    "}\n",
    "\n",
    "\n",
    "doHomework('JavaScript');\n",
    "relax();"
   ]
  },
  {
   "cell_type": "code",
   "execution_count": 72,
   "id": "8fa6b554",
   "metadata": {},
   "outputs": [],
   "source": [
    "function doHomework2(subject, callbackFn){\n",
    "    console.log(`Starting ${subject} homework`);\n",
    "    setTimeout( () => {\n",
    "        console.log(`Finsihed ${subject} homework`);\n",
    "        callbackFn()\n",
    "    }, 3000)\n",
    "}"
   ]
  },
  {
   "cell_type": "code",
   "execution_count": 73,
   "id": "b9db41b4",
   "metadata": {},
   "outputs": [
    {
     "name": "stdout",
     "output_type": "stream",
     "text": [
      "Starting Python homework\n",
      "Finsihed Python homework\n",
      "Finally time to relax\n"
     ]
    }
   ],
   "source": [
    "doHomework2('Python', relax)"
   ]
  },
  {
   "cell_type": "code",
   "execution_count": 74,
   "id": "d1ced8c6",
   "metadata": {},
   "outputs": [
    {
     "name": "stdout",
     "output_type": "stream",
     "text": [
      "Starting SQL homework\n",
      "Finsihed SQL homework\n",
      "Time to eat dinner\n"
     ]
    }
   ],
   "source": [
    "doHomework2('SQL', () => console.log('Time to eat dinner'))"
   ]
  },
  {
   "cell_type": "markdown",
   "id": "6c806b92",
   "metadata": {},
   "source": [
    "\n",
    "   Thought Callbacks give us more functionality...they also introduce\n",
    "    their own problem: Callback Hell\n",
    "\n",
    "   Something that looks like this:\n",
    "   ```\n",
    "    function1( () => {\n",
    "        function2( () => {\n",
    "            function3( () => {\n",
    "                function4( () => {\n",
    "                    // Maybe do something here... 🤷🏾‍♂️\n",
    "                })\n",
    "            })\n",
    "        })\n",
    "    })\n",
    "```"
   ]
  },
  {
   "cell_type": "markdown",
   "id": "88368efe",
   "metadata": {},
   "source": [
    "<a id=\"promise\"></a>\n",
    "\n",
    "## Promises"
   ]
  },
  {
   "cell_type": "markdown",
   "id": "2a26e829",
   "metadata": {},
   "source": [
    "A Promise in JS is basically a promise that the function will do the requested action and then return that result back when it is finished.  This will run asynchronously on the WebAPIs.  \n",
    "\n",
    "Each Promise can either be fulfilled, meaning it has got the answer for you; pending meaning it hasn't finished yet, and rejected meaning something went wrong.\n",
    "\n",
    "The Promise object supports two properties: state and result.\n",
    "\n",
    "While a Promise object is \"pending\" (working), the result is undefined.\n",
    "\n",
    "When a Promise object is \"fulfilled\", the result is a value.\n",
    "\n",
    "When a Promise object is \"rejected\", the result is an error object."
   ]
  },
  {
   "cell_type": "code",
   "execution_count": 75,
   "id": "e4c7c4ff",
   "metadata": {},
   "outputs": [],
   "source": [
    "function downloadSong(songName){\n",
    "    console.log(`Searching for ${songName} in the database...`)\n",
    "    return new Promise( (resolve, reject) => {\n",
    "        // mimic downloading a song - songs with less than 5 chars don't exist\n",
    "        setTimeout( () => {\n",
    "            if (songName.length >= 5){\n",
    "                resolve({ title: songName, artist: 'Taylor Swift'})\n",
    "            } else {\n",
    "                reject(`${songName} does not exist`)\n",
    "            }\n",
    "        }, 3000)\n",
    "    } )\n",
    "}"
   ]
  },
  {
   "cell_type": "markdown",
   "id": "169d8280",
   "metadata": {},
   "source": [
    "#### Still pending"
   ]
  },
  {
   "cell_type": "code",
   "execution_count": 78,
   "id": "d9f60bca",
   "metadata": {},
   "outputs": [
    {
     "name": "stdout",
     "output_type": "stream",
     "text": [
      "Searching for Blank Space in the database...\n",
      "Returned value from downloadSong: Promise { <pending> }\n"
     ]
    }
   ],
   "source": [
    "mySong = downloadSong('Blank Space');\n",
    "\n",
    "console.log(\"Returned value from downloadSong:\", mySong);"
   ]
  },
  {
   "cell_type": "code",
   "execution_count": 79,
   "id": "4cb6794e",
   "metadata": {},
   "outputs": [
    {
     "name": "stdout",
     "output_type": "stream",
     "text": [
      "Promise { { title: 'Blank Space', artist: 'Taylor Swift' } }\n"
     ]
    }
   ],
   "source": [
    "console.log(mySong)"
   ]
  },
  {
   "cell_type": "code",
   "execution_count": 80,
   "id": "76265fa1",
   "metadata": {
    "scrolled": true
   },
   "outputs": [
    {
     "name": "stdout",
     "output_type": "stream",
     "text": [
      "Searching for Now in the database...\n",
      "Promise { <pending> }\n"
     ]
    },
    {
     "name": "stderr",
     "output_type": "stream",
     "text": [
      "UnhandledPromiseRejection: This error originated either by throwing inside of an async function without a catch block, or by rejecting a promise which was not handled with .catch(). The promise rejected with the reason \"Now does not exist\"."
     ]
    }
   ],
   "source": [
    "let anotherSong = downloadSong('Now');\n",
    "\n",
    "console.log(anotherSong);"
   ]
  },
  {
   "cell_type": "code",
   "execution_count": 81,
   "id": "4a1f00d9",
   "metadata": {},
   "outputs": [
    {
     "name": "stdout",
     "output_type": "stream",
     "text": [
      "Promise { <rejected> 'Now does not exist' }\n"
     ]
    }
   ],
   "source": [
    "console.log(anotherSong)"
   ]
  },
  {
   "cell_type": "markdown",
   "id": "47aef0f3",
   "metadata": {},
   "source": [
    "#### Resolving the Promise"
   ]
  },
  {
   "cell_type": "markdown",
   "id": "69713ff4",
   "metadata": {},
   "source": [
    "Using a chain of callbacks and .then/.catch/.finally we can resolve the promise and recieve its output\n",
    "\n",
    "`.then((resultOfPromise)=>{do something with result})` this will resolve the promise when it becomes fulfilled.\n",
    "\n",
    "`.catch((error)=>{do something based on the error})` this will run if the promise returns an error\n",
    "\n",
    "`.finally(()=>{do something after promise has been fulfilled or rejected})`"
   ]
  },
  {
   "cell_type": "code",
   "execution_count": 82,
   "id": "cb209982",
   "metadata": {},
   "outputs": [],
   "source": [
    "function playSong(song){\n",
    "    console.log(`${song?.title} by ${song?.artist} is now playing...`)\n",
    "}"
   ]
  },
  {
   "cell_type": "code",
   "execution_count": 83,
   "id": "2472f5a2",
   "metadata": {},
   "outputs": [
    {
     "name": "stdout",
     "output_type": "stream",
     "text": [
      "Searching for Wildest Dreams in the database...\n",
      "undefined by undefined is now playing...\n"
     ]
    }
   ],
   "source": [
    "let song1 = downloadSong('Wildest Dreams')\n",
    "playSong(song1);"
   ]
  },
  {
   "cell_type": "code",
   "execution_count": 85,
   "id": "2de1a34a",
   "metadata": {},
   "outputs": [
    {
     "name": "stdout",
     "output_type": "stream",
     "text": [
      "Searching for Wildest Dreams in the database...\n"
     ]
    },
    {
     "data": {
      "text/plain": [
       "Promise { <pending> }"
      ]
     },
     "execution_count": 85,
     "metadata": {},
     "output_type": "execute_result"
    },
    {
     "name": "stdout",
     "output_type": "stream",
     "text": [
      "Wildest Dreams by Taylor Swift is now playing...\n"
     ]
    }
   ],
   "source": [
    "downloadSong('Wildest Dreams').then(playSong)"
   ]
  },
  {
   "cell_type": "code",
   "execution_count": 86,
   "id": "60fae945",
   "metadata": {},
   "outputs": [
    {
     "name": "stdout",
     "output_type": "stream",
     "text": [
      "Searching for ABC in the database...\n"
     ]
    },
    {
     "data": {
      "text/plain": [
       "Promise { <pending> }"
      ]
     },
     "execution_count": 86,
     "metadata": {},
     "output_type": "execute_result"
    },
    {
     "name": "stderr",
     "output_type": "stream",
     "text": [
      "UnhandledPromiseRejection: This error originated either by throwing inside of an async function without a catch block, or by rejecting a promise which was not handled with .catch(). The promise rejected with the reason \"ABC does not exist\"."
     ]
    }
   ],
   "source": [
    "downloadSong('ABC').then(playSong)"
   ]
  },
  {
   "cell_type": "code",
   "execution_count": 87,
   "id": "628ba5cc",
   "metadata": {},
   "outputs": [],
   "source": [
    "function handleRejection(errMessage){\n",
    "    console.warn(errMessage)\n",
    "}"
   ]
  },
  {
   "cell_type": "code",
   "execution_count": 88,
   "id": "f998c802",
   "metadata": {},
   "outputs": [
    {
     "name": "stderr",
     "output_type": "stream",
     "text": [
      "I hate you\n"
     ]
    }
   ],
   "source": [
    "handleRejection('I hate you')"
   ]
  },
  {
   "cell_type": "code",
   "execution_count": 89,
   "id": "a4fde2aa",
   "metadata": {},
   "outputs": [
    {
     "name": "stdout",
     "output_type": "stream",
     "text": [
      "Searching for ABC in the database...\n"
     ]
    },
    {
     "data": {
      "text/plain": [
       "Promise { <pending> }"
      ]
     },
     "execution_count": 89,
     "metadata": {},
     "output_type": "execute_result"
    },
    {
     "name": "stderr",
     "output_type": "stream",
     "text": [
      "ABC does not exist\n"
     ]
    }
   ],
   "source": [
    "downloadSong('ABC').then(playSong).catch(handleRejection)"
   ]
  },
  {
   "cell_type": "code",
   "execution_count": 90,
   "id": "79e68a69",
   "metadata": {},
   "outputs": [
    {
     "name": "stdout",
     "output_type": "stream",
     "text": [
      "Searching for Bad Blood in the database...\n"
     ]
    },
    {
     "data": {
      "text/plain": [
       "Promise { <pending> }"
      ]
     },
     "execution_count": 90,
     "metadata": {},
     "output_type": "execute_result"
    },
    {
     "name": "stdout",
     "output_type": "stream",
     "text": [
      "Bad Blood by Taylor Swift is now playing...\n"
     ]
    }
   ],
   "source": [
    "downloadSong('Bad Blood').then(playSong).catch(handleRejection)"
   ]
  },
  {
   "cell_type": "code",
   "execution_count": 91,
   "id": "8769d7f2",
   "metadata": {},
   "outputs": [
    {
     "name": "stdout",
     "output_type": "stream",
     "text": [
      "Searching for Anti-Hero in the database...\n"
     ]
    },
    {
     "data": {
      "text/plain": [
       "Promise { <pending> }"
      ]
     },
     "execution_count": 91,
     "metadata": {},
     "output_type": "execute_result"
    },
    {
     "name": "stdout",
     "output_type": "stream",
     "text": [
      "Anti-Hero by Taylor Swift is now playing...\n",
      "Finished!\n"
     ]
    }
   ],
   "source": [
    "downloadSong('Anti-Hero')\n",
    "    .then(playSong)\n",
    "    .catch(handleRejection)\n",
    "    .finally( () => console.log('Finished!') )"
   ]
  },
  {
   "cell_type": "code",
   "execution_count": 92,
   "id": "b38dd9a7",
   "metadata": {},
   "outputs": [
    {
     "name": "stdout",
     "output_type": "stream",
     "text": [
      "Searching for 1989 in the database...\n"
     ]
    },
    {
     "data": {
      "text/plain": [
       "Promise { <pending> }"
      ]
     },
     "execution_count": 92,
     "metadata": {},
     "output_type": "execute_result"
    },
    {
     "name": "stderr",
     "output_type": "stream",
     "text": [
      "1989 does not exist\n"
     ]
    },
    {
     "name": "stdout",
     "output_type": "stream",
     "text": [
      "Finished!\n"
     ]
    }
   ],
   "source": [
    "downloadSong('1989')\n",
    "    .then(playSong)\n",
    "    .catch(handleRejection)\n",
    "    .finally( () => console.log('Finished!') )"
   ]
  },
  {
   "cell_type": "code",
   "execution_count": 94,
   "id": "bdf251ba",
   "metadata": {},
   "outputs": [
    {
     "name": "stdout",
     "output_type": "stream",
     "text": [
      "Searching for Cruel Summer in the database...\n"
     ]
    },
    {
     "data": {
      "text/plain": [
       "Promise { <pending> }"
      ]
     },
     "execution_count": 94,
     "metadata": {},
     "output_type": "execute_result"
    },
    {
     "name": "stdout",
     "output_type": "stream",
     "text": [
      "Cruel Summer by Taylor Swift is playing...\n",
      "Oh my gosh Taylor Swift I love you!\n",
      "Thank you for seaching our database\n"
     ]
    }
   ],
   "source": [
    "downloadSong('Cruel Summer')\n",
    "    .then( song => {\n",
    "        console.log(`${song?.title} by ${song?.artist} is playing...`)\n",
    "        return song.artist\n",
    "    })\n",
    "    .then( artist => console.log('Oh my gosh', artist, 'I love you!'))\n",
    "    .catch(err => console.warn(err))\n",
    "    .finally( () => console.log('Thank you for seaching our database'))"
   ]
  },
  {
   "cell_type": "code",
   "execution_count": 95,
   "id": "42a61a5c",
   "metadata": {},
   "outputs": [
    {
     "name": "stdout",
     "output_type": "stream",
     "text": [
      "Searching for 123 in the database...\n"
     ]
    },
    {
     "data": {
      "text/plain": [
       "Promise { <pending> }"
      ]
     },
     "execution_count": 95,
     "metadata": {},
     "output_type": "execute_result"
    },
    {
     "name": "stderr",
     "output_type": "stream",
     "text": [
      "123 does not exist\n"
     ]
    },
    {
     "name": "stdout",
     "output_type": "stream",
     "text": [
      "Thank you for seaching our database\n"
     ]
    }
   ],
   "source": [
    "downloadSong('123')\n",
    "    .then( song => {\n",
    "        console.log(`${song?.title} by ${song?.artist} is playing...`)\n",
    "        return song.artist\n",
    "    })\n",
    "    .then( artist => console.log('Oh my gosh', artist, 'I love you!'))\n",
    "    .catch(err => console.warn(err))\n",
    "    .finally( () => console.log('Thank you for seaching our database'))"
   ]
  },
  {
   "cell_type": "code",
   "execution_count": 96,
   "id": "1a6fd743",
   "metadata": {},
   "outputs": [],
   "source": [
    "function playTaylor(songName){\n",
    "    downloadSong(songName)\n",
    "        .then( song => {\n",
    "            console.log(`${song?.title} by ${song?.artist} is playing...`)\n",
    "            return song.artist\n",
    "        })\n",
    "        .then( artist => console.log('Oh my gosh', artist, 'I love you!'))\n",
    "        .catch(err => console.warn(err))\n",
    "        .finally( () => console.log('Thank you for seaching our database'))\n",
    "}"
   ]
  },
  {
   "cell_type": "code",
   "execution_count": 97,
   "id": "46274485",
   "metadata": {},
   "outputs": [
    {
     "name": "stdout",
     "output_type": "stream",
     "text": [
      "Searching for Teardrops On My Guitar in the database...\n",
      "Teardrops On My Guitar by Taylor Swift is playing...\n",
      "Oh my gosh Taylor Swift I love you!\n",
      "Thank you for seaching our database\n"
     ]
    }
   ],
   "source": [
    "playTaylor('Teardrops On My Guitar')"
   ]
  },
  {
   "cell_type": "code",
   "execution_count": 98,
   "id": "dcd058c0",
   "metadata": {
    "scrolled": true
   },
   "outputs": [
    {
     "name": "stdout",
     "output_type": "stream",
     "text": [
      "Searching for ABC in the database...\n"
     ]
    },
    {
     "name": "stderr",
     "output_type": "stream",
     "text": [
      "ABC does not exist\n"
     ]
    },
    {
     "name": "stdout",
     "output_type": "stream",
     "text": [
      "Thank you for seaching our database\n"
     ]
    }
   ],
   "source": [
    "playTaylor('ABC')"
   ]
  },
  {
   "cell_type": "code",
   "execution_count": null,
   "id": "bdf62479",
   "metadata": {},
   "outputs": [],
   "source": []
  },
  {
   "cell_type": "code",
   "execution_count": 109,
   "id": "23c3e710",
   "metadata": {},
   "outputs": [
    {
     "name": "stdout",
     "output_type": "stream",
     "text": [
      "Promise { <pending> }\n"
     ]
    }
   ],
   "source": [
    "res = fetch('https://pokeapi.co/api/v2/pokemon/ditto')\n",
    "console.log(res)"
   ]
  },
  {
   "cell_type": "code",
   "execution_count": 110,
   "id": "65026bdd",
   "metadata": {},
   "outputs": [
    {
     "name": "stdout",
     "output_type": "stream",
     "text": [
      "Promise {\n",
      "  Response {\n",
      "    [Symbol(realm)]: null,\n",
      "    [Symbol(state)]: {\n",
      "      aborted: false,\n",
      "      rangeRequested: false,\n",
      "      timingAllowPassed: true,\n",
      "      requestIncludesCredentials: true,\n",
      "      type: 'default',\n",
      "      status: 200,\n",
      "      timingInfo: [Object],\n",
      "      cacheState: '',\n",
      "      statusText: 'OK',\n",
      "      headersList: [HeadersList],\n",
      "      urlList: [Array],\n",
      "      body: [Object]\n",
      "    },\n",
      "    [Symbol(headers)]: HeadersList {\n",
      "      cookies: null,\n",
      "      [Symbol(headers map)]: [Map],\n",
      "      [Symbol(headers map sorted)]: null\n",
      "    }\n",
      "  }\n",
      "}\n",
      "Promise { <pending> }\n"
     ]
    }
   ],
   "source": [
    "console.log(res)\n",
    "data = res.then(responseObj => responseObj.json())\n",
    "console.log(data)"
   ]
  },
  {
   "cell_type": "code",
   "execution_count": 111,
   "id": "9e724ade",
   "metadata": {},
   "outputs": [
    {
     "name": "stdout",
     "output_type": "stream",
     "text": [
      "Promise {\n",
      "  {\n",
      "    abilities: [ [Object], [Object] ],\n",
      "    base_experience: 101,\n",
      "    forms: [ [Object] ],\n",
      "    game_indices: [\n",
      "      [Object], [Object], [Object],\n",
      "      [Object], [Object], [Object],\n",
      "      [Object], [Object], [Object],\n",
      "      [Object], [Object], [Object],\n",
      "      [Object], [Object], [Object],\n",
      "      [Object], [Object], [Object],\n",
      "      [Object], [Object]\n",
      "    ],\n",
      "    height: 3,\n",
      "    held_items: [ [Object], [Object] ],\n",
      "    id: 132,\n",
      "    is_default: true,\n",
      "    location_area_encounters: 'https://pokeapi.co/api/v2/pokemon/132/encounters',\n",
      "    moves: [ [Object] ],\n",
      "    name: 'ditto',\n",
      "    order: 214,\n",
      "    past_abilities: [],\n",
      "    past_types: [],\n",
      "    species: {\n",
      "      name: 'ditto',\n",
      "      url: 'https://pokeapi.co/api/v2/pokemon-species/132/'\n",
      "    },\n",
      "    sprites: {\n",
      "      back_default: 'https://raw.githubusercontent.com/PokeAPI/sprites/master/sprites/pokemon/back/132.png',\n",
      "      back_female: null,\n",
      "      back_shiny: 'https://raw.githubusercontent.com/PokeAPI/sprites/master/sprites/pokemon/back/shiny/132.png',\n",
      "      back_shiny_female: null,\n",
      "      front_default: 'https://raw.githubusercontent.com/PokeAPI/sprites/master/sprites/pokemon/132.png',\n",
      "      front_female: null,\n",
      "      front_shiny: 'https://raw.githubusercontent.com/PokeAPI/sprites/master/sprites/pokemon/shiny/132.png',\n",
      "      front_shiny_female: null,\n",
      "      other: [Object],\n",
      "      versions: [Object]\n",
      "    },\n",
      "    stats: [ [Object], [Object], [Object], [Object], [Object], [Object] ],\n",
      "    types: [ [Object] ],\n",
      "    weight: 40\n",
      "  }\n",
      "}\n"
     ]
    }
   ],
   "source": [
    "console.log(data)"
   ]
  },
  {
   "cell_type": "code",
   "execution_count": 113,
   "id": "1783e41b",
   "metadata": {
    "scrolled": true
   },
   "outputs": [
    {
     "data": {
      "text/plain": [
       "Promise { <pending> }"
      ]
     },
     "execution_count": 113,
     "metadata": {},
     "output_type": "execute_result"
    },
    {
     "name": "stdout",
     "output_type": "stream",
     "text": [
      "{\n",
      "  abilities: [\n",
      "    { ability: [Object], is_hidden: false, slot: 1 },\n",
      "    { ability: [Object], is_hidden: true, slot: 3 }\n",
      "  ],\n",
      "  base_experience: 112,\n",
      "  forms: [\n",
      "    {\n",
      "      name: 'pikachu',\n",
      "      url: 'https://pokeapi.co/api/v2/pokemon-form/25/'\n",
      "    }\n",
      "  ],\n",
      "  game_indices: [\n",
      "    { game_index: 84, version: [Object] },\n",
      "    { game_index: 84, version: [Object] },\n",
      "    { game_index: 84, version: [Object] },\n",
      "    { game_index: 25, version: [Object] },\n",
      "    { game_index: 25, version: [Object] },\n",
      "    { game_index: 25, version: [Object] },\n",
      "    { game_index: 25, version: [Object] },\n",
      "    { game_index: 25, version: [Object] },\n",
      "    { game_index: 25, version: [Object] },\n",
      "    { game_index: 25, version: [Object] },\n",
      "    { game_index: 25, version: [Object] },\n",
      "    { game_index: 25, version: [Object] },\n",
      "    { game_index: 25, version: [Object] },\n",
      "    { game_index: 25, version: [Object] },\n",
      "    { game_index: 25, version: [Object] },\n",
      "    { game_index: 25, version: [Object] },\n",
      "    { game_index: 25, version: [Object] },\n",
      "    { game_index: 25, version: [Object] },\n",
      "    { game_index: 25, version: [Object] },\n",
      "    { game_index: 25, version: [Object] }\n",
      "  ],\n",
      "  height: 4,\n",
      "  held_items: [\n",
      "    { item: [Object], version_details: [Array] },\n",
      "    { item: [Object], version_details: [Array] }\n",
      "  ],\n",
      "  id: 25,\n",
      "  is_default: true,\n",
      "  location_area_encounters: 'https://pokeapi.co/api/v2/pokemon/25/encounters',\n",
      "  moves: [\n",
      "    { move: [Object], version_group_details: [Array] },\n",
      "    { move: [Object], version_group_details: [Array] },\n",
      "    { move: [Object], version_group_details: [Array] },\n",
      "    { move: [Object], version_group_details: [Array] },\n",
      "    { move: [Object], version_group_details: [Array] },\n",
      "    { move: [Object], version_group_details: [Array] },\n",
      "    { move: [Object], version_group_details: [Array] },\n",
      "    { move: [Object], version_group_details: [Array] },\n",
      "    { move: [Object], version_group_details: [Array] },\n",
      "    { move: [Object], version_group_details: [Array] },\n",
      "    { move: [Object], version_group_details: [Array] },\n",
      "    { move: [Object], version_group_details: [Array] },\n",
      "    { move: [Object], version_group_details: [Array] },\n",
      "    { move: [Object], version_group_details: [Array] },\n",
      "    { move: [Object], version_group_details: [Array] },\n",
      "    { move: [Object], version_group_details: [Array] },\n",
      "    { move: [Object], version_group_details: [Array] },\n",
      "    { move: [Object], version_group_details: [Array] },\n",
      "    { move: [Object], version_group_details: [Array] },\n",
      "    { move: [Object], version_group_details: [Array] },\n",
      "    { move: [Object], version_group_details: [Array] },\n",
      "    { move: [Object], version_group_details: [Array] },\n",
      "    { move: [Object], version_group_details: [Array] },\n",
      "    { move: [Object], version_group_details: [Array] },\n",
      "    { move: [Object], version_group_details: [Array] },\n",
      "    { move: [Object], version_group_details: [Array] },\n",
      "    { move: [Object], version_group_details: [Array] },\n",
      "    { move: [Object], version_group_details: [Array] },\n",
      "    { move: [Object], version_group_details: [Array] },\n",
      "    { move: [Object], version_group_details: [Array] },\n",
      "    { move: [Object], version_group_details: [Array] },\n",
      "    { move: [Object], version_group_details: [Array] },\n",
      "    { move: [Object], version_group_details: [Array] },\n",
      "    { move: [Object], version_group_details: [Array] },\n",
      "    { move: [Object], version_group_details: [Array] },\n",
      "    { move: [Object], version_group_details: [Array] },\n",
      "    { move: [Object], version_group_details: [Array] },\n",
      "    { move: [Object], version_group_details: [Array] },\n",
      "    { move: [Object], version_group_details: [Array] },\n",
      "    { move: [Object], version_group_details: [Array] },\n",
      "    { move: [Object], version_group_details: [Array] },\n",
      "    { move: [Object], version_group_details: [Array] },\n",
      "    { move: [Object], version_group_details: [Array] },\n",
      "    { move: [Object], version_group_details: [Array] },\n",
      "    { move: [Object], version_group_details: [Array] },\n",
      "    { move: [Object], version_group_details: [Array] },\n",
      "    { move: [Object], version_group_details: [Array] },\n",
      "    { move: [Object], version_group_details: [Array] },\n",
      "    { move: [Object], version_group_details: [Array] },\n",
      "    { move: [Object], version_group_details: [Array] },\n",
      "    { move: [Object], version_group_details: [Array] },\n",
      "    { move: [Object], version_group_details: [Array] },\n",
      "    { move: [Object], version_group_details: [Array] },\n",
      "    { move: [Object], version_group_details: [Array] },\n",
      "    { move: [Object], version_group_details: [Array] },\n",
      "    { move: [Object], version_group_details: [Array] },\n",
      "    { move: [Object], version_group_details: [Array] },\n",
      "    { move: [Object], version_group_details: [Array] },\n",
      "    { move: [Object], version_group_details: [Array] },\n",
      "    { move: [Object], version_group_details: [Array] },\n",
      "    { move: [Object], version_group_details: [Array] },\n",
      "    { move: [Object], version_group_details: [Array] },\n",
      "    { move: [Object], version_group_details: [Array] },\n",
      "    { move: [Object], version_group_details: [Array] },\n",
      "    { move: [Object], version_group_details: [Array] },\n",
      "    { move: [Object], version_group_details: [Array] },\n",
      "    { move: [Object], version_group_details: [Array] },\n",
      "    { move: [Object], version_group_details: [Array] },\n",
      "    { move: [Object], version_group_details: [Array] },\n",
      "    { move: [Object], version_group_details: [Array] },\n",
      "    { move: [Object], version_group_details: [Array] },\n",
      "    { move: [Object], version_group_details: [Array] },\n",
      "    { move: [Object], version_group_details: [Array] },\n",
      "    { move: [Object], version_group_details: [Array] },\n",
      "    { move: [Object], version_group_details: [Array] },\n",
      "    { move: [Object], version_group_details: [Array] },\n",
      "    { move: [Object], version_group_details: [Array] },\n",
      "    { move: [Object], version_group_details: [Array] },\n",
      "    { move: [Object], version_group_details: [Array] },\n",
      "    { move: [Object], version_group_details: [Array] },\n",
      "    { move: [Object], version_group_details: [Array] },\n",
      "    { move: [Object], version_group_details: [Array] },\n",
      "    { move: [Object], version_group_details: [Array] },\n",
      "    { move: [Object], version_group_details: [Array] },\n",
      "    { move: [Object], version_group_details: [Array] },\n",
      "    { move: [Object], version_group_details: [Array] },\n",
      "    { move: [Object], version_group_details: [Array] },\n",
      "    { move: [Object], version_group_details: [Array] },\n",
      "    { move: [Object], version_group_details: [Array] },\n",
      "    { move: [Object], version_group_details: [Array] },\n",
      "    { move: [Object], version_group_details: [Array] },\n",
      "    { move: [Object], version_group_details: [Array] },\n",
      "    { move: [Object], version_group_details: [Array] },\n",
      "    { move: [Object], version_group_details: [Array] },\n",
      "    { move: [Object], version_group_details: [Array] },\n",
      "    { move: [Object], version_group_details: [Array] },\n",
      "    { move: [Object], version_group_details: [Array] },\n",
      "    { move: [Object], version_group_details: [Array] },\n",
      "    { move: [Object], version_group_details: [Array] },\n",
      "    { move: [Object], version_group_details: [Array] },\n",
      "    ... 5 more items\n",
      "  ],\n",
      "  name: 'pikachu',\n",
      "  order: 35,\n",
      "  past_abilities: [],\n",
      "  past_types: [],\n",
      "  species: {\n",
      "    name: 'pikachu',\n",
      "    url: 'https://pokeapi.co/api/v2/pokemon-species/25/'\n",
      "  },\n",
      "  sprites: {\n",
      "    back_default: 'https://raw.githubusercontent.com/PokeAPI/sprites/master/sprites/pokemon/back/25.png',\n",
      "    back_female: 'https://raw.githubusercontent.com/PokeAPI/sprites/master/sprites/pokemon/back/female/25.png',\n",
      "    back_shiny: 'https://raw.githubusercontent.com/PokeAPI/sprites/master/sprites/pokemon/back/shiny/25.png',\n",
      "    back_shiny_female: 'https://raw.githubusercontent.com/PokeAPI/sprites/master/sprites/pokemon/back/shiny/female/25.png',\n",
      "    front_default: 'https://raw.githubusercontent.com/PokeAPI/sprites/master/sprites/pokemon/25.png',\n",
      "    front_female: 'https://raw.githubusercontent.com/PokeAPI/sprites/master/sprites/pokemon/female/25.png',\n",
      "    front_shiny: 'https://raw.githubusercontent.com/PokeAPI/sprites/master/sprites/pokemon/shiny/25.png',\n",
      "    front_shiny_female: 'https://raw.githubusercontent.com/PokeAPI/sprites/master/sprites/pokemon/shiny/female/25.png',\n",
      "    other: {\n",
      "      dream_world: [Object],\n",
      "      home: [Object],\n",
      "      'official-artwork': [Object],\n",
      "      showdown: [Object]\n",
      "    },\n",
      "    versions: {\n",
      "      'generation-i': [Object],\n",
      "      'generation-ii': [Object],\n",
      "      'generation-iii': [Object],\n",
      "      'generation-iv': [Object],\n",
      "      'generation-v': [Object],\n",
      "      'generation-vi': [Object],\n",
      "      'generation-vii': [Object],\n",
      "      'generation-viii': [Object]\n",
      "    }\n",
      "  },\n",
      "  stats: [\n",
      "    { base_stat: 35, effort: 0, stat: [Object] },\n",
      "    { base_stat: 55, effort: 0, stat: [Object] },\n",
      "    { base_stat: 40, effort: 0, stat: [Object] },\n",
      "    { base_stat: 50, effort: 0, stat: [Object] },\n",
      "    { base_stat: 50, effort: 0, stat: [Object] },\n",
      "    { base_stat: 90, effort: 2, stat: [Object] }\n",
      "  ],\n",
      "  types: [ { slot: 1, type: [Object] } ],\n",
      "  weight: 60\n",
      "}\n"
     ]
    }
   ],
   "source": [
    "fetch('https://pokeapi.co/api/v2/pokemon/pikachu').then(res => res.json()).then(data => console.log(data))"
   ]
  },
  {
   "cell_type": "markdown",
   "id": "3d9eb851",
   "metadata": {},
   "source": [
    "<a id=\"async\"></a>\n",
    "\n",
    "### Async Await"
   ]
  },
  {
   "cell_type": "markdown",
   "id": "1c9948c4",
   "metadata": {},
   "source": [
    "Async Await is another way to reolve your promises, that is a bit more clear than the .then.catch chain\n",
    "\n",
    "To do this we use the key word `await` in front of the promise call.\n",
    "\n",
    "Any function that is awaiting something must be labeled as `async`.\n",
    "\n",
    "You can not await something at the top level of your code"
   ]
  },
  {
   "cell_type": "code",
   "execution_count": 115,
   "id": "88127f77",
   "metadata": {},
   "outputs": [],
   "source": [
    "function playTaylor(songName){\n",
    "    downloadSong(songName)\n",
    "        .then( song => {\n",
    "            console.log(`${song?.title} by ${song?.artist} is playing...`)\n",
    "            return song.artist\n",
    "        })\n",
    "        .then( artist => console.log('Oh my gosh', artist, 'I love you!'))\n",
    "        .catch(err => console.warn(err))\n",
    "        .finally( () => console.log('Thank you for seaching our database'))\n",
    "}"
   ]
  },
  {
   "cell_type": "code",
   "execution_count": 116,
   "id": "6d9a957f",
   "metadata": {},
   "outputs": [],
   "source": [
    "async function playTaylor2(songName){\n",
    "    let song = await downloadSong(songName)\n",
    "    console.log(`${song?.title} by ${song?.artist} is playing...`)\n",
    "    let artist = await song.artist;\n",
    "    console.log('Oh my gosh', artist, 'I love you!')\n",
    "    console.log('Thank you for seaching our database')\n",
    "}"
   ]
  },
  {
   "cell_type": "code",
   "execution_count": 117,
   "id": "d171030d",
   "metadata": {},
   "outputs": [
    {
     "name": "stdout",
     "output_type": "stream",
     "text": [
      "Searching for Bad Blood in the database...\n",
      "Searching for Bad Blood in the database...\n"
     ]
    },
    {
     "data": {
      "text/plain": [
       "Promise { <pending> }"
      ]
     },
     "execution_count": 117,
     "metadata": {},
     "output_type": "execute_result"
    },
    {
     "name": "stdout",
     "output_type": "stream",
     "text": [
      "Bad Blood by Taylor Swift is playing...\n",
      "Oh my gosh Taylor Swift I love you!\n",
      "Thank you for seaching our database\n",
      "Bad Blood by Taylor Swift is playing...\n",
      "Oh my gosh Taylor Swift I love you!\n",
      "Thank you for seaching our database\n"
     ]
    }
   ],
   "source": [
    "playTaylor('Bad Blood');\n",
    "playTaylor2('Bad Blood');"
   ]
  },
  {
   "cell_type": "markdown",
   "id": "752cbd0c",
   "metadata": {},
   "source": [
    "#### Handling an Error"
   ]
  },
  {
   "cell_type": "code",
   "execution_count": 118,
   "id": "1f304273",
   "metadata": {},
   "outputs": [
    {
     "name": "stdout",
     "output_type": "stream",
     "text": [
      "Searching for ABC in the database...\n"
     ]
    },
    {
     "data": {
      "text/plain": [
       "Promise { <pending> }"
      ]
     },
     "execution_count": 118,
     "metadata": {},
     "output_type": "execute_result"
    },
    {
     "name": "stderr",
     "output_type": "stream",
     "text": [
      "UnhandledPromiseRejection: This error originated either by throwing inside of an async function without a catch block, or by rejecting a promise which was not handled with .catch(). The promise rejected with the reason \"ABC does not exist\"."
     ]
    }
   ],
   "source": [
    "playTaylor2('ABC')"
   ]
  },
  {
   "cell_type": "code",
   "execution_count": 119,
   "id": "fc95aa90",
   "metadata": {},
   "outputs": [],
   "source": [
    "async function playTaylor3(songName){\n",
    "    try{\n",
    "        let song = await downloadSong(songName)\n",
    "        console.log(`${song?.title} by ${song?.artist} is playing...`)\n",
    "        let artist = await song.artist;\n",
    "        console.log('Oh my gosh', artist, 'I love you!')\n",
    "    } catch(errMessage){\n",
    "        console.warn(errMessage)\n",
    "    }\n",
    "    console.log('Thank you for seaching our database')\n",
    "}"
   ]
  },
  {
   "cell_type": "code",
   "execution_count": 120,
   "id": "7658bc86",
   "metadata": {},
   "outputs": [
    {
     "name": "stdout",
     "output_type": "stream",
     "text": [
      "Searching for Love Story in the database...\n"
     ]
    },
    {
     "data": {
      "text/plain": [
       "Promise { <pending> }"
      ]
     },
     "execution_count": 120,
     "metadata": {},
     "output_type": "execute_result"
    },
    {
     "name": "stdout",
     "output_type": "stream",
     "text": [
      "Love Story by Taylor Swift is playing...\n",
      "Oh my gosh Taylor Swift I love you!\n",
      "Thank you for seaching our database\n"
     ]
    }
   ],
   "source": [
    "playTaylor3('Love Story')"
   ]
  },
  {
   "cell_type": "code",
   "execution_count": 121,
   "id": "b153842b",
   "metadata": {},
   "outputs": [
    {
     "name": "stdout",
     "output_type": "stream",
     "text": [
      "Searching for 123 in the database...\n"
     ]
    },
    {
     "data": {
      "text/plain": [
       "Promise { <pending> }"
      ]
     },
     "execution_count": 121,
     "metadata": {},
     "output_type": "execute_result"
    },
    {
     "name": "stderr",
     "output_type": "stream",
     "text": [
      "123 does not exist\n"
     ]
    },
    {
     "name": "stdout",
     "output_type": "stream",
     "text": [
      "Thank you for seaching our database\n"
     ]
    }
   ],
   "source": [
    "playTaylor3('123')"
   ]
  },
  {
   "cell_type": "markdown",
   "id": "846ace33",
   "metadata": {},
   "source": [
    "### Async with Arrow Functions"
   ]
  },
  {
   "cell_type": "markdown",
   "id": "f023c98d",
   "metadata": {},
   "source": [
    "In arrow functions the `async` keyword goes before the parameter list\n",
    "\n",
    "\n",
    "```const arrow_func = async () =>{\n",
    "    await some```"
   ]
  },
  {
   "cell_type": "code",
   "execution_count": 122,
   "id": "bc1d898f",
   "metadata": {
    "scrolled": true
   },
   "outputs": [],
   "source": [
    "let playArrowSong = async (songName) => {\n",
    "    try {\n",
    "        let song = await downloadSong(songName);\n",
    "        console.log(`${song.title} is playing`)\n",
    "    } catch(err) {\n",
    "        console.warn(err)\n",
    "    }\n",
    "    console.log('Thanks for searching!')\n",
    "}"
   ]
  },
  {
   "cell_type": "code",
   "execution_count": 123,
   "id": "ce953c16",
   "metadata": {},
   "outputs": [
    {
     "name": "stdout",
     "output_type": "stream",
     "text": [
      "Searching for Out of the Woods in the database...\n",
      "Searching for 1989 in the database...\n"
     ]
    },
    {
     "data": {
      "text/plain": [
       "Promise { <pending> }"
      ]
     },
     "execution_count": 123,
     "metadata": {},
     "output_type": "execute_result"
    },
    {
     "name": "stdout",
     "output_type": "stream",
     "text": [
      "Out of the Woods is playing\n",
      "Thanks for searching!\n"
     ]
    },
    {
     "name": "stderr",
     "output_type": "stream",
     "text": [
      "1989 does not exist\n"
     ]
    },
    {
     "name": "stdout",
     "output_type": "stream",
     "text": [
      "Thanks for searching!\n"
     ]
    }
   ],
   "source": [
    "playArrowSong('Out of the Woods')\n",
    "playArrowSong('1989')"
   ]
  },
  {
   "cell_type": "code",
   "execution_count": 125,
   "id": "ea53ebc2",
   "metadata": {},
   "outputs": [],
   "source": [
    "let badFunc = async (songName) => {\n",
    "    let song = await downloadSong(songName);\n",
    "    console.log(song)\n",
    "}"
   ]
  },
  {
   "cell_type": "markdown",
   "id": "75d2f2ad",
   "metadata": {},
   "source": [
    "<a id=\"ice6\"></a>\n",
    "\n",
    "### In Class Assignment #6"
   ]
  },
  {
   "cell_type": "markdown",
   "id": "bdf055d1",
   "metadata": {},
   "source": [
    "In the 2 cells Provided resolve the `login` promise using .then/.catch and using async await (for async await create an async function) to login in `codingtemple` with the password `ctrules` be sure to handle rejection in both cases."
   ]
  },
  {
   "cell_type": "code",
   "execution_count": 132,
   "id": "9fcff3df",
   "metadata": {},
   "outputs": [],
   "source": [
    "function login(username, password){\n",
    "    return new Promise((resolve, reject)=>{\n",
    "        if (username == \"codingtemple\" && password==\"ctrules\"){\n",
    "            setTimeout(()=>resolve(\"You have logged in\"), 2000)\n",
    "        }else{\n",
    "            setTimeout(()=>reject(\"Invalid Credentials\"),2000)\n",
    "        }\n",
    "    })\n",
    "}"
   ]
  },
  {
   "cell_type": "code",
   "execution_count": 130,
   "id": "15db11f3",
   "metadata": {},
   "outputs": [
    {
     "name": "stdout",
     "output_type": "stream",
     "text": [
      "Promise { <pending> }\n"
     ]
    }
   ],
   "source": [
    "let abc = login('codingtemple', 'ctrules')\n",
    "console.log(abc)"
   ]
  },
  {
   "cell_type": "code",
   "execution_count": 131,
   "id": "2d6dc6af",
   "metadata": {},
   "outputs": [
    {
     "name": "stdout",
     "output_type": "stream",
     "text": [
      "Promise { 'You have logged in' }\n"
     ]
    }
   ],
   "source": [
    "console.log(abc)"
   ]
  },
  {
   "cell_type": "code",
   "execution_count": 134,
   "id": "d2c3a6ce",
   "metadata": {},
   "outputs": [
    {
     "name": "stdout",
     "output_type": "stream",
     "text": [
      "You have logged in\n"
     ]
    }
   ],
   "source": [
    "//.then .catch\n",
    "\n",
    "function logUserIn(username, password){\n",
    "    login(username, password)\n",
    "        .then(success => console.log(success))\n",
    "        .catch(err => console.warn(err))\n",
    "}\n",
    "\n",
    "\n",
    "logUserIn('codingtemple', 'ctrules')"
   ]
  },
  {
   "cell_type": "code",
   "execution_count": 136,
   "id": "acfe4234",
   "metadata": {},
   "outputs": [
    {
     "data": {
      "text/plain": [
       "Promise { <pending> }"
      ]
     },
     "execution_count": 136,
     "metadata": {},
     "output_type": "execute_result"
    },
    {
     "name": "stdout",
     "output_type": "stream",
     "text": [
      "You have logged in\n"
     ]
    }
   ],
   "source": [
    "// async await\n",
    "\n",
    "async function logUserIn2(username, password){\n",
    "    try{\n",
    "        let success = await login(username, password)\n",
    "        console.log(success);\n",
    "    } catch(err) {\n",
    "        console.warn(err)\n",
    "    }\n",
    "}\n",
    "\n",
    "\n",
    "logUserIn2('codingtemple', 'ctrules')"
   ]
  },
  {
   "cell_type": "markdown",
   "id": "9fca9011",
   "metadata": {},
   "source": [
    "<a id=\"hw\"></a>\n",
    "\n",
    "# Homework"
   ]
  },
  {
   "cell_type": "markdown",
   "id": "70bd1f3d",
   "metadata": {},
   "source": [
    "### Question #1"
   ]
  },
  {
   "cell_type": "markdown",
   "id": "e50cbea4",
   "metadata": {},
   "source": [
    "Use the array of shop items provided and present the the information in the following format\n",
    "\n",
    "```\n",
    "=======================================\n",
    "Name: \t Air Max 97\n",
    "Price: \t 130\n",
    "About: \t The design of the shoe is commonly thought to be inspired by the bullet trains of Japan, but the design was inspired by mountain bikes. \n",
    "Category: shoes\n",
    "=======================================\n",
    "Name: \t Adidas NMD R1\n",
    "Price: \t 128\n",
    "About: \t New-wave classics, with a timeless vintage design: men’s NMD R1 gear is the ultimate go-anywhere shoe. Vibrant styles and soft cushioning will have you gliding through life, wherever it may take you.\n",
    "Category: shoes\n",
    "=======================================\n",
    "Name: \t Gucci Oversize T-shirt with Interlocking G\n",
    "Price: \t 580\n",
    "About: \t The now recognizable oversize Gucci T-shirt continues to evolve with each new collection, the Interlocking G print is influenced by an '80s design from the archives. Streetwear continues to be a defining feature of Gucci's collections and is often juxtaposed by tailored separates.\n",
    "Category: shirts\n",
    "=======================================\n",
    "Name: \t Nike Sportswear Club\n",
    "Price: \t 18.97\n",
    "About: \t The Nike Sportswear Club T-Shirt is made with our everyday cotton fabric and a classic fit for a familiar feel right out of the bag. An embroidered Futura logo on the chest provides a signature Nike look.\n",
    "Category: shirts\n",
    "=======================================\n",
    "Name: \t Spanx Flare Jeans, Vintage Indigo\n",
    "Price: \t 148\n",
    "About: \t These 70s inspired flare jeans are the perfect wear everywhere with anything style. Designed with premium stretch denim, high-rise coverage and hidden core shaping technology, this jean puts a new twist on a retro silhouette.\n",
    "Category: pants\n",
    "=======================================\n",
    "Name: \t Bonobos Premium Stretch Jeans\n",
    "Price: \t 69\n",
    "About: \t Resilient stretch denim made incredibly soft. Yes, jeans can be unbelievably comfortable.\n",
    "Category: pants\n",
    "```"
   ]
  },
  {
   "cell_type": "code",
   "execution_count": null,
   "id": "0083b114",
   "metadata": {},
   "outputs": [],
   "source": [
    "var shopItems=[{\n",
    "    id:1,\n",
    "    name:\"Air Max 97\",\n",
    "    price:130.00,\n",
    "    desc:\"The design of the shoe is commonly thought to be inspired by the bullet trains of Japan, but the design was inspired by mountain bikes. \",\n",
    "    category:\"shoes\"\n",
    "},{\n",
    "    id:2,\n",
    "    name:\"Adidas NMD R1\",\n",
    "    price:128,\n",
    "    desc:\"New-wave classics, with a timeless vintage design: men’s NMD R1 gear is the ultimate go-anywhere shoe. Vibrant styles and soft cushioning will have you gliding through life, wherever it may take you.\",\n",
    "    category:\"shoes\"\n",
    "},{\n",
    "    id:3,\n",
    "    name:\"Gucci Oversize T-shirt with Interlocking G\",\n",
    "    price:580,\n",
    "    desc:\"The now recognizable oversize Gucci T-shirt continues to evolve with each new collection, the Interlocking G print is influenced by an '80s design from the archives. Streetwear continues to be a defining feature of Gucci's collections and is often juxtaposed by tailored separates.\",\n",
    "    category:\"shirts\"\n",
    "},{\n",
    "    id:4,\n",
    "    name:\"Nike Sportswear Club\",\n",
    "    price:18.97,\n",
    "    desc:\"The Nike Sportswear Club T-Shirt is made with our everyday cotton fabric and a classic fit for a familiar feel right out of the bag. An embroidered Futura logo on the chest provides a signature Nike look.\",\n",
    "    category:\"shirts\"\n",
    "},{\n",
    "    id:5,\n",
    "    name:\"Spanx Flare Jeans, Vintage Indigo\",\n",
    "    price:148,\n",
    "    desc:\"These 70s inspired flare jeans are the perfect wear everywhere with anything style. Designed with premium stretch denim, high-rise coverage and hidden core shaping technology, this jean puts a new twist on a retro silhouette.\",\n",
    "    category:\"pants\"\n",
    "},{\n",
    "    id:6,\n",
    "    name:\"Bonobos Premium Stretch Jeans\",\n",
    "    price:69,\n",
    "    desc:\"Resilient stretch denim made incredibly soft. Yes, jeans can be unbelievably comfortable.\",\n",
    "    category:\"pants\"\n",
    "}]"
   ]
  },
  {
   "cell_type": "code",
   "execution_count": null,
   "id": "82aaf889",
   "metadata": {},
   "outputs": [],
   "source": [
    "//Solution\n",
    "\n",
    "\n",
    "\n",
    "\n",
    "\n",
    "\n",
    "\n",
    "\n"
   ]
  },
  {
   "cell_type": "markdown",
   "id": "3e4e6fce",
   "metadata": {},
   "source": [
    "### Question #2"
   ]
  },
  {
   "cell_type": "markdown",
   "id": "97dba0b8",
   "metadata": {},
   "source": [
    "Write a function that parses through the below object and displays all of their\n",
    "favorite food dishes as shown:\n",
    "```\n",
    "pizza contains:\n",
    "Deep Dish\n",
    "South Side Thin Crust\n",
    "tacos contains:\n",
    "Anything not from Taco bell\n",
    "burgers contains:\n",
    "Portillos Burgers\n",
    "ice_cream contains:\n",
    "Chocolate\n",
    "Vanilla\n",
    "Oreo\n",
    "shakes contains:\n",
    "oberwise contains:\n",
    "Chocolate\n",
    "dunkin contains:\n",
    "Vanilla\n",
    "culvers contains:\n",
    "All of them\n",
    "mcDonalds contains:\n",
    "Sham-rock-shake\n",
    "cupids_candies contains:\n",
    "Chocolate Malt\n",
    "```\n",
    "<b>Note: </b> The solution should work on any object with values of strings, numbers, objects, and arrays not just this specific object\n",
    "\n",
    "<b> Hint </b> recursion and <a href=\"#typecheck\">checking types</a>"
   ]
  },
  {
   "cell_type": "code",
   "execution_count": null,
   "id": "9a1a16ce",
   "metadata": {},
   "outputs": [],
   "source": [
    "var hwPerson = {\n",
    "    pizza:[\"Deep Dish\",\"South Side Thin Crust\"],\n",
    "    tacos:\"Anything not from Taco bell\",\n",
    "    burgers:\"Portillos Burgers\",\n",
    "    ice_cream:[\"Chocolate\",\"Vanilla\",\"Oreo\"],\n",
    "    shakes:[{\n",
    "        oberwise:\"Chocolate\",\n",
    "        dunkin:\"Vanilla\",\n",
    "        culvers:\"All of them\",\n",
    "        mcDonalds:\"Sham-rock-shake\",\n",
    "        cupids_candies:\"Chocolate Malt\"\n",
    "    }]\n",
    "}"
   ]
  },
  {
   "cell_type": "code",
   "execution_count": null,
   "id": "c393dc13",
   "metadata": {},
   "outputs": [],
   "source": [
    "//Solution\n",
    "\n",
    "\n",
    "\n",
    "\n",
    "\n",
    "\n",
    "\n",
    "\n",
    "\n",
    "\n",
    "\n",
    "\n",
    "\n",
    "\n",
    "\n",
    "\n",
    "\n",
    "\n",
    "\n",
    "\n",
    "\n",
    "\n",
    "\n"
   ]
  },
  {
   "cell_type": "markdown",
   "id": "fb913b65",
   "metadata": {},
   "source": [
    "### Question #3"
   ]
  },
  {
   "cell_type": "markdown",
   "id": "9c6b801b",
   "metadata": {},
   "source": [
    "\n",
    "Create a Promised based function that will check a string to determine if it's length is greater than 10.\n",
    "\n",
    "If the length is greater than 10 then resolve it and console log \"Big word\". \n",
    "\n",
    "If the length of the string is less than 10 then reject it and  console log \"Small String\""
   ]
  },
  {
   "cell_type": "code",
   "execution_count": null,
   "id": "e392b881",
   "metadata": {},
   "outputs": [],
   "source": [
    "//Solution\n",
    "\n",
    "\n",
    "\n",
    "\n",
    "\n",
    "\n",
    "\n",
    "\n",
    "\n",
    "\n",
    "\n",
    "\n",
    "\n",
    "\n",
    "\n",
    "\n"
   ]
  },
  {
   "cell_type": "markdown",
   "id": "9babd4ad",
   "metadata": {},
   "source": [
    "### Question #4"
   ]
  },
  {
   "cell_type": "markdown",
   "id": "03642f0c",
   "metadata": {},
   "source": [
    "Create a base class of GameMember and 2 children classes of Dealer, Player\n",
    "\n",
    "both dealer and player have:\n",
    "\n",
    "hand : array of 2 numbers (1-13) ex: [5, 12] which starts with 2 random numbers\n",
    "\n",
    "hit() : ability to add  a random number [1-13] to their hand\n",
    "\n",
    "When a Dealer trys to hit he can only hit if he has his hand adds up to less than a total of 17 (so 16 and under)\n",
    "\n",
    "When a Play hits they can hit as long as their total is under 21\n",
    "\n",
    "Use the randomNumber function provided below to gernerate a random number 1-12"
   ]
  },
  {
   "cell_type": "code",
   "execution_count": 321,
   "id": "9c3b6841",
   "metadata": {},
   "outputs": [
    {
     "data": {
      "text/plain": [
       "3"
      ]
     },
     "execution_count": 321,
     "metadata": {},
     "output_type": "execute_result"
    }
   ],
   "source": [
    "let getRandomNumber = () =>Math.floor(Math.random() * 13) + 1;\n",
    "getRandomNumber()"
   ]
  },
  {
   "cell_type": "code",
   "execution_count": 338,
   "id": "a8a862dc",
   "metadata": {},
   "outputs": [
    {
     "data": {
      "text/plain": [
       "11"
      ]
     },
     "execution_count": 338,
     "metadata": {},
     "output_type": "execute_result"
    }
   ],
   "source": [
    "// This will print a different random number\n",
    "getRandomNumber()"
   ]
  },
  {
   "cell_type": "code",
   "execution_count": null,
   "id": "1f33d5c5",
   "metadata": {},
   "outputs": [],
   "source": [
    "//Solution\n",
    "\n",
    "\n",
    "\n",
    "\n",
    "\n",
    "\n",
    "\n",
    "\n",
    "\n",
    "\n"
   ]
  },
  {
   "cell_type": "code",
   "execution_count": null,
   "id": "a8f15e27",
   "metadata": {},
   "outputs": [],
   "source": [
    "\n",
    "\n",
    "\n",
    "\n",
    "\n"
   ]
  },
  {
   "cell_type": "markdown",
   "id": "1b1300a1",
   "metadata": {},
   "source": [
    "### Question #5"
   ]
  },
  {
   "cell_type": "markdown",
   "id": "1bc58007",
   "metadata": {},
   "source": [
    "Complete 3 Codewars problems using JavaScript, start with ones you have already solved in python.  Paste a link here to the 3 questions you completed\n",
    "\n",
    "1:\n",
    "\n",
    "2:\n",
    "\n",
    "3:"
   ]
  }
 ],
 "metadata": {
  "kernelspec": {
   "display_name": "JavaScript (Node.js)",
   "language": "javascript",
   "name": "javascript"
  },
  "language_info": {
   "file_extension": ".js",
   "mimetype": "application/javascript",
   "name": "javascript",
   "version": "18.16.0"
  }
 },
 "nbformat": 4,
 "nbformat_minor": 5
}
